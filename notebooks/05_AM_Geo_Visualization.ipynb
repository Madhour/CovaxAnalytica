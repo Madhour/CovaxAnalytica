{
 "cells": [
  {
   "cell_type": "code",
   "execution_count": 1,
   "metadata": {},
   "outputs": [],
   "source": [
    "import pandas as pd\n",
    "import numpy as np\n",
    "from geopy import Nominatim\n",
    "import math\n",
    "import time\n",
    "import plotly.express as px\n",
    "import plotly.graph_objects as go\n",
    "from pytrends.request import TrendReq"
   ]
  },
  {
   "cell_type": "code",
   "execution_count": 2,
   "metadata": {},
   "outputs": [],
   "source": [
    "geo_tweets = pd.read_csv(\"../data/processed/geo_vaccine_tweets_with_sentiment.csv\", index_col=0)#dataset with sentiment added"
   ]
  },
  {
   "cell_type": "code",
   "execution_count": 3,
   "metadata": {
    "scrolled": false
   },
   "outputs": [
    {
     "data": {
      "text/html": [
       "<div>\n",
       "<style scoped>\n",
       "    .dataframe tbody tr th:only-of-type {\n",
       "        vertical-align: middle;\n",
       "    }\n",
       "\n",
       "    .dataframe tbody tr th {\n",
       "        vertical-align: top;\n",
       "    }\n",
       "\n",
       "    .dataframe thead th {\n",
       "        text-align: right;\n",
       "    }\n",
       "</style>\n",
       "<table border=\"1\" class=\"dataframe\">\n",
       "  <thead>\n",
       "    <tr style=\"text-align: right;\">\n",
       "      <th></th>\n",
       "      <th>id</th>\n",
       "      <th>created_at</th>\n",
       "      <th>user</th>\n",
       "      <th>geo</th>\n",
       "      <th>full_text</th>\n",
       "      <th>hashtags</th>\n",
       "      <th>user_id</th>\n",
       "      <th>PfizerBiontech</th>\n",
       "      <th>SputnikV</th>\n",
       "      <th>Sinopharm</th>\n",
       "      <th>Sinovac</th>\n",
       "      <th>Moderna</th>\n",
       "      <th>AstraZeneca</th>\n",
       "      <th>Covaxin</th>\n",
       "      <th>JandJ</th>\n",
       "      <th>user_location</th>\n",
       "      <th>coordinates</th>\n",
       "      <th>corpus</th>\n",
       "      <th>sentiment</th>\n",
       "      <th>sentiment_compound</th>\n",
       "    </tr>\n",
       "  </thead>\n",
       "  <tbody>\n",
       "    <tr>\n",
       "      <th>0</th>\n",
       "      <td>1362299993504145408</td>\n",
       "      <td>2021-02-18 07:16:43+00:00</td>\n",
       "      <td>{'id': 160763636, 'id_str': '160763636', 'name...</td>\n",
       "      <td>NaN</td>\n",
       "      <td>Hey dear friends my #COVAXIN is done and feel ...</td>\n",
       "      <td>['covaxin', 'covid19', 'vaccinemaitri']</td>\n",
       "      <td>160763636</td>\n",
       "      <td>0</td>\n",
       "      <td>0</td>\n",
       "      <td>0</td>\n",
       "      <td>0</td>\n",
       "      <td>0</td>\n",
       "      <td>0</td>\n",
       "      <td>1</td>\n",
       "      <td>0</td>\n",
       "      <td>India</td>\n",
       "      <td>[22.3511148, 78.6677428]</td>\n",
       "      <td>hey dear friend covaxin done feel good thanks ...</td>\n",
       "      <td>{'neg': 0.0, 'neu': 0.311, 'pos': 0.689, 'comp...</td>\n",
       "      <td>0.9876</td>\n",
       "    </tr>\n",
       "    <tr>\n",
       "      <th>1</th>\n",
       "      <td>1403714164401401856</td>\n",
       "      <td>2021-06-12 14:01:51+00:00</td>\n",
       "      <td>{'id': 140847625, 'id_str': '140847625', 'name...</td>\n",
       "      <td>NaN</td>\n",
       "      <td>@BharatBiotech Myself, my lovely wife &amp;amp; re...</td>\n",
       "      <td>['covaxin', 'covid19']</td>\n",
       "      <td>140847625</td>\n",
       "      <td>0</td>\n",
       "      <td>0</td>\n",
       "      <td>0</td>\n",
       "      <td>0</td>\n",
       "      <td>0</td>\n",
       "      <td>0</td>\n",
       "      <td>1</td>\n",
       "      <td>0</td>\n",
       "      <td>India</td>\n",
       "      <td>[22.3511148, 78.6677428]</td>\n",
       "      <td>lovely wife amp respectful parent completed ta...</td>\n",
       "      <td>{'neg': 0.086, 'neu': 0.352, 'pos': 0.562, 'co...</td>\n",
       "      <td>0.9799</td>\n",
       "    </tr>\n",
       "    <tr>\n",
       "      <th>2</th>\n",
       "      <td>1377527649065594880</td>\n",
       "      <td>2021-04-01 07:45:59+00:00</td>\n",
       "      <td>{'id': 47333344, 'id_str': '47333344', 'name':...</td>\n",
       "      <td>NaN</td>\n",
       "      <td>#VaccineDone. #Covaxin at #KMC Jyoti, #Mangalu...</td>\n",
       "      <td>['vaccinedone', 'covaxin', 'kmc', 'mangaluru']</td>\n",
       "      <td>47333344</td>\n",
       "      <td>0</td>\n",
       "      <td>0</td>\n",
       "      <td>0</td>\n",
       "      <td>0</td>\n",
       "      <td>0</td>\n",
       "      <td>0</td>\n",
       "      <td>1</td>\n",
       "      <td>0</td>\n",
       "      <td>India</td>\n",
       "      <td>[22.3511148, 78.6677428]</td>\n",
       "      <td>vaccinedone covaxin kmc jyoti mangaluru lovely...</td>\n",
       "      <td>{'neg': 0.0, 'neu': 0.248, 'pos': 0.752, 'comp...</td>\n",
       "      <td>0.9756</td>\n",
       "    </tr>\n",
       "    <tr>\n",
       "      <th>3</th>\n",
       "      <td>1366936263966646272</td>\n",
       "      <td>2021-03-03 02:19:36+00:00</td>\n",
       "      <td>{'id': 102985643, 'id_str': '102985643', 'name...</td>\n",
       "      <td>NaN</td>\n",
       "      <td>Indian #covaxin is as good as, if not better t...</td>\n",
       "      <td>['covaxin', 'vaccine']</td>\n",
       "      <td>102985643</td>\n",
       "      <td>0</td>\n",
       "      <td>0</td>\n",
       "      <td>0</td>\n",
       "      <td>0</td>\n",
       "      <td>0</td>\n",
       "      <td>0</td>\n",
       "      <td>1</td>\n",
       "      <td>0</td>\n",
       "      <td>India</td>\n",
       "      <td>[22.3511148, 78.6677428]</td>\n",
       "      <td>indian covaxin good better covishield pm ji ta...</td>\n",
       "      <td>{'neg': 0.0, 'neu': 0.437, 'pos': 0.563, 'comp...</td>\n",
       "      <td>0.9735</td>\n",
       "    </tr>\n",
       "    <tr>\n",
       "      <th>4</th>\n",
       "      <td>1363547421863796736</td>\n",
       "      <td>2021-02-21 17:53:33+00:00</td>\n",
       "      <td>{'id': 134865842, 'id_str': '134865842', 'name...</td>\n",
       "      <td>NaN</td>\n",
       "      <td>So happy to have received my Oxford @AstraZene...</td>\n",
       "      <td>['astrazeneca', 'oxfordastrazeneca', 'nhs']</td>\n",
       "      <td>134865842</td>\n",
       "      <td>0</td>\n",
       "      <td>0</td>\n",
       "      <td>0</td>\n",
       "      <td>0</td>\n",
       "      <td>0</td>\n",
       "      <td>1</td>\n",
       "      <td>0</td>\n",
       "      <td>0</td>\n",
       "      <td>United Kingdom</td>\n",
       "      <td>[54.7023545, -3.2765753]</td>\n",
       "      <td>happy received oxford vaccine today country pu...</td>\n",
       "      <td>{'neg': 0.0, 'neu': 0.38, 'pos': 0.62, 'compou...</td>\n",
       "      <td>0.9735</td>\n",
       "    </tr>\n",
       "  </tbody>\n",
       "</table>\n",
       "</div>"
      ],
      "text/plain": [
       "                    id                 created_at  \\\n",
       "0  1362299993504145408  2021-02-18 07:16:43+00:00   \n",
       "1  1403714164401401856  2021-06-12 14:01:51+00:00   \n",
       "2  1377527649065594880  2021-04-01 07:45:59+00:00   \n",
       "3  1366936263966646272  2021-03-03 02:19:36+00:00   \n",
       "4  1363547421863796736  2021-02-21 17:53:33+00:00   \n",
       "\n",
       "                                                user  geo  \\\n",
       "0  {'id': 160763636, 'id_str': '160763636', 'name...  NaN   \n",
       "1  {'id': 140847625, 'id_str': '140847625', 'name...  NaN   \n",
       "2  {'id': 47333344, 'id_str': '47333344', 'name':...  NaN   \n",
       "3  {'id': 102985643, 'id_str': '102985643', 'name...  NaN   \n",
       "4  {'id': 134865842, 'id_str': '134865842', 'name...  NaN   \n",
       "\n",
       "                                           full_text  \\\n",
       "0  Hey dear friends my #COVAXIN is done and feel ...   \n",
       "1  @BharatBiotech Myself, my lovely wife &amp; re...   \n",
       "2  #VaccineDone. #Covaxin at #KMC Jyoti, #Mangalu...   \n",
       "3  Indian #covaxin is as good as, if not better t...   \n",
       "4  So happy to have received my Oxford @AstraZene...   \n",
       "\n",
       "                                         hashtags    user_id  PfizerBiontech  \\\n",
       "0         ['covaxin', 'covid19', 'vaccinemaitri']  160763636               0   \n",
       "1                          ['covaxin', 'covid19']  140847625               0   \n",
       "2  ['vaccinedone', 'covaxin', 'kmc', 'mangaluru']   47333344               0   \n",
       "3                          ['covaxin', 'vaccine']  102985643               0   \n",
       "4     ['astrazeneca', 'oxfordastrazeneca', 'nhs']  134865842               0   \n",
       "\n",
       "   SputnikV  Sinopharm  Sinovac  Moderna  AstraZeneca  Covaxin  JandJ  \\\n",
       "0         0          0        0        0            0        1      0   \n",
       "1         0          0        0        0            0        1      0   \n",
       "2         0          0        0        0            0        1      0   \n",
       "3         0          0        0        0            0        1      0   \n",
       "4         0          0        0        0            1        0      0   \n",
       "\n",
       "    user_location               coordinates  \\\n",
       "0           India  [22.3511148, 78.6677428]   \n",
       "1           India  [22.3511148, 78.6677428]   \n",
       "2           India  [22.3511148, 78.6677428]   \n",
       "3           India  [22.3511148, 78.6677428]   \n",
       "4  United Kingdom  [54.7023545, -3.2765753]   \n",
       "\n",
       "                                              corpus  \\\n",
       "0  hey dear friend covaxin done feel good thanks ...   \n",
       "1  lovely wife amp respectful parent completed ta...   \n",
       "2  vaccinedone covaxin kmc jyoti mangaluru lovely...   \n",
       "3  indian covaxin good better covishield pm ji ta...   \n",
       "4  happy received oxford vaccine today country pu...   \n",
       "\n",
       "                                           sentiment  sentiment_compound  \n",
       "0  {'neg': 0.0, 'neu': 0.311, 'pos': 0.689, 'comp...              0.9876  \n",
       "1  {'neg': 0.086, 'neu': 0.352, 'pos': 0.562, 'co...              0.9799  \n",
       "2  {'neg': 0.0, 'neu': 0.248, 'pos': 0.752, 'comp...              0.9756  \n",
       "3  {'neg': 0.0, 'neu': 0.437, 'pos': 0.563, 'comp...              0.9735  \n",
       "4  {'neg': 0.0, 'neu': 0.38, 'pos': 0.62, 'compou...              0.9735  "
      ]
     },
     "execution_count": 3,
     "metadata": {},
     "output_type": "execute_result"
    }
   ],
   "source": [
    "geo_tweets.head()"
   ]
  },
  {
   "cell_type": "code",
   "execution_count": 4,
   "metadata": {},
   "outputs": [],
   "source": [
    "def getRisingTrends(query, time, qtype=\"rising\"):\n",
    "    pytrend = TrendReq()\n",
    "    pytrend.build_payload(kw_list=[query], timeframe=time, geo=\"ca\")\n",
    "    print(pytrend.related_queries()[query][qtype])"
   ]
  },
  {
   "cell_type": "code",
   "execution_count": 5,
   "metadata": {},
   "outputs": [],
   "source": [
    "#fig = px.scatter_geo(geo_tweets,lat=,lon=\"lon\",hover_name=\"id\")\n",
    "#fig.show()"
   ]
  },
  {
   "cell_type": "code",
   "execution_count": 6,
   "metadata": {
    "scrolled": false
   },
   "outputs": [],
   "source": [
    "geo_tweets[\"created_at\"] = pd.to_datetime(geo_tweets[\"created_at\"]).dt.strftime('%Y-%m-%d')"
   ]
  },
  {
   "cell_type": "code",
   "execution_count": 7,
   "metadata": {
    "scrolled": false
   },
   "outputs": [
    {
     "data": {
      "text/html": [
       "<div>\n",
       "<style scoped>\n",
       "    .dataframe tbody tr th:only-of-type {\n",
       "        vertical-align: middle;\n",
       "    }\n",
       "\n",
       "    .dataframe tbody tr th {\n",
       "        vertical-align: top;\n",
       "    }\n",
       "\n",
       "    .dataframe thead th {\n",
       "        text-align: right;\n",
       "    }\n",
       "</style>\n",
       "<table border=\"1\" class=\"dataframe\">\n",
       "  <thead>\n",
       "    <tr style=\"text-align: right;\">\n",
       "      <th></th>\n",
       "      <th>id</th>\n",
       "      <th>created_at</th>\n",
       "      <th>user</th>\n",
       "      <th>geo</th>\n",
       "      <th>full_text</th>\n",
       "      <th>hashtags</th>\n",
       "      <th>user_id</th>\n",
       "      <th>PfizerBiontech</th>\n",
       "      <th>SputnikV</th>\n",
       "      <th>Sinopharm</th>\n",
       "      <th>Sinovac</th>\n",
       "      <th>Moderna</th>\n",
       "      <th>AstraZeneca</th>\n",
       "      <th>Covaxin</th>\n",
       "      <th>JandJ</th>\n",
       "      <th>user_location</th>\n",
       "      <th>coordinates</th>\n",
       "      <th>corpus</th>\n",
       "      <th>sentiment</th>\n",
       "      <th>sentiment_compound</th>\n",
       "    </tr>\n",
       "  </thead>\n",
       "  <tbody>\n",
       "    <tr>\n",
       "      <th>0</th>\n",
       "      <td>1362299993504145408</td>\n",
       "      <td>2021-02-18</td>\n",
       "      <td>{'id': 160763636, 'id_str': '160763636', 'name...</td>\n",
       "      <td>NaN</td>\n",
       "      <td>Hey dear friends my #COVAXIN is done and feel ...</td>\n",
       "      <td>['covaxin', 'covid19', 'vaccinemaitri']</td>\n",
       "      <td>160763636</td>\n",
       "      <td>0</td>\n",
       "      <td>0</td>\n",
       "      <td>0</td>\n",
       "      <td>0</td>\n",
       "      <td>0</td>\n",
       "      <td>0</td>\n",
       "      <td>1</td>\n",
       "      <td>0</td>\n",
       "      <td>India</td>\n",
       "      <td>[22.3511148, 78.6677428]</td>\n",
       "      <td>hey dear friend covaxin done feel good thanks ...</td>\n",
       "      <td>{'neg': 0.0, 'neu': 0.311, 'pos': 0.689, 'comp...</td>\n",
       "      <td>0.9876</td>\n",
       "    </tr>\n",
       "    <tr>\n",
       "      <th>1</th>\n",
       "      <td>1403714164401401856</td>\n",
       "      <td>2021-06-12</td>\n",
       "      <td>{'id': 140847625, 'id_str': '140847625', 'name...</td>\n",
       "      <td>NaN</td>\n",
       "      <td>@BharatBiotech Myself, my lovely wife &amp;amp; re...</td>\n",
       "      <td>['covaxin', 'covid19']</td>\n",
       "      <td>140847625</td>\n",
       "      <td>0</td>\n",
       "      <td>0</td>\n",
       "      <td>0</td>\n",
       "      <td>0</td>\n",
       "      <td>0</td>\n",
       "      <td>0</td>\n",
       "      <td>1</td>\n",
       "      <td>0</td>\n",
       "      <td>India</td>\n",
       "      <td>[22.3511148, 78.6677428]</td>\n",
       "      <td>lovely wife amp respectful parent completed ta...</td>\n",
       "      <td>{'neg': 0.086, 'neu': 0.352, 'pos': 0.562, 'co...</td>\n",
       "      <td>0.9799</td>\n",
       "    </tr>\n",
       "    <tr>\n",
       "      <th>2</th>\n",
       "      <td>1377527649065594880</td>\n",
       "      <td>2021-04-01</td>\n",
       "      <td>{'id': 47333344, 'id_str': '47333344', 'name':...</td>\n",
       "      <td>NaN</td>\n",
       "      <td>#VaccineDone. #Covaxin at #KMC Jyoti, #Mangalu...</td>\n",
       "      <td>['vaccinedone', 'covaxin', 'kmc', 'mangaluru']</td>\n",
       "      <td>47333344</td>\n",
       "      <td>0</td>\n",
       "      <td>0</td>\n",
       "      <td>0</td>\n",
       "      <td>0</td>\n",
       "      <td>0</td>\n",
       "      <td>0</td>\n",
       "      <td>1</td>\n",
       "      <td>0</td>\n",
       "      <td>India</td>\n",
       "      <td>[22.3511148, 78.6677428]</td>\n",
       "      <td>vaccinedone covaxin kmc jyoti mangaluru lovely...</td>\n",
       "      <td>{'neg': 0.0, 'neu': 0.248, 'pos': 0.752, 'comp...</td>\n",
       "      <td>0.9756</td>\n",
       "    </tr>\n",
       "    <tr>\n",
       "      <th>3</th>\n",
       "      <td>1366936263966646272</td>\n",
       "      <td>2021-03-03</td>\n",
       "      <td>{'id': 102985643, 'id_str': '102985643', 'name...</td>\n",
       "      <td>NaN</td>\n",
       "      <td>Indian #covaxin is as good as, if not better t...</td>\n",
       "      <td>['covaxin', 'vaccine']</td>\n",
       "      <td>102985643</td>\n",
       "      <td>0</td>\n",
       "      <td>0</td>\n",
       "      <td>0</td>\n",
       "      <td>0</td>\n",
       "      <td>0</td>\n",
       "      <td>0</td>\n",
       "      <td>1</td>\n",
       "      <td>0</td>\n",
       "      <td>India</td>\n",
       "      <td>[22.3511148, 78.6677428]</td>\n",
       "      <td>indian covaxin good better covishield pm ji ta...</td>\n",
       "      <td>{'neg': 0.0, 'neu': 0.437, 'pos': 0.563, 'comp...</td>\n",
       "      <td>0.9735</td>\n",
       "    </tr>\n",
       "    <tr>\n",
       "      <th>4</th>\n",
       "      <td>1363547421863796736</td>\n",
       "      <td>2021-02-21</td>\n",
       "      <td>{'id': 134865842, 'id_str': '134865842', 'name...</td>\n",
       "      <td>NaN</td>\n",
       "      <td>So happy to have received my Oxford @AstraZene...</td>\n",
       "      <td>['astrazeneca', 'oxfordastrazeneca', 'nhs']</td>\n",
       "      <td>134865842</td>\n",
       "      <td>0</td>\n",
       "      <td>0</td>\n",
       "      <td>0</td>\n",
       "      <td>0</td>\n",
       "      <td>0</td>\n",
       "      <td>1</td>\n",
       "      <td>0</td>\n",
       "      <td>0</td>\n",
       "      <td>United Kingdom</td>\n",
       "      <td>[54.7023545, -3.2765753]</td>\n",
       "      <td>happy received oxford vaccine today country pu...</td>\n",
       "      <td>{'neg': 0.0, 'neu': 0.38, 'pos': 0.62, 'compou...</td>\n",
       "      <td>0.9735</td>\n",
       "    </tr>\n",
       "  </tbody>\n",
       "</table>\n",
       "</div>"
      ],
      "text/plain": [
       "                    id  created_at  \\\n",
       "0  1362299993504145408  2021-02-18   \n",
       "1  1403714164401401856  2021-06-12   \n",
       "2  1377527649065594880  2021-04-01   \n",
       "3  1366936263966646272  2021-03-03   \n",
       "4  1363547421863796736  2021-02-21   \n",
       "\n",
       "                                                user  geo  \\\n",
       "0  {'id': 160763636, 'id_str': '160763636', 'name...  NaN   \n",
       "1  {'id': 140847625, 'id_str': '140847625', 'name...  NaN   \n",
       "2  {'id': 47333344, 'id_str': '47333344', 'name':...  NaN   \n",
       "3  {'id': 102985643, 'id_str': '102985643', 'name...  NaN   \n",
       "4  {'id': 134865842, 'id_str': '134865842', 'name...  NaN   \n",
       "\n",
       "                                           full_text  \\\n",
       "0  Hey dear friends my #COVAXIN is done and feel ...   \n",
       "1  @BharatBiotech Myself, my lovely wife &amp; re...   \n",
       "2  #VaccineDone. #Covaxin at #KMC Jyoti, #Mangalu...   \n",
       "3  Indian #covaxin is as good as, if not better t...   \n",
       "4  So happy to have received my Oxford @AstraZene...   \n",
       "\n",
       "                                         hashtags    user_id  PfizerBiontech  \\\n",
       "0         ['covaxin', 'covid19', 'vaccinemaitri']  160763636               0   \n",
       "1                          ['covaxin', 'covid19']  140847625               0   \n",
       "2  ['vaccinedone', 'covaxin', 'kmc', 'mangaluru']   47333344               0   \n",
       "3                          ['covaxin', 'vaccine']  102985643               0   \n",
       "4     ['astrazeneca', 'oxfordastrazeneca', 'nhs']  134865842               0   \n",
       "\n",
       "   SputnikV  Sinopharm  Sinovac  Moderna  AstraZeneca  Covaxin  JandJ  \\\n",
       "0         0          0        0        0            0        1      0   \n",
       "1         0          0        0        0            0        1      0   \n",
       "2         0          0        0        0            0        1      0   \n",
       "3         0          0        0        0            0        1      0   \n",
       "4         0          0        0        0            1        0      0   \n",
       "\n",
       "    user_location               coordinates  \\\n",
       "0           India  [22.3511148, 78.6677428]   \n",
       "1           India  [22.3511148, 78.6677428]   \n",
       "2           India  [22.3511148, 78.6677428]   \n",
       "3           India  [22.3511148, 78.6677428]   \n",
       "4  United Kingdom  [54.7023545, -3.2765753]   \n",
       "\n",
       "                                              corpus  \\\n",
       "0  hey dear friend covaxin done feel good thanks ...   \n",
       "1  lovely wife amp respectful parent completed ta...   \n",
       "2  vaccinedone covaxin kmc jyoti mangaluru lovely...   \n",
       "3  indian covaxin good better covishield pm ji ta...   \n",
       "4  happy received oxford vaccine today country pu...   \n",
       "\n",
       "                                           sentiment  sentiment_compound  \n",
       "0  {'neg': 0.0, 'neu': 0.311, 'pos': 0.689, 'comp...              0.9876  \n",
       "1  {'neg': 0.086, 'neu': 0.352, 'pos': 0.562, 'co...              0.9799  \n",
       "2  {'neg': 0.0, 'neu': 0.248, 'pos': 0.752, 'comp...              0.9756  \n",
       "3  {'neg': 0.0, 'neu': 0.437, 'pos': 0.563, 'comp...              0.9735  \n",
       "4  {'neg': 0.0, 'neu': 0.38, 'pos': 0.62, 'compou...              0.9735  "
      ]
     },
     "execution_count": 7,
     "metadata": {},
     "output_type": "execute_result"
    }
   ],
   "source": [
    "geo_tweets.head()"
   ]
  },
  {
   "cell_type": "code",
   "execution_count": 8,
   "metadata": {},
   "outputs": [
    {
     "data": {
      "text/plain": [
       "array(['Canada', 'Germany', 'India', 'Italy', 'Palestinian Territory',\n",
       "       'Russian Federation', 'United States', 'France', 'United Kingdom',\n",
       "       'Australia', 'Belgium', 'Spain', 'Mexico', 'Pakistan', 'Ukraine',\n",
       "       'Argentina', 'Austria', 'Virgin Islands, U.S.', 'Malaysia',\n",
       "       'Brazil', 'Japan', 'United Arab Emirates', 'Jersey', 'Philippines',\n",
       "       'Indonesia', 'Chile', 'Hong Kong', 'Qatar', 'Netherlands',\n",
       "       'Guyana', 'China', 'Saudi Arabia', 'Thailand', 'Singapore',\n",
       "       'Croatia', 'Switzerland', 'Trinidad and Tobago', 'Greece',\n",
       "       'Sweden'], dtype=object)"
      ]
     },
     "execution_count": 8,
     "metadata": {},
     "output_type": "execute_result"
    }
   ],
   "source": [
    "geo_tweets.groupby([\"created_at\",\"user_location\"])[\"sentiment_compound\"].mean().reset_index()[\"user_location\"].unique()"
   ]
  },
  {
   "cell_type": "code",
   "execution_count": 27,
   "metadata": {
    "scrolled": false
   },
   "outputs": [
    {
     "data": {
      "application/vnd.plotly.v1+json": {
       "config": {
        "plotlyServerURL": "https://plot.ly"
       },
       "data": [
        {
         "coloraxis": "coloraxis",
         "geo": "geo",
         "hovertemplate": "created_at=2020-12-12<br>user_location=%{location}<br>sentiment_compound=%{z}<extra></extra>",
         "locationmode": "country names",
         "locations": [
          "Canada",
          "Germany",
          "India",
          "Italy",
          "Palestinian Territory",
          "Russian Federation",
          "United States"
         ],
         "name": "",
         "type": "choropleth",
         "z": [
          0,
          -0.2023,
          0.424525,
          0.7579,
          -0.05275000000000002,
          -0.3818,
          0.2553
         ]
        }
       ],
       "frames": [
        {
         "data": [
          {
           "coloraxis": "coloraxis",
           "geo": "geo",
           "hovertemplate": "created_at=2020-12-12<br>user_location=%{location}<br>sentiment_compound=%{z}<extra></extra>",
           "locationmode": "country names",
           "locations": [
            "Canada",
            "Germany",
            "India",
            "Italy",
            "Palestinian Territory",
            "Russian Federation",
            "United States"
           ],
           "name": "",
           "type": "choropleth",
           "z": [
            0,
            -0.2023,
            0.424525,
            0.7579,
            -0.05275000000000002,
            -0.3818,
            0.2553
           ]
          }
         ],
         "name": "2020-12-12"
        },
        {
         "data": [
          {
           "coloraxis": "coloraxis",
           "geo": "geo",
           "hovertemplate": "created_at=2020-12-13<br>user_location=%{location}<br>sentiment_compound=%{z}<extra></extra>",
           "locationmode": "country names",
           "locations": [
            "Canada",
            "France",
            "India",
            "Palestinian Territory",
            "United Kingdom",
            "United States"
           ],
           "name": "",
           "type": "choropleth",
           "z": [
            0.32709999999999995,
            -0.7003,
            -0.1689857142857143,
            -0.11315,
            0.1728666666666667,
            0.3554333333333333
           ]
          }
         ],
         "name": "2020-12-13"
        },
        {
         "data": [
          {
           "coloraxis": "coloraxis",
           "geo": "geo",
           "hovertemplate": "created_at=2020-12-14<br>user_location=%{location}<br>sentiment_compound=%{z}<extra></extra>",
           "locationmode": "country names",
           "locations": [
            "Canada",
            "France",
            "India",
            "Italy",
            "United Kingdom",
            "United States"
           ],
           "name": "",
           "type": "choropleth",
           "z": [
            0.4031,
            0.4215,
            0.11681666666666668,
            0,
            0.45005,
            0.1578
           ]
          }
         ],
         "name": "2020-12-14"
        },
        {
         "data": [
          {
           "coloraxis": "coloraxis",
           "geo": "geo",
           "hovertemplate": "created_at=2020-12-15<br>user_location=%{location}<br>sentiment_compound=%{z}<extra></extra>",
           "locationmode": "country names",
           "locations": [
            "Australia",
            "Belgium",
            "Canada",
            "France",
            "Germany",
            "India",
            "Palestinian Territory",
            "Spain",
            "United Kingdom",
            "United States"
           ],
           "name": "",
           "type": "choropleth",
           "z": [
            0.10606666666666666,
            0,
            0.3276625,
            0.3294,
            0.4215,
            -0.06025,
            0.2263,
            -0.4019,
            0.353225,
            0.24525
           ]
          }
         ],
         "name": "2020-12-15"
        },
        {
         "data": [
          {
           "coloraxis": "coloraxis",
           "geo": "geo",
           "hovertemplate": "created_at=2020-12-16<br>user_location=%{location}<br>sentiment_compound=%{z}<extra></extra>",
           "locationmode": "country names",
           "locations": [
            "Belgium",
            "Canada",
            "France",
            "Germany",
            "India",
            "Mexico",
            "Palestinian Territory",
            "United Kingdom",
            "United States"
           ],
           "name": "",
           "type": "choropleth",
           "z": [
            0,
            0.16463333333333333,
            0,
            0.25,
            0.14977142857142858,
            -0.4011,
            0,
            0.495025,
            0.295275
           ]
          }
         ],
         "name": "2020-12-16"
        },
        {
         "data": [
          {
           "coloraxis": "coloraxis",
           "geo": "geo",
           "hovertemplate": "created_at=2020-12-17<br>user_location=%{location}<br>sentiment_compound=%{z}<extra></extra>",
           "locationmode": "country names",
           "locations": [
            "Belgium",
            "Canada",
            "France",
            "India",
            "Pakistan",
            "United States"
           ],
           "name": "",
           "type": "choropleth",
           "z": [
            0,
            0.6855500000000001,
            -0.1806,
            -0.25765714285714286,
            0,
            0.12169999999999999
           ]
          }
         ],
         "name": "2020-12-17"
        },
        {
         "data": [
          {
           "coloraxis": "coloraxis",
           "geo": "geo",
           "hovertemplate": "created_at=2020-12-18<br>user_location=%{location}<br>sentiment_compound=%{z}<extra></extra>",
           "locationmode": "country names",
           "locations": [
            "Canada",
            "France",
            "India",
            "Palestinian Territory",
            "Ukraine",
            "United Kingdom",
            "United States"
           ],
           "name": "",
           "type": "choropleth",
           "z": [
            0.275675,
            0.40293333333333337,
            0.22775,
            0,
            0.3182,
            0.4664333333333334,
            0.35742727272727276
           ]
          }
         ],
         "name": "2020-12-18"
        },
        {
         "data": [
          {
           "coloraxis": "coloraxis",
           "geo": "geo",
           "hovertemplate": "created_at=2020-12-19<br>user_location=%{location}<br>sentiment_compound=%{z}<extra></extra>",
           "locationmode": "country names",
           "locations": [
            "Canada",
            "France",
            "Germany",
            "India",
            "Palestinian Territory",
            "United Kingdom",
            "United States"
           ],
           "name": "",
           "type": "choropleth",
           "z": [
            0.25,
            0.1032,
            0.7096,
            0.3923166666666667,
            0.5994,
            -0.0772,
            0.36669999999999997
           ]
          }
         ],
         "name": "2020-12-19"
        },
        {
         "data": [
          {
           "coloraxis": "coloraxis",
           "geo": "geo",
           "hovertemplate": "created_at=2020-12-20<br>user_location=%{location}<br>sentiment_compound=%{z}<extra></extra>",
           "locationmode": "country names",
           "locations": [
            "India",
            "Italy",
            "Pakistan",
            "Palestinian Territory",
            "United Kingdom",
            "United States"
           ],
           "name": "",
           "type": "choropleth",
           "z": [
            0.059325,
            -0.2732,
            0,
            0,
            0.2787,
            0.21960000000000002
           ]
          }
         ],
         "name": "2020-12-20"
        },
        {
         "data": [
          {
           "coloraxis": "coloraxis",
           "geo": "geo",
           "hovertemplate": "created_at=2020-12-21<br>user_location=%{location}<br>sentiment_compound=%{z}<extra></extra>",
           "locationmode": "country names",
           "locations": [
            "Australia",
            "Belgium",
            "Canada",
            "Germany",
            "India",
            "Italy",
            "Palestinian Territory",
            "United States"
           ],
           "name": "",
           "type": "choropleth",
           "z": [
            0.8519,
            0,
            0,
            0.4019,
            0.11076,
            -0.4939,
            0,
            0.21325
           ]
          }
         ],
         "name": "2020-12-21"
        },
        {
         "data": [
          {
           "coloraxis": "coloraxis",
           "geo": "geo",
           "hovertemplate": "created_at=2020-12-22<br>user_location=%{location}<br>sentiment_compound=%{z}<extra></extra>",
           "locationmode": "country names",
           "locations": [
            "Argentina",
            "Australia",
            "Austria",
            "Belgium",
            "Canada",
            "Germany",
            "India",
            "Italy",
            "Pakistan",
            "Palestinian Territory",
            "Ukraine",
            "United Kingdom",
            "United States"
           ],
           "name": "",
           "type": "choropleth",
           "z": [
            0,
            0.2732,
            0.4019,
            0.2023,
            0,
            0.3982,
            0.08404210526315789,
            0.27749999999999997,
            0,
            0.42775,
            0.659,
            0.4637666666666667,
            0.24835
           ]
          }
         ],
         "name": "2020-12-22"
        },
        {
         "data": [
          {
           "coloraxis": "coloraxis",
           "geo": "geo",
           "hovertemplate": "created_at=2020-12-23<br>user_location=%{location}<br>sentiment_compound=%{z}<extra></extra>",
           "locationmode": "country names",
           "locations": [
            "Canada",
            "France",
            "Germany",
            "India",
            "Pakistan",
            "Ukraine",
            "United States"
           ],
           "name": "",
           "type": "choropleth",
           "z": [
            -0.04624999999999999,
            -0.22149999999999997,
            -0.0516,
            0,
            0.41040000000000004,
            0.0386,
            0.3538333333333334
           ]
          }
         ],
         "name": "2020-12-23"
        },
        {
         "data": [
          {
           "coloraxis": "coloraxis",
           "geo": "geo",
           "hovertemplate": "created_at=2020-12-24<br>user_location=%{location}<br>sentiment_compound=%{z}<extra></extra>",
           "locationmode": "country names",
           "locations": [
            "Canada",
            "India",
            "Pakistan",
            "Ukraine",
            "United Kingdom",
            "United States"
           ],
           "name": "",
           "type": "choropleth",
           "z": [
            0.240225,
            -0.0839,
            0.27115,
            0.04046,
            0.3944666666666667,
            0.28595
           ]
          }
         ],
         "name": "2020-12-24"
        },
        {
         "data": [
          {
           "coloraxis": "coloraxis",
           "geo": "geo",
           "hovertemplate": "created_at=2020-12-25<br>user_location=%{location}<br>sentiment_compound=%{z}<extra></extra>",
           "locationmode": "country names",
           "locations": [
            "India",
            "Ukraine",
            "United States"
           ],
           "name": "",
           "type": "choropleth",
           "z": [
            -0.1741,
            0.128,
            0
           ]
          }
         ],
         "name": "2020-12-25"
        },
        {
         "data": [
          {
           "coloraxis": "coloraxis",
           "geo": "geo",
           "hovertemplate": "created_at=2020-12-26<br>user_location=%{location}<br>sentiment_compound=%{z}<extra></extra>",
           "locationmode": "country names",
           "locations": [
            "Belgium",
            "Canada",
            "India",
            "United Kingdom",
            "United States"
           ],
           "name": "",
           "type": "choropleth",
           "z": [
            0.25985,
            0.7184,
            0.0258,
            0.3182,
            0.18955000000000005
           ]
          }
         ],
         "name": "2020-12-26"
        },
        {
         "data": [
          {
           "coloraxis": "coloraxis",
           "geo": "geo",
           "hovertemplate": "created_at=2020-12-27<br>user_location=%{location}<br>sentiment_compound=%{z}<extra></extra>",
           "locationmode": "country names",
           "locations": [
            "France",
            "Germany",
            "India",
            "Italy",
            "Pakistan",
            "Palestinian Territory",
            "United Kingdom",
            "United States"
           ],
           "name": "",
           "type": "choropleth",
           "z": [
            0.2202,
            0.22693333333333332,
            0,
            -0.3382,
            0,
            0.28595,
            0.4939,
            0.3612
           ]
          }
         ],
         "name": "2020-12-27"
        },
        {
         "data": [
          {
           "coloraxis": "coloraxis",
           "geo": "geo",
           "hovertemplate": "created_at=2020-12-28<br>user_location=%{location}<br>sentiment_compound=%{z}<extra></extra>",
           "locationmode": "country names",
           "locations": [
            "Belgium",
            "Canada",
            "France",
            "India",
            "Italy",
            "Ukraine",
            "United States"
           ],
           "name": "",
           "type": "choropleth",
           "z": [
            -0.1027,
            0,
            0,
            0,
            0.7906,
            0.29600000000000004,
            0
           ]
          }
         ],
         "name": "2020-12-28"
        },
        {
         "data": [
          {
           "coloraxis": "coloraxis",
           "geo": "geo",
           "hovertemplate": "created_at=2020-12-29<br>user_location=%{location}<br>sentiment_compound=%{z}<extra></extra>",
           "locationmode": "country names",
           "locations": [
            "Australia",
            "Belgium",
            "Canada",
            "India",
            "Italy",
            "Palestinian Territory",
            "Spain",
            "United States"
           ],
           "name": "",
           "type": "choropleth",
           "z": [
            0.3182,
            0.26335,
            0.3612,
            0.1027,
            0,
            0,
            0.3612,
            0
           ]
          }
         ],
         "name": "2020-12-29"
        },
        {
         "data": [
          {
           "coloraxis": "coloraxis",
           "geo": "geo",
           "hovertemplate": "created_at=2020-12-30<br>user_location=%{location}<br>sentiment_compound=%{z}<extra></extra>",
           "locationmode": "country names",
           "locations": [
            "Argentina",
            "Germany",
            "India",
            "Pakistan",
            "United Kingdom",
            "United States"
           ],
           "name": "",
           "type": "choropleth",
           "z": [
            0,
            0.8555,
            0.22646666666666668,
            -0.47330000000000005,
            0.37717500000000004,
            -0.09946666666666669
           ]
          }
         ],
         "name": "2020-12-30"
        },
        {
         "data": [
          {
           "coloraxis": "coloraxis",
           "geo": "geo",
           "hovertemplate": "created_at=2020-12-31<br>user_location=%{location}<br>sentiment_compound=%{z}<extra></extra>",
           "locationmode": "country names",
           "locations": [
            "Canada",
            "Germany",
            "Pakistan",
            "United Kingdom",
            "United States",
            "Virgin Islands, U.S."
           ],
           "name": "",
           "type": "choropleth",
           "z": [
            0.8271,
            0.5859,
            0.836,
            0.427925,
            -0.3568,
            0
           ]
          }
         ],
         "name": "2020-12-31"
        },
        {
         "data": [
          {
           "coloraxis": "coloraxis",
           "geo": "geo",
           "hovertemplate": "created_at=2021-01-01<br>user_location=%{location}<br>sentiment_compound=%{z}<extra></extra>",
           "locationmode": "country names",
           "locations": [
            "India",
            "United Kingdom"
           ],
           "name": "",
           "type": "choropleth",
           "z": [
            0.17680666666666667,
            0.40615
           ]
          }
         ],
         "name": "2021-01-01"
        },
        {
         "data": [
          {
           "coloraxis": "coloraxis",
           "geo": "geo",
           "hovertemplate": "created_at=2021-01-02<br>user_location=%{location}<br>sentiment_compound=%{z}<extra></extra>",
           "locationmode": "country names",
           "locations": [
            "Canada",
            "India",
            "Mexico",
            "United Kingdom"
           ],
           "name": "",
           "type": "choropleth",
           "z": [
            0.3824166666666666,
            -0.010942857142857159,
            0.4588,
            0.031799999999999995
           ]
          }
         ],
         "name": "2021-01-02"
        },
        {
         "data": [
          {
           "coloraxis": "coloraxis",
           "geo": "geo",
           "hovertemplate": "created_at=2021-01-03<br>user_location=%{location}<br>sentiment_compound=%{z}<extra></extra>",
           "locationmode": "country names",
           "locations": [
            "India",
            "Italy",
            "Palestinian Territory",
            "Ukraine",
            "United States"
           ],
           "name": "",
           "type": "choropleth",
           "z": [
            0.11336000000000002,
            -0.29600000000000004,
            0.1654,
            0.0772,
            0.41169999999999995
           ]
          }
         ],
         "name": "2021-01-03"
        },
        {
         "data": [
          {
           "coloraxis": "coloraxis",
           "geo": "geo",
           "hovertemplate": "created_at=2021-01-04<br>user_location=%{location}<br>sentiment_compound=%{z}<extra></extra>",
           "locationmode": "country names",
           "locations": [
            "Canada",
            "India",
            "United Kingdom",
            "United States"
           ],
           "name": "",
           "type": "choropleth",
           "z": [
            0.24247500000000002,
            0.13030000000000003,
            0.250025,
            0.5779666666666666
           ]
          }
         ],
         "name": "2021-01-04"
        },
        {
         "data": [
          {
           "coloraxis": "coloraxis",
           "geo": "geo",
           "hovertemplate": "created_at=2021-01-05<br>user_location=%{location}<br>sentiment_compound=%{z}<extra></extra>",
           "locationmode": "country names",
           "locations": [
            "Canada",
            "France",
            "India",
            "United Kingdom",
            "United States"
           ],
           "name": "",
           "type": "choropleth",
           "z": [
            -0.25634999999999997,
            0.7579,
            0.08257500000000001,
            0.62522,
            0.23347500000000002
           ]
          }
         ],
         "name": "2021-01-05"
        },
        {
         "data": [
          {
           "coloraxis": "coloraxis",
           "geo": "geo",
           "hovertemplate": "created_at=2021-01-06<br>user_location=%{location}<br>sentiment_compound=%{z}<extra></extra>",
           "locationmode": "country names",
           "locations": [
            "Canada",
            "France",
            "Germany",
            "India",
            "Spain",
            "United Kingdom",
            "United States"
           ],
           "name": "",
           "type": "choropleth",
           "z": [
            -0.009575,
            0.0516,
            -0.11419999999999997,
            0.014924999999999966,
            0.7478,
            0.44627000000000006,
            -0.161275
           ]
          }
         ],
         "name": "2021-01-06"
        },
        {
         "data": [
          {
           "coloraxis": "coloraxis",
           "geo": "geo",
           "hovertemplate": "created_at=2021-01-07<br>user_location=%{location}<br>sentiment_compound=%{z}<extra></extra>",
           "locationmode": "country names",
           "locations": [
            "Belgium",
            "Canada",
            "India",
            "Italy",
            "United Kingdom",
            "United States"
           ],
           "name": "",
           "type": "choropleth",
           "z": [
            0,
            0.4404,
            0,
            0.0258,
            0.55055,
            0.09663333333333335
           ]
          }
         ],
         "name": "2021-01-07"
        },
        {
         "data": [
          {
           "coloraxis": "coloraxis",
           "geo": "geo",
           "hovertemplate": "created_at=2021-01-08<br>user_location=%{location}<br>sentiment_compound=%{z}<extra></extra>",
           "locationmode": "country names",
           "locations": [
            "Belgium",
            "Canada",
            "France",
            "India",
            "Spain",
            "United Kingdom",
            "United States"
           ],
           "name": "",
           "type": "choropleth",
           "z": [
            0.37233333333333335,
            0.29705000000000004,
            0.3612,
            0.28783000000000003,
            0,
            0.07056666666666667,
            0.483775
           ]
          }
         ],
         "name": "2021-01-08"
        },
        {
         "data": [
          {
           "coloraxis": "coloraxis",
           "geo": "geo",
           "hovertemplate": "created_at=2021-01-09<br>user_location=%{location}<br>sentiment_compound=%{z}<extra></extra>",
           "locationmode": "country names",
           "locations": [
            "Australia",
            "Austria",
            "Canada",
            "France",
            "India",
            "Ukraine",
            "United Kingdom",
            "United States"
           ],
           "name": "",
           "type": "choropleth",
           "z": [
            -0.59765,
            0,
            0.7956,
            -0.22106666666666666,
            0,
            0,
            0.4805999999999999,
            0.11015000000000003
           ]
          }
         ],
         "name": "2021-01-09"
        },
        {
         "data": [
          {
           "coloraxis": "coloraxis",
           "geo": "geo",
           "hovertemplate": "created_at=2021-01-10<br>user_location=%{location}<br>sentiment_compound=%{z}<extra></extra>",
           "locationmode": "country names",
           "locations": [
            "Australia",
            "Canada",
            "India",
            "United Kingdom",
            "United States"
           ],
           "name": "",
           "type": "choropleth",
           "z": [
            -0.8176,
            0.147275,
            0.7003,
            0.24655000000000002,
            0.46719999999999995
           ]
          }
         ],
         "name": "2021-01-10"
        },
        {
         "data": [
          {
           "coloraxis": "coloraxis",
           "geo": "geo",
           "hovertemplate": "created_at=2021-01-11<br>user_location=%{location}<br>sentiment_compound=%{z}<extra></extra>",
           "locationmode": "country names",
           "locations": [
            "Canada",
            "France",
            "India",
            "United States"
           ],
           "name": "",
           "type": "choropleth",
           "z": [
            -0.14800000000000002,
            0,
            -0.3715,
            -0.037750000000000006
           ]
          }
         ],
         "name": "2021-01-11"
        },
        {
         "data": [
          {
           "coloraxis": "coloraxis",
           "geo": "geo",
           "hovertemplate": "created_at=2021-01-12<br>user_location=%{location}<br>sentiment_compound=%{z}<extra></extra>",
           "locationmode": "country names",
           "locations": [
            "Australia",
            "Belgium",
            "France",
            "India",
            "Palestinian Territory",
            "United Kingdom",
            "United States"
           ],
           "name": "",
           "type": "choropleth",
           "z": [
            0.4767,
            0,
            0,
            0.128,
            0.4939,
            0.3628,
            -0.13402499999999998
           ]
          }
         ],
         "name": "2021-01-12"
        },
        {
         "data": [
          {
           "coloraxis": "coloraxis",
           "geo": "geo",
           "hovertemplate": "created_at=2021-01-13<br>user_location=%{location}<br>sentiment_compound=%{z}<extra></extra>",
           "locationmode": "country names",
           "locations": [
            "Austria",
            "Canada",
            "Germany",
            "India",
            "United Kingdom",
            "United States"
           ],
           "name": "",
           "type": "choropleth",
           "z": [
            0.3612,
            0.24056666666666668,
            0.6178333333333333,
            -0.10880000000000004,
            0.21172222222222223,
            0.8481
           ]
          }
         ],
         "name": "2021-01-13"
        },
        {
         "data": [
          {
           "coloraxis": "coloraxis",
           "geo": "geo",
           "hovertemplate": "created_at=2021-01-14<br>user_location=%{location}<br>sentiment_compound=%{z}<extra></extra>",
           "locationmode": "country names",
           "locations": [
            "Canada",
            "Germany",
            "Spain",
            "United Kingdom",
            "United States"
           ],
           "name": "",
           "type": "choropleth",
           "z": [
            0.5859,
            0.4767,
            0.4939,
            -0.21489999999999998,
            0.12553333333333333
           ]
          }
         ],
         "name": "2021-01-14"
        },
        {
         "data": [
          {
           "coloraxis": "coloraxis",
           "geo": "geo",
           "hovertemplate": "created_at=2021-01-15<br>user_location=%{location}<br>sentiment_compound=%{z}<extra></extra>",
           "locationmode": "country names",
           "locations": [
            "Australia",
            "Austria",
            "Canada",
            "France",
            "Germany",
            "India",
            "Palestinian Territory",
            "United Kingdom",
            "United States"
           ],
           "name": "",
           "type": "choropleth",
           "z": [
            0.3612,
            -0.7645,
            -0.011099999999999971,
            -0.6358,
            0.4767,
            0.317825,
            0.27115,
            0.21075,
            0.2083
           ]
          }
         ],
         "name": "2021-01-15"
        },
        {
         "data": [
          {
           "coloraxis": "coloraxis",
           "geo": "geo",
           "hovertemplate": "created_at=2021-01-16<br>user_location=%{location}<br>sentiment_compound=%{z}<extra></extra>",
           "locationmode": "country names",
           "locations": [
            "Australia",
            "Austria",
            "Canada",
            "India",
            "Pakistan",
            "Spain",
            "United Kingdom",
            "United States"
           ],
           "name": "",
           "type": "choropleth",
           "z": [
            -0.5994,
            0,
            0.3061,
            -0.5376500000000001,
            -0.25,
            0.4927,
            0.14274285714285714,
            -0.6875
           ]
          }
         ],
         "name": "2021-01-16"
        },
        {
         "data": [
          {
           "coloraxis": "coloraxis",
           "geo": "geo",
           "hovertemplate": "created_at=2021-01-17<br>user_location=%{location}<br>sentiment_compound=%{z}<extra></extra>",
           "locationmode": "country names",
           "locations": [
            "Australia",
            "Canada",
            "France",
            "Germany",
            "India",
            "Pakistan",
            "United Kingdom",
            "United States"
           ],
           "name": "",
           "type": "choropleth",
           "z": [
            0.2263,
            -0.4417,
            0.6808,
            0.23835,
            -0.47511428571428577,
            0.5423,
            0.273525,
            -0.35730000000000006
           ]
          }
         ],
         "name": "2021-01-17"
        },
        {
         "data": [
          {
           "coloraxis": "coloraxis",
           "geo": "geo",
           "hovertemplate": "created_at=2021-01-18<br>user_location=%{location}<br>sentiment_compound=%{z}<extra></extra>",
           "locationmode": "country names",
           "locations": [
            "Canada",
            "India",
            "Spain",
            "United Kingdom",
            "United States"
           ],
           "name": "",
           "type": "choropleth",
           "z": [
            0.3182,
            -0.5603666666666667,
            0,
            0.4404,
            -0.43135
           ]
          }
         ],
         "name": "2021-01-18"
        },
        {
         "data": [
          {
           "coloraxis": "coloraxis",
           "geo": "geo",
           "hovertemplate": "created_at=2021-01-19<br>user_location=%{location}<br>sentiment_compound=%{z}<extra></extra>",
           "locationmode": "country names",
           "locations": [
            "Australia",
            "Belgium",
            "Canada",
            "France",
            "India",
            "Pakistan",
            "Spain",
            "United Kingdom",
            "United States"
           ],
           "name": "",
           "type": "choropleth",
           "z": [
            -0.4019,
            0.6908,
            -0.9118,
            -0.765,
            -0.1998,
            0.7003,
            0.24695,
            0.31267500000000004,
            0.5994
           ]
          }
         ],
         "name": "2021-01-19"
        },
        {
         "data": [
          {
           "coloraxis": "coloraxis",
           "geo": "geo",
           "hovertemplate": "created_at=2021-01-20<br>user_location=%{location}<br>sentiment_compound=%{z}<extra></extra>",
           "locationmode": "country names",
           "locations": [
            "Canada",
            "France",
            "Germany",
            "India",
            "Mexico",
            "United Kingdom",
            "United States"
           ],
           "name": "",
           "type": "choropleth",
           "z": [
            0.05135,
            -0.44620000000000004,
            0.743,
            0.11335,
            0.1779,
            0.2648444444444444,
            0.19063333333333332
           ]
          }
         ],
         "name": "2021-01-20"
        },
        {
         "data": [
          {
           "coloraxis": "coloraxis",
           "geo": "geo",
           "hovertemplate": "created_at=2021-01-21<br>user_location=%{location}<br>sentiment_compound=%{z}<extra></extra>",
           "locationmode": "country names",
           "locations": [
            "Australia",
            "Belgium",
            "Canada",
            "India",
            "Palestinian Territory",
            "Spain",
            "United Kingdom",
            "United States"
           ],
           "name": "",
           "type": "choropleth",
           "z": [
            -0.3182,
            -0.2997,
            -0.00411999999999999,
            -0.1909,
            0.4939,
            0,
            0.42591,
            0.37495
           ]
          }
         ],
         "name": "2021-01-21"
        },
        {
         "data": [
          {
           "coloraxis": "coloraxis",
           "geo": "geo",
           "hovertemplate": "created_at=2021-01-22<br>user_location=%{location}<br>sentiment_compound=%{z}<extra></extra>",
           "locationmode": "country names",
           "locations": [
            "Australia",
            "Canada",
            "Pakistan",
            "United Kingdom",
            "United States"
           ],
           "name": "",
           "type": "choropleth",
           "z": [
            -0.3182,
            0.7184,
            0,
            -0.21989999999999998,
            0
           ]
          }
         ],
         "name": "2021-01-22"
        },
        {
         "data": [
          {
           "coloraxis": "coloraxis",
           "geo": "geo",
           "hovertemplate": "created_at=2021-01-23<br>user_location=%{location}<br>sentiment_compound=%{z}<extra></extra>",
           "locationmode": "country names",
           "locations": [
            "Canada",
            "France",
            "India",
            "Pakistan",
            "United Kingdom",
            "United States"
           ],
           "name": "",
           "type": "choropleth",
           "z": [
            0.15510000000000002,
            -0.29600000000000004,
            0,
            -0.128,
            -0.34,
            -0.10170000000000001
           ]
          }
         ],
         "name": "2021-01-23"
        },
        {
         "data": [
          {
           "coloraxis": "coloraxis",
           "geo": "geo",
           "hovertemplate": "created_at=2021-01-24<br>user_location=%{location}<br>sentiment_compound=%{z}<extra></extra>",
           "locationmode": "country names",
           "locations": [
            "Australia",
            "Canada",
            "India",
            "United Kingdom",
            "United States"
           ],
           "name": "",
           "type": "choropleth",
           "z": [
            -0.6908,
            0.29600000000000004,
            -0.38635,
            0.14286666666666667,
            0
           ]
          }
         ],
         "name": "2021-01-24"
        },
        {
         "data": [
          {
           "coloraxis": "coloraxis",
           "geo": "geo",
           "hovertemplate": "created_at=2021-01-25<br>user_location=%{location}<br>sentiment_compound=%{z}<extra></extra>",
           "locationmode": "country names",
           "locations": [
            "Canada",
            "France",
            "India",
            "United Kingdom"
           ],
           "name": "",
           "type": "choropleth",
           "z": [
            0.2807,
            0.434,
            0.41169999999999995,
            0.4523333333333333
           ]
          }
         ],
         "name": "2021-01-25"
        },
        {
         "data": [
          {
           "coloraxis": "coloraxis",
           "geo": "geo",
           "hovertemplate": "created_at=2021-01-26<br>user_location=%{location}<br>sentiment_compound=%{z}<extra></extra>",
           "locationmode": "country names",
           "locations": [
            "Australia",
            "Austria",
            "Canada",
            "India",
            "United Kingdom",
            "United States"
           ],
           "name": "",
           "type": "choropleth",
           "z": [
            0.7269,
            0.872,
            -0.27625,
            0,
            -0.2023,
            0
           ]
          }
         ],
         "name": "2021-01-26"
        },
        {
         "data": [
          {
           "coloraxis": "coloraxis",
           "geo": "geo",
           "hovertemplate": "created_at=2021-01-27<br>user_location=%{location}<br>sentiment_compound=%{z}<extra></extra>",
           "locationmode": "country names",
           "locations": [
            "Australia",
            "Belgium",
            "Canada",
            "India",
            "United Kingdom",
            "United States"
           ],
           "name": "",
           "type": "choropleth",
           "z": [
            0.7269,
            0.6369,
            -0.1779,
            0,
            -0.05548000000000001,
            0.20895
           ]
          }
         ],
         "name": "2021-01-27"
        },
        {
         "data": [
          {
           "coloraxis": "coloraxis",
           "geo": "geo",
           "hovertemplate": "created_at=2021-01-28<br>user_location=%{location}<br>sentiment_compound=%{z}<extra></extra>",
           "locationmode": "country names",
           "locations": [
            "Canada",
            "France",
            "India",
            "Malaysia",
            "Spain",
            "Ukraine",
            "United Kingdom",
            "United States"
           ],
           "name": "",
           "type": "choropleth",
           "z": [
            0.7351,
            0.23835,
            0,
            0.7269,
            0.6597,
            0.4767,
            0.42115,
            0.42545
           ]
          }
         ],
         "name": "2021-01-28"
        },
        {
         "data": [
          {
           "coloraxis": "coloraxis",
           "geo": "geo",
           "hovertemplate": "created_at=2021-01-29<br>user_location=%{location}<br>sentiment_compound=%{z}<extra></extra>",
           "locationmode": "country names",
           "locations": [
            "Canada",
            "France",
            "India",
            "United Kingdom",
            "United States"
           ],
           "name": "",
           "type": "choropleth",
           "z": [
            0.5574,
            0.6997,
            0.3515,
            -0.29600000000000004,
            0.1181
           ]
          }
         ],
         "name": "2021-01-29"
        },
        {
         "data": [
          {
           "coloraxis": "coloraxis",
           "geo": "geo",
           "hovertemplate": "created_at=2021-01-30<br>user_location=%{location}<br>sentiment_compound=%{z}<extra></extra>",
           "locationmode": "country names",
           "locations": [
            "Australia",
            "Canada",
            "France",
            "India",
            "Ukraine",
            "United Kingdom",
            "United States"
           ],
           "name": "",
           "type": "choropleth",
           "z": [
            0.18856,
            0.79025,
            -0.8979,
            -0.5574,
            0.7783,
            0.335625,
            0.12069999999999999
           ]
          }
         ],
         "name": "2021-01-30"
        },
        {
         "data": [
          {
           "coloraxis": "coloraxis",
           "geo": "geo",
           "hovertemplate": "created_at=2021-01-31<br>user_location=%{location}<br>sentiment_compound=%{z}<extra></extra>",
           "locationmode": "country names",
           "locations": [
            "India",
            "United Kingdom"
           ],
           "name": "",
           "type": "choropleth",
           "z": [
            0.5574,
            -0.064
           ]
          }
         ],
         "name": "2021-01-31"
        },
        {
         "data": [
          {
           "coloraxis": "coloraxis",
           "geo": "geo",
           "hovertemplate": "created_at=2021-02-01<br>user_location=%{location}<br>sentiment_compound=%{z}<extra></extra>",
           "locationmode": "country names",
           "locations": [
            "France",
            "Germany",
            "United States"
           ],
           "name": "",
           "type": "choropleth",
           "z": [
            0.7351,
            0.5267,
            -0.5994
           ]
          }
         ],
         "name": "2021-02-01"
        },
        {
         "data": [
          {
           "coloraxis": "coloraxis",
           "geo": "geo",
           "hovertemplate": "created_at=2021-02-02<br>user_location=%{location}<br>sentiment_compound=%{z}<extra></extra>",
           "locationmode": "country names",
           "locations": [
            "Canada",
            "France",
            "India",
            "United Kingdom",
            "United States"
           ],
           "name": "",
           "type": "choropleth",
           "z": [
            -0.6705,
            0.0258,
            0,
            0.017199999999999993,
            0.2294
           ]
          }
         ],
         "name": "2021-02-02"
        },
        {
         "data": [
          {
           "coloraxis": "coloraxis",
           "geo": "geo",
           "hovertemplate": "created_at=2021-02-03<br>user_location=%{location}<br>sentiment_compound=%{z}<extra></extra>",
           "locationmode": "country names",
           "locations": [
            "Canada",
            "India",
            "United Kingdom",
            "United States"
           ],
           "name": "",
           "type": "choropleth",
           "z": [
            -0.4671,
            0.2732,
            0.5423,
            0.6908
           ]
          }
         ],
         "name": "2021-02-03"
        },
        {
         "data": [
          {
           "coloraxis": "coloraxis",
           "geo": "geo",
           "hovertemplate": "created_at=2021-02-04<br>user_location=%{location}<br>sentiment_compound=%{z}<extra></extra>",
           "locationmode": "country names",
           "locations": [
            "Australia",
            "Canada",
            "India",
            "United Kingdom",
            "United States"
           ],
           "name": "",
           "type": "choropleth",
           "z": [
            -0.09184999999999999,
            0.1554,
            0.4707333333333333,
            0.1909,
            -0.09148333333333332
           ]
          }
         ],
         "name": "2021-02-04"
        },
        {
         "data": [
          {
           "coloraxis": "coloraxis",
           "geo": "geo",
           "hovertemplate": "created_at=2021-02-05<br>user_location=%{location}<br>sentiment_compound=%{z}<extra></extra>",
           "locationmode": "country names",
           "locations": [
            "Australia",
            "India",
            "Italy",
            "United Kingdom",
            "United States"
           ],
           "name": "",
           "type": "choropleth",
           "z": [
            0.3182,
            -0.3818,
            0.28595,
            0,
            0.6720333333333334
           ]
          }
         ],
         "name": "2021-02-05"
        },
        {
         "data": [
          {
           "coloraxis": "coloraxis",
           "geo": "geo",
           "hovertemplate": "created_at=2021-02-06<br>user_location=%{location}<br>sentiment_compound=%{z}<extra></extra>",
           "locationmode": "country names",
           "locations": [
            "Australia",
            "Austria",
            "Canada",
            "India",
            "Pakistan",
            "United Kingdom",
            "United States"
           ],
           "name": "",
           "type": "choropleth",
           "z": [
            0.128,
            0,
            0,
            -0.03423333333333334,
            0,
            0.51045,
            0.04393333333333336
           ]
          }
         ],
         "name": "2021-02-06"
        },
        {
         "data": [
          {
           "coloraxis": "coloraxis",
           "geo": "geo",
           "hovertemplate": "created_at=2021-02-07<br>user_location=%{location}<br>sentiment_compound=%{z}<extra></extra>",
           "locationmode": "country names",
           "locations": [
            "Australia",
            "Belgium",
            "Canada",
            "France",
            "Germany",
            "India",
            "Mexico",
            "Pakistan",
            "Russian Federation",
            "Ukraine",
            "United Kingdom",
            "United States"
           ],
           "name": "",
           "type": "choropleth",
           "z": [
            -0.11180000000000001,
            0.37916666666666665,
            0.2381142857142857,
            0.20909999999999998,
            0.4221,
            -0.00916470588235295,
            -0.32985,
            0.13396666666666665,
            0.5628500000000001,
            0.765,
            0.21245000000000003,
            0.3687
           ]
          }
         ],
         "name": "2021-02-07"
        },
        {
         "data": [
          {
           "coloraxis": "coloraxis",
           "geo": "geo",
           "hovertemplate": "created_at=2021-02-08<br>user_location=%{location}<br>sentiment_compound=%{z}<extra></extra>",
           "locationmode": "country names",
           "locations": [
            "Austria",
            "Belgium",
            "Canada",
            "France",
            "Germany",
            "India",
            "Italy",
            "Mexico",
            "Pakistan",
            "Russian Federation",
            "Spain",
            "United Kingdom",
            "United States"
           ],
           "name": "",
           "type": "choropleth",
           "z": [
            -0.2294,
            -0.6819333333333333,
            0.07435454545454555,
            0.1366,
            0.27896,
            0.13927000000000003,
            0.1806,
            -0.204,
            0.029899999999999993,
            0.42513333333333336,
            0,
            0,
            0.16517777777777778
           ]
          }
         ],
         "name": "2021-02-08"
        },
        {
         "data": [
          {
           "coloraxis": "coloraxis",
           "geo": "geo",
           "hovertemplate": "created_at=2021-02-09<br>user_location=%{location}<br>sentiment_compound=%{z}<extra></extra>",
           "locationmode": "country names",
           "locations": [
            "Argentina",
            "Australia",
            "Austria",
            "Brazil",
            "Canada",
            "France",
            "Germany",
            "India",
            "Italy",
            "Japan",
            "Pakistan",
            "Russian Federation",
            "Spain",
            "United Kingdom",
            "United States"
           ],
           "name": "",
           "type": "choropleth",
           "z": [
            -0.5574,
            0.4951,
            0.02009999999999999,
            0.4588,
            0.19682000000000005,
            0.21280000000000002,
            -0.128,
            0.08258235294117645,
            0.6124,
            0,
            0.2202,
            0.24575,
            0.17,
            0.2942,
            0.28954583333333334
           ]
          }
         ],
         "name": "2021-02-09"
        },
        {
         "data": [
          {
           "coloraxis": "coloraxis",
           "geo": "geo",
           "hovertemplate": "created_at=2021-02-10<br>user_location=%{location}<br>sentiment_compound=%{z}<extra></extra>",
           "locationmode": "country names",
           "locations": [
            "Austria",
            "Belgium",
            "Canada",
            "France",
            "Germany",
            "India",
            "Italy",
            "Japan",
            "Pakistan",
            "Russian Federation",
            "Spain",
            "United Kingdom",
            "United States"
           ],
           "name": "",
           "type": "choropleth",
           "z": [
            0.20095,
            0.2263,
            0.2842818181818182,
            -0.212725,
            0,
            0.23980454545454544,
            0.35,
            0,
            0.21286666666666668,
            0.38023333333333337,
            0.5859,
            0.15964375,
            0.09666666666666665
           ]
          }
         ],
         "name": "2021-02-10"
        },
        {
         "data": [
          {
           "coloraxis": "coloraxis",
           "geo": "geo",
           "hovertemplate": "created_at=2021-02-11<br>user_location=%{location}<br>sentiment_compound=%{z}<extra></extra>",
           "locationmode": "country names",
           "locations": [
            "Australia",
            "Belgium",
            "Canada",
            "Germany",
            "India",
            "Italy",
            "Pakistan",
            "Palestinian Territory",
            "Russian Federation",
            "Spain",
            "United Kingdom",
            "United States"
           ],
           "name": "",
           "type": "choropleth",
           "z": [
            -0.0056,
            0.5859,
            0.19589130434782617,
            0.4019,
            0.07719999999999996,
            0.3818,
            0,
            0,
            -0.01807272727272727,
            0.3182,
            0.28462,
            0.16164736842105262
           ]
          }
         ],
         "name": "2021-02-11"
        },
        {
         "data": [
          {
           "coloraxis": "coloraxis",
           "geo": "geo",
           "hovertemplate": "created_at=2021-02-12<br>user_location=%{location}<br>sentiment_compound=%{z}<extra></extra>",
           "locationmode": "country names",
           "locations": [
            "Australia",
            "Belgium",
            "Canada",
            "France",
            "Germany",
            "India",
            "Italy",
            "Russian Federation",
            "United Kingdom",
            "United States"
           ],
           "name": "",
           "type": "choropleth",
           "z": [
            0.5423,
            0.7096,
            0.37071333333333334,
            -0.5859,
            -0.37848,
            0.09243947368421052,
            -0.24535,
            0.2598333333333333,
            -0.2694,
            0.1226909090909091
           ]
          }
         ],
         "name": "2021-02-12"
        },
        {
         "data": [
          {
           "coloraxis": "coloraxis",
           "geo": "geo",
           "hovertemplate": "created_at=2021-02-13<br>user_location=%{location}<br>sentiment_compound=%{z}<extra></extra>",
           "locationmode": "country names",
           "locations": [
            "Australia",
            "Belgium",
            "Canada",
            "France",
            "Germany",
            "India",
            "Pakistan",
            "Russian Federation",
            "Spain",
            "United Kingdom",
            "United States"
           ],
           "name": "",
           "type": "choropleth",
           "z": [
            0,
            0.4767,
            0.34201818181818183,
            0,
            -0.8481,
            0.26078125,
            0,
            -0.3693,
            0,
            0.2654333333333334,
            0.24271000000000004
           ]
          }
         ],
         "name": "2021-02-13"
        },
        {
         "data": [
          {
           "coloraxis": "coloraxis",
           "geo": "geo",
           "hovertemplate": "created_at=2021-02-14<br>user_location=%{location}<br>sentiment_compound=%{z}<extra></extra>",
           "locationmode": "country names",
           "locations": [
            "Australia",
            "Belgium",
            "Canada",
            "France",
            "India",
            "Pakistan",
            "Palestinian Territory",
            "Ukraine",
            "United Kingdom",
            "United States"
           ],
           "name": "",
           "type": "choropleth",
           "z": [
            -0.0258,
            0,
            0.24027500000000002,
            0.034633333333333294,
            0.21535714285714286,
            0.4404,
            0,
            0,
            0.16714999999999994,
            0.25125000000000003
           ]
          }
         ],
         "name": "2021-02-14"
        },
        {
         "data": [
          {
           "coloraxis": "coloraxis",
           "geo": "geo",
           "hovertemplate": "created_at=2021-02-15<br>user_location=%{location}<br>sentiment_compound=%{z}<extra></extra>",
           "locationmode": "country names",
           "locations": [
            "Australia",
            "Belgium",
            "Canada",
            "France",
            "Germany",
            "India",
            "Pakistan",
            "Palestinian Territory",
            "Russian Federation",
            "Ukraine",
            "United Kingdom",
            "United States"
           ],
           "name": "",
           "type": "choropleth",
           "z": [
            0.52555,
            -0.3225,
            0.2204,
            0,
            0.41695000000000004,
            0.12899999999999998,
            0.39225,
            0.3454,
            0.525625,
            0.20095,
            0.33955714285714295,
            0.20765
           ]
          }
         ],
         "name": "2021-02-15"
        },
        {
         "data": [
          {
           "coloraxis": "coloraxis",
           "geo": "geo",
           "hovertemplate": "created_at=2021-02-16<br>user_location=%{location}<br>sentiment_compound=%{z}<extra></extra>",
           "locationmode": "country names",
           "locations": [
            "Australia",
            "Belgium",
            "Canada",
            "France",
            "Germany",
            "India",
            "Italy",
            "Pakistan",
            "Palestinian Territory",
            "Russian Federation",
            "Spain",
            "Ukraine",
            "United Kingdom",
            "United States"
           ],
           "name": "",
           "type": "choropleth",
           "z": [
            0.39135,
            0.4404333333333333,
            0.39313000000000003,
            0.8591,
            -0.2202,
            0.10709285714285714,
            0.5994,
            0,
            0,
            0.37078571428571433,
            -0.06255,
            -0.09255,
            0.3110833333333333,
            0.1981
           ]
          }
         ],
         "name": "2021-02-16"
        },
        {
         "data": [
          {
           "coloraxis": "coloraxis",
           "geo": "geo",
           "hovertemplate": "created_at=2021-02-17<br>user_location=%{location}<br>sentiment_compound=%{z}<extra></extra>",
           "locationmode": "country names",
           "locations": [
            "Australia",
            "Austria",
            "Belgium",
            "Canada",
            "France",
            "Germany",
            "India",
            "Italy",
            "Pakistan",
            "Palestinian Territory",
            "Russian Federation",
            "Spain",
            "United Kingdom",
            "United States"
           ],
           "name": "",
           "type": "choropleth",
           "z": [
            -0.24605,
            0.00645,
            0.5925307692307692,
            0.60020625,
            -0.18575,
            0,
            0.1848111111111111,
            0,
            0.23835,
            0.213475,
            0.04950769230769226,
            0.06675,
            0.28300000000000003,
            0.23034615384615387
           ]
          }
         ],
         "name": "2021-02-17"
        },
        {
         "data": [
          {
           "coloraxis": "coloraxis",
           "geo": "geo",
           "hovertemplate": "created_at=2021-02-18<br>user_location=%{location}<br>sentiment_compound=%{z}<extra></extra>",
           "locationmode": "country names",
           "locations": [
            "Austria",
            "Belgium",
            "Canada",
            "France",
            "Germany",
            "India",
            "Japan",
            "Pakistan",
            "Palestinian Territory",
            "Russian Federation",
            "Spain",
            "United Kingdom",
            "United States"
           ],
           "name": "",
           "type": "choropleth",
           "z": [
            0,
            0.27935,
            0.4703727272727273,
            -0.20873333333333333,
            -0.16928,
            0.27814375,
            -0.6908,
            0.23835,
            0,
            0.31845,
            0,
            0.2953857142857143,
            0.31423333333333336
           ]
          }
         ],
         "name": "2021-02-18"
        },
        {
         "data": [
          {
           "coloraxis": "coloraxis",
           "geo": "geo",
           "hovertemplate": "created_at=2021-02-19<br>user_location=%{location}<br>sentiment_compound=%{z}<extra></extra>",
           "locationmode": "country names",
           "locations": [
            "Australia",
            "Austria",
            "Belgium",
            "Canada",
            "France",
            "Germany",
            "India",
            "Italy",
            "Mexico",
            "Pakistan",
            "Palestinian Territory",
            "Russian Federation",
            "Spain",
            "United Kingdom",
            "United States"
           ],
           "name": "",
           "type": "choropleth",
           "z": [
            0,
            0.5859,
            0.4517333333333333,
            -0.21448333333333336,
            -0.0741,
            0.37126666666666663,
            0.06053214285714282,
            0.6908,
            0,
            0.3712,
            -0.4645,
            0.09100833333333334,
            0,
            0.286375,
            0.13363125000000003
           ]
          }
         ],
         "name": "2021-02-19"
        },
        {
         "data": [
          {
           "coloraxis": "coloraxis",
           "geo": "geo",
           "hovertemplate": "created_at=2021-02-20<br>user_location=%{location}<br>sentiment_compound=%{z}<extra></extra>",
           "locationmode": "country names",
           "locations": [
            "Australia",
            "Austria",
            "Canada",
            "France",
            "Germany",
            "India",
            "Italy",
            "Pakistan",
            "Palestinian Territory",
            "Russian Federation",
            "Ukraine",
            "United Kingdom",
            "United States"
           ],
           "name": "",
           "type": "choropleth",
           "z": [
            -0.21715000000000004,
            0,
            -0.028783333333333327,
            -0.13312,
            0.23850000000000002,
            0.1850761904761905,
            0,
            -0.1027,
            0.3548,
            0.17812857142857141,
            0.4767,
            0.20095,
            0.0755090909090909
           ]
          }
         ],
         "name": "2021-02-20"
        },
        {
         "data": [
          {
           "coloraxis": "coloraxis",
           "geo": "geo",
           "hovertemplate": "created_at=2021-02-21<br>user_location=%{location}<br>sentiment_compound=%{z}<extra></extra>",
           "locationmode": "country names",
           "locations": [
            "Australia",
            "Austria",
            "Canada",
            "Germany",
            "India",
            "Italy",
            "Palestinian Territory",
            "Russian Federation",
            "Spain",
            "Ukraine",
            "United Kingdom",
            "United States"
           ],
           "name": "",
           "type": "choropleth",
           "z": [
            0.11365,
            0,
            0.26912,
            0.5423,
            0.01470000000000001,
            0.7184,
            -0.09106666666666667,
            -0.6045999999999999,
            0,
            0.0772,
            0.48455714285714285,
            -0.11901999999999999
           ]
          }
         ],
         "name": "2021-02-21"
        },
        {
         "data": [
          {
           "coloraxis": "coloraxis",
           "geo": "geo",
           "hovertemplate": "created_at=2021-02-22<br>user_location=%{location}<br>sentiment_compound=%{z}<extra></extra>",
           "locationmode": "country names",
           "locations": [
            "Australia",
            "Belgium",
            "Canada",
            "France",
            "Germany",
            "India",
            "Italy",
            "Japan",
            "Mexico",
            "Pakistan",
            "Palestinian Territory",
            "Russian Federation",
            "United Kingdom",
            "United States"
           ],
           "name": "",
           "type": "choropleth",
           "z": [
            0.3951,
            0.4019,
            0.74956,
            0.7351,
            -0.1963333333333333,
            0.19810588235294124,
            0.3818,
            -0.4767,
            0.3182,
            0.22766000000000003,
            0.7096,
            0.282875,
            0.16933333333333334,
            0.22524444444444447
           ]
          }
         ],
         "name": "2021-02-22"
        },
        {
         "data": [
          {
           "coloraxis": "coloraxis",
           "geo": "geo",
           "hovertemplate": "created_at=2021-02-23<br>user_location=%{location}<br>sentiment_compound=%{z}<extra></extra>",
           "locationmode": "country names",
           "locations": [
            "Australia",
            "Belgium",
            "Canada",
            "France",
            "Germany",
            "India",
            "Italy",
            "Pakistan",
            "Russian Federation",
            "Spain",
            "United Kingdom",
            "United States"
           ],
           "name": "",
           "type": "choropleth",
           "z": [
            0.6249,
            -0.3674,
            -0.12332499999999998,
            -0.2165,
            0.20413333333333336,
            0.11097058823529411,
            0,
            0.45996666666666663,
            0.08913333333333334,
            -0.5106,
            -0.07714545454545454,
            0.17555555555555555
           ]
          }
         ],
         "name": "2021-02-23"
        },
        {
         "data": [
          {
           "coloraxis": "coloraxis",
           "geo": "geo",
           "hovertemplate": "created_at=2021-02-24<br>user_location=%{location}<br>sentiment_compound=%{z}<extra></extra>",
           "locationmode": "country names",
           "locations": [
            "Argentina",
            "Australia",
            "Austria",
            "Canada",
            "France",
            "Germany",
            "India",
            "Pakistan",
            "Palestinian Territory",
            "Russian Federation",
            "Spain",
            "United Kingdom",
            "United States"
           ],
           "name": "",
           "type": "choropleth",
           "z": [
            0,
            0.2263,
            0.4767,
            -0.176025,
            0.4732,
            0.3291,
            0.13970434782608693,
            0.2659076923076923,
            0,
            0.1818142857142857,
            0.8909999999999999,
            0.16136666666666666,
            0.1866857142857143
           ]
          }
         ],
         "name": "2021-02-24"
        },
        {
         "data": [
          {
           "coloraxis": "coloraxis",
           "geo": "geo",
           "hovertemplate": "created_at=2021-02-25<br>user_location=%{location}<br>sentiment_compound=%{z}<extra></extra>",
           "locationmode": "country names",
           "locations": [
            "Austria",
            "Belgium",
            "Brazil",
            "Canada",
            "France",
            "Germany",
            "India",
            "Italy",
            "Pakistan",
            "Palestinian Territory",
            "Russian Federation",
            "Ukraine",
            "United Arab Emirates",
            "United Kingdom",
            "United States"
           ],
           "name": "",
           "type": "choropleth",
           "z": [
            0,
            0.31245,
            0,
            -0.05681999999999998,
            0.39410000000000006,
            0.1531,
            0.2301526315789474,
            -0.1531,
            0.00018000000000001348,
            -0.6769,
            0.41967499999999996,
            0.21075,
            0.6378,
            0.22012857142857145,
            0.3618318181818182
           ]
          }
         ],
         "name": "2021-02-25"
        },
        {
         "data": [
          {
           "coloraxis": "coloraxis",
           "geo": "geo",
           "hovertemplate": "created_at=2021-02-26<br>user_location=%{location}<br>sentiment_compound=%{z}<extra></extra>",
           "locationmode": "country names",
           "locations": [
            "Argentina",
            "Austria",
            "Canada",
            "France",
            "Germany",
            "India",
            "Pakistan",
            "Russian Federation",
            "Spain",
            "Ukraine",
            "United Kingdom",
            "United States"
           ],
           "name": "",
           "type": "choropleth",
           "z": [
            0,
            0,
            -0.07091,
            0.183075,
            0,
            0.1324811320754717,
            0,
            0.1682555555555555,
            0,
            0,
            0.13634285714285727,
            0.24968181818181814
           ]
          }
         ],
         "name": "2021-02-26"
        },
        {
         "data": [
          {
           "coloraxis": "coloraxis",
           "geo": "geo",
           "hovertemplate": "created_at=2021-02-27<br>user_location=%{location}<br>sentiment_compound=%{z}<extra></extra>",
           "locationmode": "country names",
           "locations": [
            "Austria",
            "Belgium",
            "Canada",
            "France",
            "India",
            "Japan",
            "Pakistan",
            "Russian Federation",
            "Ukraine",
            "United Kingdom",
            "United States"
           ],
           "name": "",
           "type": "choropleth",
           "z": [
            0.4939,
            0.8481,
            0.2588,
            -0.34,
            0.15241250000000003,
            0.5423,
            0.6124,
            0.15582857142857143,
            -0.128,
            0.2949833333333333,
            0.1016277777777778
           ]
          }
         ],
         "name": "2021-02-27"
        },
        {
         "data": [
          {
           "coloraxis": "coloraxis",
           "geo": "geo",
           "hovertemplate": "created_at=2021-02-28<br>user_location=%{location}<br>sentiment_compound=%{z}<extra></extra>",
           "locationmode": "country names",
           "locations": [
            "Belgium",
            "Canada",
            "France",
            "India",
            "Pakistan",
            "Palestinian Territory",
            "Russian Federation",
            "Ukraine",
            "United Kingdom",
            "United States"
           ],
           "name": "",
           "type": "choropleth",
           "z": [
            0,
            0.24551111111111112,
            0.38460000000000005,
            0.26159230769230785,
            -0.3182,
            0.009800000000000003,
            0.16083333333333333,
            0,
            0.4555571428571428,
            0.1932578947368421
           ]
          }
         ],
         "name": "2021-02-28"
        },
        {
         "data": [
          {
           "coloraxis": "coloraxis",
           "geo": "geo",
           "hovertemplate": "created_at=2021-03-01<br>user_location=%{location}<br>sentiment_compound=%{z}<extra></extra>",
           "locationmode": "country names",
           "locations": [
            "Argentina",
            "Australia",
            "Austria",
            "Belgium",
            "Brazil",
            "Canada",
            "France",
            "Germany",
            "India",
            "Italy",
            "Japan",
            "Pakistan",
            "Palestinian Territory",
            "Russian Federation",
            "Spain",
            "Ukraine",
            "United Kingdom",
            "United States"
           ],
           "name": "",
           "type": "choropleth",
           "z": [
            0.2732,
            0,
            0.31245,
            0.13191999999999998,
            0.4019,
            0.2585444444444444,
            0.156225,
            -0.1099,
            0.22090630733944985,
            0,
            0,
            0.43125,
            0.07954999999999995,
            0.20566,
            0.7717,
            0.4767,
            0.14778333333333335,
            0.18619428571428562
           ]
          }
         ],
         "name": "2021-03-01"
        },
        {
         "data": [
          {
           "coloraxis": "coloraxis",
           "geo": "geo",
           "hovertemplate": "created_at=2021-03-02<br>user_location=%{location}<br>sentiment_compound=%{z}<extra></extra>",
           "locationmode": "country names",
           "locations": [
            "Austria",
            "Belgium",
            "Canada",
            "France",
            "India",
            "Italy",
            "Japan",
            "Malaysia",
            "Mexico",
            "Pakistan",
            "Palestinian Territory",
            "Russian Federation",
            "Ukraine",
            "United Kingdom",
            "United States"
           ],
           "name": "",
           "type": "choropleth",
           "z": [
            0.0258,
            0.2732,
            0.3359888888888889,
            0.5112000000000001,
            0.12839662921348324,
            0,
            0,
            0,
            0.7096,
            0.5138,
            -0.5994,
            0.22167499999999998,
            0.61015,
            0.26385714285714285,
            0.33195217391304355
           ]
          }
         ],
         "name": "2021-03-02"
        },
        {
         "data": [
          {
           "coloraxis": "coloraxis",
           "geo": "geo",
           "hovertemplate": "created_at=2021-03-03<br>user_location=%{location}<br>sentiment_compound=%{z}<extra></extra>",
           "locationmode": "country names",
           "locations": [
            "Australia",
            "Austria",
            "Brazil",
            "Canada",
            "France",
            "Germany",
            "India",
            "Italy",
            "Japan",
            "Mexico",
            "Pakistan",
            "Palestinian Territory",
            "Russian Federation",
            "Spain",
            "Ukraine",
            "United Kingdom",
            "United States"
           ],
           "name": "",
           "type": "choropleth",
           "z": [
            0.7635,
            0.3182,
            0,
            -0.09694999999999998,
            0.20759999999999998,
            0,
            0.199674021352313,
            0.17915000000000003,
            0.5994,
            0.14952,
            0.6239,
            0.4404,
            0.31581250000000005,
            0.4035,
            0.019500000000000017,
            0.35302941176470587,
            0.36212500000000003
           ]
          }
         ],
         "name": "2021-03-03"
        },
        {
         "data": [
          {
           "coloraxis": "coloraxis",
           "geo": "geo",
           "hovertemplate": "created_at=2021-03-04<br>user_location=%{location}<br>sentiment_compound=%{z}<extra></extra>",
           "locationmode": "country names",
           "locations": [
            "Australia",
            "Austria",
            "Belgium",
            "Canada",
            "France",
            "Germany",
            "India",
            "Italy",
            "Japan",
            "Pakistan",
            "Russian Federation",
            "Spain",
            "United Kingdom",
            "United States"
           ],
           "name": "",
           "type": "choropleth",
           "z": [
            0.16306666666666667,
            0.13396666666666665,
            0.2523,
            -0.19701818181818184,
            0.4767,
            -0.1052,
            0.15955578231292525,
            0.2956,
            0.8126,
            0.3177,
            0.24930625,
            0.39185,
            0.11502000000000001,
            0.35902647058823534
           ]
          }
         ],
         "name": "2021-03-04"
        },
        {
         "data": [
          {
           "coloraxis": "coloraxis",
           "geo": "geo",
           "hovertemplate": "created_at=2021-03-05<br>user_location=%{location}<br>sentiment_compound=%{z}<extra></extra>",
           "locationmode": "country names",
           "locations": [
            "Australia",
            "Austria",
            "Brazil",
            "Canada",
            "France",
            "Germany",
            "India",
            "Italy",
            "Japan",
            "Jersey",
            "Mexico",
            "Pakistan",
            "Palestinian Territory",
            "Russian Federation",
            "Spain",
            "Ukraine",
            "United Kingdom",
            "United States"
           ],
           "name": "",
           "type": "choropleth",
           "z": [
            0.064,
            0,
            0.4215,
            -0.15369285714285716,
            0.6908,
            0.42110000000000003,
            0.19026759259259265,
            0.30745,
            0.8625,
            0,
            0.0772,
            0.15080000000000002,
            0.4215,
            0.06706363636363635,
            0,
            0,
            0.36629999999999996,
            0.2571793103448277
           ]
          }
         ],
         "name": "2021-03-05"
        },
        {
         "data": [
          {
           "coloraxis": "coloraxis",
           "geo": "geo",
           "hovertemplate": "created_at=2021-03-06<br>user_location=%{location}<br>sentiment_compound=%{z}<extra></extra>",
           "locationmode": "country names",
           "locations": [
            "Australia",
            "Austria",
            "Canada",
            "France",
            "India",
            "Japan",
            "Pakistan",
            "Russian Federation",
            "Spain",
            "United Kingdom",
            "United States"
           ],
           "name": "",
           "type": "choropleth",
           "z": [
            0,
            0,
            -0.019933333333333327,
            -0.08129999999999997,
            0.19189347826086947,
            0.5423,
            0.47459999999999997,
            0.29880000000000007,
            0.8957,
            0.26975000000000005,
            0.21653913043478262
           ]
          }
         ],
         "name": "2021-03-06"
        },
        {
         "data": [
          {
           "coloraxis": "coloraxis",
           "geo": "geo",
           "hovertemplate": "created_at=2021-03-07<br>user_location=%{location}<br>sentiment_compound=%{z}<extra></extra>",
           "locationmode": "country names",
           "locations": [
            "Argentina",
            "Austria",
            "Canada",
            "France",
            "Germany",
            "India",
            "Italy",
            "Japan",
            "Pakistan",
            "Palestinian Territory",
            "Philippines",
            "Russian Federation",
            "United Kingdom",
            "United States"
           ],
           "name": "",
           "type": "choropleth",
           "z": [
            0,
            0.176,
            -0.08780000000000002,
            -0.5267,
            -0.023849999999999996,
            0.1940388888888889,
            0,
            0,
            0,
            -0.18184999999999996,
            0.3818,
            0.1869333333333333,
            0.1649,
            -0.09604166666666665
           ]
          }
         ],
         "name": "2021-03-07"
        },
        {
         "data": [
          {
           "coloraxis": "coloraxis",
           "geo": "geo",
           "hovertemplate": "created_at=2021-03-08<br>user_location=%{location}<br>sentiment_compound=%{z}<extra></extra>",
           "locationmode": "country names",
           "locations": [
            "Australia",
            "Austria",
            "Belgium",
            "Canada",
            "France",
            "India",
            "Italy",
            "Pakistan",
            "Palestinian Territory",
            "Philippines",
            "Russian Federation",
            "Spain",
            "United Kingdom",
            "United States"
           ],
           "name": "",
           "type": "choropleth",
           "z": [
            0,
            0.589,
            -0.24704285714285712,
            0.015963636363636343,
            0,
            0.18801379310344826,
            0.4767,
            0,
            0.44475000000000003,
            0.23775000000000002,
            0.062140000000000015,
            0.57125,
            0.3345833333333334,
            0.13857878787878788
           ]
          }
         ],
         "name": "2021-03-08"
        },
        {
         "data": [
          {
           "coloraxis": "coloraxis",
           "geo": "geo",
           "hovertemplate": "created_at=2021-03-09<br>user_location=%{location}<br>sentiment_compound=%{z}<extra></extra>",
           "locationmode": "country names",
           "locations": [
            "Austria",
            "Belgium",
            "Canada",
            "France",
            "Germany",
            "India",
            "Italy",
            "Japan",
            "Pakistan",
            "Philippines",
            "Russian Federation",
            "Spain",
            "United Arab Emirates",
            "United Kingdom",
            "United States"
           ],
           "name": "",
           "type": "choropleth",
           "z": [
            0.024599999999999997,
            0.546,
            0.5529600000000002,
            0,
            0.5859,
            0.2554246376811593,
            0.28555,
            -0.3443,
            0.031275,
            0.5574,
            0.19419999999999998,
            0,
            0.4404,
            0.40358333333333335,
            0.05999444444444445
           ]
          }
         ],
         "name": "2021-03-09"
        },
        {
         "data": [
          {
           "coloraxis": "coloraxis",
           "geo": "geo",
           "hovertemplate": "created_at=2021-03-10<br>user_location=%{location}<br>sentiment_compound=%{z}<extra></extra>",
           "locationmode": "country names",
           "locations": [
            "Australia",
            "Belgium",
            "Canada",
            "France",
            "Germany",
            "India",
            "Italy",
            "Mexico",
            "Pakistan",
            "Palestinian Territory",
            "Philippines",
            "Russian Federation",
            "Spain",
            "United Kingdom",
            "United States"
           ],
           "name": "",
           "type": "choropleth",
           "z": [
            0.4756666666666667,
            -0.56015,
            0.39430000000000004,
            0.164,
            0.3338,
            0.22730140845070435,
            -0.061,
            0,
            0.07492500000000002,
            0,
            0,
            -0.16522,
            -0.7351,
            0.2312857142857143,
            0.007250000000000036
           ]
          }
         ],
         "name": "2021-03-10"
        },
        {
         "data": [
          {
           "coloraxis": "coloraxis",
           "geo": "geo",
           "hovertemplate": "created_at=2021-03-11<br>user_location=%{location}<br>sentiment_compound=%{z}<extra></extra>",
           "locationmode": "country names",
           "locations": [
            "Argentina",
            "Australia",
            "Belgium",
            "Canada",
            "France",
            "Germany",
            "India",
            "Italy",
            "Japan",
            "Mexico",
            "Pakistan",
            "Russian Federation",
            "Spain",
            "United Arab Emirates",
            "United Kingdom",
            "United States"
           ],
           "name": "",
           "type": "choropleth",
           "z": [
            0,
            -0.09386666666666665,
            -0.3062,
            0.0678545454545455,
            0.1779,
            0.4521833333333334,
            0.13394945054945046,
            0.1909,
            0.3359666666666667,
            0.6808,
            0.20529999999999998,
            0.44626,
            -0.2263,
            0.7003,
            0.3463153846153846,
            -0.1531386363636364
           ]
          }
         ],
         "name": "2021-03-11"
        },
        {
         "data": [
          {
           "coloraxis": "coloraxis",
           "geo": "geo",
           "hovertemplate": "created_at=2021-03-12<br>user_location=%{location}<br>sentiment_compound=%{z}<extra></extra>",
           "locationmode": "country names",
           "locations": [
            "Argentina",
            "Belgium",
            "Brazil",
            "Canada",
            "France",
            "Germany",
            "India",
            "Indonesia",
            "Italy",
            "Japan",
            "Mexico",
            "Pakistan",
            "Russian Federation",
            "Spain",
            "United Kingdom",
            "United States"
           ],
           "name": "",
           "type": "choropleth",
           "z": [
            0,
            -0.2551666666666667,
            0,
            -0.35607500000000003,
            0.03715999999999999,
            0.24773333333333336,
            0.13897333333333334,
            0,
            0.5369250000000001,
            -0.8885,
            0,
            -0.026824999999999988,
            -0.00630000000000001,
            0,
            -0.009914285714285796,
            0.2331390243902439
           ]
          }
         ],
         "name": "2021-03-12"
        },
        {
         "data": [
          {
           "coloraxis": "coloraxis",
           "geo": "geo",
           "hovertemplate": "created_at=2021-03-13<br>user_location=%{location}<br>sentiment_compound=%{z}<extra></extra>",
           "locationmode": "country names",
           "locations": [
            "Australia",
            "Belgium",
            "Canada",
            "France",
            "India",
            "Indonesia",
            "Italy",
            "Mexico",
            "Pakistan",
            "Palestinian Territory",
            "Russian Federation",
            "United Kingdom",
            "United States"
           ],
           "name": "",
           "type": "choropleth",
           "z": [
            -0.5859,
            0.5574,
            -0.38083888888888895,
            0,
            0.15970689655172413,
            0,
            0.765,
            -0.01815,
            0.2007,
            0.6369,
            0.18606666666666669,
            0.19284285714285715,
            0.2619652173913044
           ]
          }
         ],
         "name": "2021-03-13"
        },
        {
         "data": [
          {
           "coloraxis": "coloraxis",
           "geo": "geo",
           "hovertemplate": "created_at=2021-03-14<br>user_location=%{location}<br>sentiment_compound=%{z}<extra></extra>",
           "locationmode": "country names",
           "locations": [
            "Australia",
            "Brazil",
            "Canada",
            "Germany",
            "India",
            "Italy",
            "Japan",
            "Pakistan",
            "Palestinian Territory",
            "Russian Federation",
            "United Kingdom",
            "United States"
           ],
           "name": "",
           "type": "choropleth",
           "z": [
            0.12040000000000001,
            0.1779,
            -0.3423666666666667,
            0.5585,
            0.13344705882352945,
            0.2569,
            0.802,
            0.0538,
            0.0772,
            -0.10533333333333333,
            0.29044999999999993,
            -0.010637499999999994
           ]
          }
         ],
         "name": "2021-03-14"
        },
        {
         "data": [
          {
           "coloraxis": "coloraxis",
           "geo": "geo",
           "hovertemplate": "created_at=2021-03-15<br>user_location=%{location}<br>sentiment_compound=%{z}<extra></extra>",
           "locationmode": "country names",
           "locations": [
            "Australia",
            "Austria",
            "Belgium",
            "Canada",
            "France",
            "Germany",
            "India",
            "Italy",
            "Mexico",
            "Pakistan",
            "Palestinian Territory",
            "Philippines",
            "Russian Federation",
            "Spain",
            "United Kingdom",
            "United States"
           ],
           "name": "",
           "type": "choropleth",
           "z": [
            -0.28636666666666666,
            -0.0129,
            0.12274000000000004,
            -0.23813142857142863,
            0.24220000000000003,
            -0.009025000000000005,
            0.12451176470588234,
            0.25443333333333334,
            -0.022300000000000035,
            -0.03028333333333333,
            0,
            0,
            0.03770000000000004,
            0,
            -0.061695652173913006,
            0.1897040000000001
           ]
          }
         ],
         "name": "2021-03-15"
        },
        {
         "data": [
          {
           "coloraxis": "coloraxis",
           "geo": "geo",
           "hovertemplate": "created_at=2021-03-16<br>user_location=%{location}<br>sentiment_compound=%{z}<extra></extra>",
           "locationmode": "country names",
           "locations": [
            "Argentina",
            "Australia",
            "Austria",
            "Belgium",
            "Brazil",
            "Canada",
            "Chile",
            "France",
            "Germany",
            "India",
            "Italy",
            "Japan",
            "Pakistan",
            "Palestinian Territory",
            "Russian Federation",
            "United Kingdom",
            "United States"
           ],
           "name": "",
           "type": "choropleth",
           "z": [
            0,
            -0.31464285714285717,
            0,
            0.6305000000000001,
            -0.29600000000000004,
            0.051905128205128236,
            0,
            0.27216,
            0.14976666666666666,
            0.15525428571428584,
            -0.045899999999999996,
            0.4371,
            0.21372000000000005,
            -0.2202,
            0.22999999999999998,
            0.007556756756756758,
            0.19716666666666666
           ]
          }
         ],
         "name": "2021-03-16"
        },
        {
         "data": [
          {
           "coloraxis": "coloraxis",
           "geo": "geo",
           "hovertemplate": "created_at=2021-03-17<br>user_location=%{location}<br>sentiment_compound=%{z}<extra></extra>",
           "locationmode": "country names",
           "locations": [
            "Australia",
            "Austria",
            "Belgium",
            "Canada",
            "France",
            "Germany",
            "India",
            "Italy",
            "Pakistan",
            "Russian Federation",
            "United Kingdom",
            "United States"
           ],
           "name": "",
           "type": "choropleth",
           "z": [
            -0.13834999999999997,
            -0.4404,
            0,
            0.13659599999999986,
            0.11186666666666667,
            -0.41450000000000004,
            0.10235396825396822,
            0.4019,
            0.239456,
            0.12009,
            0.2661800000000001,
            0.3496242424242424
           ]
          }
         ],
         "name": "2021-03-17"
        },
        {
         "data": [
          {
           "coloraxis": "coloraxis",
           "geo": "geo",
           "hovertemplate": "created_at=2021-03-18<br>user_location=%{location}<br>sentiment_compound=%{z}<extra></extra>",
           "locationmode": "country names",
           "locations": [
            "Argentina",
            "Australia",
            "Austria",
            "Belgium",
            "Canada",
            "France",
            "Germany",
            "India",
            "Italy",
            "Japan",
            "Mexico",
            "Pakistan",
            "Palestinian Territory",
            "Russian Federation",
            "United Kingdom",
            "United States"
           ],
           "name": "",
           "type": "choropleth",
           "z": [
            -0.4404,
            0.29485,
            0.327675,
            0,
            0.0076479166666668374,
            -0.7351,
            0.08065,
            0.10332954545454548,
            0.5359666666666666,
            0.1027,
            -0.8246,
            0.23952999999999997,
            0.2553,
            -0.09129999999999999,
            0.30517500000000003,
            0.20807435897435902
           ]
          }
         ],
         "name": "2021-03-18"
        },
        {
         "data": [
          {
           "coloraxis": "coloraxis",
           "geo": "geo",
           "hovertemplate": "created_at=2021-03-19<br>user_location=%{location}<br>sentiment_compound=%{z}<extra></extra>",
           "locationmode": "country names",
           "locations": [
            "Argentina",
            "Austria",
            "Belgium",
            "Canada",
            "France",
            "Germany",
            "India",
            "Italy",
            "Japan",
            "Pakistan",
            "Philippines",
            "Russian Federation",
            "Ukraine",
            "United Kingdom",
            "United States"
           ],
           "name": "",
           "type": "choropleth",
           "z": [
            0.6597,
            0.06795000000000001,
            -0.05173333333333333,
            -0.14626000000000003,
            0.0873,
            -0.11486,
            0.2538983606557376,
            0.1591,
            0.0258,
            0.21366666666666667,
            0.2787,
            0.1500285714285714,
            0,
            0.2515558823529412,
            0.13223888888888888
           ]
          }
         ],
         "name": "2021-03-19"
        },
        {
         "data": [
          {
           "coloraxis": "coloraxis",
           "geo": "geo",
           "hovertemplate": "created_at=2021-03-20<br>user_location=%{location}<br>sentiment_compound=%{z}<extra></extra>",
           "locationmode": "country names",
           "locations": [
            "Brazil",
            "Canada",
            "Germany",
            "India",
            "Japan",
            "Pakistan",
            "Russian Federation",
            "United Kingdom",
            "United States"
           ],
           "name": "",
           "type": "choropleth",
           "z": [
            0.6249,
            -0.17139750000000006,
            0.12599999999999997,
            0.25077631578947385,
            0.44095,
            0.18162647058823528,
            0.0005999999999999894,
            0.3242225806451612,
            0.2524727272727273
           ]
          }
         ],
         "name": "2021-03-20"
        },
        {
         "data": [
          {
           "coloraxis": "coloraxis",
           "geo": "geo",
           "hovertemplate": "created_at=2021-03-21<br>user_location=%{location}<br>sentiment_compound=%{z}<extra></extra>",
           "locationmode": "country names",
           "locations": [
            "Austria",
            "Belgium",
            "Canada",
            "France",
            "Germany",
            "India",
            "Italy",
            "Mexico",
            "Pakistan",
            "Russian Federation",
            "Ukraine",
            "United Kingdom",
            "United States"
           ],
           "name": "",
           "type": "choropleth",
           "z": [
            -0.07415,
            0.6705,
            -0.3210833333333333,
            0,
            0,
            0.09468285714285708,
            0,
            0.34,
            0.10953684210526311,
            0.285825,
            -0.7783,
            0.06327272727272724,
            0.3032095238095239
           ]
          }
         ],
         "name": "2021-03-21"
        },
        {
         "data": [
          {
           "coloraxis": "coloraxis",
           "geo": "geo",
           "hovertemplate": "created_at=2021-03-22<br>user_location=%{location}<br>sentiment_compound=%{z}<extra></extra>",
           "locationmode": "country names",
           "locations": [
            "Australia",
            "Austria",
            "Brazil",
            "Canada",
            "France",
            "Germany",
            "Hong Kong",
            "India",
            "Italy",
            "Japan",
            "Pakistan",
            "Palestinian Territory",
            "Russian Federation",
            "United Kingdom",
            "United States"
           ],
           "name": "",
           "type": "choropleth",
           "z": [
            0,
            0.3246,
            -0.61395,
            0.015676562500000428,
            0,
            0.2966444444444445,
            -0.3612,
            0.26679107142857145,
            0.7096,
            0.8588,
            0.11532222222222226,
            0.2202,
            0.03943999999999999,
            0.07884999999999998,
            0.25743793103448276
           ]
          }
         ],
         "name": "2021-03-22"
        },
        {
         "data": [
          {
           "coloraxis": "coloraxis",
           "geo": "geo",
           "hovertemplate": "created_at=2021-03-23<br>user_location=%{location}<br>sentiment_compound=%{z}<extra></extra>",
           "locationmode": "country names",
           "locations": [
            "Australia",
            "Austria",
            "Belgium",
            "Brazil",
            "Canada",
            "France",
            "Germany",
            "India",
            "Italy",
            "Japan",
            "Pakistan",
            "Russian Federation",
            "United Kingdom",
            "United States"
           ],
           "name": "",
           "type": "choropleth",
           "z": [
            0.09784999999999999,
            0.4404,
            -0.02310000000000001,
            0.4939,
            -0.10829999999999977,
            -0.7184,
            0,
            0.14810892857142857,
            0.1909,
            0,
            0,
            -0.08231666666666666,
            0.2274214285714286,
            0.04852564102564102
           ]
          }
         ],
         "name": "2021-03-23"
        },
        {
         "data": [
          {
           "coloraxis": "coloraxis",
           "geo": "geo",
           "hovertemplate": "created_at=2021-03-24<br>user_location=%{location}<br>sentiment_compound=%{z}<extra></extra>",
           "locationmode": "country names",
           "locations": [
            "Australia",
            "Austria",
            "Canada",
            "France",
            "Germany",
            "India",
            "Italy",
            "Japan",
            "Pakistan",
            "Russian Federation",
            "United Kingdom",
            "United States"
           ],
           "name": "",
           "type": "choropleth",
           "z": [
            0.3498,
            0,
            0.00616111111111145,
            0.10705,
            0.8176,
            0.0808923076923077,
            0.39185,
            -0.7906,
            0.05198749999999999,
            0.50595,
            0.30991,
            0.2280866666666667
           ]
          }
         ],
         "name": "2021-03-24"
        },
        {
         "data": [
          {
           "coloraxis": "coloraxis",
           "geo": "geo",
           "hovertemplate": "created_at=2021-03-25<br>user_location=%{location}<br>sentiment_compound=%{z}<extra></extra>",
           "locationmode": "country names",
           "locations": [
            "Argentina",
            "Australia",
            "Belgium",
            "Canada",
            "France",
            "Germany",
            "India",
            "Italy",
            "Mexico",
            "Pakistan",
            "Palestinian Territory",
            "Russian Federation",
            "United Kingdom",
            "United States"
           ],
           "name": "",
           "type": "choropleth",
           "z": [
            0.5267,
            0,
            0,
            -0.08762962962962963,
            0.3612,
            -0.07816666666666666,
            0.16590000000000002,
            0.08595000000000003,
            0.4215,
            -0.5994,
            0.5423,
            0.0552875,
            0.14781764705882358,
            0.12483225806451613
           ]
          }
         ],
         "name": "2021-03-25"
        },
        {
         "data": [
          {
           "coloraxis": "coloraxis",
           "geo": "geo",
           "hovertemplate": "created_at=2021-03-26<br>user_location=%{location}<br>sentiment_compound=%{z}<extra></extra>",
           "locationmode": "country names",
           "locations": [
            "Argentina",
            "Belgium",
            "Brazil",
            "Canada",
            "France",
            "Germany",
            "India",
            "Indonesia",
            "Italy",
            "Qatar",
            "Russian Federation",
            "Ukraine",
            "United Kingdom",
            "United States"
           ],
           "name": "",
           "type": "choropleth",
           "z": [
            0.2023,
            0.24935,
            0,
            0.15757027027027062,
            0.18973333333333334,
            0,
            0.07137272727272727,
            0,
            -0.3818,
            0.3612,
            0.19642857142857142,
            0,
            0.2379571428571429,
            0.15704249999999997
           ]
          }
         ],
         "name": "2021-03-26"
        },
        {
         "data": [
          {
           "coloraxis": "coloraxis",
           "geo": "geo",
           "hovertemplate": "created_at=2021-03-27<br>user_location=%{location}<br>sentiment_compound=%{z}<extra></extra>",
           "locationmode": "country names",
           "locations": [
            "Austria",
            "Canada",
            "France",
            "India",
            "Italy",
            "Japan",
            "Mexico",
            "Pakistan",
            "Russian Federation",
            "Spain",
            "United Kingdom",
            "United States"
           ],
           "name": "",
           "type": "choropleth",
           "z": [
            0,
            -0.2516906976744186,
            0.2023,
            0.2927214285714285,
            0.3630333333333334,
            0.29600000000000004,
            0,
            0.17723333333333333,
            0.23892499999999994,
            0.1027,
            0.30045,
            0.2369410256410256
           ]
          }
         ],
         "name": "2021-03-27"
        },
        {
         "data": [
          {
           "coloraxis": "coloraxis",
           "geo": "geo",
           "hovertemplate": "created_at=2021-03-28<br>user_location=%{location}<br>sentiment_compound=%{z}<extra></extra>",
           "locationmode": "country names",
           "locations": [
            "Argentina",
            "Australia",
            "Canada",
            "France",
            "Germany",
            "India",
            "Pakistan",
            "Russian Federation",
            "Ukraine",
            "United Kingdom",
            "United States"
           ],
           "name": "",
           "type": "choropleth",
           "z": [
            0,
            0.6808,
            0.18559130434782617,
            -0.28686666666666666,
            0.18295,
            0.20792000000000002,
            -0.083725,
            0.182425,
            0.6249,
            -0.062157142857142855,
            0.19426470588235292
           ]
          }
         ],
         "name": "2021-03-28"
        },
        {
         "data": [
          {
           "coloraxis": "coloraxis",
           "geo": "geo",
           "hovertemplate": "created_at=2021-03-29<br>user_location=%{location}<br>sentiment_compound=%{z}<extra></extra>",
           "locationmode": "country names",
           "locations": [
            "Australia",
            "Austria",
            "Belgium",
            "Canada",
            "France",
            "Germany",
            "India",
            "Italy",
            "Japan",
            "Pakistan",
            "Palestinian Territory",
            "Russian Federation",
            "Spain",
            "Ukraine",
            "United Arab Emirates",
            "United Kingdom",
            "United States"
           ],
           "name": "",
           "type": "choropleth",
           "z": [
            0.7717,
            0.37495,
            -0.21326666666666663,
            -0.01355833333333315,
            0.28358,
            0.720225,
            0.19051428571428577,
            0,
            0.5431,
            0.021333333333333333,
            0.07415,
            0.40275,
            0.51535,
            0.24027999999999997,
            0,
            -0.0873142857142857,
            0.18576111111111115
           ]
          }
         ],
         "name": "2021-03-29"
        },
        {
         "data": [
          {
           "coloraxis": "coloraxis",
           "geo": "geo",
           "hovertemplate": "created_at=2021-03-30<br>user_location=%{location}<br>sentiment_compound=%{z}<extra></extra>",
           "locationmode": "country names",
           "locations": [
            "Australia",
            "Austria",
            "Belgium",
            "Brazil",
            "Canada",
            "France",
            "India",
            "Italy",
            "Japan",
            "Mexico",
            "Pakistan",
            "Palestinian Territory",
            "Russian Federation",
            "Ukraine",
            "United Kingdom",
            "United States"
           ],
           "name": "",
           "type": "choropleth",
           "z": [
            0.127025,
            0,
            0.27930000000000005,
            0.2023,
            -0.06669999999999975,
            0.31816,
            0.12427164179104465,
            0.7178,
            0,
            0,
            0.25358,
            0.2814,
            -0.08818750000000002,
            0.29153333333333337,
            0.04923076923076924,
            0.23565283018867925
           ]
          }
         ],
         "name": "2021-03-30"
        },
        {
         "data": [
          {
           "coloraxis": "coloraxis",
           "geo": "geo",
           "hovertemplate": "created_at=2021-03-31<br>user_location=%{location}<br>sentiment_compound=%{z}<extra></extra>",
           "locationmode": "country names",
           "locations": [
            "Argentina",
            "Australia",
            "Austria",
            "Belgium",
            "Canada",
            "France",
            "Germany",
            "India",
            "Italy",
            "Japan",
            "Pakistan",
            "Palestinian Territory",
            "Russian Federation",
            "Spain",
            "Ukraine",
            "United Kingdom",
            "United States"
           ],
           "name": "",
           "type": "choropleth",
           "z": [
            0,
            0.38029999999999997,
            0.3806,
            0.315175,
            -0.2187694444444445,
            0.44610000000000005,
            0.09876666666666666,
            0.14537101449275353,
            0.2716,
            0.15335000000000001,
            0.027830769230769232,
            0.1531,
            0.1142,
            0.16556666666666667,
            0.23095,
            0.11908235294117653,
            0.23026734693877546
           ]
          }
         ],
         "name": "2021-03-31"
        },
        {
         "data": [
          {
           "coloraxis": "coloraxis",
           "geo": "geo",
           "hovertemplate": "created_at=2021-04-01<br>user_location=%{location}<br>sentiment_compound=%{z}<extra></extra>",
           "locationmode": "country names",
           "locations": [
            "Australia",
            "Canada",
            "France",
            "Germany",
            "India",
            "Italy",
            "Mexico",
            "Netherlands",
            "Pakistan",
            "Russian Federation",
            "United Kingdom",
            "United States"
           ],
           "name": "",
           "type": "choropleth",
           "z": [
            0,
            -0.030016666666666702,
            0.13652499999999998,
            0,
            0.169530985915493,
            0.6908,
            0,
            0.0772,
            0.12036363636363637,
            0.4590166666666667,
            0.22541666666666674,
            0.24825428571428562
           ]
          }
         ],
         "name": "2021-04-01"
        },
        {
         "data": [
          {
           "coloraxis": "coloraxis",
           "geo": "geo",
           "hovertemplate": "created_at=2021-04-02<br>user_location=%{location}<br>sentiment_compound=%{z}<extra></extra>",
           "locationmode": "country names",
           "locations": [
            "Australia",
            "Austria",
            "Belgium",
            "Canada",
            "France",
            "Germany",
            "India",
            "Pakistan",
            "Russian Federation",
            "United Kingdom",
            "United States"
           ],
           "name": "",
           "type": "choropleth",
           "z": [
            -0.6632,
            -0.0172,
            -0.8176,
            -0.11253684210526317,
            0.31245,
            0.2294,
            0.23070535714285725,
            0.18692727272727272,
            0.4418250000000001,
            0.18952857142857146,
            0.20616363636363635
           ]
          }
         ],
         "name": "2021-04-02"
        },
        {
         "data": [
          {
           "coloraxis": "coloraxis",
           "geo": "geo",
           "hovertemplate": "created_at=2021-04-03<br>user_location=%{location}<br>sentiment_compound=%{z}<extra></extra>",
           "locationmode": "country names",
           "locations": [
            "Argentina",
            "Australia",
            "Austria",
            "Belgium",
            "Brazil",
            "Canada",
            "France",
            "Germany",
            "India",
            "Italy",
            "Mexico",
            "Pakistan",
            "Philippines",
            "Russian Federation",
            "United Kingdom",
            "United States"
           ],
           "name": "",
           "type": "choropleth",
           "z": [
            0.128,
            0,
            0.3818,
            0.44803333333333334,
            0.8126,
            -0.016582352941176375,
            -0.41966666666666663,
            0.2787,
            0.178533962264151,
            0,
            0.0772,
            0.2856166666666667,
            0.5457,
            0.027539999999999988,
            -0.06864166666666667,
            0.2482654545454546
           ]
          }
         ],
         "name": "2021-04-03"
        },
        {
         "data": [
          {
           "coloraxis": "coloraxis",
           "geo": "geo",
           "hovertemplate": "created_at=2021-04-04<br>user_location=%{location}<br>sentiment_compound=%{z}<extra></extra>",
           "locationmode": "country names",
           "locations": [
            "Australia",
            "Austria",
            "Canada",
            "Germany",
            "India",
            "Japan",
            "Pakistan",
            "Palestinian Territory",
            "Russian Federation",
            "United Kingdom",
            "United States"
           ],
           "name": "",
           "type": "choropleth",
           "z": [
            -0.11363333333333332,
            0,
            -0.18044761904761908,
            0.14800000000000002,
            0.1426222222222223,
            0.4215,
            0.029037500000000015,
            -0.8625,
            0.4686,
            0.19418000000000002,
            0.09157407407407409
           ]
          }
         ],
         "name": "2021-04-04"
        },
        {
         "data": [
          {
           "coloraxis": "coloraxis",
           "geo": "geo",
           "hovertemplate": "created_at=2021-04-05<br>user_location=%{location}<br>sentiment_compound=%{z}<extra></extra>",
           "locationmode": "country names",
           "locations": [
            "Belgium",
            "Canada",
            "France",
            "Germany",
            "India",
            "Italy",
            "Mexico",
            "Pakistan",
            "Philippines",
            "Russian Federation",
            "Spain",
            "Ukraine",
            "United Kingdom",
            "United States"
           ],
           "name": "",
           "type": "choropleth",
           "z": [
            -0.5574,
            0.35947500000000027,
            0.2679333333333333,
            0.09045999999999998,
            0.0995392857142857,
            0.4939,
            0,
            0.059099999999999986,
            0.4404,
            0.5549857142857143,
            0,
            0,
            -0.18076666666666666,
            0.2060606060606061
           ]
          }
         ],
         "name": "2021-04-05"
        },
        {
         "data": [
          {
           "coloraxis": "coloraxis",
           "geo": "geo",
           "hovertemplate": "created_at=2021-04-06<br>user_location=%{location}<br>sentiment_compound=%{z}<extra></extra>",
           "locationmode": "country names",
           "locations": [
            "Argentina",
            "Australia",
            "Austria",
            "Belgium",
            "Canada",
            "France",
            "Germany",
            "India",
            "Italy",
            "Pakistan",
            "Philippines",
            "Russian Federation",
            "Spain",
            "United Kingdom",
            "United States"
           ],
           "name": "",
           "type": "choropleth",
           "z": [
            0,
            -0.1027,
            0.5104500000000001,
            0.42755,
            0.11553913043478266,
            0.11359999999999998,
            0.13085714285714284,
            0.25547800000000004,
            0.3818,
            0.4065,
            0,
            -0.05226666666666666,
            0,
            0.02235000000000001,
            0.16093783783783785
           ]
          }
         ],
         "name": "2021-04-06"
        },
        {
         "data": [
          {
           "coloraxis": "coloraxis",
           "geo": "geo",
           "hovertemplate": "created_at=2021-04-07<br>user_location=%{location}<br>sentiment_compound=%{z}<extra></extra>",
           "locationmode": "country names",
           "locations": [
            "Argentina",
            "Australia",
            "Austria",
            "Belgium",
            "Canada",
            "France",
            "Germany",
            "India",
            "Italy",
            "Japan",
            "Pakistan",
            "Palestinian Territory",
            "Philippines",
            "Russian Federation",
            "Spain",
            "Ukraine",
            "United Kingdom",
            "United States"
           ],
           "name": "",
           "type": "choropleth",
           "z": [
            0,
            0.20095,
            -0.018016666666666663,
            0.19765,
            0.18970483870967755,
            0.14367999999999997,
            0.15441111111111114,
            0.03101645569620257,
            -0.1806,
            0,
            0.17659473684210525,
            0.5719,
            0.4588,
            0.03357777777777779,
            0.5796,
            0,
            0.15196170212765953,
            0.04575698924731184
           ]
          }
         ],
         "name": "2021-04-07"
        },
        {
         "data": [
          {
           "coloraxis": "coloraxis",
           "geo": "geo",
           "hovertemplate": "created_at=2021-04-08<br>user_location=%{location}<br>sentiment_compound=%{z}<extra></extra>",
           "locationmode": "country names",
           "locations": [
            "Argentina",
            "Australia",
            "Austria",
            "Belgium",
            "Canada",
            "France",
            "Germany",
            "India",
            "Italy",
            "Japan",
            "Pakistan",
            "Philippines",
            "Russian Federation",
            "Spain",
            "United Kingdom",
            "United States"
           ],
           "name": "",
           "type": "choropleth",
           "z": [
            0.6369,
            0.044149999999999995,
            0,
            -0.11362000000000001,
            -0.3234909090909091,
            0.4372,
            0.08514999999999999,
            0.11261818181818156,
            0.17520000000000002,
            0.025733333333333334,
            -0.12668,
            0,
            0.043099999999999986,
            0,
            0.2515037037037037,
            0.08667164179104477
           ]
          }
         ],
         "name": "2021-04-08"
        },
        {
         "data": [
          {
           "coloraxis": "coloraxis",
           "geo": "geo",
           "hovertemplate": "created_at=2021-04-09<br>user_location=%{location}<br>sentiment_compound=%{z}<extra></extra>",
           "locationmode": "country names",
           "locations": [
            "Argentina",
            "Australia",
            "Austria",
            "Belgium",
            "Canada",
            "France",
            "Germany",
            "India",
            "Indonesia",
            "Italy",
            "Japan",
            "Pakistan",
            "Palestinian Territory",
            "Philippines",
            "Russian Federation",
            "Spain",
            "United Kingdom",
            "United States"
           ],
           "name": "",
           "type": "choropleth",
           "z": [
            0.4767,
            -0.04315000000000002,
            -0.1909,
            0.23878,
            0.1431191176470583,
            -0.10846,
            0.4141666666666666,
            0.11151911764705873,
            0.8271,
            0,
            0.5243,
            0.252,
            0,
            -0.3612,
            0,
            0.15569999999999998,
            0.4215153846153847,
            0.09512923076923076
           ]
          }
         ],
         "name": "2021-04-09"
        },
        {
         "data": [
          {
           "coloraxis": "coloraxis",
           "geo": "geo",
           "hovertemplate": "created_at=2021-04-10<br>user_location=%{location}<br>sentiment_compound=%{z}<extra></extra>",
           "locationmode": "country names",
           "locations": [
            "Australia",
            "Belgium",
            "Canada",
            "France",
            "Germany",
            "Hong Kong",
            "India",
            "Japan",
            "Mexico",
            "Pakistan",
            "Palestinian Territory",
            "United Kingdom",
            "United States"
           ],
           "name": "",
           "type": "choropleth",
           "z": [
            0,
            0.6876000000000001,
            0.28893928571428573,
            0.41714,
            0.23835,
            0,
            0.14767865168539335,
            0.34,
            0.29295,
            0.2624181818181819,
            0.2532666666666667,
            0.4149333333333333,
            0.176064
           ]
          }
         ],
         "name": "2021-04-10"
        },
        {
         "data": [
          {
           "coloraxis": "coloraxis",
           "geo": "geo",
           "hovertemplate": "created_at=2021-04-11<br>user_location=%{location}<br>sentiment_compound=%{z}<extra></extra>",
           "locationmode": "country names",
           "locations": [
            "Argentina",
            "Australia",
            "Austria",
            "Belgium",
            "Brazil",
            "Canada",
            "France",
            "Germany",
            "India",
            "Italy",
            "Japan",
            "Mexico",
            "Pakistan",
            "Russian Federation",
            "Ukraine",
            "United Kingdom",
            "United States"
           ],
           "name": "",
           "type": "choropleth",
           "z": [
            0.4404,
            0.02890000000000001,
            -0.3612,
            0,
            0.3612,
            0.2325962962962963,
            0,
            -0.3182,
            0.21583644067796615,
            -0.2732,
            0.8555,
            0.3182,
            0.4404,
            0.8271,
            0.0772,
            0.09871999999999999,
            0.07943488372093022
           ]
          }
         ],
         "name": "2021-04-11"
        },
        {
         "data": [
          {
           "coloraxis": "coloraxis",
           "geo": "geo",
           "hovertemplate": "created_at=2021-04-12<br>user_location=%{location}<br>sentiment_compound=%{z}<extra></extra>",
           "locationmode": "country names",
           "locations": [
            "Argentina",
            "Australia",
            "Austria",
            "Belgium",
            "Canada",
            "France",
            "Germany",
            "India",
            "Italy",
            "Japan",
            "Pakistan",
            "Russian Federation",
            "Spain",
            "United Kingdom",
            "United States"
           ],
           "name": "",
           "type": "choropleth",
           "z": [
            -0.2732,
            0.054179999999999985,
            0.3612,
            -0.6486,
            0.15767049180327844,
            0.28108,
            0.16696666666666662,
            0.23127999999999982,
            0.62045,
            0.6249,
            0.17436000000000001,
            0.03436000000000002,
            0.4019,
            0.02356666666666665,
            0.048631111111111104
           ]
          }
         ],
         "name": "2021-04-12"
        },
        {
         "data": [
          {
           "coloraxis": "coloraxis",
           "geo": "geo",
           "hovertemplate": "created_at=2021-04-13<br>user_location=%{location}<br>sentiment_compound=%{z}<extra></extra>",
           "locationmode": "country names",
           "locations": [
            "Australia",
            "Austria",
            "Canada",
            "France",
            "Germany",
            "India",
            "Japan",
            "Mexico",
            "Pakistan",
            "Palestinian Territory",
            "Russian Federation",
            "Ukraine",
            "United Kingdom",
            "United States"
           ],
           "name": "",
           "type": "choropleth",
           "z": [
            0.44615,
            -0.5423,
            -0.062174444444444456,
            0.206775,
            0.22698333333333331,
            0.14909099099099032,
            0,
            0.14049999999999999,
            0,
            0,
            0.37747333333333344,
            0.4019,
            0.0036333333333333478,
            0.15168608695652191
           ]
          }
         ],
         "name": "2021-04-13"
        },
        {
         "data": [
          {
           "coloraxis": "coloraxis",
           "geo": "geo",
           "hovertemplate": "created_at=2021-04-14<br>user_location=%{location}<br>sentiment_compound=%{z}<extra></extra>",
           "locationmode": "country names",
           "locations": [
            "Australia",
            "Austria",
            "Canada",
            "France",
            "Germany",
            "India",
            "Japan",
            "Mexico",
            "Pakistan",
            "Russian Federation",
            "Spain",
            "United Kingdom",
            "United States"
           ],
           "name": "",
           "type": "choropleth",
           "z": [
            0.43462500000000004,
            0,
            0.11423414634146344,
            0,
            0.06239999999999998,
            0.08353642857142866,
            0.5859,
            0.3182,
            -0.0498,
            0.25665714285714286,
            -0.13005,
            0.39997333333333335,
            0.2272684782608697
           ]
          }
         ],
         "name": "2021-04-14"
        },
        {
         "data": [
          {
           "coloraxis": "coloraxis",
           "geo": "geo",
           "hovertemplate": "created_at=2021-04-15<br>user_location=%{location}<br>sentiment_compound=%{z}<extra></extra>",
           "locationmode": "country names",
           "locations": [
            "Australia",
            "Austria",
            "Canada",
            "France",
            "Germany",
            "India",
            "Indonesia",
            "Japan",
            "Pakistan",
            "Russian Federation",
            "Spain",
            "Ukraine",
            "United Kingdom",
            "United States"
           ],
           "name": "",
           "type": "choropleth",
           "z": [
            0.40359999999999996,
            0.1591,
            -0.3090513513513512,
            0.38125,
            -0.36379999999999996,
            0.08153406593406591,
            0,
            -0.8144,
            -0.1909,
            0.06104444444444444,
            0.4215,
            0.4939,
            0.1662181818181818,
            0.19024567901234585
           ]
          }
         ],
         "name": "2021-04-15"
        },
        {
         "data": [
          {
           "coloraxis": "coloraxis",
           "geo": "geo",
           "hovertemplate": "created_at=2021-04-16<br>user_location=%{location}<br>sentiment_compound=%{z}<extra></extra>",
           "locationmode": "country names",
           "locations": [
            "Australia",
            "Austria",
            "Canada",
            "France",
            "Germany",
            "Guyana",
            "India",
            "Italy",
            "Japan",
            "Mexico",
            "Pakistan",
            "Palestinian Territory",
            "Philippines",
            "Russian Federation",
            "Ukraine",
            "United Kingdom",
            "United States"
           ],
           "name": "",
           "type": "choropleth",
           "z": [
            -0.47685,
            -0.0772,
            0.07073255813953472,
            -0.1591,
            0.394425,
            0.4404,
            0.17522580645161323,
            0.7598,
            0.6369,
            -0.315,
            0,
            0.128,
            0.3982,
            -0.23284000000000002,
            -0.3182,
            -0.0019874999999999407,
            0.1159826086956521
           ]
          }
         ],
         "name": "2021-04-16"
        },
        {
         "data": [
          {
           "coloraxis": "coloraxis",
           "geo": "geo",
           "hovertemplate": "created_at=2021-04-17<br>user_location=%{location}<br>sentiment_compound=%{z}<extra></extra>",
           "locationmode": "country names",
           "locations": [
            "Argentina",
            "Australia",
            "Canada",
            "France",
            "India",
            "Mexico",
            "Pakistan",
            "Palestinian Territory",
            "Philippines",
            "Russian Federation",
            "Spain",
            "Ukraine",
            "United Kingdom",
            "United States"
           ],
           "name": "",
           "type": "choropleth",
           "z": [
            0.4019,
            0.0129,
            -0.09143913043478254,
            0.03512,
            0.16307986111111095,
            0,
            0.2997,
            -0.6705,
            0.7351,
            -0.21724000000000002,
            -0.05135,
            0,
            0.5740375,
            0.2609692307692307
           ]
          }
         ],
         "name": "2021-04-17"
        },
        {
         "data": [
          {
           "coloraxis": "coloraxis",
           "geo": "geo",
           "hovertemplate": "created_at=2021-04-18<br>user_location=%{location}<br>sentiment_compound=%{z}<extra></extra>",
           "locationmode": "country names",
           "locations": [
            "Australia",
            "Canada",
            "France",
            "Germany",
            "India",
            "Italy",
            "Pakistan",
            "Russian Federation",
            "Spain",
            "United Kingdom",
            "United States"
           ],
           "name": "",
           "type": "choropleth",
           "z": [
            0.16702499999999998,
            -0.30714210526315777,
            -0.35875,
            0,
            0.1441014925373134,
            0.9517,
            0.43574,
            0.04193999999999999,
            -0.1366,
            0.10798571428571431,
            0.23222926829268292
           ]
          }
         ],
         "name": "2021-04-18"
        },
        {
         "data": [
          {
           "coloraxis": "coloraxis",
           "geo": "geo",
           "hovertemplate": "created_at=2021-04-19<br>user_location=%{location}<br>sentiment_compound=%{z}<extra></extra>",
           "locationmode": "country names",
           "locations": [
            "Australia",
            "Austria",
            "Brazil",
            "Canada",
            "France",
            "India",
            "Japan",
            "Pakistan",
            "Palestinian Territory",
            "Russian Federation",
            "Spain",
            "Ukraine",
            "United Kingdom",
            "United States"
           ],
           "name": "",
           "type": "choropleth",
           "z": [
            0.34,
            0.21153333333333335,
            0.4939,
            0.23368602150537654,
            0.17102,
            0.14331818181818184,
            0.09003333333333334,
            0.20095,
            0,
            0.04206363636363635,
            0.26753333333333335,
            0.06365000000000001,
            0.28202499999999997,
            0.12364897959183671
           ]
          }
         ],
         "name": "2021-04-19"
        },
        {
         "data": [
          {
           "coloraxis": "coloraxis",
           "geo": "geo",
           "hovertemplate": "created_at=2021-04-20<br>user_location=%{location}<br>sentiment_compound=%{z}<extra></extra>",
           "locationmode": "country names",
           "locations": [
            "Argentina",
            "Australia",
            "Austria",
            "Belgium",
            "Canada",
            "France",
            "Germany",
            "India",
            "Pakistan",
            "Palestinian Territory",
            "Russian Federation",
            "United Kingdom",
            "United States"
           ],
           "name": "",
           "type": "choropleth",
           "z": [
            0.2655875,
            0.6423,
            0,
            0,
            0.009250684931506917,
            0.11926666666666667,
            0.159225,
            0.18425111111111125,
            0.24043333333333336,
            0.4588,
            0.15601111111111107,
            0.45498000000000005,
            0.08687021276595748
           ]
          }
         ],
         "name": "2021-04-20"
        },
        {
         "data": [
          {
           "coloraxis": "coloraxis",
           "geo": "geo",
           "hovertemplate": "created_at=2021-04-21<br>user_location=%{location}<br>sentiment_compound=%{z}<extra></extra>",
           "locationmode": "country names",
           "locations": [
            "Argentina",
            "Australia",
            "Belgium",
            "Brazil",
            "Canada",
            "France",
            "Germany",
            "India",
            "Italy",
            "Pakistan",
            "Philippines",
            "Russian Federation",
            "United Kingdom",
            "United States"
           ],
           "name": "",
           "type": "choropleth",
           "z": [
            0.211275,
            0.4868,
            0,
            0.34995,
            0.14366595744680852,
            -0.010700000000000006,
            0.3182,
            0.18549788617886162,
            0,
            0.18828,
            0,
            0.24997499999999997,
            0.20273846153846156,
            0.1263208333333333
           ]
          }
         ],
         "name": "2021-04-21"
        },
        {
         "data": [
          {
           "coloraxis": "coloraxis",
           "geo": "geo",
           "hovertemplate": "created_at=2021-04-22<br>user_location=%{location}<br>sentiment_compound=%{z}<extra></extra>",
           "locationmode": "country names",
           "locations": [
            "Australia",
            "Belgium",
            "Canada",
            "China",
            "France",
            "Germany",
            "India",
            "Japan",
            "Pakistan",
            "Palestinian Territory",
            "Philippines",
            "Russian Federation",
            "Saudi Arabia",
            "United Arab Emirates",
            "United Kingdom",
            "United States"
           ],
           "name": "",
           "type": "choropleth",
           "z": [
            -0.3167,
            0,
            -0.42241739130434774,
            0,
            0.056675,
            0.173925,
            0.13705580110497245,
            0.31355,
            -0.22353333333333333,
            0,
            0,
            0.12440000000000001,
            0,
            0,
            0.14402222222222216,
            0.16256666666666672
           ]
          }
         ],
         "name": "2021-04-22"
        },
        {
         "data": [
          {
           "coloraxis": "coloraxis",
           "geo": "geo",
           "hovertemplate": "created_at=2021-05-13<br>user_location=%{location}<br>sentiment_compound=%{z}<extra></extra>",
           "locationmode": "country names",
           "locations": [
            "Australia",
            "Belgium",
            "Canada",
            "France",
            "India",
            "Italy",
            "Mexico",
            "United Kingdom",
            "United States"
           ],
           "name": "",
           "type": "choropleth",
           "z": [
            0.16678,
            0.4404,
            0.10515000000000001,
            0,
            0.05777333333333337,
            -0.3612,
            0.4404,
            -0.065925,
            0.11942173913043481
           ]
          }
         ],
         "name": "2021-05-13"
        },
        {
         "data": [
          {
           "coloraxis": "coloraxis",
           "geo": "geo",
           "hovertemplate": "created_at=2021-05-14<br>user_location=%{location}<br>sentiment_compound=%{z}<extra></extra>",
           "locationmode": "country names",
           "locations": [
            "Australia",
            "Belgium",
            "Canada",
            "France",
            "Germany",
            "India",
            "Italy",
            "Pakistan",
            "Philippines",
            "Russian Federation",
            "Spain",
            "Ukraine",
            "United Kingdom",
            "United States"
           ],
           "name": "",
           "type": "choropleth",
           "z": [
            0.5783,
            0.24735,
            0.2613684210526316,
            0.4939,
            0.4982666666666667,
            0.08320495283018851,
            0.0593,
            -0.33983333333333327,
            0.41305,
            0.17462500000000006,
            0.7184,
            0,
            -0.1909,
            0.05983636363636364
           ]
          }
         ],
         "name": "2021-05-14"
        },
        {
         "data": [
          {
           "coloraxis": "coloraxis",
           "geo": "geo",
           "hovertemplate": "created_at=2021-05-15<br>user_location=%{location}<br>sentiment_compound=%{z}<extra></extra>",
           "locationmode": "country names",
           "locations": [
            "Australia",
            "Canada",
            "France",
            "Hong Kong",
            "India",
            "Italy",
            "Pakistan",
            "Russian Federation",
            "Spain",
            "United States"
           ],
           "name": "",
           "type": "choropleth",
           "z": [
            0.4517666666666667,
            0.19772105263157896,
            0.17,
            0,
            0.1585716216216217,
            -0.8316,
            0.18646666666666667,
            0.4158,
            0.32305000000000006,
            0.019458620689655117
           ]
          }
         ],
         "name": "2021-05-15"
        },
        {
         "data": [
          {
           "coloraxis": "coloraxis",
           "geo": "geo",
           "hovertemplate": "created_at=2021-05-16<br>user_location=%{location}<br>sentiment_compound=%{z}<extra></extra>",
           "locationmode": "country names",
           "locations": [
            "Argentina",
            "Australia",
            "Canada",
            "France",
            "Germany",
            "India",
            "Pakistan",
            "Philippines",
            "Ukraine",
            "United Kingdom",
            "United States"
           ],
           "name": "",
           "type": "choropleth",
           "z": [
            0,
            0.4019,
            -0.07275000000000002,
            0.4019,
            0.3458333333333334,
            0.161831304347826,
            0.1355,
            0.6808,
            0.4019,
            0.4019,
            0.18721923076923078
           ]
          }
         ],
         "name": "2021-05-16"
        },
        {
         "data": [
          {
           "coloraxis": "coloraxis",
           "geo": "geo",
           "hovertemplate": "created_at=2021-05-17<br>user_location=%{location}<br>sentiment_compound=%{z}<extra></extra>",
           "locationmode": "country names",
           "locations": [
            "Australia",
            "Austria",
            "Brazil",
            "Canada",
            "France",
            "Germany",
            "India",
            "Japan",
            "Pakistan",
            "Philippines",
            "Russian Federation",
            "Ukraine",
            "United Kingdom",
            "United States"
           ],
           "name": "",
           "type": "choropleth",
           "z": [
            -0.5160333333333332,
            0,
            0.7645,
            0.21175714285714284,
            0.26006666666666667,
            -0.18561999999999998,
            0.15641715210355972,
            0.4019,
            0.13172727272727272,
            0.3612,
            0.17658333333333334,
            0.23835,
            0.2908,
            0.14729583333333332
           ]
          }
         ],
         "name": "2021-05-17"
        },
        {
         "data": [
          {
           "coloraxis": "coloraxis",
           "geo": "geo",
           "hovertemplate": "created_at=2021-05-18<br>user_location=%{location}<br>sentiment_compound=%{z}<extra></extra>",
           "locationmode": "country names",
           "locations": [
            "Australia",
            "Belgium",
            "Brazil",
            "Canada",
            "France",
            "Germany",
            "India",
            "Italy",
            "Japan",
            "Pakistan",
            "Russian Federation",
            "Spain",
            "Ukraine",
            "United Kingdom",
            "United States"
           ],
           "name": "",
           "type": "choropleth",
           "z": [
            0.6249,
            0.36345,
            -0.8268,
            0.24245,
            0.47476,
            0.39716666666666667,
            0.13716311475409834,
            0.7783,
            -0.059250000000000025,
            0.1554875,
            0.46713333333333334,
            0,
            0.25277999999999995,
            0.3286833333333333,
            -0.03892857142857142
           ]
          }
         ],
         "name": "2021-05-18"
        },
        {
         "data": [
          {
           "coloraxis": "coloraxis",
           "geo": "geo",
           "hovertemplate": "created_at=2021-05-19<br>user_location=%{location}<br>sentiment_compound=%{z}<extra></extra>",
           "locationmode": "country names",
           "locations": [
            "Argentina",
            "Australia",
            "Belgium",
            "Canada",
            "France",
            "Germany",
            "India",
            "Italy",
            "Japan",
            "Mexico",
            "Pakistan",
            "Qatar",
            "Russian Federation",
            "Ukraine",
            "United Kingdom",
            "United States"
           ],
           "name": "",
           "type": "choropleth",
           "z": [
            0.60805,
            -0.20947500000000002,
            -0.11750000000000002,
            0.12334333333333337,
            0.45269999999999994,
            0.1101,
            0.13303488372093034,
            0.6448333333333334,
            0.28076666666666666,
            0,
            0.6153500000000001,
            0.3612,
            0.5096333333333334,
            0,
            0.13826666666666668,
            0.188432
           ]
          }
         ],
         "name": "2021-05-19"
        },
        {
         "data": [
          {
           "coloraxis": "coloraxis",
           "geo": "geo",
           "hovertemplate": "created_at=2021-05-20<br>user_location=%{location}<br>sentiment_compound=%{z}<extra></extra>",
           "locationmode": "country names",
           "locations": [
            "Australia",
            "Austria",
            "Belgium",
            "Canada",
            "France",
            "Germany",
            "India",
            "Japan",
            "Mexico",
            "Pakistan",
            "Philippines",
            "Russian Federation",
            "Thailand",
            "Ukraine",
            "United Kingdom",
            "United States"
           ],
           "name": "",
           "type": "choropleth",
           "z": [
            -0.018185714285714298,
            0.8859999999999999,
            0,
            0.007447999999999993,
            0.5994,
            -0.4767,
            0.1741261802575106,
            0,
            0.7579,
            0.12316,
            0,
            -0.08634,
            0,
            0.2621,
            0.1659,
            -0.05678000000000002
           ]
          }
         ],
         "name": "2021-05-20"
        },
        {
         "data": [
          {
           "coloraxis": "coloraxis",
           "geo": "geo",
           "hovertemplate": "created_at=2021-05-21<br>user_location=%{location}<br>sentiment_compound=%{z}<extra></extra>",
           "locationmode": "country names",
           "locations": [
            "Australia",
            "Canada",
            "India",
            "Pakistan",
            "Philippines",
            "Singapore",
            "United States"
           ],
           "name": "",
           "type": "choropleth",
           "z": [
            0.4157666666666667,
            0.039599999999999996,
            0.11627968749999995,
            0.10115,
            -0.5719,
            0,
            0.12200000000000001
           ]
          }
         ],
         "name": "2021-05-21"
        },
        {
         "data": [
          {
           "coloraxis": "coloraxis",
           "geo": "geo",
           "hovertemplate": "created_at=2021-05-22<br>user_location=%{location}<br>sentiment_compound=%{z}<extra></extra>",
           "locationmode": "country names",
           "locations": [
            "Australia",
            "Canada",
            "Germany",
            "India",
            "Pakistan",
            "Philippines",
            "Russian Federation",
            "Ukraine",
            "United Kingdom",
            "United States"
           ],
           "name": "",
           "type": "choropleth",
           "z": [
            -0.17023333333333332,
            0.20627272727272725,
            0.365,
            0.17035535714285707,
            0.26160625,
            0.49905,
            -0.025066666666666664,
            0.8126,
            0.5828,
            0.29702
           ]
          }
         ],
         "name": "2021-05-22"
        },
        {
         "data": [
          {
           "coloraxis": "coloraxis",
           "geo": "geo",
           "hovertemplate": "created_at=2021-05-23<br>user_location=%{location}<br>sentiment_compound=%{z}<extra></extra>",
           "locationmode": "country names",
           "locations": [
            "Australia",
            "Belgium",
            "Canada",
            "France",
            "Germany",
            "India",
            "Pakistan",
            "Russian Federation",
            "Ukraine",
            "United Kingdom",
            "United States"
           ],
           "name": "",
           "type": "choropleth",
           "z": [
            0.2396666666666667,
            -0.3991,
            0.07575454545454544,
            0.3171285714285714,
            0.2773,
            0.06917948717948717,
            0.3094122641509435,
            -0.0258,
            0.31893333333333335,
            0.07224000000000001,
            0.4949923076923077
           ]
          }
         ],
         "name": "2021-05-23"
        },
        {
         "data": [
          {
           "coloraxis": "coloraxis",
           "geo": "geo",
           "hovertemplate": "created_at=2021-05-24<br>user_location=%{location}<br>sentiment_compound=%{z}<extra></extra>",
           "locationmode": "country names",
           "locations": [
            "Argentina",
            "Belgium",
            "Canada",
            "France",
            "Germany",
            "India",
            "Japan",
            "Mexico",
            "Pakistan",
            "Russian Federation",
            "Spain",
            "Ukraine",
            "United Kingdom",
            "United States"
           ],
           "name": "",
           "type": "choropleth",
           "z": [
            0,
            0.3825,
            0.14766249999999997,
            0.62535,
            -0.21391666666666667,
            0.060776328502415405,
            0,
            0,
            0.16449999999999998,
            0.24346666666666664,
            0,
            0.3062,
            0.49525,
            0.3374652173913043
           ]
          }
         ],
         "name": "2021-05-24"
        },
        {
         "data": [
          {
           "coloraxis": "coloraxis",
           "geo": "geo",
           "hovertemplate": "created_at=2021-05-25<br>user_location=%{location}<br>sentiment_compound=%{z}<extra></extra>",
           "locationmode": "country names",
           "locations": [
            "Austria",
            "Canada",
            "France",
            "Germany",
            "India",
            "Italy",
            "Japan",
            "Pakistan",
            "Palestinian Territory",
            "Philippines",
            "Russian Federation",
            "Spain",
            "United Kingdom",
            "United States"
           ],
           "name": "",
           "type": "choropleth",
           "z": [
            0.6018,
            0.08418783783783801,
            0.3787,
            0.5108,
            0.17972202797202794,
            0,
            0.23723333333333332,
            0.21352903225806455,
            0.4939,
            0.4404,
            0,
            0.3466666666666667,
            0.2358125,
            0.17493999999999998
           ]
          }
         ],
         "name": "2021-05-25"
        },
        {
         "data": [
          {
           "coloraxis": "coloraxis",
           "geo": "geo",
           "hovertemplate": "created_at=2021-05-26<br>user_location=%{location}<br>sentiment_compound=%{z}<extra></extra>",
           "locationmode": "country names",
           "locations": [
            "Argentina",
            "Australia",
            "Canada",
            "France",
            "Germany",
            "India",
            "Italy",
            "Mexico",
            "Pakistan",
            "Palestinian Territory",
            "Philippines",
            "Russian Federation",
            "Spain",
            "Thailand",
            "Ukraine",
            "United Kingdom",
            "United States"
           ],
           "name": "",
           "type": "choropleth",
           "z": [
            0.5256,
            0.2732,
            0.015983333333333325,
            0.06653333333333332,
            0.29391666666666666,
            0.1259341013824885,
            0,
            0.3612,
            0.24310500000000004,
            0,
            0.9643,
            0.04676666666666666,
            0,
            0,
            0.11315,
            0.02034999999999999,
            0.11030588235294114
           ]
          }
         ],
         "name": "2021-05-26"
        },
        {
         "data": [
          {
           "coloraxis": "coloraxis",
           "geo": "geo",
           "hovertemplate": "created_at=2021-05-27<br>user_location=%{location}<br>sentiment_compound=%{z}<extra></extra>",
           "locationmode": "country names",
           "locations": [
            "Australia",
            "Belgium",
            "Canada",
            "France",
            "Germany",
            "India",
            "Japan",
            "Pakistan",
            "Russian Federation",
            "Spain",
            "Ukraine",
            "United Kingdom",
            "United States"
           ],
           "name": "",
           "type": "choropleth",
           "z": [
            0.07945,
            0.3182,
            0.03723888888888869,
            0.19501428571428572,
            0.09505,
            0.15371308411214954,
            0.8302,
            0.32354,
            0.17514,
            0.3415,
            0.4491666666666667,
            0.2696875,
            0.09144999999999999
           ]
          }
         ],
         "name": "2021-05-27"
        },
        {
         "data": [
          {
           "coloraxis": "coloraxis",
           "geo": "geo",
           "hovertemplate": "created_at=2021-05-28<br>user_location=%{location}<br>sentiment_compound=%{z}<extra></extra>",
           "locationmode": "country names",
           "locations": [
            "Argentina",
            "Australia",
            "Austria",
            "Belgium",
            "Canada",
            "France",
            "Germany",
            "India",
            "Japan",
            "Mexico",
            "Pakistan",
            "Qatar",
            "Russian Federation",
            "Ukraine",
            "United Kingdom",
            "United States"
           ],
           "name": "",
           "type": "choropleth",
           "z": [
            0.4404,
            0.41125,
            -0.29295,
            0.4404,
            -0.09066399999999994,
            0.12726666666666667,
            0.1343,
            0.16934300699300642,
            -0.1779,
            0,
            0.10715000000000001,
            0.128,
            0.07164999999999998,
            0,
            0.037049999999999986,
            0.24043846153846155
           ]
          }
         ],
         "name": "2021-05-28"
        },
        {
         "data": [
          {
           "coloraxis": "coloraxis",
           "geo": "geo",
           "hovertemplate": "created_at=2021-05-29<br>user_location=%{location}<br>sentiment_compound=%{z}<extra></extra>",
           "locationmode": "country names",
           "locations": [
            "Argentina",
            "Australia",
            "Canada",
            "France",
            "Germany",
            "India",
            "Japan",
            "Pakistan",
            "Russian Federation",
            "Singapore",
            "Ukraine",
            "United Kingdom",
            "United States"
           ],
           "name": "",
           "type": "choropleth",
           "z": [
            0.2023,
            -0.5106,
            -0.19775294117647058,
            0.4553375,
            -0.4118,
            0.17076563706563683,
            -0.1045,
            0.23265769230769234,
            -0.23505,
            0,
            0.48607500000000003,
            0.36035,
            0.0819277777777778
           ]
          }
         ],
         "name": "2021-05-29"
        },
        {
         "data": [
          {
           "coloraxis": "coloraxis",
           "geo": "geo",
           "hovertemplate": "created_at=2021-05-30<br>user_location=%{location}<br>sentiment_compound=%{z}<extra></extra>",
           "locationmode": "country names",
           "locations": [
            "Argentina",
            "Australia",
            "Canada",
            "Croatia",
            "France",
            "Germany",
            "India",
            "Japan",
            "Mexico",
            "Pakistan",
            "Russian Federation",
            "Ukraine",
            "United Kingdom",
            "United States"
           ],
           "name": "",
           "type": "choropleth",
           "z": [
            0,
            -0.0772,
            -0.2776388888888889,
            0,
            0.48646666666666666,
            0.22477999999999998,
            0.1578173913043479,
            0.032460000000000024,
            0.8291,
            0.2041666666666667,
            0.2279,
            0.46775,
            0.058975,
            0.12754
           ]
          }
         ],
         "name": "2021-05-30"
        },
        {
         "data": [
          {
           "coloraxis": "coloraxis",
           "geo": "geo",
           "hovertemplate": "created_at=2021-05-31<br>user_location=%{location}<br>sentiment_compound=%{z}<extra></extra>",
           "locationmode": "country names",
           "locations": [
            "Australia",
            "Canada",
            "France",
            "Germany",
            "India",
            "Japan",
            "Mexico",
            "Pakistan",
            "Philippines",
            "Russian Federation",
            "United Arab Emirates",
            "United Kingdom",
            "United States"
           ],
           "name": "",
           "type": "choropleth",
           "z": [
            0.20535,
            -0.04697727272727273,
            0.43220000000000003,
            0.25276,
            0.14293898305084746,
            0,
            0,
            0.23840999999999987,
            0.3612,
            0.9217,
            0.4215,
            0.2818714285714286,
            0.06580000000000003
           ]
          }
         ],
         "name": "2021-05-31"
        },
        {
         "data": [
          {
           "coloraxis": "coloraxis",
           "geo": "geo",
           "hovertemplate": "created_at=2021-06-01<br>user_location=%{location}<br>sentiment_compound=%{z}<extra></extra>",
           "locationmode": "country names",
           "locations": [
            "Australia",
            "Austria",
            "Belgium",
            "Brazil",
            "Canada",
            "France",
            "Germany",
            "India",
            "Japan",
            "Pakistan",
            "Russian Federation",
            "Spain",
            "Ukraine",
            "United Kingdom",
            "United States"
           ],
           "name": "",
           "type": "choropleth",
           "z": [
            0.3182,
            0.4019,
            0.0258,
            0.0516,
            0.2656769230769231,
            0.4346,
            0.3292833333333333,
            0.19791597938144315,
            0.34,
            0.2839694444444444,
            0.034333333333333334,
            0.3612,
            0,
            0.00046000000000000484,
            0.17921428571428571
           ]
          }
         ],
         "name": "2021-06-01"
        },
        {
         "data": [
          {
           "coloraxis": "coloraxis",
           "geo": "geo",
           "hovertemplate": "created_at=2021-06-02<br>user_location=%{location}<br>sentiment_compound=%{z}<extra></extra>",
           "locationmode": "country names",
           "locations": [
            "Australia",
            "Austria",
            "Brazil",
            "Canada",
            "France",
            "Germany",
            "India",
            "Italy",
            "Pakistan",
            "Philippines",
            "United Kingdom",
            "United States"
           ],
           "name": "",
           "type": "choropleth",
           "z": [
            0.549725,
            0.4404,
            0.1531,
            0.047075,
            0.17556666666666665,
            -0.128,
            0.18876212121212124,
            0.1651,
            0.16932962962962964,
            0.3612,
            0.447575,
            -0.12804375
           ]
          }
         ],
         "name": "2021-06-02"
        },
        {
         "data": [
          {
           "coloraxis": "coloraxis",
           "geo": "geo",
           "hovertemplate": "created_at=2021-06-03<br>user_location=%{location}<br>sentiment_compound=%{z}<extra></extra>",
           "locationmode": "country names",
           "locations": [
            "Australia",
            "Belgium",
            "Canada",
            "France",
            "Germany",
            "India",
            "Japan",
            "Mexico",
            "Pakistan",
            "Switzerland",
            "United Kingdom",
            "United States"
           ],
           "name": "",
           "type": "choropleth",
           "z": [
            0.6597,
            0.7269,
            -0.14035714285714287,
            0.0129,
            0.24953333333333336,
            0.12113636363636368,
            0.01639999999999997,
            0,
            0.20005357142857144,
            0.128,
            0.15240000000000004,
            0.014416666666666652
           ]
          }
         ],
         "name": "2021-06-03"
        },
        {
         "data": [
          {
           "coloraxis": "coloraxis",
           "geo": "geo",
           "hovertemplate": "created_at=2021-06-04<br>user_location=%{location}<br>sentiment_compound=%{z}<extra></extra>",
           "locationmode": "country names",
           "locations": [
            "Argentina",
            "Canada",
            "France",
            "Germany",
            "India",
            "Italy",
            "Mexico",
            "Pakistan",
            "Philippines",
            "Russian Federation",
            "Ukraine",
            "United Kingdom",
            "United States"
           ],
           "name": "",
           "type": "choropleth",
           "z": [
            0,
            0.053388235294117646,
            0.555,
            0.8883,
            0.24066666666666675,
            0,
            0,
            0.46789090909090914,
            0.6786,
            0,
            0.2732,
            -0.23932000000000003,
            0.0930727272727273
           ]
          }
         ],
         "name": "2021-06-04"
        },
        {
         "data": [
          {
           "coloraxis": "coloraxis",
           "geo": "geo",
           "hovertemplate": "created_at=2021-06-05<br>user_location=%{location}<br>sentiment_compound=%{z}<extra></extra>",
           "locationmode": "country names",
           "locations": [
            "Argentina",
            "Australia",
            "Belgium",
            "Canada",
            "Germany",
            "India",
            "Pakistan",
            "Russian Federation",
            "Spain",
            "Ukraine",
            "United Kingdom",
            "United States"
           ],
           "name": "",
           "type": "choropleth",
           "z": [
            0.4019,
            -0.22440000000000002,
            -0.7579,
            -0.025019230769230794,
            -0.06233333333333332,
            0.19074516129032254,
            0.18343846153846155,
            0.08536666666666666,
            -0.128,
            0.0258,
            -0.04403999999999999,
            0.33060000000000006
           ]
          }
         ],
         "name": "2021-06-05"
        },
        {
         "data": [
          {
           "coloraxis": "coloraxis",
           "geo": "geo",
           "hovertemplate": "created_at=2021-06-06<br>user_location=%{location}<br>sentiment_compound=%{z}<extra></extra>",
           "locationmode": "country names",
           "locations": [
            "Argentina",
            "Australia",
            "Belgium",
            "Canada",
            "France",
            "India",
            "Italy",
            "Pakistan",
            "Russian Federation",
            "Singapore",
            "Ukraine",
            "United Kingdom",
            "United States"
           ],
           "name": "",
           "type": "choropleth",
           "z": [
            0,
            0,
            0.836,
            -0.16058750000000002,
            -0.1298,
            0.13906181818181815,
            0,
            0.24666538461538468,
            0.31845,
            0.8176,
            0,
            0.21022500000000002,
            0.09064444444444442
           ]
          }
         ],
         "name": "2021-06-06"
        },
        {
         "data": [
          {
           "coloraxis": "coloraxis",
           "geo": "geo",
           "hovertemplate": "created_at=2021-06-07<br>user_location=%{location}<br>sentiment_compound=%{z}<extra></extra>",
           "locationmode": "country names",
           "locations": [
            "Australia",
            "Austria",
            "Belgium",
            "Canada",
            "France",
            "Germany",
            "India",
            "Italy",
            "Japan",
            "Mexico",
            "Pakistan",
            "Palestinian Territory",
            "Russian Federation",
            "Spain",
            "Ukraine",
            "United Kingdom",
            "United States"
           ],
           "name": "",
           "type": "choropleth",
           "z": [
            0,
            0.03689999999999999,
            0.3592,
            0.1276413793103448,
            -0.7224999999999999,
            0.2612666666666667,
            0.16435721393034813,
            0.8658,
            0.1809,
            0,
            0.17709565217391304,
            0,
            0.13688333333333333,
            0.1531,
            0.21075,
            0.09793333333333333,
            0.2028875
           ]
          }
         ],
         "name": "2021-06-07"
        },
        {
         "data": [
          {
           "coloraxis": "coloraxis",
           "geo": "geo",
           "hovertemplate": "created_at=2021-06-08<br>user_location=%{location}<br>sentiment_compound=%{z}<extra></extra>",
           "locationmode": "country names",
           "locations": [
            "Australia",
            "Austria",
            "Belgium",
            "Brazil",
            "Canada",
            "France",
            "Germany",
            "India",
            "Italy",
            "Japan",
            "Malaysia",
            "Pakistan",
            "Palestinian Territory",
            "Philippines",
            "Russian Federation",
            "Thailand",
            "Ukraine",
            "United Kingdom",
            "United States"
           ],
           "name": "",
           "type": "choropleth",
           "z": [
            0.24503333333333335,
            0.5760000000000001,
            0.1841,
            0.3182,
            -0.3236969696969696,
            -0.024825,
            0.17105714285714282,
            0.14990492700729918,
            0.7579,
            0.4215,
            0.3612,
            0.2540066666666667,
            0,
            0.36846,
            0.37343333333333334,
            0,
            0.1806,
            -0.0710625,
            0.019634736842105264
           ]
          }
         ],
         "name": "2021-06-08"
        },
        {
         "data": [
          {
           "coloraxis": "coloraxis",
           "geo": "geo",
           "hovertemplate": "created_at=2021-06-09<br>user_location=%{location}<br>sentiment_compound=%{z}<extra></extra>",
           "locationmode": "country names",
           "locations": [
            "Canada",
            "France",
            "Germany",
            "India",
            "Japan",
            "Mexico",
            "Pakistan",
            "Philippines",
            "Russian Federation",
            "United Kingdom",
            "United States"
           ],
           "name": "",
           "type": "choropleth",
           "z": [
            0.2517117647058824,
            0.39780000000000004,
            -0.1779,
            0.19494232558139518,
            -0.017183333333333346,
            0.5106,
            0.15241538461538465,
            0.2787,
            0.12483333333333334,
            0.31353333333333333,
            0.24168333333333336
           ]
          }
         ],
         "name": "2021-06-09"
        },
        {
         "data": [
          {
           "coloraxis": "coloraxis",
           "geo": "geo",
           "hovertemplate": "created_at=2021-06-10<br>user_location=%{location}<br>sentiment_compound=%{z}<extra></extra>",
           "locationmode": "country names",
           "locations": [
            "Argentina",
            "Australia",
            "Austria",
            "Canada",
            "France",
            "Germany",
            "India",
            "Italy",
            "Japan",
            "Pakistan",
            "Palestinian Territory",
            "Philippines",
            "Russian Federation",
            "Spain",
            "Thailand",
            "United Kingdom",
            "United States"
           ],
           "name": "",
           "type": "choropleth",
           "z": [
            -0.5608500000000001,
            -0.19236666666666666,
            -0.3182,
            -0.22155,
            0,
            -0.08868000000000001,
            0.22197932330827091,
            0.4019,
            -0.24695,
            0.14378,
            0,
            0.41562499999999997,
            0.34745,
            0,
            0,
            -0.021362499999999993,
            0.20850588235294112
           ]
          }
         ],
         "name": "2021-06-10"
        },
        {
         "data": [
          {
           "coloraxis": "coloraxis",
           "geo": "geo",
           "hovertemplate": "created_at=2021-06-11<br>user_location=%{location}<br>sentiment_compound=%{z}<extra></extra>",
           "locationmode": "country names",
           "locations": [
            "Argentina",
            "Australia",
            "Austria",
            "Belgium",
            "Brazil",
            "Canada",
            "France",
            "Germany",
            "India",
            "Italy",
            "Japan",
            "Mexico",
            "Pakistan",
            "Palestinian Territory",
            "Philippines",
            "Russian Federation",
            "Spain",
            "United Kingdom",
            "United States"
           ],
           "name": "",
           "type": "choropleth",
           "z": [
            0.44155,
            -0.36335,
            0.3612,
            0.23026666666666665,
            0.5859,
            -0.11393571428571425,
            0.31845,
            0.20368000000000003,
            0.1027674185463659,
            -0.4404,
            0.29600000000000004,
            0,
            -0.019580000000000007,
            0.29600000000000004,
            0.12040000000000001,
            0.38137777777777776,
            -0.1806,
            0.016688888888888864,
            -0.12433749999999999
           ]
          }
         ],
         "name": "2021-06-11"
        },
        {
         "data": [
          {
           "coloraxis": "coloraxis",
           "geo": "geo",
           "hovertemplate": "created_at=2021-06-12<br>user_location=%{location}<br>sentiment_compound=%{z}<extra></extra>",
           "locationmode": "country names",
           "locations": [
            "Australia",
            "Canada",
            "France",
            "Germany",
            "India",
            "Italy",
            "Pakistan",
            "Palestinian Territory",
            "Russian Federation",
            "United Kingdom",
            "United States"
           ],
           "name": "",
           "type": "choropleth",
           "z": [
            -0.12726666666666667,
            -0.20208888888888885,
            0,
            0.3454,
            0.18059813432835817,
            -0.1991,
            0.184135,
            -0.3182,
            0.3948666666666667,
            0,
            0.1800818181818182
           ]
          }
         ],
         "name": "2021-06-12"
        },
        {
         "data": [
          {
           "coloraxis": "coloraxis",
           "geo": "geo",
           "hovertemplate": "created_at=2021-06-13<br>user_location=%{location}<br>sentiment_compound=%{z}<extra></extra>",
           "locationmode": "country names",
           "locations": [
            "Austria",
            "Belgium",
            "Canada",
            "France",
            "Germany",
            "India",
            "Italy",
            "Japan",
            "Pakistan",
            "Russian Federation",
            "Spain",
            "United Kingdom",
            "United States"
           ],
           "name": "",
           "type": "choropleth",
           "z": [
            0,
            0,
            -0.09814166666666667,
            0.7402,
            0,
            0.15580250000000007,
            0.8225,
            -0.08629999999999999,
            0.42179999999999995,
            0.27108,
            0.29600000000000004,
            0.24548333333333336,
            -0.030475000000000002
           ]
          }
         ],
         "name": "2021-06-13"
        },
        {
         "data": [
          {
           "coloraxis": "coloraxis",
           "geo": "geo",
           "hovertemplate": "created_at=2021-06-14<br>user_location=%{location}<br>sentiment_compound=%{z}<extra></extra>",
           "locationmode": "country names",
           "locations": [
            "Australia",
            "Belgium",
            "Canada",
            "France",
            "Germany",
            "India",
            "Pakistan",
            "Philippines",
            "Russian Federation",
            "United Kingdom",
            "United States"
           ],
           "name": "",
           "type": "choropleth",
           "z": [
            -0.020250000000000046,
            0.765,
            0.14830769230769236,
            0.47685,
            0.4868,
            0.06502203389830509,
            0.009616666666666671,
            0,
            0.33896666666666664,
            -0.07955,
            -0.08655454545454545
           ]
          }
         ],
         "name": "2021-06-14"
        },
        {
         "data": [
          {
           "coloraxis": "coloraxis",
           "geo": "geo",
           "hovertemplate": "created_at=2021-06-15<br>user_location=%{location}<br>sentiment_compound=%{z}<extra></extra>",
           "locationmode": "country names",
           "locations": [
            "Canada",
            "France",
            "Germany",
            "India",
            "Italy",
            "Japan",
            "Pakistan",
            "Palestinian Territory",
            "Philippines",
            "Russian Federation",
            "Spain",
            "Trinidad and Tobago",
            "United Kingdom",
            "United States"
           ],
           "name": "",
           "type": "choropleth",
           "z": [
            0.12755238095238092,
            0,
            0,
            0.21466764705882352,
            0.6013999999999999,
            0,
            0.23353749999999995,
            0.5423,
            0,
            0.48304,
            0.3818,
            0,
            0.5044833333333334,
            0.4242125
           ]
          }
         ],
         "name": "2021-06-15"
        },
        {
         "data": [
          {
           "coloraxis": "coloraxis",
           "geo": "geo",
           "hovertemplate": "created_at=2021-06-16<br>user_location=%{location}<br>sentiment_compound=%{z}<extra></extra>",
           "locationmode": "country names",
           "locations": [
            "Australia",
            "Belgium",
            "Canada",
            "France",
            "Germany",
            "Greece",
            "India",
            "Pakistan",
            "Palestinian Territory",
            "Philippines",
            "Russian Federation",
            "Thailand",
            "Ukraine",
            "United Kingdom",
            "United States"
           ],
           "name": "",
           "type": "choropleth",
           "z": [
            0.1495,
            0.06185,
            0.025494444444444424,
            0.26335,
            0.12040000000000001,
            0,
            0.03112615384615384,
            0.09683076923076922,
            0,
            0.93,
            0.05869999999999999,
            0,
            0.26335,
            0.5271800000000001,
            0.01407142857142856
           ]
          }
         ],
         "name": "2021-06-16"
        },
        {
         "data": [
          {
           "coloraxis": "coloraxis",
           "geo": "geo",
           "hovertemplate": "created_at=2021-06-17<br>user_location=%{location}<br>sentiment_compound=%{z}<extra></extra>",
           "locationmode": "country names",
           "locations": [
            "Argentina",
            "Australia",
            "Austria",
            "Belgium",
            "Brazil",
            "Canada",
            "France",
            "Germany",
            "India",
            "Japan",
            "Malaysia",
            "Mexico",
            "Pakistan",
            "Russian Federation",
            "Trinidad and Tobago",
            "United Kingdom",
            "United States"
           ],
           "name": "",
           "type": "choropleth",
           "z": [
            0,
            0.24834000000000006,
            0,
            0,
            0.4939,
            -0.042412499999999985,
            0.08499999999999999,
            0,
            0.11859595141700416,
            0.2294,
            0.3612,
            0,
            0.26571000000000006,
            0.17,
            0,
            0.03743333333333329,
            0.47086666666666704
           ]
          }
         ],
         "name": "2021-06-17"
        },
        {
         "data": [
          {
           "coloraxis": "coloraxis",
           "geo": "geo",
           "hovertemplate": "created_at=2021-06-18<br>user_location=%{location}<br>sentiment_compound=%{z}<extra></extra>",
           "locationmode": "country names",
           "locations": [
            "Australia",
            "Belgium",
            "Canada",
            "France",
            "Germany",
            "India",
            "Italy",
            "Japan",
            "Malaysia",
            "Pakistan",
            "Philippines",
            "Russian Federation",
            "Spain",
            "Sweden",
            "Thailand",
            "Trinidad and Tobago",
            "Ukraine",
            "United Kingdom",
            "United States"
           ],
           "name": "",
           "type": "choropleth",
           "z": [
            0.1365,
            0.0772,
            0.13323783783783785,
            -0.6486,
            -0.044616666666666666,
            0.12219717514124295,
            0.5859,
            -0.33525,
            0,
            0.38985000000000003,
            0,
            0.4767,
            0.27115,
            0,
            0,
            0.4215,
            -0.3182,
            0.18710000000000002,
            0.16296153846153844
           ]
          }
         ],
         "name": "2021-06-18"
        },
        {
         "data": [
          {
           "coloraxis": "coloraxis",
           "geo": "geo",
           "hovertemplate": "created_at=2021-06-19<br>user_location=%{location}<br>sentiment_compound=%{z}<extra></extra>",
           "locationmode": "country names",
           "locations": [
            "Australia",
            "Belgium",
            "Canada",
            "France",
            "India",
            "Malaysia",
            "Pakistan",
            "Philippines",
            "Russian Federation",
            "Spain",
            "United Kingdom",
            "United States"
           ],
           "name": "",
           "type": "choropleth",
           "z": [
            -0.3875,
            0.6124,
            0.05105937500000001,
            0,
            0.16901043478260883,
            -0.19375,
            -0.01022,
            0.3944666666666667,
            0.5267,
            -0.4404,
            0,
            0
           ]
          }
         ],
         "name": "2021-06-19"
        }
       ],
       "layout": {
        "coloraxis": {
         "cmax": 1,
         "cmin": -1,
         "colorbar": {
          "title": {
           "text": "sentiment_compound"
          }
         },
         "colorscale": [
          [
           0,
           "rgb(252, 222, 156)"
          ],
          [
           0.16666666666666666,
           "rgb(250, 164, 118)"
          ],
          [
           0.3333333333333333,
           "rgb(240, 116, 110)"
          ],
          [
           0.5,
           "rgb(227, 79, 111)"
          ],
          [
           0.6666666666666666,
           "rgb(220, 57, 119)"
          ],
          [
           0.8333333333333334,
           "rgb(185, 37, 122)"
          ],
          [
           1,
           "rgb(124, 29, 111)"
          ]
         ]
        },
        "geo": {
         "center": {},
         "domain": {
          "x": [
           0,
           1
          ],
          "y": [
           0,
           1
          ]
         },
         "scope": "world"
        },
        "height": 600,
        "legend": {
         "tracegroupgap": 0
        },
        "sliders": [
         {
          "active": 0,
          "currentvalue": {
           "prefix": "created_at="
          },
          "len": 0.9,
          "pad": {
           "b": 10,
           "t": 60
          },
          "steps": [
           {
            "args": [
             [
              "2020-12-12"
             ],
             {
              "frame": {
               "duration": 0,
               "redraw": true
              },
              "fromcurrent": true,
              "mode": "immediate",
              "transition": {
               "duration": 0,
               "easing": "linear"
              }
             }
            ],
            "label": "2020-12-12",
            "method": "animate"
           },
           {
            "args": [
             [
              "2020-12-13"
             ],
             {
              "frame": {
               "duration": 0,
               "redraw": true
              },
              "fromcurrent": true,
              "mode": "immediate",
              "transition": {
               "duration": 0,
               "easing": "linear"
              }
             }
            ],
            "label": "2020-12-13",
            "method": "animate"
           },
           {
            "args": [
             [
              "2020-12-14"
             ],
             {
              "frame": {
               "duration": 0,
               "redraw": true
              },
              "fromcurrent": true,
              "mode": "immediate",
              "transition": {
               "duration": 0,
               "easing": "linear"
              }
             }
            ],
            "label": "2020-12-14",
            "method": "animate"
           },
           {
            "args": [
             [
              "2020-12-15"
             ],
             {
              "frame": {
               "duration": 0,
               "redraw": true
              },
              "fromcurrent": true,
              "mode": "immediate",
              "transition": {
               "duration": 0,
               "easing": "linear"
              }
             }
            ],
            "label": "2020-12-15",
            "method": "animate"
           },
           {
            "args": [
             [
              "2020-12-16"
             ],
             {
              "frame": {
               "duration": 0,
               "redraw": true
              },
              "fromcurrent": true,
              "mode": "immediate",
              "transition": {
               "duration": 0,
               "easing": "linear"
              }
             }
            ],
            "label": "2020-12-16",
            "method": "animate"
           },
           {
            "args": [
             [
              "2020-12-17"
             ],
             {
              "frame": {
               "duration": 0,
               "redraw": true
              },
              "fromcurrent": true,
              "mode": "immediate",
              "transition": {
               "duration": 0,
               "easing": "linear"
              }
             }
            ],
            "label": "2020-12-17",
            "method": "animate"
           },
           {
            "args": [
             [
              "2020-12-18"
             ],
             {
              "frame": {
               "duration": 0,
               "redraw": true
              },
              "fromcurrent": true,
              "mode": "immediate",
              "transition": {
               "duration": 0,
               "easing": "linear"
              }
             }
            ],
            "label": "2020-12-18",
            "method": "animate"
           },
           {
            "args": [
             [
              "2020-12-19"
             ],
             {
              "frame": {
               "duration": 0,
               "redraw": true
              },
              "fromcurrent": true,
              "mode": "immediate",
              "transition": {
               "duration": 0,
               "easing": "linear"
              }
             }
            ],
            "label": "2020-12-19",
            "method": "animate"
           },
           {
            "args": [
             [
              "2020-12-20"
             ],
             {
              "frame": {
               "duration": 0,
               "redraw": true
              },
              "fromcurrent": true,
              "mode": "immediate",
              "transition": {
               "duration": 0,
               "easing": "linear"
              }
             }
            ],
            "label": "2020-12-20",
            "method": "animate"
           },
           {
            "args": [
             [
              "2020-12-21"
             ],
             {
              "frame": {
               "duration": 0,
               "redraw": true
              },
              "fromcurrent": true,
              "mode": "immediate",
              "transition": {
               "duration": 0,
               "easing": "linear"
              }
             }
            ],
            "label": "2020-12-21",
            "method": "animate"
           },
           {
            "args": [
             [
              "2020-12-22"
             ],
             {
              "frame": {
               "duration": 0,
               "redraw": true
              },
              "fromcurrent": true,
              "mode": "immediate",
              "transition": {
               "duration": 0,
               "easing": "linear"
              }
             }
            ],
            "label": "2020-12-22",
            "method": "animate"
           },
           {
            "args": [
             [
              "2020-12-23"
             ],
             {
              "frame": {
               "duration": 0,
               "redraw": true
              },
              "fromcurrent": true,
              "mode": "immediate",
              "transition": {
               "duration": 0,
               "easing": "linear"
              }
             }
            ],
            "label": "2020-12-23",
            "method": "animate"
           },
           {
            "args": [
             [
              "2020-12-24"
             ],
             {
              "frame": {
               "duration": 0,
               "redraw": true
              },
              "fromcurrent": true,
              "mode": "immediate",
              "transition": {
               "duration": 0,
               "easing": "linear"
              }
             }
            ],
            "label": "2020-12-24",
            "method": "animate"
           },
           {
            "args": [
             [
              "2020-12-25"
             ],
             {
              "frame": {
               "duration": 0,
               "redraw": true
              },
              "fromcurrent": true,
              "mode": "immediate",
              "transition": {
               "duration": 0,
               "easing": "linear"
              }
             }
            ],
            "label": "2020-12-25",
            "method": "animate"
           },
           {
            "args": [
             [
              "2020-12-26"
             ],
             {
              "frame": {
               "duration": 0,
               "redraw": true
              },
              "fromcurrent": true,
              "mode": "immediate",
              "transition": {
               "duration": 0,
               "easing": "linear"
              }
             }
            ],
            "label": "2020-12-26",
            "method": "animate"
           },
           {
            "args": [
             [
              "2020-12-27"
             ],
             {
              "frame": {
               "duration": 0,
               "redraw": true
              },
              "fromcurrent": true,
              "mode": "immediate",
              "transition": {
               "duration": 0,
               "easing": "linear"
              }
             }
            ],
            "label": "2020-12-27",
            "method": "animate"
           },
           {
            "args": [
             [
              "2020-12-28"
             ],
             {
              "frame": {
               "duration": 0,
               "redraw": true
              },
              "fromcurrent": true,
              "mode": "immediate",
              "transition": {
               "duration": 0,
               "easing": "linear"
              }
             }
            ],
            "label": "2020-12-28",
            "method": "animate"
           },
           {
            "args": [
             [
              "2020-12-29"
             ],
             {
              "frame": {
               "duration": 0,
               "redraw": true
              },
              "fromcurrent": true,
              "mode": "immediate",
              "transition": {
               "duration": 0,
               "easing": "linear"
              }
             }
            ],
            "label": "2020-12-29",
            "method": "animate"
           },
           {
            "args": [
             [
              "2020-12-30"
             ],
             {
              "frame": {
               "duration": 0,
               "redraw": true
              },
              "fromcurrent": true,
              "mode": "immediate",
              "transition": {
               "duration": 0,
               "easing": "linear"
              }
             }
            ],
            "label": "2020-12-30",
            "method": "animate"
           },
           {
            "args": [
             [
              "2020-12-31"
             ],
             {
              "frame": {
               "duration": 0,
               "redraw": true
              },
              "fromcurrent": true,
              "mode": "immediate",
              "transition": {
               "duration": 0,
               "easing": "linear"
              }
             }
            ],
            "label": "2020-12-31",
            "method": "animate"
           },
           {
            "args": [
             [
              "2021-01-01"
             ],
             {
              "frame": {
               "duration": 0,
               "redraw": true
              },
              "fromcurrent": true,
              "mode": "immediate",
              "transition": {
               "duration": 0,
               "easing": "linear"
              }
             }
            ],
            "label": "2021-01-01",
            "method": "animate"
           },
           {
            "args": [
             [
              "2021-01-02"
             ],
             {
              "frame": {
               "duration": 0,
               "redraw": true
              },
              "fromcurrent": true,
              "mode": "immediate",
              "transition": {
               "duration": 0,
               "easing": "linear"
              }
             }
            ],
            "label": "2021-01-02",
            "method": "animate"
           },
           {
            "args": [
             [
              "2021-01-03"
             ],
             {
              "frame": {
               "duration": 0,
               "redraw": true
              },
              "fromcurrent": true,
              "mode": "immediate",
              "transition": {
               "duration": 0,
               "easing": "linear"
              }
             }
            ],
            "label": "2021-01-03",
            "method": "animate"
           },
           {
            "args": [
             [
              "2021-01-04"
             ],
             {
              "frame": {
               "duration": 0,
               "redraw": true
              },
              "fromcurrent": true,
              "mode": "immediate",
              "transition": {
               "duration": 0,
               "easing": "linear"
              }
             }
            ],
            "label": "2021-01-04",
            "method": "animate"
           },
           {
            "args": [
             [
              "2021-01-05"
             ],
             {
              "frame": {
               "duration": 0,
               "redraw": true
              },
              "fromcurrent": true,
              "mode": "immediate",
              "transition": {
               "duration": 0,
               "easing": "linear"
              }
             }
            ],
            "label": "2021-01-05",
            "method": "animate"
           },
           {
            "args": [
             [
              "2021-01-06"
             ],
             {
              "frame": {
               "duration": 0,
               "redraw": true
              },
              "fromcurrent": true,
              "mode": "immediate",
              "transition": {
               "duration": 0,
               "easing": "linear"
              }
             }
            ],
            "label": "2021-01-06",
            "method": "animate"
           },
           {
            "args": [
             [
              "2021-01-07"
             ],
             {
              "frame": {
               "duration": 0,
               "redraw": true
              },
              "fromcurrent": true,
              "mode": "immediate",
              "transition": {
               "duration": 0,
               "easing": "linear"
              }
             }
            ],
            "label": "2021-01-07",
            "method": "animate"
           },
           {
            "args": [
             [
              "2021-01-08"
             ],
             {
              "frame": {
               "duration": 0,
               "redraw": true
              },
              "fromcurrent": true,
              "mode": "immediate",
              "transition": {
               "duration": 0,
               "easing": "linear"
              }
             }
            ],
            "label": "2021-01-08",
            "method": "animate"
           },
           {
            "args": [
             [
              "2021-01-09"
             ],
             {
              "frame": {
               "duration": 0,
               "redraw": true
              },
              "fromcurrent": true,
              "mode": "immediate",
              "transition": {
               "duration": 0,
               "easing": "linear"
              }
             }
            ],
            "label": "2021-01-09",
            "method": "animate"
           },
           {
            "args": [
             [
              "2021-01-10"
             ],
             {
              "frame": {
               "duration": 0,
               "redraw": true
              },
              "fromcurrent": true,
              "mode": "immediate",
              "transition": {
               "duration": 0,
               "easing": "linear"
              }
             }
            ],
            "label": "2021-01-10",
            "method": "animate"
           },
           {
            "args": [
             [
              "2021-01-11"
             ],
             {
              "frame": {
               "duration": 0,
               "redraw": true
              },
              "fromcurrent": true,
              "mode": "immediate",
              "transition": {
               "duration": 0,
               "easing": "linear"
              }
             }
            ],
            "label": "2021-01-11",
            "method": "animate"
           },
           {
            "args": [
             [
              "2021-01-12"
             ],
             {
              "frame": {
               "duration": 0,
               "redraw": true
              },
              "fromcurrent": true,
              "mode": "immediate",
              "transition": {
               "duration": 0,
               "easing": "linear"
              }
             }
            ],
            "label": "2021-01-12",
            "method": "animate"
           },
           {
            "args": [
             [
              "2021-01-13"
             ],
             {
              "frame": {
               "duration": 0,
               "redraw": true
              },
              "fromcurrent": true,
              "mode": "immediate",
              "transition": {
               "duration": 0,
               "easing": "linear"
              }
             }
            ],
            "label": "2021-01-13",
            "method": "animate"
           },
           {
            "args": [
             [
              "2021-01-14"
             ],
             {
              "frame": {
               "duration": 0,
               "redraw": true
              },
              "fromcurrent": true,
              "mode": "immediate",
              "transition": {
               "duration": 0,
               "easing": "linear"
              }
             }
            ],
            "label": "2021-01-14",
            "method": "animate"
           },
           {
            "args": [
             [
              "2021-01-15"
             ],
             {
              "frame": {
               "duration": 0,
               "redraw": true
              },
              "fromcurrent": true,
              "mode": "immediate",
              "transition": {
               "duration": 0,
               "easing": "linear"
              }
             }
            ],
            "label": "2021-01-15",
            "method": "animate"
           },
           {
            "args": [
             [
              "2021-01-16"
             ],
             {
              "frame": {
               "duration": 0,
               "redraw": true
              },
              "fromcurrent": true,
              "mode": "immediate",
              "transition": {
               "duration": 0,
               "easing": "linear"
              }
             }
            ],
            "label": "2021-01-16",
            "method": "animate"
           },
           {
            "args": [
             [
              "2021-01-17"
             ],
             {
              "frame": {
               "duration": 0,
               "redraw": true
              },
              "fromcurrent": true,
              "mode": "immediate",
              "transition": {
               "duration": 0,
               "easing": "linear"
              }
             }
            ],
            "label": "2021-01-17",
            "method": "animate"
           },
           {
            "args": [
             [
              "2021-01-18"
             ],
             {
              "frame": {
               "duration": 0,
               "redraw": true
              },
              "fromcurrent": true,
              "mode": "immediate",
              "transition": {
               "duration": 0,
               "easing": "linear"
              }
             }
            ],
            "label": "2021-01-18",
            "method": "animate"
           },
           {
            "args": [
             [
              "2021-01-19"
             ],
             {
              "frame": {
               "duration": 0,
               "redraw": true
              },
              "fromcurrent": true,
              "mode": "immediate",
              "transition": {
               "duration": 0,
               "easing": "linear"
              }
             }
            ],
            "label": "2021-01-19",
            "method": "animate"
           },
           {
            "args": [
             [
              "2021-01-20"
             ],
             {
              "frame": {
               "duration": 0,
               "redraw": true
              },
              "fromcurrent": true,
              "mode": "immediate",
              "transition": {
               "duration": 0,
               "easing": "linear"
              }
             }
            ],
            "label": "2021-01-20",
            "method": "animate"
           },
           {
            "args": [
             [
              "2021-01-21"
             ],
             {
              "frame": {
               "duration": 0,
               "redraw": true
              },
              "fromcurrent": true,
              "mode": "immediate",
              "transition": {
               "duration": 0,
               "easing": "linear"
              }
             }
            ],
            "label": "2021-01-21",
            "method": "animate"
           },
           {
            "args": [
             [
              "2021-01-22"
             ],
             {
              "frame": {
               "duration": 0,
               "redraw": true
              },
              "fromcurrent": true,
              "mode": "immediate",
              "transition": {
               "duration": 0,
               "easing": "linear"
              }
             }
            ],
            "label": "2021-01-22",
            "method": "animate"
           },
           {
            "args": [
             [
              "2021-01-23"
             ],
             {
              "frame": {
               "duration": 0,
               "redraw": true
              },
              "fromcurrent": true,
              "mode": "immediate",
              "transition": {
               "duration": 0,
               "easing": "linear"
              }
             }
            ],
            "label": "2021-01-23",
            "method": "animate"
           },
           {
            "args": [
             [
              "2021-01-24"
             ],
             {
              "frame": {
               "duration": 0,
               "redraw": true
              },
              "fromcurrent": true,
              "mode": "immediate",
              "transition": {
               "duration": 0,
               "easing": "linear"
              }
             }
            ],
            "label": "2021-01-24",
            "method": "animate"
           },
           {
            "args": [
             [
              "2021-01-25"
             ],
             {
              "frame": {
               "duration": 0,
               "redraw": true
              },
              "fromcurrent": true,
              "mode": "immediate",
              "transition": {
               "duration": 0,
               "easing": "linear"
              }
             }
            ],
            "label": "2021-01-25",
            "method": "animate"
           },
           {
            "args": [
             [
              "2021-01-26"
             ],
             {
              "frame": {
               "duration": 0,
               "redraw": true
              },
              "fromcurrent": true,
              "mode": "immediate",
              "transition": {
               "duration": 0,
               "easing": "linear"
              }
             }
            ],
            "label": "2021-01-26",
            "method": "animate"
           },
           {
            "args": [
             [
              "2021-01-27"
             ],
             {
              "frame": {
               "duration": 0,
               "redraw": true
              },
              "fromcurrent": true,
              "mode": "immediate",
              "transition": {
               "duration": 0,
               "easing": "linear"
              }
             }
            ],
            "label": "2021-01-27",
            "method": "animate"
           },
           {
            "args": [
             [
              "2021-01-28"
             ],
             {
              "frame": {
               "duration": 0,
               "redraw": true
              },
              "fromcurrent": true,
              "mode": "immediate",
              "transition": {
               "duration": 0,
               "easing": "linear"
              }
             }
            ],
            "label": "2021-01-28",
            "method": "animate"
           },
           {
            "args": [
             [
              "2021-01-29"
             ],
             {
              "frame": {
               "duration": 0,
               "redraw": true
              },
              "fromcurrent": true,
              "mode": "immediate",
              "transition": {
               "duration": 0,
               "easing": "linear"
              }
             }
            ],
            "label": "2021-01-29",
            "method": "animate"
           },
           {
            "args": [
             [
              "2021-01-30"
             ],
             {
              "frame": {
               "duration": 0,
               "redraw": true
              },
              "fromcurrent": true,
              "mode": "immediate",
              "transition": {
               "duration": 0,
               "easing": "linear"
              }
             }
            ],
            "label": "2021-01-30",
            "method": "animate"
           },
           {
            "args": [
             [
              "2021-01-31"
             ],
             {
              "frame": {
               "duration": 0,
               "redraw": true
              },
              "fromcurrent": true,
              "mode": "immediate",
              "transition": {
               "duration": 0,
               "easing": "linear"
              }
             }
            ],
            "label": "2021-01-31",
            "method": "animate"
           },
           {
            "args": [
             [
              "2021-02-01"
             ],
             {
              "frame": {
               "duration": 0,
               "redraw": true
              },
              "fromcurrent": true,
              "mode": "immediate",
              "transition": {
               "duration": 0,
               "easing": "linear"
              }
             }
            ],
            "label": "2021-02-01",
            "method": "animate"
           },
           {
            "args": [
             [
              "2021-02-02"
             ],
             {
              "frame": {
               "duration": 0,
               "redraw": true
              },
              "fromcurrent": true,
              "mode": "immediate",
              "transition": {
               "duration": 0,
               "easing": "linear"
              }
             }
            ],
            "label": "2021-02-02",
            "method": "animate"
           },
           {
            "args": [
             [
              "2021-02-03"
             ],
             {
              "frame": {
               "duration": 0,
               "redraw": true
              },
              "fromcurrent": true,
              "mode": "immediate",
              "transition": {
               "duration": 0,
               "easing": "linear"
              }
             }
            ],
            "label": "2021-02-03",
            "method": "animate"
           },
           {
            "args": [
             [
              "2021-02-04"
             ],
             {
              "frame": {
               "duration": 0,
               "redraw": true
              },
              "fromcurrent": true,
              "mode": "immediate",
              "transition": {
               "duration": 0,
               "easing": "linear"
              }
             }
            ],
            "label": "2021-02-04",
            "method": "animate"
           },
           {
            "args": [
             [
              "2021-02-05"
             ],
             {
              "frame": {
               "duration": 0,
               "redraw": true
              },
              "fromcurrent": true,
              "mode": "immediate",
              "transition": {
               "duration": 0,
               "easing": "linear"
              }
             }
            ],
            "label": "2021-02-05",
            "method": "animate"
           },
           {
            "args": [
             [
              "2021-02-06"
             ],
             {
              "frame": {
               "duration": 0,
               "redraw": true
              },
              "fromcurrent": true,
              "mode": "immediate",
              "transition": {
               "duration": 0,
               "easing": "linear"
              }
             }
            ],
            "label": "2021-02-06",
            "method": "animate"
           },
           {
            "args": [
             [
              "2021-02-07"
             ],
             {
              "frame": {
               "duration": 0,
               "redraw": true
              },
              "fromcurrent": true,
              "mode": "immediate",
              "transition": {
               "duration": 0,
               "easing": "linear"
              }
             }
            ],
            "label": "2021-02-07",
            "method": "animate"
           },
           {
            "args": [
             [
              "2021-02-08"
             ],
             {
              "frame": {
               "duration": 0,
               "redraw": true
              },
              "fromcurrent": true,
              "mode": "immediate",
              "transition": {
               "duration": 0,
               "easing": "linear"
              }
             }
            ],
            "label": "2021-02-08",
            "method": "animate"
           },
           {
            "args": [
             [
              "2021-02-09"
             ],
             {
              "frame": {
               "duration": 0,
               "redraw": true
              },
              "fromcurrent": true,
              "mode": "immediate",
              "transition": {
               "duration": 0,
               "easing": "linear"
              }
             }
            ],
            "label": "2021-02-09",
            "method": "animate"
           },
           {
            "args": [
             [
              "2021-02-10"
             ],
             {
              "frame": {
               "duration": 0,
               "redraw": true
              },
              "fromcurrent": true,
              "mode": "immediate",
              "transition": {
               "duration": 0,
               "easing": "linear"
              }
             }
            ],
            "label": "2021-02-10",
            "method": "animate"
           },
           {
            "args": [
             [
              "2021-02-11"
             ],
             {
              "frame": {
               "duration": 0,
               "redraw": true
              },
              "fromcurrent": true,
              "mode": "immediate",
              "transition": {
               "duration": 0,
               "easing": "linear"
              }
             }
            ],
            "label": "2021-02-11",
            "method": "animate"
           },
           {
            "args": [
             [
              "2021-02-12"
             ],
             {
              "frame": {
               "duration": 0,
               "redraw": true
              },
              "fromcurrent": true,
              "mode": "immediate",
              "transition": {
               "duration": 0,
               "easing": "linear"
              }
             }
            ],
            "label": "2021-02-12",
            "method": "animate"
           },
           {
            "args": [
             [
              "2021-02-13"
             ],
             {
              "frame": {
               "duration": 0,
               "redraw": true
              },
              "fromcurrent": true,
              "mode": "immediate",
              "transition": {
               "duration": 0,
               "easing": "linear"
              }
             }
            ],
            "label": "2021-02-13",
            "method": "animate"
           },
           {
            "args": [
             [
              "2021-02-14"
             ],
             {
              "frame": {
               "duration": 0,
               "redraw": true
              },
              "fromcurrent": true,
              "mode": "immediate",
              "transition": {
               "duration": 0,
               "easing": "linear"
              }
             }
            ],
            "label": "2021-02-14",
            "method": "animate"
           },
           {
            "args": [
             [
              "2021-02-15"
             ],
             {
              "frame": {
               "duration": 0,
               "redraw": true
              },
              "fromcurrent": true,
              "mode": "immediate",
              "transition": {
               "duration": 0,
               "easing": "linear"
              }
             }
            ],
            "label": "2021-02-15",
            "method": "animate"
           },
           {
            "args": [
             [
              "2021-02-16"
             ],
             {
              "frame": {
               "duration": 0,
               "redraw": true
              },
              "fromcurrent": true,
              "mode": "immediate",
              "transition": {
               "duration": 0,
               "easing": "linear"
              }
             }
            ],
            "label": "2021-02-16",
            "method": "animate"
           },
           {
            "args": [
             [
              "2021-02-17"
             ],
             {
              "frame": {
               "duration": 0,
               "redraw": true
              },
              "fromcurrent": true,
              "mode": "immediate",
              "transition": {
               "duration": 0,
               "easing": "linear"
              }
             }
            ],
            "label": "2021-02-17",
            "method": "animate"
           },
           {
            "args": [
             [
              "2021-02-18"
             ],
             {
              "frame": {
               "duration": 0,
               "redraw": true
              },
              "fromcurrent": true,
              "mode": "immediate",
              "transition": {
               "duration": 0,
               "easing": "linear"
              }
             }
            ],
            "label": "2021-02-18",
            "method": "animate"
           },
           {
            "args": [
             [
              "2021-02-19"
             ],
             {
              "frame": {
               "duration": 0,
               "redraw": true
              },
              "fromcurrent": true,
              "mode": "immediate",
              "transition": {
               "duration": 0,
               "easing": "linear"
              }
             }
            ],
            "label": "2021-02-19",
            "method": "animate"
           },
           {
            "args": [
             [
              "2021-02-20"
             ],
             {
              "frame": {
               "duration": 0,
               "redraw": true
              },
              "fromcurrent": true,
              "mode": "immediate",
              "transition": {
               "duration": 0,
               "easing": "linear"
              }
             }
            ],
            "label": "2021-02-20",
            "method": "animate"
           },
           {
            "args": [
             [
              "2021-02-21"
             ],
             {
              "frame": {
               "duration": 0,
               "redraw": true
              },
              "fromcurrent": true,
              "mode": "immediate",
              "transition": {
               "duration": 0,
               "easing": "linear"
              }
             }
            ],
            "label": "2021-02-21",
            "method": "animate"
           },
           {
            "args": [
             [
              "2021-02-22"
             ],
             {
              "frame": {
               "duration": 0,
               "redraw": true
              },
              "fromcurrent": true,
              "mode": "immediate",
              "transition": {
               "duration": 0,
               "easing": "linear"
              }
             }
            ],
            "label": "2021-02-22",
            "method": "animate"
           },
           {
            "args": [
             [
              "2021-02-23"
             ],
             {
              "frame": {
               "duration": 0,
               "redraw": true
              },
              "fromcurrent": true,
              "mode": "immediate",
              "transition": {
               "duration": 0,
               "easing": "linear"
              }
             }
            ],
            "label": "2021-02-23",
            "method": "animate"
           },
           {
            "args": [
             [
              "2021-02-24"
             ],
             {
              "frame": {
               "duration": 0,
               "redraw": true
              },
              "fromcurrent": true,
              "mode": "immediate",
              "transition": {
               "duration": 0,
               "easing": "linear"
              }
             }
            ],
            "label": "2021-02-24",
            "method": "animate"
           },
           {
            "args": [
             [
              "2021-02-25"
             ],
             {
              "frame": {
               "duration": 0,
               "redraw": true
              },
              "fromcurrent": true,
              "mode": "immediate",
              "transition": {
               "duration": 0,
               "easing": "linear"
              }
             }
            ],
            "label": "2021-02-25",
            "method": "animate"
           },
           {
            "args": [
             [
              "2021-02-26"
             ],
             {
              "frame": {
               "duration": 0,
               "redraw": true
              },
              "fromcurrent": true,
              "mode": "immediate",
              "transition": {
               "duration": 0,
               "easing": "linear"
              }
             }
            ],
            "label": "2021-02-26",
            "method": "animate"
           },
           {
            "args": [
             [
              "2021-02-27"
             ],
             {
              "frame": {
               "duration": 0,
               "redraw": true
              },
              "fromcurrent": true,
              "mode": "immediate",
              "transition": {
               "duration": 0,
               "easing": "linear"
              }
             }
            ],
            "label": "2021-02-27",
            "method": "animate"
           },
           {
            "args": [
             [
              "2021-02-28"
             ],
             {
              "frame": {
               "duration": 0,
               "redraw": true
              },
              "fromcurrent": true,
              "mode": "immediate",
              "transition": {
               "duration": 0,
               "easing": "linear"
              }
             }
            ],
            "label": "2021-02-28",
            "method": "animate"
           },
           {
            "args": [
             [
              "2021-03-01"
             ],
             {
              "frame": {
               "duration": 0,
               "redraw": true
              },
              "fromcurrent": true,
              "mode": "immediate",
              "transition": {
               "duration": 0,
               "easing": "linear"
              }
             }
            ],
            "label": "2021-03-01",
            "method": "animate"
           },
           {
            "args": [
             [
              "2021-03-02"
             ],
             {
              "frame": {
               "duration": 0,
               "redraw": true
              },
              "fromcurrent": true,
              "mode": "immediate",
              "transition": {
               "duration": 0,
               "easing": "linear"
              }
             }
            ],
            "label": "2021-03-02",
            "method": "animate"
           },
           {
            "args": [
             [
              "2021-03-03"
             ],
             {
              "frame": {
               "duration": 0,
               "redraw": true
              },
              "fromcurrent": true,
              "mode": "immediate",
              "transition": {
               "duration": 0,
               "easing": "linear"
              }
             }
            ],
            "label": "2021-03-03",
            "method": "animate"
           },
           {
            "args": [
             [
              "2021-03-04"
             ],
             {
              "frame": {
               "duration": 0,
               "redraw": true
              },
              "fromcurrent": true,
              "mode": "immediate",
              "transition": {
               "duration": 0,
               "easing": "linear"
              }
             }
            ],
            "label": "2021-03-04",
            "method": "animate"
           },
           {
            "args": [
             [
              "2021-03-05"
             ],
             {
              "frame": {
               "duration": 0,
               "redraw": true
              },
              "fromcurrent": true,
              "mode": "immediate",
              "transition": {
               "duration": 0,
               "easing": "linear"
              }
             }
            ],
            "label": "2021-03-05",
            "method": "animate"
           },
           {
            "args": [
             [
              "2021-03-06"
             ],
             {
              "frame": {
               "duration": 0,
               "redraw": true
              },
              "fromcurrent": true,
              "mode": "immediate",
              "transition": {
               "duration": 0,
               "easing": "linear"
              }
             }
            ],
            "label": "2021-03-06",
            "method": "animate"
           },
           {
            "args": [
             [
              "2021-03-07"
             ],
             {
              "frame": {
               "duration": 0,
               "redraw": true
              },
              "fromcurrent": true,
              "mode": "immediate",
              "transition": {
               "duration": 0,
               "easing": "linear"
              }
             }
            ],
            "label": "2021-03-07",
            "method": "animate"
           },
           {
            "args": [
             [
              "2021-03-08"
             ],
             {
              "frame": {
               "duration": 0,
               "redraw": true
              },
              "fromcurrent": true,
              "mode": "immediate",
              "transition": {
               "duration": 0,
               "easing": "linear"
              }
             }
            ],
            "label": "2021-03-08",
            "method": "animate"
           },
           {
            "args": [
             [
              "2021-03-09"
             ],
             {
              "frame": {
               "duration": 0,
               "redraw": true
              },
              "fromcurrent": true,
              "mode": "immediate",
              "transition": {
               "duration": 0,
               "easing": "linear"
              }
             }
            ],
            "label": "2021-03-09",
            "method": "animate"
           },
           {
            "args": [
             [
              "2021-03-10"
             ],
             {
              "frame": {
               "duration": 0,
               "redraw": true
              },
              "fromcurrent": true,
              "mode": "immediate",
              "transition": {
               "duration": 0,
               "easing": "linear"
              }
             }
            ],
            "label": "2021-03-10",
            "method": "animate"
           },
           {
            "args": [
             [
              "2021-03-11"
             ],
             {
              "frame": {
               "duration": 0,
               "redraw": true
              },
              "fromcurrent": true,
              "mode": "immediate",
              "transition": {
               "duration": 0,
               "easing": "linear"
              }
             }
            ],
            "label": "2021-03-11",
            "method": "animate"
           },
           {
            "args": [
             [
              "2021-03-12"
             ],
             {
              "frame": {
               "duration": 0,
               "redraw": true
              },
              "fromcurrent": true,
              "mode": "immediate",
              "transition": {
               "duration": 0,
               "easing": "linear"
              }
             }
            ],
            "label": "2021-03-12",
            "method": "animate"
           },
           {
            "args": [
             [
              "2021-03-13"
             ],
             {
              "frame": {
               "duration": 0,
               "redraw": true
              },
              "fromcurrent": true,
              "mode": "immediate",
              "transition": {
               "duration": 0,
               "easing": "linear"
              }
             }
            ],
            "label": "2021-03-13",
            "method": "animate"
           },
           {
            "args": [
             [
              "2021-03-14"
             ],
             {
              "frame": {
               "duration": 0,
               "redraw": true
              },
              "fromcurrent": true,
              "mode": "immediate",
              "transition": {
               "duration": 0,
               "easing": "linear"
              }
             }
            ],
            "label": "2021-03-14",
            "method": "animate"
           },
           {
            "args": [
             [
              "2021-03-15"
             ],
             {
              "frame": {
               "duration": 0,
               "redraw": true
              },
              "fromcurrent": true,
              "mode": "immediate",
              "transition": {
               "duration": 0,
               "easing": "linear"
              }
             }
            ],
            "label": "2021-03-15",
            "method": "animate"
           },
           {
            "args": [
             [
              "2021-03-16"
             ],
             {
              "frame": {
               "duration": 0,
               "redraw": true
              },
              "fromcurrent": true,
              "mode": "immediate",
              "transition": {
               "duration": 0,
               "easing": "linear"
              }
             }
            ],
            "label": "2021-03-16",
            "method": "animate"
           },
           {
            "args": [
             [
              "2021-03-17"
             ],
             {
              "frame": {
               "duration": 0,
               "redraw": true
              },
              "fromcurrent": true,
              "mode": "immediate",
              "transition": {
               "duration": 0,
               "easing": "linear"
              }
             }
            ],
            "label": "2021-03-17",
            "method": "animate"
           },
           {
            "args": [
             [
              "2021-03-18"
             ],
             {
              "frame": {
               "duration": 0,
               "redraw": true
              },
              "fromcurrent": true,
              "mode": "immediate",
              "transition": {
               "duration": 0,
               "easing": "linear"
              }
             }
            ],
            "label": "2021-03-18",
            "method": "animate"
           },
           {
            "args": [
             [
              "2021-03-19"
             ],
             {
              "frame": {
               "duration": 0,
               "redraw": true
              },
              "fromcurrent": true,
              "mode": "immediate",
              "transition": {
               "duration": 0,
               "easing": "linear"
              }
             }
            ],
            "label": "2021-03-19",
            "method": "animate"
           },
           {
            "args": [
             [
              "2021-03-20"
             ],
             {
              "frame": {
               "duration": 0,
               "redraw": true
              },
              "fromcurrent": true,
              "mode": "immediate",
              "transition": {
               "duration": 0,
               "easing": "linear"
              }
             }
            ],
            "label": "2021-03-20",
            "method": "animate"
           },
           {
            "args": [
             [
              "2021-03-21"
             ],
             {
              "frame": {
               "duration": 0,
               "redraw": true
              },
              "fromcurrent": true,
              "mode": "immediate",
              "transition": {
               "duration": 0,
               "easing": "linear"
              }
             }
            ],
            "label": "2021-03-21",
            "method": "animate"
           },
           {
            "args": [
             [
              "2021-03-22"
             ],
             {
              "frame": {
               "duration": 0,
               "redraw": true
              },
              "fromcurrent": true,
              "mode": "immediate",
              "transition": {
               "duration": 0,
               "easing": "linear"
              }
             }
            ],
            "label": "2021-03-22",
            "method": "animate"
           },
           {
            "args": [
             [
              "2021-03-23"
             ],
             {
              "frame": {
               "duration": 0,
               "redraw": true
              },
              "fromcurrent": true,
              "mode": "immediate",
              "transition": {
               "duration": 0,
               "easing": "linear"
              }
             }
            ],
            "label": "2021-03-23",
            "method": "animate"
           },
           {
            "args": [
             [
              "2021-03-24"
             ],
             {
              "frame": {
               "duration": 0,
               "redraw": true
              },
              "fromcurrent": true,
              "mode": "immediate",
              "transition": {
               "duration": 0,
               "easing": "linear"
              }
             }
            ],
            "label": "2021-03-24",
            "method": "animate"
           },
           {
            "args": [
             [
              "2021-03-25"
             ],
             {
              "frame": {
               "duration": 0,
               "redraw": true
              },
              "fromcurrent": true,
              "mode": "immediate",
              "transition": {
               "duration": 0,
               "easing": "linear"
              }
             }
            ],
            "label": "2021-03-25",
            "method": "animate"
           },
           {
            "args": [
             [
              "2021-03-26"
             ],
             {
              "frame": {
               "duration": 0,
               "redraw": true
              },
              "fromcurrent": true,
              "mode": "immediate",
              "transition": {
               "duration": 0,
               "easing": "linear"
              }
             }
            ],
            "label": "2021-03-26",
            "method": "animate"
           },
           {
            "args": [
             [
              "2021-03-27"
             ],
             {
              "frame": {
               "duration": 0,
               "redraw": true
              },
              "fromcurrent": true,
              "mode": "immediate",
              "transition": {
               "duration": 0,
               "easing": "linear"
              }
             }
            ],
            "label": "2021-03-27",
            "method": "animate"
           },
           {
            "args": [
             [
              "2021-03-28"
             ],
             {
              "frame": {
               "duration": 0,
               "redraw": true
              },
              "fromcurrent": true,
              "mode": "immediate",
              "transition": {
               "duration": 0,
               "easing": "linear"
              }
             }
            ],
            "label": "2021-03-28",
            "method": "animate"
           },
           {
            "args": [
             [
              "2021-03-29"
             ],
             {
              "frame": {
               "duration": 0,
               "redraw": true
              },
              "fromcurrent": true,
              "mode": "immediate",
              "transition": {
               "duration": 0,
               "easing": "linear"
              }
             }
            ],
            "label": "2021-03-29",
            "method": "animate"
           },
           {
            "args": [
             [
              "2021-03-30"
             ],
             {
              "frame": {
               "duration": 0,
               "redraw": true
              },
              "fromcurrent": true,
              "mode": "immediate",
              "transition": {
               "duration": 0,
               "easing": "linear"
              }
             }
            ],
            "label": "2021-03-30",
            "method": "animate"
           },
           {
            "args": [
             [
              "2021-03-31"
             ],
             {
              "frame": {
               "duration": 0,
               "redraw": true
              },
              "fromcurrent": true,
              "mode": "immediate",
              "transition": {
               "duration": 0,
               "easing": "linear"
              }
             }
            ],
            "label": "2021-03-31",
            "method": "animate"
           },
           {
            "args": [
             [
              "2021-04-01"
             ],
             {
              "frame": {
               "duration": 0,
               "redraw": true
              },
              "fromcurrent": true,
              "mode": "immediate",
              "transition": {
               "duration": 0,
               "easing": "linear"
              }
             }
            ],
            "label": "2021-04-01",
            "method": "animate"
           },
           {
            "args": [
             [
              "2021-04-02"
             ],
             {
              "frame": {
               "duration": 0,
               "redraw": true
              },
              "fromcurrent": true,
              "mode": "immediate",
              "transition": {
               "duration": 0,
               "easing": "linear"
              }
             }
            ],
            "label": "2021-04-02",
            "method": "animate"
           },
           {
            "args": [
             [
              "2021-04-03"
             ],
             {
              "frame": {
               "duration": 0,
               "redraw": true
              },
              "fromcurrent": true,
              "mode": "immediate",
              "transition": {
               "duration": 0,
               "easing": "linear"
              }
             }
            ],
            "label": "2021-04-03",
            "method": "animate"
           },
           {
            "args": [
             [
              "2021-04-04"
             ],
             {
              "frame": {
               "duration": 0,
               "redraw": true
              },
              "fromcurrent": true,
              "mode": "immediate",
              "transition": {
               "duration": 0,
               "easing": "linear"
              }
             }
            ],
            "label": "2021-04-04",
            "method": "animate"
           },
           {
            "args": [
             [
              "2021-04-05"
             ],
             {
              "frame": {
               "duration": 0,
               "redraw": true
              },
              "fromcurrent": true,
              "mode": "immediate",
              "transition": {
               "duration": 0,
               "easing": "linear"
              }
             }
            ],
            "label": "2021-04-05",
            "method": "animate"
           },
           {
            "args": [
             [
              "2021-04-06"
             ],
             {
              "frame": {
               "duration": 0,
               "redraw": true
              },
              "fromcurrent": true,
              "mode": "immediate",
              "transition": {
               "duration": 0,
               "easing": "linear"
              }
             }
            ],
            "label": "2021-04-06",
            "method": "animate"
           },
           {
            "args": [
             [
              "2021-04-07"
             ],
             {
              "frame": {
               "duration": 0,
               "redraw": true
              },
              "fromcurrent": true,
              "mode": "immediate",
              "transition": {
               "duration": 0,
               "easing": "linear"
              }
             }
            ],
            "label": "2021-04-07",
            "method": "animate"
           },
           {
            "args": [
             [
              "2021-04-08"
             ],
             {
              "frame": {
               "duration": 0,
               "redraw": true
              },
              "fromcurrent": true,
              "mode": "immediate",
              "transition": {
               "duration": 0,
               "easing": "linear"
              }
             }
            ],
            "label": "2021-04-08",
            "method": "animate"
           },
           {
            "args": [
             [
              "2021-04-09"
             ],
             {
              "frame": {
               "duration": 0,
               "redraw": true
              },
              "fromcurrent": true,
              "mode": "immediate",
              "transition": {
               "duration": 0,
               "easing": "linear"
              }
             }
            ],
            "label": "2021-04-09",
            "method": "animate"
           },
           {
            "args": [
             [
              "2021-04-10"
             ],
             {
              "frame": {
               "duration": 0,
               "redraw": true
              },
              "fromcurrent": true,
              "mode": "immediate",
              "transition": {
               "duration": 0,
               "easing": "linear"
              }
             }
            ],
            "label": "2021-04-10",
            "method": "animate"
           },
           {
            "args": [
             [
              "2021-04-11"
             ],
             {
              "frame": {
               "duration": 0,
               "redraw": true
              },
              "fromcurrent": true,
              "mode": "immediate",
              "transition": {
               "duration": 0,
               "easing": "linear"
              }
             }
            ],
            "label": "2021-04-11",
            "method": "animate"
           },
           {
            "args": [
             [
              "2021-04-12"
             ],
             {
              "frame": {
               "duration": 0,
               "redraw": true
              },
              "fromcurrent": true,
              "mode": "immediate",
              "transition": {
               "duration": 0,
               "easing": "linear"
              }
             }
            ],
            "label": "2021-04-12",
            "method": "animate"
           },
           {
            "args": [
             [
              "2021-04-13"
             ],
             {
              "frame": {
               "duration": 0,
               "redraw": true
              },
              "fromcurrent": true,
              "mode": "immediate",
              "transition": {
               "duration": 0,
               "easing": "linear"
              }
             }
            ],
            "label": "2021-04-13",
            "method": "animate"
           },
           {
            "args": [
             [
              "2021-04-14"
             ],
             {
              "frame": {
               "duration": 0,
               "redraw": true
              },
              "fromcurrent": true,
              "mode": "immediate",
              "transition": {
               "duration": 0,
               "easing": "linear"
              }
             }
            ],
            "label": "2021-04-14",
            "method": "animate"
           },
           {
            "args": [
             [
              "2021-04-15"
             ],
             {
              "frame": {
               "duration": 0,
               "redraw": true
              },
              "fromcurrent": true,
              "mode": "immediate",
              "transition": {
               "duration": 0,
               "easing": "linear"
              }
             }
            ],
            "label": "2021-04-15",
            "method": "animate"
           },
           {
            "args": [
             [
              "2021-04-16"
             ],
             {
              "frame": {
               "duration": 0,
               "redraw": true
              },
              "fromcurrent": true,
              "mode": "immediate",
              "transition": {
               "duration": 0,
               "easing": "linear"
              }
             }
            ],
            "label": "2021-04-16",
            "method": "animate"
           },
           {
            "args": [
             [
              "2021-04-17"
             ],
             {
              "frame": {
               "duration": 0,
               "redraw": true
              },
              "fromcurrent": true,
              "mode": "immediate",
              "transition": {
               "duration": 0,
               "easing": "linear"
              }
             }
            ],
            "label": "2021-04-17",
            "method": "animate"
           },
           {
            "args": [
             [
              "2021-04-18"
             ],
             {
              "frame": {
               "duration": 0,
               "redraw": true
              },
              "fromcurrent": true,
              "mode": "immediate",
              "transition": {
               "duration": 0,
               "easing": "linear"
              }
             }
            ],
            "label": "2021-04-18",
            "method": "animate"
           },
           {
            "args": [
             [
              "2021-04-19"
             ],
             {
              "frame": {
               "duration": 0,
               "redraw": true
              },
              "fromcurrent": true,
              "mode": "immediate",
              "transition": {
               "duration": 0,
               "easing": "linear"
              }
             }
            ],
            "label": "2021-04-19",
            "method": "animate"
           },
           {
            "args": [
             [
              "2021-04-20"
             ],
             {
              "frame": {
               "duration": 0,
               "redraw": true
              },
              "fromcurrent": true,
              "mode": "immediate",
              "transition": {
               "duration": 0,
               "easing": "linear"
              }
             }
            ],
            "label": "2021-04-20",
            "method": "animate"
           },
           {
            "args": [
             [
              "2021-04-21"
             ],
             {
              "frame": {
               "duration": 0,
               "redraw": true
              },
              "fromcurrent": true,
              "mode": "immediate",
              "transition": {
               "duration": 0,
               "easing": "linear"
              }
             }
            ],
            "label": "2021-04-21",
            "method": "animate"
           },
           {
            "args": [
             [
              "2021-04-22"
             ],
             {
              "frame": {
               "duration": 0,
               "redraw": true
              },
              "fromcurrent": true,
              "mode": "immediate",
              "transition": {
               "duration": 0,
               "easing": "linear"
              }
             }
            ],
            "label": "2021-04-22",
            "method": "animate"
           },
           {
            "args": [
             [
              "2021-05-13"
             ],
             {
              "frame": {
               "duration": 0,
               "redraw": true
              },
              "fromcurrent": true,
              "mode": "immediate",
              "transition": {
               "duration": 0,
               "easing": "linear"
              }
             }
            ],
            "label": "2021-05-13",
            "method": "animate"
           },
           {
            "args": [
             [
              "2021-05-14"
             ],
             {
              "frame": {
               "duration": 0,
               "redraw": true
              },
              "fromcurrent": true,
              "mode": "immediate",
              "transition": {
               "duration": 0,
               "easing": "linear"
              }
             }
            ],
            "label": "2021-05-14",
            "method": "animate"
           },
           {
            "args": [
             [
              "2021-05-15"
             ],
             {
              "frame": {
               "duration": 0,
               "redraw": true
              },
              "fromcurrent": true,
              "mode": "immediate",
              "transition": {
               "duration": 0,
               "easing": "linear"
              }
             }
            ],
            "label": "2021-05-15",
            "method": "animate"
           },
           {
            "args": [
             [
              "2021-05-16"
             ],
             {
              "frame": {
               "duration": 0,
               "redraw": true
              },
              "fromcurrent": true,
              "mode": "immediate",
              "transition": {
               "duration": 0,
               "easing": "linear"
              }
             }
            ],
            "label": "2021-05-16",
            "method": "animate"
           },
           {
            "args": [
             [
              "2021-05-17"
             ],
             {
              "frame": {
               "duration": 0,
               "redraw": true
              },
              "fromcurrent": true,
              "mode": "immediate",
              "transition": {
               "duration": 0,
               "easing": "linear"
              }
             }
            ],
            "label": "2021-05-17",
            "method": "animate"
           },
           {
            "args": [
             [
              "2021-05-18"
             ],
             {
              "frame": {
               "duration": 0,
               "redraw": true
              },
              "fromcurrent": true,
              "mode": "immediate",
              "transition": {
               "duration": 0,
               "easing": "linear"
              }
             }
            ],
            "label": "2021-05-18",
            "method": "animate"
           },
           {
            "args": [
             [
              "2021-05-19"
             ],
             {
              "frame": {
               "duration": 0,
               "redraw": true
              },
              "fromcurrent": true,
              "mode": "immediate",
              "transition": {
               "duration": 0,
               "easing": "linear"
              }
             }
            ],
            "label": "2021-05-19",
            "method": "animate"
           },
           {
            "args": [
             [
              "2021-05-20"
             ],
             {
              "frame": {
               "duration": 0,
               "redraw": true
              },
              "fromcurrent": true,
              "mode": "immediate",
              "transition": {
               "duration": 0,
               "easing": "linear"
              }
             }
            ],
            "label": "2021-05-20",
            "method": "animate"
           },
           {
            "args": [
             [
              "2021-05-21"
             ],
             {
              "frame": {
               "duration": 0,
               "redraw": true
              },
              "fromcurrent": true,
              "mode": "immediate",
              "transition": {
               "duration": 0,
               "easing": "linear"
              }
             }
            ],
            "label": "2021-05-21",
            "method": "animate"
           },
           {
            "args": [
             [
              "2021-05-22"
             ],
             {
              "frame": {
               "duration": 0,
               "redraw": true
              },
              "fromcurrent": true,
              "mode": "immediate",
              "transition": {
               "duration": 0,
               "easing": "linear"
              }
             }
            ],
            "label": "2021-05-22",
            "method": "animate"
           },
           {
            "args": [
             [
              "2021-05-23"
             ],
             {
              "frame": {
               "duration": 0,
               "redraw": true
              },
              "fromcurrent": true,
              "mode": "immediate",
              "transition": {
               "duration": 0,
               "easing": "linear"
              }
             }
            ],
            "label": "2021-05-23",
            "method": "animate"
           },
           {
            "args": [
             [
              "2021-05-24"
             ],
             {
              "frame": {
               "duration": 0,
               "redraw": true
              },
              "fromcurrent": true,
              "mode": "immediate",
              "transition": {
               "duration": 0,
               "easing": "linear"
              }
             }
            ],
            "label": "2021-05-24",
            "method": "animate"
           },
           {
            "args": [
             [
              "2021-05-25"
             ],
             {
              "frame": {
               "duration": 0,
               "redraw": true
              },
              "fromcurrent": true,
              "mode": "immediate",
              "transition": {
               "duration": 0,
               "easing": "linear"
              }
             }
            ],
            "label": "2021-05-25",
            "method": "animate"
           },
           {
            "args": [
             [
              "2021-05-26"
             ],
             {
              "frame": {
               "duration": 0,
               "redraw": true
              },
              "fromcurrent": true,
              "mode": "immediate",
              "transition": {
               "duration": 0,
               "easing": "linear"
              }
             }
            ],
            "label": "2021-05-26",
            "method": "animate"
           },
           {
            "args": [
             [
              "2021-05-27"
             ],
             {
              "frame": {
               "duration": 0,
               "redraw": true
              },
              "fromcurrent": true,
              "mode": "immediate",
              "transition": {
               "duration": 0,
               "easing": "linear"
              }
             }
            ],
            "label": "2021-05-27",
            "method": "animate"
           },
           {
            "args": [
             [
              "2021-05-28"
             ],
             {
              "frame": {
               "duration": 0,
               "redraw": true
              },
              "fromcurrent": true,
              "mode": "immediate",
              "transition": {
               "duration": 0,
               "easing": "linear"
              }
             }
            ],
            "label": "2021-05-28",
            "method": "animate"
           },
           {
            "args": [
             [
              "2021-05-29"
             ],
             {
              "frame": {
               "duration": 0,
               "redraw": true
              },
              "fromcurrent": true,
              "mode": "immediate",
              "transition": {
               "duration": 0,
               "easing": "linear"
              }
             }
            ],
            "label": "2021-05-29",
            "method": "animate"
           },
           {
            "args": [
             [
              "2021-05-30"
             ],
             {
              "frame": {
               "duration": 0,
               "redraw": true
              },
              "fromcurrent": true,
              "mode": "immediate",
              "transition": {
               "duration": 0,
               "easing": "linear"
              }
             }
            ],
            "label": "2021-05-30",
            "method": "animate"
           },
           {
            "args": [
             [
              "2021-05-31"
             ],
             {
              "frame": {
               "duration": 0,
               "redraw": true
              },
              "fromcurrent": true,
              "mode": "immediate",
              "transition": {
               "duration": 0,
               "easing": "linear"
              }
             }
            ],
            "label": "2021-05-31",
            "method": "animate"
           },
           {
            "args": [
             [
              "2021-06-01"
             ],
             {
              "frame": {
               "duration": 0,
               "redraw": true
              },
              "fromcurrent": true,
              "mode": "immediate",
              "transition": {
               "duration": 0,
               "easing": "linear"
              }
             }
            ],
            "label": "2021-06-01",
            "method": "animate"
           },
           {
            "args": [
             [
              "2021-06-02"
             ],
             {
              "frame": {
               "duration": 0,
               "redraw": true
              },
              "fromcurrent": true,
              "mode": "immediate",
              "transition": {
               "duration": 0,
               "easing": "linear"
              }
             }
            ],
            "label": "2021-06-02",
            "method": "animate"
           },
           {
            "args": [
             [
              "2021-06-03"
             ],
             {
              "frame": {
               "duration": 0,
               "redraw": true
              },
              "fromcurrent": true,
              "mode": "immediate",
              "transition": {
               "duration": 0,
               "easing": "linear"
              }
             }
            ],
            "label": "2021-06-03",
            "method": "animate"
           },
           {
            "args": [
             [
              "2021-06-04"
             ],
             {
              "frame": {
               "duration": 0,
               "redraw": true
              },
              "fromcurrent": true,
              "mode": "immediate",
              "transition": {
               "duration": 0,
               "easing": "linear"
              }
             }
            ],
            "label": "2021-06-04",
            "method": "animate"
           },
           {
            "args": [
             [
              "2021-06-05"
             ],
             {
              "frame": {
               "duration": 0,
               "redraw": true
              },
              "fromcurrent": true,
              "mode": "immediate",
              "transition": {
               "duration": 0,
               "easing": "linear"
              }
             }
            ],
            "label": "2021-06-05",
            "method": "animate"
           },
           {
            "args": [
             [
              "2021-06-06"
             ],
             {
              "frame": {
               "duration": 0,
               "redraw": true
              },
              "fromcurrent": true,
              "mode": "immediate",
              "transition": {
               "duration": 0,
               "easing": "linear"
              }
             }
            ],
            "label": "2021-06-06",
            "method": "animate"
           },
           {
            "args": [
             [
              "2021-06-07"
             ],
             {
              "frame": {
               "duration": 0,
               "redraw": true
              },
              "fromcurrent": true,
              "mode": "immediate",
              "transition": {
               "duration": 0,
               "easing": "linear"
              }
             }
            ],
            "label": "2021-06-07",
            "method": "animate"
           },
           {
            "args": [
             [
              "2021-06-08"
             ],
             {
              "frame": {
               "duration": 0,
               "redraw": true
              },
              "fromcurrent": true,
              "mode": "immediate",
              "transition": {
               "duration": 0,
               "easing": "linear"
              }
             }
            ],
            "label": "2021-06-08",
            "method": "animate"
           },
           {
            "args": [
             [
              "2021-06-09"
             ],
             {
              "frame": {
               "duration": 0,
               "redraw": true
              },
              "fromcurrent": true,
              "mode": "immediate",
              "transition": {
               "duration": 0,
               "easing": "linear"
              }
             }
            ],
            "label": "2021-06-09",
            "method": "animate"
           },
           {
            "args": [
             [
              "2021-06-10"
             ],
             {
              "frame": {
               "duration": 0,
               "redraw": true
              },
              "fromcurrent": true,
              "mode": "immediate",
              "transition": {
               "duration": 0,
               "easing": "linear"
              }
             }
            ],
            "label": "2021-06-10",
            "method": "animate"
           },
           {
            "args": [
             [
              "2021-06-11"
             ],
             {
              "frame": {
               "duration": 0,
               "redraw": true
              },
              "fromcurrent": true,
              "mode": "immediate",
              "transition": {
               "duration": 0,
               "easing": "linear"
              }
             }
            ],
            "label": "2021-06-11",
            "method": "animate"
           },
           {
            "args": [
             [
              "2021-06-12"
             ],
             {
              "frame": {
               "duration": 0,
               "redraw": true
              },
              "fromcurrent": true,
              "mode": "immediate",
              "transition": {
               "duration": 0,
               "easing": "linear"
              }
             }
            ],
            "label": "2021-06-12",
            "method": "animate"
           },
           {
            "args": [
             [
              "2021-06-13"
             ],
             {
              "frame": {
               "duration": 0,
               "redraw": true
              },
              "fromcurrent": true,
              "mode": "immediate",
              "transition": {
               "duration": 0,
               "easing": "linear"
              }
             }
            ],
            "label": "2021-06-13",
            "method": "animate"
           },
           {
            "args": [
             [
              "2021-06-14"
             ],
             {
              "frame": {
               "duration": 0,
               "redraw": true
              },
              "fromcurrent": true,
              "mode": "immediate",
              "transition": {
               "duration": 0,
               "easing": "linear"
              }
             }
            ],
            "label": "2021-06-14",
            "method": "animate"
           },
           {
            "args": [
             [
              "2021-06-15"
             ],
             {
              "frame": {
               "duration": 0,
               "redraw": true
              },
              "fromcurrent": true,
              "mode": "immediate",
              "transition": {
               "duration": 0,
               "easing": "linear"
              }
             }
            ],
            "label": "2021-06-15",
            "method": "animate"
           },
           {
            "args": [
             [
              "2021-06-16"
             ],
             {
              "frame": {
               "duration": 0,
               "redraw": true
              },
              "fromcurrent": true,
              "mode": "immediate",
              "transition": {
               "duration": 0,
               "easing": "linear"
              }
             }
            ],
            "label": "2021-06-16",
            "method": "animate"
           },
           {
            "args": [
             [
              "2021-06-17"
             ],
             {
              "frame": {
               "duration": 0,
               "redraw": true
              },
              "fromcurrent": true,
              "mode": "immediate",
              "transition": {
               "duration": 0,
               "easing": "linear"
              }
             }
            ],
            "label": "2021-06-17",
            "method": "animate"
           },
           {
            "args": [
             [
              "2021-06-18"
             ],
             {
              "frame": {
               "duration": 0,
               "redraw": true
              },
              "fromcurrent": true,
              "mode": "immediate",
              "transition": {
               "duration": 0,
               "easing": "linear"
              }
             }
            ],
            "label": "2021-06-18",
            "method": "animate"
           },
           {
            "args": [
             [
              "2021-06-19"
             ],
             {
              "frame": {
               "duration": 0,
               "redraw": true
              },
              "fromcurrent": true,
              "mode": "immediate",
              "transition": {
               "duration": 0,
               "easing": "linear"
              }
             }
            ],
            "label": "2021-06-19",
            "method": "animate"
           }
          ],
          "x": 0.1,
          "xanchor": "left",
          "y": 0,
          "yanchor": "top"
         }
        ],
        "template": {
         "data": {
          "bar": [
           {
            "error_x": {
             "color": "#2a3f5f"
            },
            "error_y": {
             "color": "#2a3f5f"
            },
            "marker": {
             "line": {
              "color": "#E5ECF6",
              "width": 0.5
             },
             "pattern": {
              "fillmode": "overlay",
              "size": 10,
              "solidity": 0.2
             }
            },
            "type": "bar"
           }
          ],
          "barpolar": [
           {
            "marker": {
             "line": {
              "color": "#E5ECF6",
              "width": 0.5
             },
             "pattern": {
              "fillmode": "overlay",
              "size": 10,
              "solidity": 0.2
             }
            },
            "type": "barpolar"
           }
          ],
          "carpet": [
           {
            "aaxis": {
             "endlinecolor": "#2a3f5f",
             "gridcolor": "white",
             "linecolor": "white",
             "minorgridcolor": "white",
             "startlinecolor": "#2a3f5f"
            },
            "baxis": {
             "endlinecolor": "#2a3f5f",
             "gridcolor": "white",
             "linecolor": "white",
             "minorgridcolor": "white",
             "startlinecolor": "#2a3f5f"
            },
            "type": "carpet"
           }
          ],
          "choropleth": [
           {
            "colorbar": {
             "outlinewidth": 0,
             "ticks": ""
            },
            "type": "choropleth"
           }
          ],
          "contour": [
           {
            "colorbar": {
             "outlinewidth": 0,
             "ticks": ""
            },
            "colorscale": [
             [
              0,
              "#0d0887"
             ],
             [
              0.1111111111111111,
              "#46039f"
             ],
             [
              0.2222222222222222,
              "#7201a8"
             ],
             [
              0.3333333333333333,
              "#9c179e"
             ],
             [
              0.4444444444444444,
              "#bd3786"
             ],
             [
              0.5555555555555556,
              "#d8576b"
             ],
             [
              0.6666666666666666,
              "#ed7953"
             ],
             [
              0.7777777777777778,
              "#fb9f3a"
             ],
             [
              0.8888888888888888,
              "#fdca26"
             ],
             [
              1,
              "#f0f921"
             ]
            ],
            "type": "contour"
           }
          ],
          "contourcarpet": [
           {
            "colorbar": {
             "outlinewidth": 0,
             "ticks": ""
            },
            "type": "contourcarpet"
           }
          ],
          "heatmap": [
           {
            "colorbar": {
             "outlinewidth": 0,
             "ticks": ""
            },
            "colorscale": [
             [
              0,
              "#0d0887"
             ],
             [
              0.1111111111111111,
              "#46039f"
             ],
             [
              0.2222222222222222,
              "#7201a8"
             ],
             [
              0.3333333333333333,
              "#9c179e"
             ],
             [
              0.4444444444444444,
              "#bd3786"
             ],
             [
              0.5555555555555556,
              "#d8576b"
             ],
             [
              0.6666666666666666,
              "#ed7953"
             ],
             [
              0.7777777777777778,
              "#fb9f3a"
             ],
             [
              0.8888888888888888,
              "#fdca26"
             ],
             [
              1,
              "#f0f921"
             ]
            ],
            "type": "heatmap"
           }
          ],
          "heatmapgl": [
           {
            "colorbar": {
             "outlinewidth": 0,
             "ticks": ""
            },
            "colorscale": [
             [
              0,
              "#0d0887"
             ],
             [
              0.1111111111111111,
              "#46039f"
             ],
             [
              0.2222222222222222,
              "#7201a8"
             ],
             [
              0.3333333333333333,
              "#9c179e"
             ],
             [
              0.4444444444444444,
              "#bd3786"
             ],
             [
              0.5555555555555556,
              "#d8576b"
             ],
             [
              0.6666666666666666,
              "#ed7953"
             ],
             [
              0.7777777777777778,
              "#fb9f3a"
             ],
             [
              0.8888888888888888,
              "#fdca26"
             ],
             [
              1,
              "#f0f921"
             ]
            ],
            "type": "heatmapgl"
           }
          ],
          "histogram": [
           {
            "marker": {
             "pattern": {
              "fillmode": "overlay",
              "size": 10,
              "solidity": 0.2
             }
            },
            "type": "histogram"
           }
          ],
          "histogram2d": [
           {
            "colorbar": {
             "outlinewidth": 0,
             "ticks": ""
            },
            "colorscale": [
             [
              0,
              "#0d0887"
             ],
             [
              0.1111111111111111,
              "#46039f"
             ],
             [
              0.2222222222222222,
              "#7201a8"
             ],
             [
              0.3333333333333333,
              "#9c179e"
             ],
             [
              0.4444444444444444,
              "#bd3786"
             ],
             [
              0.5555555555555556,
              "#d8576b"
             ],
             [
              0.6666666666666666,
              "#ed7953"
             ],
             [
              0.7777777777777778,
              "#fb9f3a"
             ],
             [
              0.8888888888888888,
              "#fdca26"
             ],
             [
              1,
              "#f0f921"
             ]
            ],
            "type": "histogram2d"
           }
          ],
          "histogram2dcontour": [
           {
            "colorbar": {
             "outlinewidth": 0,
             "ticks": ""
            },
            "colorscale": [
             [
              0,
              "#0d0887"
             ],
             [
              0.1111111111111111,
              "#46039f"
             ],
             [
              0.2222222222222222,
              "#7201a8"
             ],
             [
              0.3333333333333333,
              "#9c179e"
             ],
             [
              0.4444444444444444,
              "#bd3786"
             ],
             [
              0.5555555555555556,
              "#d8576b"
             ],
             [
              0.6666666666666666,
              "#ed7953"
             ],
             [
              0.7777777777777778,
              "#fb9f3a"
             ],
             [
              0.8888888888888888,
              "#fdca26"
             ],
             [
              1,
              "#f0f921"
             ]
            ],
            "type": "histogram2dcontour"
           }
          ],
          "mesh3d": [
           {
            "colorbar": {
             "outlinewidth": 0,
             "ticks": ""
            },
            "type": "mesh3d"
           }
          ],
          "parcoords": [
           {
            "line": {
             "colorbar": {
              "outlinewidth": 0,
              "ticks": ""
             }
            },
            "type": "parcoords"
           }
          ],
          "pie": [
           {
            "automargin": true,
            "type": "pie"
           }
          ],
          "scatter": [
           {
            "marker": {
             "colorbar": {
              "outlinewidth": 0,
              "ticks": ""
             }
            },
            "type": "scatter"
           }
          ],
          "scatter3d": [
           {
            "line": {
             "colorbar": {
              "outlinewidth": 0,
              "ticks": ""
             }
            },
            "marker": {
             "colorbar": {
              "outlinewidth": 0,
              "ticks": ""
             }
            },
            "type": "scatter3d"
           }
          ],
          "scattercarpet": [
           {
            "marker": {
             "colorbar": {
              "outlinewidth": 0,
              "ticks": ""
             }
            },
            "type": "scattercarpet"
           }
          ],
          "scattergeo": [
           {
            "marker": {
             "colorbar": {
              "outlinewidth": 0,
              "ticks": ""
             }
            },
            "type": "scattergeo"
           }
          ],
          "scattergl": [
           {
            "marker": {
             "colorbar": {
              "outlinewidth": 0,
              "ticks": ""
             }
            },
            "type": "scattergl"
           }
          ],
          "scattermapbox": [
           {
            "marker": {
             "colorbar": {
              "outlinewidth": 0,
              "ticks": ""
             }
            },
            "type": "scattermapbox"
           }
          ],
          "scatterpolar": [
           {
            "marker": {
             "colorbar": {
              "outlinewidth": 0,
              "ticks": ""
             }
            },
            "type": "scatterpolar"
           }
          ],
          "scatterpolargl": [
           {
            "marker": {
             "colorbar": {
              "outlinewidth": 0,
              "ticks": ""
             }
            },
            "type": "scatterpolargl"
           }
          ],
          "scatterternary": [
           {
            "marker": {
             "colorbar": {
              "outlinewidth": 0,
              "ticks": ""
             }
            },
            "type": "scatterternary"
           }
          ],
          "surface": [
           {
            "colorbar": {
             "outlinewidth": 0,
             "ticks": ""
            },
            "colorscale": [
             [
              0,
              "#0d0887"
             ],
             [
              0.1111111111111111,
              "#46039f"
             ],
             [
              0.2222222222222222,
              "#7201a8"
             ],
             [
              0.3333333333333333,
              "#9c179e"
             ],
             [
              0.4444444444444444,
              "#bd3786"
             ],
             [
              0.5555555555555556,
              "#d8576b"
             ],
             [
              0.6666666666666666,
              "#ed7953"
             ],
             [
              0.7777777777777778,
              "#fb9f3a"
             ],
             [
              0.8888888888888888,
              "#fdca26"
             ],
             [
              1,
              "#f0f921"
             ]
            ],
            "type": "surface"
           }
          ],
          "table": [
           {
            "cells": {
             "fill": {
              "color": "#EBF0F8"
             },
             "line": {
              "color": "white"
             }
            },
            "header": {
             "fill": {
              "color": "#C8D4E3"
             },
             "line": {
              "color": "white"
             }
            },
            "type": "table"
           }
          ]
         },
         "layout": {
          "annotationdefaults": {
           "arrowcolor": "#2a3f5f",
           "arrowhead": 0,
           "arrowwidth": 1
          },
          "autotypenumbers": "strict",
          "coloraxis": {
           "colorbar": {
            "outlinewidth": 0,
            "ticks": ""
           }
          },
          "colorscale": {
           "diverging": [
            [
             0,
             "#8e0152"
            ],
            [
             0.1,
             "#c51b7d"
            ],
            [
             0.2,
             "#de77ae"
            ],
            [
             0.3,
             "#f1b6da"
            ],
            [
             0.4,
             "#fde0ef"
            ],
            [
             0.5,
             "#f7f7f7"
            ],
            [
             0.6,
             "#e6f5d0"
            ],
            [
             0.7,
             "#b8e186"
            ],
            [
             0.8,
             "#7fbc41"
            ],
            [
             0.9,
             "#4d9221"
            ],
            [
             1,
             "#276419"
            ]
           ],
           "sequential": [
            [
             0,
             "#0d0887"
            ],
            [
             0.1111111111111111,
             "#46039f"
            ],
            [
             0.2222222222222222,
             "#7201a8"
            ],
            [
             0.3333333333333333,
             "#9c179e"
            ],
            [
             0.4444444444444444,
             "#bd3786"
            ],
            [
             0.5555555555555556,
             "#d8576b"
            ],
            [
             0.6666666666666666,
             "#ed7953"
            ],
            [
             0.7777777777777778,
             "#fb9f3a"
            ],
            [
             0.8888888888888888,
             "#fdca26"
            ],
            [
             1,
             "#f0f921"
            ]
           ],
           "sequentialminus": [
            [
             0,
             "#0d0887"
            ],
            [
             0.1111111111111111,
             "#46039f"
            ],
            [
             0.2222222222222222,
             "#7201a8"
            ],
            [
             0.3333333333333333,
             "#9c179e"
            ],
            [
             0.4444444444444444,
             "#bd3786"
            ],
            [
             0.5555555555555556,
             "#d8576b"
            ],
            [
             0.6666666666666666,
             "#ed7953"
            ],
            [
             0.7777777777777778,
             "#fb9f3a"
            ],
            [
             0.8888888888888888,
             "#fdca26"
            ],
            [
             1,
             "#f0f921"
            ]
           ]
          },
          "colorway": [
           "#636efa",
           "#EF553B",
           "#00cc96",
           "#ab63fa",
           "#FFA15A",
           "#19d3f3",
           "#FF6692",
           "#B6E880",
           "#FF97FF",
           "#FECB52"
          ],
          "font": {
           "color": "#2a3f5f"
          },
          "geo": {
           "bgcolor": "white",
           "lakecolor": "white",
           "landcolor": "#E5ECF6",
           "showlakes": true,
           "showland": true,
           "subunitcolor": "white"
          },
          "hoverlabel": {
           "align": "left"
          },
          "hovermode": "closest",
          "mapbox": {
           "style": "light"
          },
          "paper_bgcolor": "white",
          "plot_bgcolor": "#E5ECF6",
          "polar": {
           "angularaxis": {
            "gridcolor": "white",
            "linecolor": "white",
            "ticks": ""
           },
           "bgcolor": "#E5ECF6",
           "radialaxis": {
            "gridcolor": "white",
            "linecolor": "white",
            "ticks": ""
           }
          },
          "scene": {
           "xaxis": {
            "backgroundcolor": "#E5ECF6",
            "gridcolor": "white",
            "gridwidth": 2,
            "linecolor": "white",
            "showbackground": true,
            "ticks": "",
            "zerolinecolor": "white"
           },
           "yaxis": {
            "backgroundcolor": "#E5ECF6",
            "gridcolor": "white",
            "gridwidth": 2,
            "linecolor": "white",
            "showbackground": true,
            "ticks": "",
            "zerolinecolor": "white"
           },
           "zaxis": {
            "backgroundcolor": "#E5ECF6",
            "gridcolor": "white",
            "gridwidth": 2,
            "linecolor": "white",
            "showbackground": true,
            "ticks": "",
            "zerolinecolor": "white"
           }
          },
          "shapedefaults": {
           "line": {
            "color": "#2a3f5f"
           }
          },
          "ternary": {
           "aaxis": {
            "gridcolor": "white",
            "linecolor": "white",
            "ticks": ""
           },
           "baxis": {
            "gridcolor": "white",
            "linecolor": "white",
            "ticks": ""
           },
           "bgcolor": "#E5ECF6",
           "caxis": {
            "gridcolor": "white",
            "linecolor": "white",
            "ticks": ""
           }
          },
          "title": {
           "x": 0.05
          },
          "xaxis": {
           "automargin": true,
           "gridcolor": "white",
           "linecolor": "white",
           "ticks": "",
           "title": {
            "standoff": 15
           },
           "zerolinecolor": "white",
           "zerolinewidth": 2
          },
          "yaxis": {
           "automargin": true,
           "gridcolor": "white",
           "linecolor": "white",
           "ticks": "",
           "title": {
            "standoff": 15
           },
           "zerolinecolor": "white",
           "zerolinewidth": 2
          }
         }
        },
        "title": {
         "text": "Mean sentiment over time by country"
        },
        "updatemenus": [
         {
          "buttons": [
           {
            "args": [
             null,
             {
              "frame": {
               "duration": 80,
               "redraw": true
              },
              "fromcurrent": true,
              "mode": "immediate",
              "transition": {
               "duration": 500,
               "easing": "linear"
              }
             }
            ],
            "label": "&#9654;",
            "method": "animate"
           },
           {
            "args": [
             [
              null
             ],
             {
              "frame": {
               "duration": 0,
               "redraw": true
              },
              "fromcurrent": true,
              "mode": "immediate",
              "transition": {
               "duration": 0,
               "easing": "linear"
              }
             }
            ],
            "label": "&#9724;",
            "method": "animate"
           }
          ],
          "direction": "left",
          "pad": {
           "r": 10,
           "t": 70
          },
          "showactive": false,
          "type": "buttons",
          "x": 0.1,
          "xanchor": "right",
          "y": 0,
          "yanchor": "top"
         }
        ]
       }
      },
      "text/html": [
       "<div>                            <div id=\"84985b77-1e41-4d09-958e-e76935ac15fa\" class=\"plotly-graph-div\" style=\"height:600px; width:100%;\"></div>            <script type=\"text/javascript\">                require([\"plotly\"], function(Plotly) {                    window.PLOTLYENV=window.PLOTLYENV || {};                                    if (document.getElementById(\"84985b77-1e41-4d09-958e-e76935ac15fa\")) {                    Plotly.newPlot(                        \"84985b77-1e41-4d09-958e-e76935ac15fa\",                        [{\"coloraxis\":\"coloraxis\",\"geo\":\"geo\",\"hovertemplate\":\"created_at=2020-12-12<br>user_location=%{location}<br>sentiment_compound=%{z}<extra></extra>\",\"locationmode\":\"country names\",\"locations\":[\"Canada\",\"Germany\",\"India\",\"Italy\",\"Palestinian Territory\",\"Russian Federation\",\"United States\"],\"name\":\"\",\"type\":\"choropleth\",\"z\":[0.0,-0.2023,0.424525,0.7579,-0.05275000000000002,-0.3818,0.2553]}],                        {\"coloraxis\":{\"cmax\":1,\"cmin\":-1,\"colorbar\":{\"title\":{\"text\":\"sentiment_compound\"}},\"colorscale\":[[0.0,\"rgb(252, 222, 156)\"],[0.16666666666666666,\"rgb(250, 164, 118)\"],[0.3333333333333333,\"rgb(240, 116, 110)\"],[0.5,\"rgb(227, 79, 111)\"],[0.6666666666666666,\"rgb(220, 57, 119)\"],[0.8333333333333334,\"rgb(185, 37, 122)\"],[1.0,\"rgb(124, 29, 111)\"]]},\"geo\":{\"center\":{},\"domain\":{\"x\":[0.0,1.0],\"y\":[0.0,1.0]},\"scope\":\"world\"},\"height\":600,\"legend\":{\"tracegroupgap\":0},\"sliders\":[{\"active\":0,\"currentvalue\":{\"prefix\":\"created_at=\"},\"len\":0.9,\"pad\":{\"b\":10,\"t\":60},\"steps\":[{\"args\":[[\"2020-12-12\"],{\"frame\":{\"duration\":0,\"redraw\":true},\"fromcurrent\":true,\"mode\":\"immediate\",\"transition\":{\"duration\":0,\"easing\":\"linear\"}}],\"label\":\"2020-12-12\",\"method\":\"animate\"},{\"args\":[[\"2020-12-13\"],{\"frame\":{\"duration\":0,\"redraw\":true},\"fromcurrent\":true,\"mode\":\"immediate\",\"transition\":{\"duration\":0,\"easing\":\"linear\"}}],\"label\":\"2020-12-13\",\"method\":\"animate\"},{\"args\":[[\"2020-12-14\"],{\"frame\":{\"duration\":0,\"redraw\":true},\"fromcurrent\":true,\"mode\":\"immediate\",\"transition\":{\"duration\":0,\"easing\":\"linear\"}}],\"label\":\"2020-12-14\",\"method\":\"animate\"},{\"args\":[[\"2020-12-15\"],{\"frame\":{\"duration\":0,\"redraw\":true},\"fromcurrent\":true,\"mode\":\"immediate\",\"transition\":{\"duration\":0,\"easing\":\"linear\"}}],\"label\":\"2020-12-15\",\"method\":\"animate\"},{\"args\":[[\"2020-12-16\"],{\"frame\":{\"duration\":0,\"redraw\":true},\"fromcurrent\":true,\"mode\":\"immediate\",\"transition\":{\"duration\":0,\"easing\":\"linear\"}}],\"label\":\"2020-12-16\",\"method\":\"animate\"},{\"args\":[[\"2020-12-17\"],{\"frame\":{\"duration\":0,\"redraw\":true},\"fromcurrent\":true,\"mode\":\"immediate\",\"transition\":{\"duration\":0,\"easing\":\"linear\"}}],\"label\":\"2020-12-17\",\"method\":\"animate\"},{\"args\":[[\"2020-12-18\"],{\"frame\":{\"duration\":0,\"redraw\":true},\"fromcurrent\":true,\"mode\":\"immediate\",\"transition\":{\"duration\":0,\"easing\":\"linear\"}}],\"label\":\"2020-12-18\",\"method\":\"animate\"},{\"args\":[[\"2020-12-19\"],{\"frame\":{\"duration\":0,\"redraw\":true},\"fromcurrent\":true,\"mode\":\"immediate\",\"transition\":{\"duration\":0,\"easing\":\"linear\"}}],\"label\":\"2020-12-19\",\"method\":\"animate\"},{\"args\":[[\"2020-12-20\"],{\"frame\":{\"duration\":0,\"redraw\":true},\"fromcurrent\":true,\"mode\":\"immediate\",\"transition\":{\"duration\":0,\"easing\":\"linear\"}}],\"label\":\"2020-12-20\",\"method\":\"animate\"},{\"args\":[[\"2020-12-21\"],{\"frame\":{\"duration\":0,\"redraw\":true},\"fromcurrent\":true,\"mode\":\"immediate\",\"transition\":{\"duration\":0,\"easing\":\"linear\"}}],\"label\":\"2020-12-21\",\"method\":\"animate\"},{\"args\":[[\"2020-12-22\"],{\"frame\":{\"duration\":0,\"redraw\":true},\"fromcurrent\":true,\"mode\":\"immediate\",\"transition\":{\"duration\":0,\"easing\":\"linear\"}}],\"label\":\"2020-12-22\",\"method\":\"animate\"},{\"args\":[[\"2020-12-23\"],{\"frame\":{\"duration\":0,\"redraw\":true},\"fromcurrent\":true,\"mode\":\"immediate\",\"transition\":{\"duration\":0,\"easing\":\"linear\"}}],\"label\":\"2020-12-23\",\"method\":\"animate\"},{\"args\":[[\"2020-12-24\"],{\"frame\":{\"duration\":0,\"redraw\":true},\"fromcurrent\":true,\"mode\":\"immediate\",\"transition\":{\"duration\":0,\"easing\":\"linear\"}}],\"label\":\"2020-12-24\",\"method\":\"animate\"},{\"args\":[[\"2020-12-25\"],{\"frame\":{\"duration\":0,\"redraw\":true},\"fromcurrent\":true,\"mode\":\"immediate\",\"transition\":{\"duration\":0,\"easing\":\"linear\"}}],\"label\":\"2020-12-25\",\"method\":\"animate\"},{\"args\":[[\"2020-12-26\"],{\"frame\":{\"duration\":0,\"redraw\":true},\"fromcurrent\":true,\"mode\":\"immediate\",\"transition\":{\"duration\":0,\"easing\":\"linear\"}}],\"label\":\"2020-12-26\",\"method\":\"animate\"},{\"args\":[[\"2020-12-27\"],{\"frame\":{\"duration\":0,\"redraw\":true},\"fromcurrent\":true,\"mode\":\"immediate\",\"transition\":{\"duration\":0,\"easing\":\"linear\"}}],\"label\":\"2020-12-27\",\"method\":\"animate\"},{\"args\":[[\"2020-12-28\"],{\"frame\":{\"duration\":0,\"redraw\":true},\"fromcurrent\":true,\"mode\":\"immediate\",\"transition\":{\"duration\":0,\"easing\":\"linear\"}}],\"label\":\"2020-12-28\",\"method\":\"animate\"},{\"args\":[[\"2020-12-29\"],{\"frame\":{\"duration\":0,\"redraw\":true},\"fromcurrent\":true,\"mode\":\"immediate\",\"transition\":{\"duration\":0,\"easing\":\"linear\"}}],\"label\":\"2020-12-29\",\"method\":\"animate\"},{\"args\":[[\"2020-12-30\"],{\"frame\":{\"duration\":0,\"redraw\":true},\"fromcurrent\":true,\"mode\":\"immediate\",\"transition\":{\"duration\":0,\"easing\":\"linear\"}}],\"label\":\"2020-12-30\",\"method\":\"animate\"},{\"args\":[[\"2020-12-31\"],{\"frame\":{\"duration\":0,\"redraw\":true},\"fromcurrent\":true,\"mode\":\"immediate\",\"transition\":{\"duration\":0,\"easing\":\"linear\"}}],\"label\":\"2020-12-31\",\"method\":\"animate\"},{\"args\":[[\"2021-01-01\"],{\"frame\":{\"duration\":0,\"redraw\":true},\"fromcurrent\":true,\"mode\":\"immediate\",\"transition\":{\"duration\":0,\"easing\":\"linear\"}}],\"label\":\"2021-01-01\",\"method\":\"animate\"},{\"args\":[[\"2021-01-02\"],{\"frame\":{\"duration\":0,\"redraw\":true},\"fromcurrent\":true,\"mode\":\"immediate\",\"transition\":{\"duration\":0,\"easing\":\"linear\"}}],\"label\":\"2021-01-02\",\"method\":\"animate\"},{\"args\":[[\"2021-01-03\"],{\"frame\":{\"duration\":0,\"redraw\":true},\"fromcurrent\":true,\"mode\":\"immediate\",\"transition\":{\"duration\":0,\"easing\":\"linear\"}}],\"label\":\"2021-01-03\",\"method\":\"animate\"},{\"args\":[[\"2021-01-04\"],{\"frame\":{\"duration\":0,\"redraw\":true},\"fromcurrent\":true,\"mode\":\"immediate\",\"transition\":{\"duration\":0,\"easing\":\"linear\"}}],\"label\":\"2021-01-04\",\"method\":\"animate\"},{\"args\":[[\"2021-01-05\"],{\"frame\":{\"duration\":0,\"redraw\":true},\"fromcurrent\":true,\"mode\":\"immediate\",\"transition\":{\"duration\":0,\"easing\":\"linear\"}}],\"label\":\"2021-01-05\",\"method\":\"animate\"},{\"args\":[[\"2021-01-06\"],{\"frame\":{\"duration\":0,\"redraw\":true},\"fromcurrent\":true,\"mode\":\"immediate\",\"transition\":{\"duration\":0,\"easing\":\"linear\"}}],\"label\":\"2021-01-06\",\"method\":\"animate\"},{\"args\":[[\"2021-01-07\"],{\"frame\":{\"duration\":0,\"redraw\":true},\"fromcurrent\":true,\"mode\":\"immediate\",\"transition\":{\"duration\":0,\"easing\":\"linear\"}}],\"label\":\"2021-01-07\",\"method\":\"animate\"},{\"args\":[[\"2021-01-08\"],{\"frame\":{\"duration\":0,\"redraw\":true},\"fromcurrent\":true,\"mode\":\"immediate\",\"transition\":{\"duration\":0,\"easing\":\"linear\"}}],\"label\":\"2021-01-08\",\"method\":\"animate\"},{\"args\":[[\"2021-01-09\"],{\"frame\":{\"duration\":0,\"redraw\":true},\"fromcurrent\":true,\"mode\":\"immediate\",\"transition\":{\"duration\":0,\"easing\":\"linear\"}}],\"label\":\"2021-01-09\",\"method\":\"animate\"},{\"args\":[[\"2021-01-10\"],{\"frame\":{\"duration\":0,\"redraw\":true},\"fromcurrent\":true,\"mode\":\"immediate\",\"transition\":{\"duration\":0,\"easing\":\"linear\"}}],\"label\":\"2021-01-10\",\"method\":\"animate\"},{\"args\":[[\"2021-01-11\"],{\"frame\":{\"duration\":0,\"redraw\":true},\"fromcurrent\":true,\"mode\":\"immediate\",\"transition\":{\"duration\":0,\"easing\":\"linear\"}}],\"label\":\"2021-01-11\",\"method\":\"animate\"},{\"args\":[[\"2021-01-12\"],{\"frame\":{\"duration\":0,\"redraw\":true},\"fromcurrent\":true,\"mode\":\"immediate\",\"transition\":{\"duration\":0,\"easing\":\"linear\"}}],\"label\":\"2021-01-12\",\"method\":\"animate\"},{\"args\":[[\"2021-01-13\"],{\"frame\":{\"duration\":0,\"redraw\":true},\"fromcurrent\":true,\"mode\":\"immediate\",\"transition\":{\"duration\":0,\"easing\":\"linear\"}}],\"label\":\"2021-01-13\",\"method\":\"animate\"},{\"args\":[[\"2021-01-14\"],{\"frame\":{\"duration\":0,\"redraw\":true},\"fromcurrent\":true,\"mode\":\"immediate\",\"transition\":{\"duration\":0,\"easing\":\"linear\"}}],\"label\":\"2021-01-14\",\"method\":\"animate\"},{\"args\":[[\"2021-01-15\"],{\"frame\":{\"duration\":0,\"redraw\":true},\"fromcurrent\":true,\"mode\":\"immediate\",\"transition\":{\"duration\":0,\"easing\":\"linear\"}}],\"label\":\"2021-01-15\",\"method\":\"animate\"},{\"args\":[[\"2021-01-16\"],{\"frame\":{\"duration\":0,\"redraw\":true},\"fromcurrent\":true,\"mode\":\"immediate\",\"transition\":{\"duration\":0,\"easing\":\"linear\"}}],\"label\":\"2021-01-16\",\"method\":\"animate\"},{\"args\":[[\"2021-01-17\"],{\"frame\":{\"duration\":0,\"redraw\":true},\"fromcurrent\":true,\"mode\":\"immediate\",\"transition\":{\"duration\":0,\"easing\":\"linear\"}}],\"label\":\"2021-01-17\",\"method\":\"animate\"},{\"args\":[[\"2021-01-18\"],{\"frame\":{\"duration\":0,\"redraw\":true},\"fromcurrent\":true,\"mode\":\"immediate\",\"transition\":{\"duration\":0,\"easing\":\"linear\"}}],\"label\":\"2021-01-18\",\"method\":\"animate\"},{\"args\":[[\"2021-01-19\"],{\"frame\":{\"duration\":0,\"redraw\":true},\"fromcurrent\":true,\"mode\":\"immediate\",\"transition\":{\"duration\":0,\"easing\":\"linear\"}}],\"label\":\"2021-01-19\",\"method\":\"animate\"},{\"args\":[[\"2021-01-20\"],{\"frame\":{\"duration\":0,\"redraw\":true},\"fromcurrent\":true,\"mode\":\"immediate\",\"transition\":{\"duration\":0,\"easing\":\"linear\"}}],\"label\":\"2021-01-20\",\"method\":\"animate\"},{\"args\":[[\"2021-01-21\"],{\"frame\":{\"duration\":0,\"redraw\":true},\"fromcurrent\":true,\"mode\":\"immediate\",\"transition\":{\"duration\":0,\"easing\":\"linear\"}}],\"label\":\"2021-01-21\",\"method\":\"animate\"},{\"args\":[[\"2021-01-22\"],{\"frame\":{\"duration\":0,\"redraw\":true},\"fromcurrent\":true,\"mode\":\"immediate\",\"transition\":{\"duration\":0,\"easing\":\"linear\"}}],\"label\":\"2021-01-22\",\"method\":\"animate\"},{\"args\":[[\"2021-01-23\"],{\"frame\":{\"duration\":0,\"redraw\":true},\"fromcurrent\":true,\"mode\":\"immediate\",\"transition\":{\"duration\":0,\"easing\":\"linear\"}}],\"label\":\"2021-01-23\",\"method\":\"animate\"},{\"args\":[[\"2021-01-24\"],{\"frame\":{\"duration\":0,\"redraw\":true},\"fromcurrent\":true,\"mode\":\"immediate\",\"transition\":{\"duration\":0,\"easing\":\"linear\"}}],\"label\":\"2021-01-24\",\"method\":\"animate\"},{\"args\":[[\"2021-01-25\"],{\"frame\":{\"duration\":0,\"redraw\":true},\"fromcurrent\":true,\"mode\":\"immediate\",\"transition\":{\"duration\":0,\"easing\":\"linear\"}}],\"label\":\"2021-01-25\",\"method\":\"animate\"},{\"args\":[[\"2021-01-26\"],{\"frame\":{\"duration\":0,\"redraw\":true},\"fromcurrent\":true,\"mode\":\"immediate\",\"transition\":{\"duration\":0,\"easing\":\"linear\"}}],\"label\":\"2021-01-26\",\"method\":\"animate\"},{\"args\":[[\"2021-01-27\"],{\"frame\":{\"duration\":0,\"redraw\":true},\"fromcurrent\":true,\"mode\":\"immediate\",\"transition\":{\"duration\":0,\"easing\":\"linear\"}}],\"label\":\"2021-01-27\",\"method\":\"animate\"},{\"args\":[[\"2021-01-28\"],{\"frame\":{\"duration\":0,\"redraw\":true},\"fromcurrent\":true,\"mode\":\"immediate\",\"transition\":{\"duration\":0,\"easing\":\"linear\"}}],\"label\":\"2021-01-28\",\"method\":\"animate\"},{\"args\":[[\"2021-01-29\"],{\"frame\":{\"duration\":0,\"redraw\":true},\"fromcurrent\":true,\"mode\":\"immediate\",\"transition\":{\"duration\":0,\"easing\":\"linear\"}}],\"label\":\"2021-01-29\",\"method\":\"animate\"},{\"args\":[[\"2021-01-30\"],{\"frame\":{\"duration\":0,\"redraw\":true},\"fromcurrent\":true,\"mode\":\"immediate\",\"transition\":{\"duration\":0,\"easing\":\"linear\"}}],\"label\":\"2021-01-30\",\"method\":\"animate\"},{\"args\":[[\"2021-01-31\"],{\"frame\":{\"duration\":0,\"redraw\":true},\"fromcurrent\":true,\"mode\":\"immediate\",\"transition\":{\"duration\":0,\"easing\":\"linear\"}}],\"label\":\"2021-01-31\",\"method\":\"animate\"},{\"args\":[[\"2021-02-01\"],{\"frame\":{\"duration\":0,\"redraw\":true},\"fromcurrent\":true,\"mode\":\"immediate\",\"transition\":{\"duration\":0,\"easing\":\"linear\"}}],\"label\":\"2021-02-01\",\"method\":\"animate\"},{\"args\":[[\"2021-02-02\"],{\"frame\":{\"duration\":0,\"redraw\":true},\"fromcurrent\":true,\"mode\":\"immediate\",\"transition\":{\"duration\":0,\"easing\":\"linear\"}}],\"label\":\"2021-02-02\",\"method\":\"animate\"},{\"args\":[[\"2021-02-03\"],{\"frame\":{\"duration\":0,\"redraw\":true},\"fromcurrent\":true,\"mode\":\"immediate\",\"transition\":{\"duration\":0,\"easing\":\"linear\"}}],\"label\":\"2021-02-03\",\"method\":\"animate\"},{\"args\":[[\"2021-02-04\"],{\"frame\":{\"duration\":0,\"redraw\":true},\"fromcurrent\":true,\"mode\":\"immediate\",\"transition\":{\"duration\":0,\"easing\":\"linear\"}}],\"label\":\"2021-02-04\",\"method\":\"animate\"},{\"args\":[[\"2021-02-05\"],{\"frame\":{\"duration\":0,\"redraw\":true},\"fromcurrent\":true,\"mode\":\"immediate\",\"transition\":{\"duration\":0,\"easing\":\"linear\"}}],\"label\":\"2021-02-05\",\"method\":\"animate\"},{\"args\":[[\"2021-02-06\"],{\"frame\":{\"duration\":0,\"redraw\":true},\"fromcurrent\":true,\"mode\":\"immediate\",\"transition\":{\"duration\":0,\"easing\":\"linear\"}}],\"label\":\"2021-02-06\",\"method\":\"animate\"},{\"args\":[[\"2021-02-07\"],{\"frame\":{\"duration\":0,\"redraw\":true},\"fromcurrent\":true,\"mode\":\"immediate\",\"transition\":{\"duration\":0,\"easing\":\"linear\"}}],\"label\":\"2021-02-07\",\"method\":\"animate\"},{\"args\":[[\"2021-02-08\"],{\"frame\":{\"duration\":0,\"redraw\":true},\"fromcurrent\":true,\"mode\":\"immediate\",\"transition\":{\"duration\":0,\"easing\":\"linear\"}}],\"label\":\"2021-02-08\",\"method\":\"animate\"},{\"args\":[[\"2021-02-09\"],{\"frame\":{\"duration\":0,\"redraw\":true},\"fromcurrent\":true,\"mode\":\"immediate\",\"transition\":{\"duration\":0,\"easing\":\"linear\"}}],\"label\":\"2021-02-09\",\"method\":\"animate\"},{\"args\":[[\"2021-02-10\"],{\"frame\":{\"duration\":0,\"redraw\":true},\"fromcurrent\":true,\"mode\":\"immediate\",\"transition\":{\"duration\":0,\"easing\":\"linear\"}}],\"label\":\"2021-02-10\",\"method\":\"animate\"},{\"args\":[[\"2021-02-11\"],{\"frame\":{\"duration\":0,\"redraw\":true},\"fromcurrent\":true,\"mode\":\"immediate\",\"transition\":{\"duration\":0,\"easing\":\"linear\"}}],\"label\":\"2021-02-11\",\"method\":\"animate\"},{\"args\":[[\"2021-02-12\"],{\"frame\":{\"duration\":0,\"redraw\":true},\"fromcurrent\":true,\"mode\":\"immediate\",\"transition\":{\"duration\":0,\"easing\":\"linear\"}}],\"label\":\"2021-02-12\",\"method\":\"animate\"},{\"args\":[[\"2021-02-13\"],{\"frame\":{\"duration\":0,\"redraw\":true},\"fromcurrent\":true,\"mode\":\"immediate\",\"transition\":{\"duration\":0,\"easing\":\"linear\"}}],\"label\":\"2021-02-13\",\"method\":\"animate\"},{\"args\":[[\"2021-02-14\"],{\"frame\":{\"duration\":0,\"redraw\":true},\"fromcurrent\":true,\"mode\":\"immediate\",\"transition\":{\"duration\":0,\"easing\":\"linear\"}}],\"label\":\"2021-02-14\",\"method\":\"animate\"},{\"args\":[[\"2021-02-15\"],{\"frame\":{\"duration\":0,\"redraw\":true},\"fromcurrent\":true,\"mode\":\"immediate\",\"transition\":{\"duration\":0,\"easing\":\"linear\"}}],\"label\":\"2021-02-15\",\"method\":\"animate\"},{\"args\":[[\"2021-02-16\"],{\"frame\":{\"duration\":0,\"redraw\":true},\"fromcurrent\":true,\"mode\":\"immediate\",\"transition\":{\"duration\":0,\"easing\":\"linear\"}}],\"label\":\"2021-02-16\",\"method\":\"animate\"},{\"args\":[[\"2021-02-17\"],{\"frame\":{\"duration\":0,\"redraw\":true},\"fromcurrent\":true,\"mode\":\"immediate\",\"transition\":{\"duration\":0,\"easing\":\"linear\"}}],\"label\":\"2021-02-17\",\"method\":\"animate\"},{\"args\":[[\"2021-02-18\"],{\"frame\":{\"duration\":0,\"redraw\":true},\"fromcurrent\":true,\"mode\":\"immediate\",\"transition\":{\"duration\":0,\"easing\":\"linear\"}}],\"label\":\"2021-02-18\",\"method\":\"animate\"},{\"args\":[[\"2021-02-19\"],{\"frame\":{\"duration\":0,\"redraw\":true},\"fromcurrent\":true,\"mode\":\"immediate\",\"transition\":{\"duration\":0,\"easing\":\"linear\"}}],\"label\":\"2021-02-19\",\"method\":\"animate\"},{\"args\":[[\"2021-02-20\"],{\"frame\":{\"duration\":0,\"redraw\":true},\"fromcurrent\":true,\"mode\":\"immediate\",\"transition\":{\"duration\":0,\"easing\":\"linear\"}}],\"label\":\"2021-02-20\",\"method\":\"animate\"},{\"args\":[[\"2021-02-21\"],{\"frame\":{\"duration\":0,\"redraw\":true},\"fromcurrent\":true,\"mode\":\"immediate\",\"transition\":{\"duration\":0,\"easing\":\"linear\"}}],\"label\":\"2021-02-21\",\"method\":\"animate\"},{\"args\":[[\"2021-02-22\"],{\"frame\":{\"duration\":0,\"redraw\":true},\"fromcurrent\":true,\"mode\":\"immediate\",\"transition\":{\"duration\":0,\"easing\":\"linear\"}}],\"label\":\"2021-02-22\",\"method\":\"animate\"},{\"args\":[[\"2021-02-23\"],{\"frame\":{\"duration\":0,\"redraw\":true},\"fromcurrent\":true,\"mode\":\"immediate\",\"transition\":{\"duration\":0,\"easing\":\"linear\"}}],\"label\":\"2021-02-23\",\"method\":\"animate\"},{\"args\":[[\"2021-02-24\"],{\"frame\":{\"duration\":0,\"redraw\":true},\"fromcurrent\":true,\"mode\":\"immediate\",\"transition\":{\"duration\":0,\"easing\":\"linear\"}}],\"label\":\"2021-02-24\",\"method\":\"animate\"},{\"args\":[[\"2021-02-25\"],{\"frame\":{\"duration\":0,\"redraw\":true},\"fromcurrent\":true,\"mode\":\"immediate\",\"transition\":{\"duration\":0,\"easing\":\"linear\"}}],\"label\":\"2021-02-25\",\"method\":\"animate\"},{\"args\":[[\"2021-02-26\"],{\"frame\":{\"duration\":0,\"redraw\":true},\"fromcurrent\":true,\"mode\":\"immediate\",\"transition\":{\"duration\":0,\"easing\":\"linear\"}}],\"label\":\"2021-02-26\",\"method\":\"animate\"},{\"args\":[[\"2021-02-27\"],{\"frame\":{\"duration\":0,\"redraw\":true},\"fromcurrent\":true,\"mode\":\"immediate\",\"transition\":{\"duration\":0,\"easing\":\"linear\"}}],\"label\":\"2021-02-27\",\"method\":\"animate\"},{\"args\":[[\"2021-02-28\"],{\"frame\":{\"duration\":0,\"redraw\":true},\"fromcurrent\":true,\"mode\":\"immediate\",\"transition\":{\"duration\":0,\"easing\":\"linear\"}}],\"label\":\"2021-02-28\",\"method\":\"animate\"},{\"args\":[[\"2021-03-01\"],{\"frame\":{\"duration\":0,\"redraw\":true},\"fromcurrent\":true,\"mode\":\"immediate\",\"transition\":{\"duration\":0,\"easing\":\"linear\"}}],\"label\":\"2021-03-01\",\"method\":\"animate\"},{\"args\":[[\"2021-03-02\"],{\"frame\":{\"duration\":0,\"redraw\":true},\"fromcurrent\":true,\"mode\":\"immediate\",\"transition\":{\"duration\":0,\"easing\":\"linear\"}}],\"label\":\"2021-03-02\",\"method\":\"animate\"},{\"args\":[[\"2021-03-03\"],{\"frame\":{\"duration\":0,\"redraw\":true},\"fromcurrent\":true,\"mode\":\"immediate\",\"transition\":{\"duration\":0,\"easing\":\"linear\"}}],\"label\":\"2021-03-03\",\"method\":\"animate\"},{\"args\":[[\"2021-03-04\"],{\"frame\":{\"duration\":0,\"redraw\":true},\"fromcurrent\":true,\"mode\":\"immediate\",\"transition\":{\"duration\":0,\"easing\":\"linear\"}}],\"label\":\"2021-03-04\",\"method\":\"animate\"},{\"args\":[[\"2021-03-05\"],{\"frame\":{\"duration\":0,\"redraw\":true},\"fromcurrent\":true,\"mode\":\"immediate\",\"transition\":{\"duration\":0,\"easing\":\"linear\"}}],\"label\":\"2021-03-05\",\"method\":\"animate\"},{\"args\":[[\"2021-03-06\"],{\"frame\":{\"duration\":0,\"redraw\":true},\"fromcurrent\":true,\"mode\":\"immediate\",\"transition\":{\"duration\":0,\"easing\":\"linear\"}}],\"label\":\"2021-03-06\",\"method\":\"animate\"},{\"args\":[[\"2021-03-07\"],{\"frame\":{\"duration\":0,\"redraw\":true},\"fromcurrent\":true,\"mode\":\"immediate\",\"transition\":{\"duration\":0,\"easing\":\"linear\"}}],\"label\":\"2021-03-07\",\"method\":\"animate\"},{\"args\":[[\"2021-03-08\"],{\"frame\":{\"duration\":0,\"redraw\":true},\"fromcurrent\":true,\"mode\":\"immediate\",\"transition\":{\"duration\":0,\"easing\":\"linear\"}}],\"label\":\"2021-03-08\",\"method\":\"animate\"},{\"args\":[[\"2021-03-09\"],{\"frame\":{\"duration\":0,\"redraw\":true},\"fromcurrent\":true,\"mode\":\"immediate\",\"transition\":{\"duration\":0,\"easing\":\"linear\"}}],\"label\":\"2021-03-09\",\"method\":\"animate\"},{\"args\":[[\"2021-03-10\"],{\"frame\":{\"duration\":0,\"redraw\":true},\"fromcurrent\":true,\"mode\":\"immediate\",\"transition\":{\"duration\":0,\"easing\":\"linear\"}}],\"label\":\"2021-03-10\",\"method\":\"animate\"},{\"args\":[[\"2021-03-11\"],{\"frame\":{\"duration\":0,\"redraw\":true},\"fromcurrent\":true,\"mode\":\"immediate\",\"transition\":{\"duration\":0,\"easing\":\"linear\"}}],\"label\":\"2021-03-11\",\"method\":\"animate\"},{\"args\":[[\"2021-03-12\"],{\"frame\":{\"duration\":0,\"redraw\":true},\"fromcurrent\":true,\"mode\":\"immediate\",\"transition\":{\"duration\":0,\"easing\":\"linear\"}}],\"label\":\"2021-03-12\",\"method\":\"animate\"},{\"args\":[[\"2021-03-13\"],{\"frame\":{\"duration\":0,\"redraw\":true},\"fromcurrent\":true,\"mode\":\"immediate\",\"transition\":{\"duration\":0,\"easing\":\"linear\"}}],\"label\":\"2021-03-13\",\"method\":\"animate\"},{\"args\":[[\"2021-03-14\"],{\"frame\":{\"duration\":0,\"redraw\":true},\"fromcurrent\":true,\"mode\":\"immediate\",\"transition\":{\"duration\":0,\"easing\":\"linear\"}}],\"label\":\"2021-03-14\",\"method\":\"animate\"},{\"args\":[[\"2021-03-15\"],{\"frame\":{\"duration\":0,\"redraw\":true},\"fromcurrent\":true,\"mode\":\"immediate\",\"transition\":{\"duration\":0,\"easing\":\"linear\"}}],\"label\":\"2021-03-15\",\"method\":\"animate\"},{\"args\":[[\"2021-03-16\"],{\"frame\":{\"duration\":0,\"redraw\":true},\"fromcurrent\":true,\"mode\":\"immediate\",\"transition\":{\"duration\":0,\"easing\":\"linear\"}}],\"label\":\"2021-03-16\",\"method\":\"animate\"},{\"args\":[[\"2021-03-17\"],{\"frame\":{\"duration\":0,\"redraw\":true},\"fromcurrent\":true,\"mode\":\"immediate\",\"transition\":{\"duration\":0,\"easing\":\"linear\"}}],\"label\":\"2021-03-17\",\"method\":\"animate\"},{\"args\":[[\"2021-03-18\"],{\"frame\":{\"duration\":0,\"redraw\":true},\"fromcurrent\":true,\"mode\":\"immediate\",\"transition\":{\"duration\":0,\"easing\":\"linear\"}}],\"label\":\"2021-03-18\",\"method\":\"animate\"},{\"args\":[[\"2021-03-19\"],{\"frame\":{\"duration\":0,\"redraw\":true},\"fromcurrent\":true,\"mode\":\"immediate\",\"transition\":{\"duration\":0,\"easing\":\"linear\"}}],\"label\":\"2021-03-19\",\"method\":\"animate\"},{\"args\":[[\"2021-03-20\"],{\"frame\":{\"duration\":0,\"redraw\":true},\"fromcurrent\":true,\"mode\":\"immediate\",\"transition\":{\"duration\":0,\"easing\":\"linear\"}}],\"label\":\"2021-03-20\",\"method\":\"animate\"},{\"args\":[[\"2021-03-21\"],{\"frame\":{\"duration\":0,\"redraw\":true},\"fromcurrent\":true,\"mode\":\"immediate\",\"transition\":{\"duration\":0,\"easing\":\"linear\"}}],\"label\":\"2021-03-21\",\"method\":\"animate\"},{\"args\":[[\"2021-03-22\"],{\"frame\":{\"duration\":0,\"redraw\":true},\"fromcurrent\":true,\"mode\":\"immediate\",\"transition\":{\"duration\":0,\"easing\":\"linear\"}}],\"label\":\"2021-03-22\",\"method\":\"animate\"},{\"args\":[[\"2021-03-23\"],{\"frame\":{\"duration\":0,\"redraw\":true},\"fromcurrent\":true,\"mode\":\"immediate\",\"transition\":{\"duration\":0,\"easing\":\"linear\"}}],\"label\":\"2021-03-23\",\"method\":\"animate\"},{\"args\":[[\"2021-03-24\"],{\"frame\":{\"duration\":0,\"redraw\":true},\"fromcurrent\":true,\"mode\":\"immediate\",\"transition\":{\"duration\":0,\"easing\":\"linear\"}}],\"label\":\"2021-03-24\",\"method\":\"animate\"},{\"args\":[[\"2021-03-25\"],{\"frame\":{\"duration\":0,\"redraw\":true},\"fromcurrent\":true,\"mode\":\"immediate\",\"transition\":{\"duration\":0,\"easing\":\"linear\"}}],\"label\":\"2021-03-25\",\"method\":\"animate\"},{\"args\":[[\"2021-03-26\"],{\"frame\":{\"duration\":0,\"redraw\":true},\"fromcurrent\":true,\"mode\":\"immediate\",\"transition\":{\"duration\":0,\"easing\":\"linear\"}}],\"label\":\"2021-03-26\",\"method\":\"animate\"},{\"args\":[[\"2021-03-27\"],{\"frame\":{\"duration\":0,\"redraw\":true},\"fromcurrent\":true,\"mode\":\"immediate\",\"transition\":{\"duration\":0,\"easing\":\"linear\"}}],\"label\":\"2021-03-27\",\"method\":\"animate\"},{\"args\":[[\"2021-03-28\"],{\"frame\":{\"duration\":0,\"redraw\":true},\"fromcurrent\":true,\"mode\":\"immediate\",\"transition\":{\"duration\":0,\"easing\":\"linear\"}}],\"label\":\"2021-03-28\",\"method\":\"animate\"},{\"args\":[[\"2021-03-29\"],{\"frame\":{\"duration\":0,\"redraw\":true},\"fromcurrent\":true,\"mode\":\"immediate\",\"transition\":{\"duration\":0,\"easing\":\"linear\"}}],\"label\":\"2021-03-29\",\"method\":\"animate\"},{\"args\":[[\"2021-03-30\"],{\"frame\":{\"duration\":0,\"redraw\":true},\"fromcurrent\":true,\"mode\":\"immediate\",\"transition\":{\"duration\":0,\"easing\":\"linear\"}}],\"label\":\"2021-03-30\",\"method\":\"animate\"},{\"args\":[[\"2021-03-31\"],{\"frame\":{\"duration\":0,\"redraw\":true},\"fromcurrent\":true,\"mode\":\"immediate\",\"transition\":{\"duration\":0,\"easing\":\"linear\"}}],\"label\":\"2021-03-31\",\"method\":\"animate\"},{\"args\":[[\"2021-04-01\"],{\"frame\":{\"duration\":0,\"redraw\":true},\"fromcurrent\":true,\"mode\":\"immediate\",\"transition\":{\"duration\":0,\"easing\":\"linear\"}}],\"label\":\"2021-04-01\",\"method\":\"animate\"},{\"args\":[[\"2021-04-02\"],{\"frame\":{\"duration\":0,\"redraw\":true},\"fromcurrent\":true,\"mode\":\"immediate\",\"transition\":{\"duration\":0,\"easing\":\"linear\"}}],\"label\":\"2021-04-02\",\"method\":\"animate\"},{\"args\":[[\"2021-04-03\"],{\"frame\":{\"duration\":0,\"redraw\":true},\"fromcurrent\":true,\"mode\":\"immediate\",\"transition\":{\"duration\":0,\"easing\":\"linear\"}}],\"label\":\"2021-04-03\",\"method\":\"animate\"},{\"args\":[[\"2021-04-04\"],{\"frame\":{\"duration\":0,\"redraw\":true},\"fromcurrent\":true,\"mode\":\"immediate\",\"transition\":{\"duration\":0,\"easing\":\"linear\"}}],\"label\":\"2021-04-04\",\"method\":\"animate\"},{\"args\":[[\"2021-04-05\"],{\"frame\":{\"duration\":0,\"redraw\":true},\"fromcurrent\":true,\"mode\":\"immediate\",\"transition\":{\"duration\":0,\"easing\":\"linear\"}}],\"label\":\"2021-04-05\",\"method\":\"animate\"},{\"args\":[[\"2021-04-06\"],{\"frame\":{\"duration\":0,\"redraw\":true},\"fromcurrent\":true,\"mode\":\"immediate\",\"transition\":{\"duration\":0,\"easing\":\"linear\"}}],\"label\":\"2021-04-06\",\"method\":\"animate\"},{\"args\":[[\"2021-04-07\"],{\"frame\":{\"duration\":0,\"redraw\":true},\"fromcurrent\":true,\"mode\":\"immediate\",\"transition\":{\"duration\":0,\"easing\":\"linear\"}}],\"label\":\"2021-04-07\",\"method\":\"animate\"},{\"args\":[[\"2021-04-08\"],{\"frame\":{\"duration\":0,\"redraw\":true},\"fromcurrent\":true,\"mode\":\"immediate\",\"transition\":{\"duration\":0,\"easing\":\"linear\"}}],\"label\":\"2021-04-08\",\"method\":\"animate\"},{\"args\":[[\"2021-04-09\"],{\"frame\":{\"duration\":0,\"redraw\":true},\"fromcurrent\":true,\"mode\":\"immediate\",\"transition\":{\"duration\":0,\"easing\":\"linear\"}}],\"label\":\"2021-04-09\",\"method\":\"animate\"},{\"args\":[[\"2021-04-10\"],{\"frame\":{\"duration\":0,\"redraw\":true},\"fromcurrent\":true,\"mode\":\"immediate\",\"transition\":{\"duration\":0,\"easing\":\"linear\"}}],\"label\":\"2021-04-10\",\"method\":\"animate\"},{\"args\":[[\"2021-04-11\"],{\"frame\":{\"duration\":0,\"redraw\":true},\"fromcurrent\":true,\"mode\":\"immediate\",\"transition\":{\"duration\":0,\"easing\":\"linear\"}}],\"label\":\"2021-04-11\",\"method\":\"animate\"},{\"args\":[[\"2021-04-12\"],{\"frame\":{\"duration\":0,\"redraw\":true},\"fromcurrent\":true,\"mode\":\"immediate\",\"transition\":{\"duration\":0,\"easing\":\"linear\"}}],\"label\":\"2021-04-12\",\"method\":\"animate\"},{\"args\":[[\"2021-04-13\"],{\"frame\":{\"duration\":0,\"redraw\":true},\"fromcurrent\":true,\"mode\":\"immediate\",\"transition\":{\"duration\":0,\"easing\":\"linear\"}}],\"label\":\"2021-04-13\",\"method\":\"animate\"},{\"args\":[[\"2021-04-14\"],{\"frame\":{\"duration\":0,\"redraw\":true},\"fromcurrent\":true,\"mode\":\"immediate\",\"transition\":{\"duration\":0,\"easing\":\"linear\"}}],\"label\":\"2021-04-14\",\"method\":\"animate\"},{\"args\":[[\"2021-04-15\"],{\"frame\":{\"duration\":0,\"redraw\":true},\"fromcurrent\":true,\"mode\":\"immediate\",\"transition\":{\"duration\":0,\"easing\":\"linear\"}}],\"label\":\"2021-04-15\",\"method\":\"animate\"},{\"args\":[[\"2021-04-16\"],{\"frame\":{\"duration\":0,\"redraw\":true},\"fromcurrent\":true,\"mode\":\"immediate\",\"transition\":{\"duration\":0,\"easing\":\"linear\"}}],\"label\":\"2021-04-16\",\"method\":\"animate\"},{\"args\":[[\"2021-04-17\"],{\"frame\":{\"duration\":0,\"redraw\":true},\"fromcurrent\":true,\"mode\":\"immediate\",\"transition\":{\"duration\":0,\"easing\":\"linear\"}}],\"label\":\"2021-04-17\",\"method\":\"animate\"},{\"args\":[[\"2021-04-18\"],{\"frame\":{\"duration\":0,\"redraw\":true},\"fromcurrent\":true,\"mode\":\"immediate\",\"transition\":{\"duration\":0,\"easing\":\"linear\"}}],\"label\":\"2021-04-18\",\"method\":\"animate\"},{\"args\":[[\"2021-04-19\"],{\"frame\":{\"duration\":0,\"redraw\":true},\"fromcurrent\":true,\"mode\":\"immediate\",\"transition\":{\"duration\":0,\"easing\":\"linear\"}}],\"label\":\"2021-04-19\",\"method\":\"animate\"},{\"args\":[[\"2021-04-20\"],{\"frame\":{\"duration\":0,\"redraw\":true},\"fromcurrent\":true,\"mode\":\"immediate\",\"transition\":{\"duration\":0,\"easing\":\"linear\"}}],\"label\":\"2021-04-20\",\"method\":\"animate\"},{\"args\":[[\"2021-04-21\"],{\"frame\":{\"duration\":0,\"redraw\":true},\"fromcurrent\":true,\"mode\":\"immediate\",\"transition\":{\"duration\":0,\"easing\":\"linear\"}}],\"label\":\"2021-04-21\",\"method\":\"animate\"},{\"args\":[[\"2021-04-22\"],{\"frame\":{\"duration\":0,\"redraw\":true},\"fromcurrent\":true,\"mode\":\"immediate\",\"transition\":{\"duration\":0,\"easing\":\"linear\"}}],\"label\":\"2021-04-22\",\"method\":\"animate\"},{\"args\":[[\"2021-05-13\"],{\"frame\":{\"duration\":0,\"redraw\":true},\"fromcurrent\":true,\"mode\":\"immediate\",\"transition\":{\"duration\":0,\"easing\":\"linear\"}}],\"label\":\"2021-05-13\",\"method\":\"animate\"},{\"args\":[[\"2021-05-14\"],{\"frame\":{\"duration\":0,\"redraw\":true},\"fromcurrent\":true,\"mode\":\"immediate\",\"transition\":{\"duration\":0,\"easing\":\"linear\"}}],\"label\":\"2021-05-14\",\"method\":\"animate\"},{\"args\":[[\"2021-05-15\"],{\"frame\":{\"duration\":0,\"redraw\":true},\"fromcurrent\":true,\"mode\":\"immediate\",\"transition\":{\"duration\":0,\"easing\":\"linear\"}}],\"label\":\"2021-05-15\",\"method\":\"animate\"},{\"args\":[[\"2021-05-16\"],{\"frame\":{\"duration\":0,\"redraw\":true},\"fromcurrent\":true,\"mode\":\"immediate\",\"transition\":{\"duration\":0,\"easing\":\"linear\"}}],\"label\":\"2021-05-16\",\"method\":\"animate\"},{\"args\":[[\"2021-05-17\"],{\"frame\":{\"duration\":0,\"redraw\":true},\"fromcurrent\":true,\"mode\":\"immediate\",\"transition\":{\"duration\":0,\"easing\":\"linear\"}}],\"label\":\"2021-05-17\",\"method\":\"animate\"},{\"args\":[[\"2021-05-18\"],{\"frame\":{\"duration\":0,\"redraw\":true},\"fromcurrent\":true,\"mode\":\"immediate\",\"transition\":{\"duration\":0,\"easing\":\"linear\"}}],\"label\":\"2021-05-18\",\"method\":\"animate\"},{\"args\":[[\"2021-05-19\"],{\"frame\":{\"duration\":0,\"redraw\":true},\"fromcurrent\":true,\"mode\":\"immediate\",\"transition\":{\"duration\":0,\"easing\":\"linear\"}}],\"label\":\"2021-05-19\",\"method\":\"animate\"},{\"args\":[[\"2021-05-20\"],{\"frame\":{\"duration\":0,\"redraw\":true},\"fromcurrent\":true,\"mode\":\"immediate\",\"transition\":{\"duration\":0,\"easing\":\"linear\"}}],\"label\":\"2021-05-20\",\"method\":\"animate\"},{\"args\":[[\"2021-05-21\"],{\"frame\":{\"duration\":0,\"redraw\":true},\"fromcurrent\":true,\"mode\":\"immediate\",\"transition\":{\"duration\":0,\"easing\":\"linear\"}}],\"label\":\"2021-05-21\",\"method\":\"animate\"},{\"args\":[[\"2021-05-22\"],{\"frame\":{\"duration\":0,\"redraw\":true},\"fromcurrent\":true,\"mode\":\"immediate\",\"transition\":{\"duration\":0,\"easing\":\"linear\"}}],\"label\":\"2021-05-22\",\"method\":\"animate\"},{\"args\":[[\"2021-05-23\"],{\"frame\":{\"duration\":0,\"redraw\":true},\"fromcurrent\":true,\"mode\":\"immediate\",\"transition\":{\"duration\":0,\"easing\":\"linear\"}}],\"label\":\"2021-05-23\",\"method\":\"animate\"},{\"args\":[[\"2021-05-24\"],{\"frame\":{\"duration\":0,\"redraw\":true},\"fromcurrent\":true,\"mode\":\"immediate\",\"transition\":{\"duration\":0,\"easing\":\"linear\"}}],\"label\":\"2021-05-24\",\"method\":\"animate\"},{\"args\":[[\"2021-05-25\"],{\"frame\":{\"duration\":0,\"redraw\":true},\"fromcurrent\":true,\"mode\":\"immediate\",\"transition\":{\"duration\":0,\"easing\":\"linear\"}}],\"label\":\"2021-05-25\",\"method\":\"animate\"},{\"args\":[[\"2021-05-26\"],{\"frame\":{\"duration\":0,\"redraw\":true},\"fromcurrent\":true,\"mode\":\"immediate\",\"transition\":{\"duration\":0,\"easing\":\"linear\"}}],\"label\":\"2021-05-26\",\"method\":\"animate\"},{\"args\":[[\"2021-05-27\"],{\"frame\":{\"duration\":0,\"redraw\":true},\"fromcurrent\":true,\"mode\":\"immediate\",\"transition\":{\"duration\":0,\"easing\":\"linear\"}}],\"label\":\"2021-05-27\",\"method\":\"animate\"},{\"args\":[[\"2021-05-28\"],{\"frame\":{\"duration\":0,\"redraw\":true},\"fromcurrent\":true,\"mode\":\"immediate\",\"transition\":{\"duration\":0,\"easing\":\"linear\"}}],\"label\":\"2021-05-28\",\"method\":\"animate\"},{\"args\":[[\"2021-05-29\"],{\"frame\":{\"duration\":0,\"redraw\":true},\"fromcurrent\":true,\"mode\":\"immediate\",\"transition\":{\"duration\":0,\"easing\":\"linear\"}}],\"label\":\"2021-05-29\",\"method\":\"animate\"},{\"args\":[[\"2021-05-30\"],{\"frame\":{\"duration\":0,\"redraw\":true},\"fromcurrent\":true,\"mode\":\"immediate\",\"transition\":{\"duration\":0,\"easing\":\"linear\"}}],\"label\":\"2021-05-30\",\"method\":\"animate\"},{\"args\":[[\"2021-05-31\"],{\"frame\":{\"duration\":0,\"redraw\":true},\"fromcurrent\":true,\"mode\":\"immediate\",\"transition\":{\"duration\":0,\"easing\":\"linear\"}}],\"label\":\"2021-05-31\",\"method\":\"animate\"},{\"args\":[[\"2021-06-01\"],{\"frame\":{\"duration\":0,\"redraw\":true},\"fromcurrent\":true,\"mode\":\"immediate\",\"transition\":{\"duration\":0,\"easing\":\"linear\"}}],\"label\":\"2021-06-01\",\"method\":\"animate\"},{\"args\":[[\"2021-06-02\"],{\"frame\":{\"duration\":0,\"redraw\":true},\"fromcurrent\":true,\"mode\":\"immediate\",\"transition\":{\"duration\":0,\"easing\":\"linear\"}}],\"label\":\"2021-06-02\",\"method\":\"animate\"},{\"args\":[[\"2021-06-03\"],{\"frame\":{\"duration\":0,\"redraw\":true},\"fromcurrent\":true,\"mode\":\"immediate\",\"transition\":{\"duration\":0,\"easing\":\"linear\"}}],\"label\":\"2021-06-03\",\"method\":\"animate\"},{\"args\":[[\"2021-06-04\"],{\"frame\":{\"duration\":0,\"redraw\":true},\"fromcurrent\":true,\"mode\":\"immediate\",\"transition\":{\"duration\":0,\"easing\":\"linear\"}}],\"label\":\"2021-06-04\",\"method\":\"animate\"},{\"args\":[[\"2021-06-05\"],{\"frame\":{\"duration\":0,\"redraw\":true},\"fromcurrent\":true,\"mode\":\"immediate\",\"transition\":{\"duration\":0,\"easing\":\"linear\"}}],\"label\":\"2021-06-05\",\"method\":\"animate\"},{\"args\":[[\"2021-06-06\"],{\"frame\":{\"duration\":0,\"redraw\":true},\"fromcurrent\":true,\"mode\":\"immediate\",\"transition\":{\"duration\":0,\"easing\":\"linear\"}}],\"label\":\"2021-06-06\",\"method\":\"animate\"},{\"args\":[[\"2021-06-07\"],{\"frame\":{\"duration\":0,\"redraw\":true},\"fromcurrent\":true,\"mode\":\"immediate\",\"transition\":{\"duration\":0,\"easing\":\"linear\"}}],\"label\":\"2021-06-07\",\"method\":\"animate\"},{\"args\":[[\"2021-06-08\"],{\"frame\":{\"duration\":0,\"redraw\":true},\"fromcurrent\":true,\"mode\":\"immediate\",\"transition\":{\"duration\":0,\"easing\":\"linear\"}}],\"label\":\"2021-06-08\",\"method\":\"animate\"},{\"args\":[[\"2021-06-09\"],{\"frame\":{\"duration\":0,\"redraw\":true},\"fromcurrent\":true,\"mode\":\"immediate\",\"transition\":{\"duration\":0,\"easing\":\"linear\"}}],\"label\":\"2021-06-09\",\"method\":\"animate\"},{\"args\":[[\"2021-06-10\"],{\"frame\":{\"duration\":0,\"redraw\":true},\"fromcurrent\":true,\"mode\":\"immediate\",\"transition\":{\"duration\":0,\"easing\":\"linear\"}}],\"label\":\"2021-06-10\",\"method\":\"animate\"},{\"args\":[[\"2021-06-11\"],{\"frame\":{\"duration\":0,\"redraw\":true},\"fromcurrent\":true,\"mode\":\"immediate\",\"transition\":{\"duration\":0,\"easing\":\"linear\"}}],\"label\":\"2021-06-11\",\"method\":\"animate\"},{\"args\":[[\"2021-06-12\"],{\"frame\":{\"duration\":0,\"redraw\":true},\"fromcurrent\":true,\"mode\":\"immediate\",\"transition\":{\"duration\":0,\"easing\":\"linear\"}}],\"label\":\"2021-06-12\",\"method\":\"animate\"},{\"args\":[[\"2021-06-13\"],{\"frame\":{\"duration\":0,\"redraw\":true},\"fromcurrent\":true,\"mode\":\"immediate\",\"transition\":{\"duration\":0,\"easing\":\"linear\"}}],\"label\":\"2021-06-13\",\"method\":\"animate\"},{\"args\":[[\"2021-06-14\"],{\"frame\":{\"duration\":0,\"redraw\":true},\"fromcurrent\":true,\"mode\":\"immediate\",\"transition\":{\"duration\":0,\"easing\":\"linear\"}}],\"label\":\"2021-06-14\",\"method\":\"animate\"},{\"args\":[[\"2021-06-15\"],{\"frame\":{\"duration\":0,\"redraw\":true},\"fromcurrent\":true,\"mode\":\"immediate\",\"transition\":{\"duration\":0,\"easing\":\"linear\"}}],\"label\":\"2021-06-15\",\"method\":\"animate\"},{\"args\":[[\"2021-06-16\"],{\"frame\":{\"duration\":0,\"redraw\":true},\"fromcurrent\":true,\"mode\":\"immediate\",\"transition\":{\"duration\":0,\"easing\":\"linear\"}}],\"label\":\"2021-06-16\",\"method\":\"animate\"},{\"args\":[[\"2021-06-17\"],{\"frame\":{\"duration\":0,\"redraw\":true},\"fromcurrent\":true,\"mode\":\"immediate\",\"transition\":{\"duration\":0,\"easing\":\"linear\"}}],\"label\":\"2021-06-17\",\"method\":\"animate\"},{\"args\":[[\"2021-06-18\"],{\"frame\":{\"duration\":0,\"redraw\":true},\"fromcurrent\":true,\"mode\":\"immediate\",\"transition\":{\"duration\":0,\"easing\":\"linear\"}}],\"label\":\"2021-06-18\",\"method\":\"animate\"},{\"args\":[[\"2021-06-19\"],{\"frame\":{\"duration\":0,\"redraw\":true},\"fromcurrent\":true,\"mode\":\"immediate\",\"transition\":{\"duration\":0,\"easing\":\"linear\"}}],\"label\":\"2021-06-19\",\"method\":\"animate\"}],\"x\":0.1,\"xanchor\":\"left\",\"y\":0,\"yanchor\":\"top\"}],\"template\":{\"data\":{\"bar\":[{\"error_x\":{\"color\":\"#2a3f5f\"},\"error_y\":{\"color\":\"#2a3f5f\"},\"marker\":{\"line\":{\"color\":\"#E5ECF6\",\"width\":0.5},\"pattern\":{\"fillmode\":\"overlay\",\"size\":10,\"solidity\":0.2}},\"type\":\"bar\"}],\"barpolar\":[{\"marker\":{\"line\":{\"color\":\"#E5ECF6\",\"width\":0.5},\"pattern\":{\"fillmode\":\"overlay\",\"size\":10,\"solidity\":0.2}},\"type\":\"barpolar\"}],\"carpet\":[{\"aaxis\":{\"endlinecolor\":\"#2a3f5f\",\"gridcolor\":\"white\",\"linecolor\":\"white\",\"minorgridcolor\":\"white\",\"startlinecolor\":\"#2a3f5f\"},\"baxis\":{\"endlinecolor\":\"#2a3f5f\",\"gridcolor\":\"white\",\"linecolor\":\"white\",\"minorgridcolor\":\"white\",\"startlinecolor\":\"#2a3f5f\"},\"type\":\"carpet\"}],\"choropleth\":[{\"colorbar\":{\"outlinewidth\":0,\"ticks\":\"\"},\"type\":\"choropleth\"}],\"contour\":[{\"colorbar\":{\"outlinewidth\":0,\"ticks\":\"\"},\"colorscale\":[[0.0,\"#0d0887\"],[0.1111111111111111,\"#46039f\"],[0.2222222222222222,\"#7201a8\"],[0.3333333333333333,\"#9c179e\"],[0.4444444444444444,\"#bd3786\"],[0.5555555555555556,\"#d8576b\"],[0.6666666666666666,\"#ed7953\"],[0.7777777777777778,\"#fb9f3a\"],[0.8888888888888888,\"#fdca26\"],[1.0,\"#f0f921\"]],\"type\":\"contour\"}],\"contourcarpet\":[{\"colorbar\":{\"outlinewidth\":0,\"ticks\":\"\"},\"type\":\"contourcarpet\"}],\"heatmap\":[{\"colorbar\":{\"outlinewidth\":0,\"ticks\":\"\"},\"colorscale\":[[0.0,\"#0d0887\"],[0.1111111111111111,\"#46039f\"],[0.2222222222222222,\"#7201a8\"],[0.3333333333333333,\"#9c179e\"],[0.4444444444444444,\"#bd3786\"],[0.5555555555555556,\"#d8576b\"],[0.6666666666666666,\"#ed7953\"],[0.7777777777777778,\"#fb9f3a\"],[0.8888888888888888,\"#fdca26\"],[1.0,\"#f0f921\"]],\"type\":\"heatmap\"}],\"heatmapgl\":[{\"colorbar\":{\"outlinewidth\":0,\"ticks\":\"\"},\"colorscale\":[[0.0,\"#0d0887\"],[0.1111111111111111,\"#46039f\"],[0.2222222222222222,\"#7201a8\"],[0.3333333333333333,\"#9c179e\"],[0.4444444444444444,\"#bd3786\"],[0.5555555555555556,\"#d8576b\"],[0.6666666666666666,\"#ed7953\"],[0.7777777777777778,\"#fb9f3a\"],[0.8888888888888888,\"#fdca26\"],[1.0,\"#f0f921\"]],\"type\":\"heatmapgl\"}],\"histogram\":[{\"marker\":{\"pattern\":{\"fillmode\":\"overlay\",\"size\":10,\"solidity\":0.2}},\"type\":\"histogram\"}],\"histogram2d\":[{\"colorbar\":{\"outlinewidth\":0,\"ticks\":\"\"},\"colorscale\":[[0.0,\"#0d0887\"],[0.1111111111111111,\"#46039f\"],[0.2222222222222222,\"#7201a8\"],[0.3333333333333333,\"#9c179e\"],[0.4444444444444444,\"#bd3786\"],[0.5555555555555556,\"#d8576b\"],[0.6666666666666666,\"#ed7953\"],[0.7777777777777778,\"#fb9f3a\"],[0.8888888888888888,\"#fdca26\"],[1.0,\"#f0f921\"]],\"type\":\"histogram2d\"}],\"histogram2dcontour\":[{\"colorbar\":{\"outlinewidth\":0,\"ticks\":\"\"},\"colorscale\":[[0.0,\"#0d0887\"],[0.1111111111111111,\"#46039f\"],[0.2222222222222222,\"#7201a8\"],[0.3333333333333333,\"#9c179e\"],[0.4444444444444444,\"#bd3786\"],[0.5555555555555556,\"#d8576b\"],[0.6666666666666666,\"#ed7953\"],[0.7777777777777778,\"#fb9f3a\"],[0.8888888888888888,\"#fdca26\"],[1.0,\"#f0f921\"]],\"type\":\"histogram2dcontour\"}],\"mesh3d\":[{\"colorbar\":{\"outlinewidth\":0,\"ticks\":\"\"},\"type\":\"mesh3d\"}],\"parcoords\":[{\"line\":{\"colorbar\":{\"outlinewidth\":0,\"ticks\":\"\"}},\"type\":\"parcoords\"}],\"pie\":[{\"automargin\":true,\"type\":\"pie\"}],\"scatter\":[{\"marker\":{\"colorbar\":{\"outlinewidth\":0,\"ticks\":\"\"}},\"type\":\"scatter\"}],\"scatter3d\":[{\"line\":{\"colorbar\":{\"outlinewidth\":0,\"ticks\":\"\"}},\"marker\":{\"colorbar\":{\"outlinewidth\":0,\"ticks\":\"\"}},\"type\":\"scatter3d\"}],\"scattercarpet\":[{\"marker\":{\"colorbar\":{\"outlinewidth\":0,\"ticks\":\"\"}},\"type\":\"scattercarpet\"}],\"scattergeo\":[{\"marker\":{\"colorbar\":{\"outlinewidth\":0,\"ticks\":\"\"}},\"type\":\"scattergeo\"}],\"scattergl\":[{\"marker\":{\"colorbar\":{\"outlinewidth\":0,\"ticks\":\"\"}},\"type\":\"scattergl\"}],\"scattermapbox\":[{\"marker\":{\"colorbar\":{\"outlinewidth\":0,\"ticks\":\"\"}},\"type\":\"scattermapbox\"}],\"scatterpolar\":[{\"marker\":{\"colorbar\":{\"outlinewidth\":0,\"ticks\":\"\"}},\"type\":\"scatterpolar\"}],\"scatterpolargl\":[{\"marker\":{\"colorbar\":{\"outlinewidth\":0,\"ticks\":\"\"}},\"type\":\"scatterpolargl\"}],\"scatterternary\":[{\"marker\":{\"colorbar\":{\"outlinewidth\":0,\"ticks\":\"\"}},\"type\":\"scatterternary\"}],\"surface\":[{\"colorbar\":{\"outlinewidth\":0,\"ticks\":\"\"},\"colorscale\":[[0.0,\"#0d0887\"],[0.1111111111111111,\"#46039f\"],[0.2222222222222222,\"#7201a8\"],[0.3333333333333333,\"#9c179e\"],[0.4444444444444444,\"#bd3786\"],[0.5555555555555556,\"#d8576b\"],[0.6666666666666666,\"#ed7953\"],[0.7777777777777778,\"#fb9f3a\"],[0.8888888888888888,\"#fdca26\"],[1.0,\"#f0f921\"]],\"type\":\"surface\"}],\"table\":[{\"cells\":{\"fill\":{\"color\":\"#EBF0F8\"},\"line\":{\"color\":\"white\"}},\"header\":{\"fill\":{\"color\":\"#C8D4E3\"},\"line\":{\"color\":\"white\"}},\"type\":\"table\"}]},\"layout\":{\"annotationdefaults\":{\"arrowcolor\":\"#2a3f5f\",\"arrowhead\":0,\"arrowwidth\":1},\"autotypenumbers\":\"strict\",\"coloraxis\":{\"colorbar\":{\"outlinewidth\":0,\"ticks\":\"\"}},\"colorscale\":{\"diverging\":[[0,\"#8e0152\"],[0.1,\"#c51b7d\"],[0.2,\"#de77ae\"],[0.3,\"#f1b6da\"],[0.4,\"#fde0ef\"],[0.5,\"#f7f7f7\"],[0.6,\"#e6f5d0\"],[0.7,\"#b8e186\"],[0.8,\"#7fbc41\"],[0.9,\"#4d9221\"],[1,\"#276419\"]],\"sequential\":[[0.0,\"#0d0887\"],[0.1111111111111111,\"#46039f\"],[0.2222222222222222,\"#7201a8\"],[0.3333333333333333,\"#9c179e\"],[0.4444444444444444,\"#bd3786\"],[0.5555555555555556,\"#d8576b\"],[0.6666666666666666,\"#ed7953\"],[0.7777777777777778,\"#fb9f3a\"],[0.8888888888888888,\"#fdca26\"],[1.0,\"#f0f921\"]],\"sequentialminus\":[[0.0,\"#0d0887\"],[0.1111111111111111,\"#46039f\"],[0.2222222222222222,\"#7201a8\"],[0.3333333333333333,\"#9c179e\"],[0.4444444444444444,\"#bd3786\"],[0.5555555555555556,\"#d8576b\"],[0.6666666666666666,\"#ed7953\"],[0.7777777777777778,\"#fb9f3a\"],[0.8888888888888888,\"#fdca26\"],[1.0,\"#f0f921\"]]},\"colorway\":[\"#636efa\",\"#EF553B\",\"#00cc96\",\"#ab63fa\",\"#FFA15A\",\"#19d3f3\",\"#FF6692\",\"#B6E880\",\"#FF97FF\",\"#FECB52\"],\"font\":{\"color\":\"#2a3f5f\"},\"geo\":{\"bgcolor\":\"white\",\"lakecolor\":\"white\",\"landcolor\":\"#E5ECF6\",\"showlakes\":true,\"showland\":true,\"subunitcolor\":\"white\"},\"hoverlabel\":{\"align\":\"left\"},\"hovermode\":\"closest\",\"mapbox\":{\"style\":\"light\"},\"paper_bgcolor\":\"white\",\"plot_bgcolor\":\"#E5ECF6\",\"polar\":{\"angularaxis\":{\"gridcolor\":\"white\",\"linecolor\":\"white\",\"ticks\":\"\"},\"bgcolor\":\"#E5ECF6\",\"radialaxis\":{\"gridcolor\":\"white\",\"linecolor\":\"white\",\"ticks\":\"\"}},\"scene\":{\"xaxis\":{\"backgroundcolor\":\"#E5ECF6\",\"gridcolor\":\"white\",\"gridwidth\":2,\"linecolor\":\"white\",\"showbackground\":true,\"ticks\":\"\",\"zerolinecolor\":\"white\"},\"yaxis\":{\"backgroundcolor\":\"#E5ECF6\",\"gridcolor\":\"white\",\"gridwidth\":2,\"linecolor\":\"white\",\"showbackground\":true,\"ticks\":\"\",\"zerolinecolor\":\"white\"},\"zaxis\":{\"backgroundcolor\":\"#E5ECF6\",\"gridcolor\":\"white\",\"gridwidth\":2,\"linecolor\":\"white\",\"showbackground\":true,\"ticks\":\"\",\"zerolinecolor\":\"white\"}},\"shapedefaults\":{\"line\":{\"color\":\"#2a3f5f\"}},\"ternary\":{\"aaxis\":{\"gridcolor\":\"white\",\"linecolor\":\"white\",\"ticks\":\"\"},\"baxis\":{\"gridcolor\":\"white\",\"linecolor\":\"white\",\"ticks\":\"\"},\"bgcolor\":\"#E5ECF6\",\"caxis\":{\"gridcolor\":\"white\",\"linecolor\":\"white\",\"ticks\":\"\"}},\"title\":{\"x\":0.05},\"xaxis\":{\"automargin\":true,\"gridcolor\":\"white\",\"linecolor\":\"white\",\"ticks\":\"\",\"title\":{\"standoff\":15},\"zerolinecolor\":\"white\",\"zerolinewidth\":2},\"yaxis\":{\"automargin\":true,\"gridcolor\":\"white\",\"linecolor\":\"white\",\"ticks\":\"\",\"title\":{\"standoff\":15},\"zerolinecolor\":\"white\",\"zerolinewidth\":2}}},\"title\":{\"text\":\"Mean sentiment over time by country\"},\"updatemenus\":[{\"buttons\":[{\"args\":[null,{\"frame\":{\"duration\":80,\"redraw\":true},\"fromcurrent\":true,\"mode\":\"immediate\",\"transition\":{\"duration\":500,\"easing\":\"linear\"}}],\"label\":\"&#9654;\",\"method\":\"animate\"},{\"args\":[[null],{\"frame\":{\"duration\":0,\"redraw\":true},\"fromcurrent\":true,\"mode\":\"immediate\",\"transition\":{\"duration\":0,\"easing\":\"linear\"}}],\"label\":\"&#9724;\",\"method\":\"animate\"}],\"direction\":\"left\",\"pad\":{\"r\":10,\"t\":70},\"showactive\":false,\"type\":\"buttons\",\"x\":0.1,\"xanchor\":\"right\",\"y\":0,\"yanchor\":\"top\"}]},                        {\"responsive\": true}                    ).then(function(){\n",
       "                            Plotly.addFrames('84985b77-1e41-4d09-958e-e76935ac15fa', [{\"data\":[{\"coloraxis\":\"coloraxis\",\"geo\":\"geo\",\"hovertemplate\":\"created_at=2020-12-12<br>user_location=%{location}<br>sentiment_compound=%{z}<extra></extra>\",\"locationmode\":\"country names\",\"locations\":[\"Canada\",\"Germany\",\"India\",\"Italy\",\"Palestinian Territory\",\"Russian Federation\",\"United States\"],\"name\":\"\",\"type\":\"choropleth\",\"z\":[0.0,-0.2023,0.424525,0.7579,-0.05275000000000002,-0.3818,0.2553]}],\"name\":\"2020-12-12\"},{\"data\":[{\"coloraxis\":\"coloraxis\",\"geo\":\"geo\",\"hovertemplate\":\"created_at=2020-12-13<br>user_location=%{location}<br>sentiment_compound=%{z}<extra></extra>\",\"locationmode\":\"country names\",\"locations\":[\"Canada\",\"France\",\"India\",\"Palestinian Territory\",\"United Kingdom\",\"United States\"],\"name\":\"\",\"type\":\"choropleth\",\"z\":[0.32709999999999995,-0.7003,-0.1689857142857143,-0.11315,0.1728666666666667,0.3554333333333333]}],\"name\":\"2020-12-13\"},{\"data\":[{\"coloraxis\":\"coloraxis\",\"geo\":\"geo\",\"hovertemplate\":\"created_at=2020-12-14<br>user_location=%{location}<br>sentiment_compound=%{z}<extra></extra>\",\"locationmode\":\"country names\",\"locations\":[\"Canada\",\"France\",\"India\",\"Italy\",\"United Kingdom\",\"United States\"],\"name\":\"\",\"type\":\"choropleth\",\"z\":[0.4031,0.4215,0.11681666666666668,0.0,0.45005,0.1578]}],\"name\":\"2020-12-14\"},{\"data\":[{\"coloraxis\":\"coloraxis\",\"geo\":\"geo\",\"hovertemplate\":\"created_at=2020-12-15<br>user_location=%{location}<br>sentiment_compound=%{z}<extra></extra>\",\"locationmode\":\"country names\",\"locations\":[\"Australia\",\"Belgium\",\"Canada\",\"France\",\"Germany\",\"India\",\"Palestinian Territory\",\"Spain\",\"United Kingdom\",\"United States\"],\"name\":\"\",\"type\":\"choropleth\",\"z\":[0.10606666666666666,0.0,0.3276625,0.3294,0.4215,-0.06025,0.2263,-0.4019,0.353225,0.24525]}],\"name\":\"2020-12-15\"},{\"data\":[{\"coloraxis\":\"coloraxis\",\"geo\":\"geo\",\"hovertemplate\":\"created_at=2020-12-16<br>user_location=%{location}<br>sentiment_compound=%{z}<extra></extra>\",\"locationmode\":\"country names\",\"locations\":[\"Belgium\",\"Canada\",\"France\",\"Germany\",\"India\",\"Mexico\",\"Palestinian Territory\",\"United Kingdom\",\"United States\"],\"name\":\"\",\"type\":\"choropleth\",\"z\":[0.0,0.16463333333333333,0.0,0.25,0.14977142857142858,-0.4011,0.0,0.495025,0.295275]}],\"name\":\"2020-12-16\"},{\"data\":[{\"coloraxis\":\"coloraxis\",\"geo\":\"geo\",\"hovertemplate\":\"created_at=2020-12-17<br>user_location=%{location}<br>sentiment_compound=%{z}<extra></extra>\",\"locationmode\":\"country names\",\"locations\":[\"Belgium\",\"Canada\",\"France\",\"India\",\"Pakistan\",\"United States\"],\"name\":\"\",\"type\":\"choropleth\",\"z\":[0.0,0.6855500000000001,-0.1806,-0.25765714285714286,0.0,0.12169999999999999]}],\"name\":\"2020-12-17\"},{\"data\":[{\"coloraxis\":\"coloraxis\",\"geo\":\"geo\",\"hovertemplate\":\"created_at=2020-12-18<br>user_location=%{location}<br>sentiment_compound=%{z}<extra></extra>\",\"locationmode\":\"country names\",\"locations\":[\"Canada\",\"France\",\"India\",\"Palestinian Territory\",\"Ukraine\",\"United Kingdom\",\"United States\"],\"name\":\"\",\"type\":\"choropleth\",\"z\":[0.275675,0.40293333333333337,0.22775,0.0,0.3182,0.4664333333333334,0.35742727272727276]}],\"name\":\"2020-12-18\"},{\"data\":[{\"coloraxis\":\"coloraxis\",\"geo\":\"geo\",\"hovertemplate\":\"created_at=2020-12-19<br>user_location=%{location}<br>sentiment_compound=%{z}<extra></extra>\",\"locationmode\":\"country names\",\"locations\":[\"Canada\",\"France\",\"Germany\",\"India\",\"Palestinian Territory\",\"United Kingdom\",\"United States\"],\"name\":\"\",\"type\":\"choropleth\",\"z\":[0.25,0.1032,0.7096,0.3923166666666667,0.5994,-0.0772,0.36669999999999997]}],\"name\":\"2020-12-19\"},{\"data\":[{\"coloraxis\":\"coloraxis\",\"geo\":\"geo\",\"hovertemplate\":\"created_at=2020-12-20<br>user_location=%{location}<br>sentiment_compound=%{z}<extra></extra>\",\"locationmode\":\"country names\",\"locations\":[\"India\",\"Italy\",\"Pakistan\",\"Palestinian Territory\",\"United Kingdom\",\"United States\"],\"name\":\"\",\"type\":\"choropleth\",\"z\":[0.059325,-0.2732,0.0,0.0,0.2787,0.21960000000000002]}],\"name\":\"2020-12-20\"},{\"data\":[{\"coloraxis\":\"coloraxis\",\"geo\":\"geo\",\"hovertemplate\":\"created_at=2020-12-21<br>user_location=%{location}<br>sentiment_compound=%{z}<extra></extra>\",\"locationmode\":\"country names\",\"locations\":[\"Australia\",\"Belgium\",\"Canada\",\"Germany\",\"India\",\"Italy\",\"Palestinian Territory\",\"United States\"],\"name\":\"\",\"type\":\"choropleth\",\"z\":[0.8519,0.0,0.0,0.4019,0.11076,-0.4939,0.0,0.21325]}],\"name\":\"2020-12-21\"},{\"data\":[{\"coloraxis\":\"coloraxis\",\"geo\":\"geo\",\"hovertemplate\":\"created_at=2020-12-22<br>user_location=%{location}<br>sentiment_compound=%{z}<extra></extra>\",\"locationmode\":\"country names\",\"locations\":[\"Argentina\",\"Australia\",\"Austria\",\"Belgium\",\"Canada\",\"Germany\",\"India\",\"Italy\",\"Pakistan\",\"Palestinian Territory\",\"Ukraine\",\"United Kingdom\",\"United States\"],\"name\":\"\",\"type\":\"choropleth\",\"z\":[0.0,0.2732,0.4019,0.2023,0.0,0.3982,0.08404210526315789,0.27749999999999997,0.0,0.42775,0.659,0.4637666666666667,0.24835]}],\"name\":\"2020-12-22\"},{\"data\":[{\"coloraxis\":\"coloraxis\",\"geo\":\"geo\",\"hovertemplate\":\"created_at=2020-12-23<br>user_location=%{location}<br>sentiment_compound=%{z}<extra></extra>\",\"locationmode\":\"country names\",\"locations\":[\"Canada\",\"France\",\"Germany\",\"India\",\"Pakistan\",\"Ukraine\",\"United States\"],\"name\":\"\",\"type\":\"choropleth\",\"z\":[-0.04624999999999999,-0.22149999999999997,-0.0516,0.0,0.41040000000000004,0.0386,0.3538333333333334]}],\"name\":\"2020-12-23\"},{\"data\":[{\"coloraxis\":\"coloraxis\",\"geo\":\"geo\",\"hovertemplate\":\"created_at=2020-12-24<br>user_location=%{location}<br>sentiment_compound=%{z}<extra></extra>\",\"locationmode\":\"country names\",\"locations\":[\"Canada\",\"India\",\"Pakistan\",\"Ukraine\",\"United Kingdom\",\"United States\"],\"name\":\"\",\"type\":\"choropleth\",\"z\":[0.240225,-0.0839,0.27115,0.04046,0.3944666666666667,0.28595]}],\"name\":\"2020-12-24\"},{\"data\":[{\"coloraxis\":\"coloraxis\",\"geo\":\"geo\",\"hovertemplate\":\"created_at=2020-12-25<br>user_location=%{location}<br>sentiment_compound=%{z}<extra></extra>\",\"locationmode\":\"country names\",\"locations\":[\"India\",\"Ukraine\",\"United States\"],\"name\":\"\",\"type\":\"choropleth\",\"z\":[-0.1741,0.128,0.0]}],\"name\":\"2020-12-25\"},{\"data\":[{\"coloraxis\":\"coloraxis\",\"geo\":\"geo\",\"hovertemplate\":\"created_at=2020-12-26<br>user_location=%{location}<br>sentiment_compound=%{z}<extra></extra>\",\"locationmode\":\"country names\",\"locations\":[\"Belgium\",\"Canada\",\"India\",\"United Kingdom\",\"United States\"],\"name\":\"\",\"type\":\"choropleth\",\"z\":[0.25985,0.7184,0.0258,0.3182,0.18955000000000005]}],\"name\":\"2020-12-26\"},{\"data\":[{\"coloraxis\":\"coloraxis\",\"geo\":\"geo\",\"hovertemplate\":\"created_at=2020-12-27<br>user_location=%{location}<br>sentiment_compound=%{z}<extra></extra>\",\"locationmode\":\"country names\",\"locations\":[\"France\",\"Germany\",\"India\",\"Italy\",\"Pakistan\",\"Palestinian Territory\",\"United Kingdom\",\"United States\"],\"name\":\"\",\"type\":\"choropleth\",\"z\":[0.2202,0.22693333333333332,0.0,-0.3382,0.0,0.28595,0.4939,0.3612]}],\"name\":\"2020-12-27\"},{\"data\":[{\"coloraxis\":\"coloraxis\",\"geo\":\"geo\",\"hovertemplate\":\"created_at=2020-12-28<br>user_location=%{location}<br>sentiment_compound=%{z}<extra></extra>\",\"locationmode\":\"country names\",\"locations\":[\"Belgium\",\"Canada\",\"France\",\"India\",\"Italy\",\"Ukraine\",\"United States\"],\"name\":\"\",\"type\":\"choropleth\",\"z\":[-0.1027,0.0,0.0,0.0,0.7906,0.29600000000000004,0.0]}],\"name\":\"2020-12-28\"},{\"data\":[{\"coloraxis\":\"coloraxis\",\"geo\":\"geo\",\"hovertemplate\":\"created_at=2020-12-29<br>user_location=%{location}<br>sentiment_compound=%{z}<extra></extra>\",\"locationmode\":\"country names\",\"locations\":[\"Australia\",\"Belgium\",\"Canada\",\"India\",\"Italy\",\"Palestinian Territory\",\"Spain\",\"United States\"],\"name\":\"\",\"type\":\"choropleth\",\"z\":[0.3182,0.26335,0.3612,0.1027,0.0,0.0,0.3612,0.0]}],\"name\":\"2020-12-29\"},{\"data\":[{\"coloraxis\":\"coloraxis\",\"geo\":\"geo\",\"hovertemplate\":\"created_at=2020-12-30<br>user_location=%{location}<br>sentiment_compound=%{z}<extra></extra>\",\"locationmode\":\"country names\",\"locations\":[\"Argentina\",\"Germany\",\"India\",\"Pakistan\",\"United Kingdom\",\"United States\"],\"name\":\"\",\"type\":\"choropleth\",\"z\":[0.0,0.8555,0.22646666666666668,-0.47330000000000005,0.37717500000000004,-0.09946666666666669]}],\"name\":\"2020-12-30\"},{\"data\":[{\"coloraxis\":\"coloraxis\",\"geo\":\"geo\",\"hovertemplate\":\"created_at=2020-12-31<br>user_location=%{location}<br>sentiment_compound=%{z}<extra></extra>\",\"locationmode\":\"country names\",\"locations\":[\"Canada\",\"Germany\",\"Pakistan\",\"United Kingdom\",\"United States\",\"Virgin Islands, U.S.\"],\"name\":\"\",\"type\":\"choropleth\",\"z\":[0.8271,0.5859,0.836,0.427925,-0.3568,0.0]}],\"name\":\"2020-12-31\"},{\"data\":[{\"coloraxis\":\"coloraxis\",\"geo\":\"geo\",\"hovertemplate\":\"created_at=2021-01-01<br>user_location=%{location}<br>sentiment_compound=%{z}<extra></extra>\",\"locationmode\":\"country names\",\"locations\":[\"India\",\"United Kingdom\"],\"name\":\"\",\"type\":\"choropleth\",\"z\":[0.17680666666666667,0.40615]}],\"name\":\"2021-01-01\"},{\"data\":[{\"coloraxis\":\"coloraxis\",\"geo\":\"geo\",\"hovertemplate\":\"created_at=2021-01-02<br>user_location=%{location}<br>sentiment_compound=%{z}<extra></extra>\",\"locationmode\":\"country names\",\"locations\":[\"Canada\",\"India\",\"Mexico\",\"United Kingdom\"],\"name\":\"\",\"type\":\"choropleth\",\"z\":[0.3824166666666666,-0.010942857142857159,0.4588,0.031799999999999995]}],\"name\":\"2021-01-02\"},{\"data\":[{\"coloraxis\":\"coloraxis\",\"geo\":\"geo\",\"hovertemplate\":\"created_at=2021-01-03<br>user_location=%{location}<br>sentiment_compound=%{z}<extra></extra>\",\"locationmode\":\"country names\",\"locations\":[\"India\",\"Italy\",\"Palestinian Territory\",\"Ukraine\",\"United States\"],\"name\":\"\",\"type\":\"choropleth\",\"z\":[0.11336000000000002,-0.29600000000000004,0.1654,0.0772,0.41169999999999995]}],\"name\":\"2021-01-03\"},{\"data\":[{\"coloraxis\":\"coloraxis\",\"geo\":\"geo\",\"hovertemplate\":\"created_at=2021-01-04<br>user_location=%{location}<br>sentiment_compound=%{z}<extra></extra>\",\"locationmode\":\"country names\",\"locations\":[\"Canada\",\"India\",\"United Kingdom\",\"United States\"],\"name\":\"\",\"type\":\"choropleth\",\"z\":[0.24247500000000002,0.13030000000000003,0.250025,0.5779666666666666]}],\"name\":\"2021-01-04\"},{\"data\":[{\"coloraxis\":\"coloraxis\",\"geo\":\"geo\",\"hovertemplate\":\"created_at=2021-01-05<br>user_location=%{location}<br>sentiment_compound=%{z}<extra></extra>\",\"locationmode\":\"country names\",\"locations\":[\"Canada\",\"France\",\"India\",\"United Kingdom\",\"United States\"],\"name\":\"\",\"type\":\"choropleth\",\"z\":[-0.25634999999999997,0.7579,0.08257500000000001,0.62522,0.23347500000000002]}],\"name\":\"2021-01-05\"},{\"data\":[{\"coloraxis\":\"coloraxis\",\"geo\":\"geo\",\"hovertemplate\":\"created_at=2021-01-06<br>user_location=%{location}<br>sentiment_compound=%{z}<extra></extra>\",\"locationmode\":\"country names\",\"locations\":[\"Canada\",\"France\",\"Germany\",\"India\",\"Spain\",\"United Kingdom\",\"United States\"],\"name\":\"\",\"type\":\"choropleth\",\"z\":[-0.009575,0.0516,-0.11419999999999997,0.014924999999999966,0.7478,0.44627000000000006,-0.161275]}],\"name\":\"2021-01-06\"},{\"data\":[{\"coloraxis\":\"coloraxis\",\"geo\":\"geo\",\"hovertemplate\":\"created_at=2021-01-07<br>user_location=%{location}<br>sentiment_compound=%{z}<extra></extra>\",\"locationmode\":\"country names\",\"locations\":[\"Belgium\",\"Canada\",\"India\",\"Italy\",\"United Kingdom\",\"United States\"],\"name\":\"\",\"type\":\"choropleth\",\"z\":[0.0,0.4404,0.0,0.0258,0.55055,0.09663333333333335]}],\"name\":\"2021-01-07\"},{\"data\":[{\"coloraxis\":\"coloraxis\",\"geo\":\"geo\",\"hovertemplate\":\"created_at=2021-01-08<br>user_location=%{location}<br>sentiment_compound=%{z}<extra></extra>\",\"locationmode\":\"country names\",\"locations\":[\"Belgium\",\"Canada\",\"France\",\"India\",\"Spain\",\"United Kingdom\",\"United States\"],\"name\":\"\",\"type\":\"choropleth\",\"z\":[0.37233333333333335,0.29705000000000004,0.3612,0.28783000000000003,0.0,0.07056666666666667,0.483775]}],\"name\":\"2021-01-08\"},{\"data\":[{\"coloraxis\":\"coloraxis\",\"geo\":\"geo\",\"hovertemplate\":\"created_at=2021-01-09<br>user_location=%{location}<br>sentiment_compound=%{z}<extra></extra>\",\"locationmode\":\"country names\",\"locations\":[\"Australia\",\"Austria\",\"Canada\",\"France\",\"India\",\"Ukraine\",\"United Kingdom\",\"United States\"],\"name\":\"\",\"type\":\"choropleth\",\"z\":[-0.59765,0.0,0.7956,-0.22106666666666666,0.0,0.0,0.4805999999999999,0.11015000000000003]}],\"name\":\"2021-01-09\"},{\"data\":[{\"coloraxis\":\"coloraxis\",\"geo\":\"geo\",\"hovertemplate\":\"created_at=2021-01-10<br>user_location=%{location}<br>sentiment_compound=%{z}<extra></extra>\",\"locationmode\":\"country names\",\"locations\":[\"Australia\",\"Canada\",\"India\",\"United Kingdom\",\"United States\"],\"name\":\"\",\"type\":\"choropleth\",\"z\":[-0.8176,0.147275,0.7003,0.24655000000000002,0.46719999999999995]}],\"name\":\"2021-01-10\"},{\"data\":[{\"coloraxis\":\"coloraxis\",\"geo\":\"geo\",\"hovertemplate\":\"created_at=2021-01-11<br>user_location=%{location}<br>sentiment_compound=%{z}<extra></extra>\",\"locationmode\":\"country names\",\"locations\":[\"Canada\",\"France\",\"India\",\"United States\"],\"name\":\"\",\"type\":\"choropleth\",\"z\":[-0.14800000000000002,0.0,-0.3715,-0.037750000000000006]}],\"name\":\"2021-01-11\"},{\"data\":[{\"coloraxis\":\"coloraxis\",\"geo\":\"geo\",\"hovertemplate\":\"created_at=2021-01-12<br>user_location=%{location}<br>sentiment_compound=%{z}<extra></extra>\",\"locationmode\":\"country names\",\"locations\":[\"Australia\",\"Belgium\",\"France\",\"India\",\"Palestinian Territory\",\"United Kingdom\",\"United States\"],\"name\":\"\",\"type\":\"choropleth\",\"z\":[0.4767,0.0,0.0,0.128,0.4939,0.3628,-0.13402499999999998]}],\"name\":\"2021-01-12\"},{\"data\":[{\"coloraxis\":\"coloraxis\",\"geo\":\"geo\",\"hovertemplate\":\"created_at=2021-01-13<br>user_location=%{location}<br>sentiment_compound=%{z}<extra></extra>\",\"locationmode\":\"country names\",\"locations\":[\"Austria\",\"Canada\",\"Germany\",\"India\",\"United Kingdom\",\"United States\"],\"name\":\"\",\"type\":\"choropleth\",\"z\":[0.3612,0.24056666666666668,0.6178333333333333,-0.10880000000000004,0.21172222222222223,0.8481]}],\"name\":\"2021-01-13\"},{\"data\":[{\"coloraxis\":\"coloraxis\",\"geo\":\"geo\",\"hovertemplate\":\"created_at=2021-01-14<br>user_location=%{location}<br>sentiment_compound=%{z}<extra></extra>\",\"locationmode\":\"country names\",\"locations\":[\"Canada\",\"Germany\",\"Spain\",\"United Kingdom\",\"United States\"],\"name\":\"\",\"type\":\"choropleth\",\"z\":[0.5859,0.4767,0.4939,-0.21489999999999998,0.12553333333333333]}],\"name\":\"2021-01-14\"},{\"data\":[{\"coloraxis\":\"coloraxis\",\"geo\":\"geo\",\"hovertemplate\":\"created_at=2021-01-15<br>user_location=%{location}<br>sentiment_compound=%{z}<extra></extra>\",\"locationmode\":\"country names\",\"locations\":[\"Australia\",\"Austria\",\"Canada\",\"France\",\"Germany\",\"India\",\"Palestinian Territory\",\"United Kingdom\",\"United States\"],\"name\":\"\",\"type\":\"choropleth\",\"z\":[0.3612,-0.7645,-0.011099999999999971,-0.6358,0.4767,0.317825,0.27115,0.21075,0.2083]}],\"name\":\"2021-01-15\"},{\"data\":[{\"coloraxis\":\"coloraxis\",\"geo\":\"geo\",\"hovertemplate\":\"created_at=2021-01-16<br>user_location=%{location}<br>sentiment_compound=%{z}<extra></extra>\",\"locationmode\":\"country names\",\"locations\":[\"Australia\",\"Austria\",\"Canada\",\"India\",\"Pakistan\",\"Spain\",\"United Kingdom\",\"United States\"],\"name\":\"\",\"type\":\"choropleth\",\"z\":[-0.5994,0.0,0.3061,-0.5376500000000001,-0.25,0.4927,0.14274285714285714,-0.6875]}],\"name\":\"2021-01-16\"},{\"data\":[{\"coloraxis\":\"coloraxis\",\"geo\":\"geo\",\"hovertemplate\":\"created_at=2021-01-17<br>user_location=%{location}<br>sentiment_compound=%{z}<extra></extra>\",\"locationmode\":\"country names\",\"locations\":[\"Australia\",\"Canada\",\"France\",\"Germany\",\"India\",\"Pakistan\",\"United Kingdom\",\"United States\"],\"name\":\"\",\"type\":\"choropleth\",\"z\":[0.2263,-0.4417,0.6808,0.23835,-0.47511428571428577,0.5423,0.273525,-0.35730000000000006]}],\"name\":\"2021-01-17\"},{\"data\":[{\"coloraxis\":\"coloraxis\",\"geo\":\"geo\",\"hovertemplate\":\"created_at=2021-01-18<br>user_location=%{location}<br>sentiment_compound=%{z}<extra></extra>\",\"locationmode\":\"country names\",\"locations\":[\"Canada\",\"India\",\"Spain\",\"United Kingdom\",\"United States\"],\"name\":\"\",\"type\":\"choropleth\",\"z\":[0.3182,-0.5603666666666667,0.0,0.4404,-0.43135]}],\"name\":\"2021-01-18\"},{\"data\":[{\"coloraxis\":\"coloraxis\",\"geo\":\"geo\",\"hovertemplate\":\"created_at=2021-01-19<br>user_location=%{location}<br>sentiment_compound=%{z}<extra></extra>\",\"locationmode\":\"country names\",\"locations\":[\"Australia\",\"Belgium\",\"Canada\",\"France\",\"India\",\"Pakistan\",\"Spain\",\"United Kingdom\",\"United States\"],\"name\":\"\",\"type\":\"choropleth\",\"z\":[-0.4019,0.6908,-0.9118,-0.765,-0.1998,0.7003,0.24695,0.31267500000000004,0.5994]}],\"name\":\"2021-01-19\"},{\"data\":[{\"coloraxis\":\"coloraxis\",\"geo\":\"geo\",\"hovertemplate\":\"created_at=2021-01-20<br>user_location=%{location}<br>sentiment_compound=%{z}<extra></extra>\",\"locationmode\":\"country names\",\"locations\":[\"Canada\",\"France\",\"Germany\",\"India\",\"Mexico\",\"United Kingdom\",\"United States\"],\"name\":\"\",\"type\":\"choropleth\",\"z\":[0.05135,-0.44620000000000004,0.743,0.11335,0.1779,0.2648444444444444,0.19063333333333332]}],\"name\":\"2021-01-20\"},{\"data\":[{\"coloraxis\":\"coloraxis\",\"geo\":\"geo\",\"hovertemplate\":\"created_at=2021-01-21<br>user_location=%{location}<br>sentiment_compound=%{z}<extra></extra>\",\"locationmode\":\"country names\",\"locations\":[\"Australia\",\"Belgium\",\"Canada\",\"India\",\"Palestinian Territory\",\"Spain\",\"United Kingdom\",\"United States\"],\"name\":\"\",\"type\":\"choropleth\",\"z\":[-0.3182,-0.2997,-0.00411999999999999,-0.1909,0.4939,0.0,0.42591,0.37495]}],\"name\":\"2021-01-21\"},{\"data\":[{\"coloraxis\":\"coloraxis\",\"geo\":\"geo\",\"hovertemplate\":\"created_at=2021-01-22<br>user_location=%{location}<br>sentiment_compound=%{z}<extra></extra>\",\"locationmode\":\"country names\",\"locations\":[\"Australia\",\"Canada\",\"Pakistan\",\"United Kingdom\",\"United States\"],\"name\":\"\",\"type\":\"choropleth\",\"z\":[-0.3182,0.7184,0.0,-0.21989999999999998,0.0]}],\"name\":\"2021-01-22\"},{\"data\":[{\"coloraxis\":\"coloraxis\",\"geo\":\"geo\",\"hovertemplate\":\"created_at=2021-01-23<br>user_location=%{location}<br>sentiment_compound=%{z}<extra></extra>\",\"locationmode\":\"country names\",\"locations\":[\"Canada\",\"France\",\"India\",\"Pakistan\",\"United Kingdom\",\"United States\"],\"name\":\"\",\"type\":\"choropleth\",\"z\":[0.15510000000000002,-0.29600000000000004,0.0,-0.128,-0.34,-0.10170000000000001]}],\"name\":\"2021-01-23\"},{\"data\":[{\"coloraxis\":\"coloraxis\",\"geo\":\"geo\",\"hovertemplate\":\"created_at=2021-01-24<br>user_location=%{location}<br>sentiment_compound=%{z}<extra></extra>\",\"locationmode\":\"country names\",\"locations\":[\"Australia\",\"Canada\",\"India\",\"United Kingdom\",\"United States\"],\"name\":\"\",\"type\":\"choropleth\",\"z\":[-0.6908,0.29600000000000004,-0.38635,0.14286666666666667,0.0]}],\"name\":\"2021-01-24\"},{\"data\":[{\"coloraxis\":\"coloraxis\",\"geo\":\"geo\",\"hovertemplate\":\"created_at=2021-01-25<br>user_location=%{location}<br>sentiment_compound=%{z}<extra></extra>\",\"locationmode\":\"country names\",\"locations\":[\"Canada\",\"France\",\"India\",\"United Kingdom\"],\"name\":\"\",\"type\":\"choropleth\",\"z\":[0.2807,0.434,0.41169999999999995,0.4523333333333333]}],\"name\":\"2021-01-25\"},{\"data\":[{\"coloraxis\":\"coloraxis\",\"geo\":\"geo\",\"hovertemplate\":\"created_at=2021-01-26<br>user_location=%{location}<br>sentiment_compound=%{z}<extra></extra>\",\"locationmode\":\"country names\",\"locations\":[\"Australia\",\"Austria\",\"Canada\",\"India\",\"United Kingdom\",\"United States\"],\"name\":\"\",\"type\":\"choropleth\",\"z\":[0.7269,0.872,-0.27625,0.0,-0.2023,0.0]}],\"name\":\"2021-01-26\"},{\"data\":[{\"coloraxis\":\"coloraxis\",\"geo\":\"geo\",\"hovertemplate\":\"created_at=2021-01-27<br>user_location=%{location}<br>sentiment_compound=%{z}<extra></extra>\",\"locationmode\":\"country names\",\"locations\":[\"Australia\",\"Belgium\",\"Canada\",\"India\",\"United Kingdom\",\"United States\"],\"name\":\"\",\"type\":\"choropleth\",\"z\":[0.7269,0.6369,-0.1779,0.0,-0.05548000000000001,0.20895]}],\"name\":\"2021-01-27\"},{\"data\":[{\"coloraxis\":\"coloraxis\",\"geo\":\"geo\",\"hovertemplate\":\"created_at=2021-01-28<br>user_location=%{location}<br>sentiment_compound=%{z}<extra></extra>\",\"locationmode\":\"country names\",\"locations\":[\"Canada\",\"France\",\"India\",\"Malaysia\",\"Spain\",\"Ukraine\",\"United Kingdom\",\"United States\"],\"name\":\"\",\"type\":\"choropleth\",\"z\":[0.7351,0.23835,0.0,0.7269,0.6597,0.4767,0.42115,0.42545]}],\"name\":\"2021-01-28\"},{\"data\":[{\"coloraxis\":\"coloraxis\",\"geo\":\"geo\",\"hovertemplate\":\"created_at=2021-01-29<br>user_location=%{location}<br>sentiment_compound=%{z}<extra></extra>\",\"locationmode\":\"country names\",\"locations\":[\"Canada\",\"France\",\"India\",\"United Kingdom\",\"United States\"],\"name\":\"\",\"type\":\"choropleth\",\"z\":[0.5574,0.6997,0.3515,-0.29600000000000004,0.1181]}],\"name\":\"2021-01-29\"},{\"data\":[{\"coloraxis\":\"coloraxis\",\"geo\":\"geo\",\"hovertemplate\":\"created_at=2021-01-30<br>user_location=%{location}<br>sentiment_compound=%{z}<extra></extra>\",\"locationmode\":\"country names\",\"locations\":[\"Australia\",\"Canada\",\"France\",\"India\",\"Ukraine\",\"United Kingdom\",\"United States\"],\"name\":\"\",\"type\":\"choropleth\",\"z\":[0.18856,0.79025,-0.8979,-0.5574,0.7783,0.335625,0.12069999999999999]}],\"name\":\"2021-01-30\"},{\"data\":[{\"coloraxis\":\"coloraxis\",\"geo\":\"geo\",\"hovertemplate\":\"created_at=2021-01-31<br>user_location=%{location}<br>sentiment_compound=%{z}<extra></extra>\",\"locationmode\":\"country names\",\"locations\":[\"India\",\"United Kingdom\"],\"name\":\"\",\"type\":\"choropleth\",\"z\":[0.5574,-0.064]}],\"name\":\"2021-01-31\"},{\"data\":[{\"coloraxis\":\"coloraxis\",\"geo\":\"geo\",\"hovertemplate\":\"created_at=2021-02-01<br>user_location=%{location}<br>sentiment_compound=%{z}<extra></extra>\",\"locationmode\":\"country names\",\"locations\":[\"France\",\"Germany\",\"United States\"],\"name\":\"\",\"type\":\"choropleth\",\"z\":[0.7351,0.5267,-0.5994]}],\"name\":\"2021-02-01\"},{\"data\":[{\"coloraxis\":\"coloraxis\",\"geo\":\"geo\",\"hovertemplate\":\"created_at=2021-02-02<br>user_location=%{location}<br>sentiment_compound=%{z}<extra></extra>\",\"locationmode\":\"country names\",\"locations\":[\"Canada\",\"France\",\"India\",\"United Kingdom\",\"United States\"],\"name\":\"\",\"type\":\"choropleth\",\"z\":[-0.6705,0.0258,0.0,0.017199999999999993,0.2294]}],\"name\":\"2021-02-02\"},{\"data\":[{\"coloraxis\":\"coloraxis\",\"geo\":\"geo\",\"hovertemplate\":\"created_at=2021-02-03<br>user_location=%{location}<br>sentiment_compound=%{z}<extra></extra>\",\"locationmode\":\"country names\",\"locations\":[\"Canada\",\"India\",\"United Kingdom\",\"United States\"],\"name\":\"\",\"type\":\"choropleth\",\"z\":[-0.4671,0.2732,0.5423,0.6908]}],\"name\":\"2021-02-03\"},{\"data\":[{\"coloraxis\":\"coloraxis\",\"geo\":\"geo\",\"hovertemplate\":\"created_at=2021-02-04<br>user_location=%{location}<br>sentiment_compound=%{z}<extra></extra>\",\"locationmode\":\"country names\",\"locations\":[\"Australia\",\"Canada\",\"India\",\"United Kingdom\",\"United States\"],\"name\":\"\",\"type\":\"choropleth\",\"z\":[-0.09184999999999999,0.1554,0.4707333333333333,0.1909,-0.09148333333333332]}],\"name\":\"2021-02-04\"},{\"data\":[{\"coloraxis\":\"coloraxis\",\"geo\":\"geo\",\"hovertemplate\":\"created_at=2021-02-05<br>user_location=%{location}<br>sentiment_compound=%{z}<extra></extra>\",\"locationmode\":\"country names\",\"locations\":[\"Australia\",\"India\",\"Italy\",\"United Kingdom\",\"United States\"],\"name\":\"\",\"type\":\"choropleth\",\"z\":[0.3182,-0.3818,0.28595,0.0,0.6720333333333334]}],\"name\":\"2021-02-05\"},{\"data\":[{\"coloraxis\":\"coloraxis\",\"geo\":\"geo\",\"hovertemplate\":\"created_at=2021-02-06<br>user_location=%{location}<br>sentiment_compound=%{z}<extra></extra>\",\"locationmode\":\"country names\",\"locations\":[\"Australia\",\"Austria\",\"Canada\",\"India\",\"Pakistan\",\"United Kingdom\",\"United States\"],\"name\":\"\",\"type\":\"choropleth\",\"z\":[0.128,0.0,0.0,-0.03423333333333334,0.0,0.51045,0.04393333333333336]}],\"name\":\"2021-02-06\"},{\"data\":[{\"coloraxis\":\"coloraxis\",\"geo\":\"geo\",\"hovertemplate\":\"created_at=2021-02-07<br>user_location=%{location}<br>sentiment_compound=%{z}<extra></extra>\",\"locationmode\":\"country names\",\"locations\":[\"Australia\",\"Belgium\",\"Canada\",\"France\",\"Germany\",\"India\",\"Mexico\",\"Pakistan\",\"Russian Federation\",\"Ukraine\",\"United Kingdom\",\"United States\"],\"name\":\"\",\"type\":\"choropleth\",\"z\":[-0.11180000000000001,0.37916666666666665,0.2381142857142857,0.20909999999999998,0.4221,-0.00916470588235295,-0.32985,0.13396666666666665,0.5628500000000001,0.765,0.21245000000000003,0.3687]}],\"name\":\"2021-02-07\"},{\"data\":[{\"coloraxis\":\"coloraxis\",\"geo\":\"geo\",\"hovertemplate\":\"created_at=2021-02-08<br>user_location=%{location}<br>sentiment_compound=%{z}<extra></extra>\",\"locationmode\":\"country names\",\"locations\":[\"Austria\",\"Belgium\",\"Canada\",\"France\",\"Germany\",\"India\",\"Italy\",\"Mexico\",\"Pakistan\",\"Russian Federation\",\"Spain\",\"United Kingdom\",\"United States\"],\"name\":\"\",\"type\":\"choropleth\",\"z\":[-0.2294,-0.6819333333333333,0.07435454545454555,0.1366,0.27896,0.13927000000000003,0.1806,-0.204,0.029899999999999993,0.42513333333333336,0.0,0.0,0.16517777777777778]}],\"name\":\"2021-02-08\"},{\"data\":[{\"coloraxis\":\"coloraxis\",\"geo\":\"geo\",\"hovertemplate\":\"created_at=2021-02-09<br>user_location=%{location}<br>sentiment_compound=%{z}<extra></extra>\",\"locationmode\":\"country names\",\"locations\":[\"Argentina\",\"Australia\",\"Austria\",\"Brazil\",\"Canada\",\"France\",\"Germany\",\"India\",\"Italy\",\"Japan\",\"Pakistan\",\"Russian Federation\",\"Spain\",\"United Kingdom\",\"United States\"],\"name\":\"\",\"type\":\"choropleth\",\"z\":[-0.5574,0.4951,0.02009999999999999,0.4588,0.19682000000000005,0.21280000000000002,-0.128,0.08258235294117645,0.6124,0.0,0.2202,0.24575,0.17,0.2942,0.28954583333333334]}],\"name\":\"2021-02-09\"},{\"data\":[{\"coloraxis\":\"coloraxis\",\"geo\":\"geo\",\"hovertemplate\":\"created_at=2021-02-10<br>user_location=%{location}<br>sentiment_compound=%{z}<extra></extra>\",\"locationmode\":\"country names\",\"locations\":[\"Austria\",\"Belgium\",\"Canada\",\"France\",\"Germany\",\"India\",\"Italy\",\"Japan\",\"Pakistan\",\"Russian Federation\",\"Spain\",\"United Kingdom\",\"United States\"],\"name\":\"\",\"type\":\"choropleth\",\"z\":[0.20095,0.2263,0.2842818181818182,-0.212725,0.0,0.23980454545454544,0.35,0.0,0.21286666666666668,0.38023333333333337,0.5859,0.15964375,0.09666666666666665]}],\"name\":\"2021-02-10\"},{\"data\":[{\"coloraxis\":\"coloraxis\",\"geo\":\"geo\",\"hovertemplate\":\"created_at=2021-02-11<br>user_location=%{location}<br>sentiment_compound=%{z}<extra></extra>\",\"locationmode\":\"country names\",\"locations\":[\"Australia\",\"Belgium\",\"Canada\",\"Germany\",\"India\",\"Italy\",\"Pakistan\",\"Palestinian Territory\",\"Russian Federation\",\"Spain\",\"United Kingdom\",\"United States\"],\"name\":\"\",\"type\":\"choropleth\",\"z\":[-0.0056,0.5859,0.19589130434782617,0.4019,0.07719999999999996,0.3818,0.0,0.0,-0.01807272727272727,0.3182,0.28462,0.16164736842105262]}],\"name\":\"2021-02-11\"},{\"data\":[{\"coloraxis\":\"coloraxis\",\"geo\":\"geo\",\"hovertemplate\":\"created_at=2021-02-12<br>user_location=%{location}<br>sentiment_compound=%{z}<extra></extra>\",\"locationmode\":\"country names\",\"locations\":[\"Australia\",\"Belgium\",\"Canada\",\"France\",\"Germany\",\"India\",\"Italy\",\"Russian Federation\",\"United Kingdom\",\"United States\"],\"name\":\"\",\"type\":\"choropleth\",\"z\":[0.5423,0.7096,0.37071333333333334,-0.5859,-0.37848,0.09243947368421052,-0.24535,0.2598333333333333,-0.2694,0.1226909090909091]}],\"name\":\"2021-02-12\"},{\"data\":[{\"coloraxis\":\"coloraxis\",\"geo\":\"geo\",\"hovertemplate\":\"created_at=2021-02-13<br>user_location=%{location}<br>sentiment_compound=%{z}<extra></extra>\",\"locationmode\":\"country names\",\"locations\":[\"Australia\",\"Belgium\",\"Canada\",\"France\",\"Germany\",\"India\",\"Pakistan\",\"Russian Federation\",\"Spain\",\"United Kingdom\",\"United States\"],\"name\":\"\",\"type\":\"choropleth\",\"z\":[0.0,0.4767,0.34201818181818183,0.0,-0.8481,0.26078125,0.0,-0.3693,0.0,0.2654333333333334,0.24271000000000004]}],\"name\":\"2021-02-13\"},{\"data\":[{\"coloraxis\":\"coloraxis\",\"geo\":\"geo\",\"hovertemplate\":\"created_at=2021-02-14<br>user_location=%{location}<br>sentiment_compound=%{z}<extra></extra>\",\"locationmode\":\"country names\",\"locations\":[\"Australia\",\"Belgium\",\"Canada\",\"France\",\"India\",\"Pakistan\",\"Palestinian Territory\",\"Ukraine\",\"United Kingdom\",\"United States\"],\"name\":\"\",\"type\":\"choropleth\",\"z\":[-0.0258,0.0,0.24027500000000002,0.034633333333333294,0.21535714285714286,0.4404,0.0,0.0,0.16714999999999994,0.25125000000000003]}],\"name\":\"2021-02-14\"},{\"data\":[{\"coloraxis\":\"coloraxis\",\"geo\":\"geo\",\"hovertemplate\":\"created_at=2021-02-15<br>user_location=%{location}<br>sentiment_compound=%{z}<extra></extra>\",\"locationmode\":\"country names\",\"locations\":[\"Australia\",\"Belgium\",\"Canada\",\"France\",\"Germany\",\"India\",\"Pakistan\",\"Palestinian Territory\",\"Russian Federation\",\"Ukraine\",\"United Kingdom\",\"United States\"],\"name\":\"\",\"type\":\"choropleth\",\"z\":[0.52555,-0.3225,0.2204,0.0,0.41695000000000004,0.12899999999999998,0.39225,0.3454,0.525625,0.20095,0.33955714285714295,0.20765]}],\"name\":\"2021-02-15\"},{\"data\":[{\"coloraxis\":\"coloraxis\",\"geo\":\"geo\",\"hovertemplate\":\"created_at=2021-02-16<br>user_location=%{location}<br>sentiment_compound=%{z}<extra></extra>\",\"locationmode\":\"country names\",\"locations\":[\"Australia\",\"Belgium\",\"Canada\",\"France\",\"Germany\",\"India\",\"Italy\",\"Pakistan\",\"Palestinian Territory\",\"Russian Federation\",\"Spain\",\"Ukraine\",\"United Kingdom\",\"United States\"],\"name\":\"\",\"type\":\"choropleth\",\"z\":[0.39135,0.4404333333333333,0.39313000000000003,0.8591,-0.2202,0.10709285714285714,0.5994,0.0,0.0,0.37078571428571433,-0.06255,-0.09255,0.3110833333333333,0.1981]}],\"name\":\"2021-02-16\"},{\"data\":[{\"coloraxis\":\"coloraxis\",\"geo\":\"geo\",\"hovertemplate\":\"created_at=2021-02-17<br>user_location=%{location}<br>sentiment_compound=%{z}<extra></extra>\",\"locationmode\":\"country names\",\"locations\":[\"Australia\",\"Austria\",\"Belgium\",\"Canada\",\"France\",\"Germany\",\"India\",\"Italy\",\"Pakistan\",\"Palestinian Territory\",\"Russian Federation\",\"Spain\",\"United Kingdom\",\"United States\"],\"name\":\"\",\"type\":\"choropleth\",\"z\":[-0.24605,0.00645,0.5925307692307692,0.60020625,-0.18575,0.0,0.1848111111111111,0.0,0.23835,0.213475,0.04950769230769226,0.06675,0.28300000000000003,0.23034615384615387]}],\"name\":\"2021-02-17\"},{\"data\":[{\"coloraxis\":\"coloraxis\",\"geo\":\"geo\",\"hovertemplate\":\"created_at=2021-02-18<br>user_location=%{location}<br>sentiment_compound=%{z}<extra></extra>\",\"locationmode\":\"country names\",\"locations\":[\"Austria\",\"Belgium\",\"Canada\",\"France\",\"Germany\",\"India\",\"Japan\",\"Pakistan\",\"Palestinian Territory\",\"Russian Federation\",\"Spain\",\"United Kingdom\",\"United States\"],\"name\":\"\",\"type\":\"choropleth\",\"z\":[0.0,0.27935,0.4703727272727273,-0.20873333333333333,-0.16928,0.27814375,-0.6908,0.23835,0.0,0.31845,0.0,0.2953857142857143,0.31423333333333336]}],\"name\":\"2021-02-18\"},{\"data\":[{\"coloraxis\":\"coloraxis\",\"geo\":\"geo\",\"hovertemplate\":\"created_at=2021-02-19<br>user_location=%{location}<br>sentiment_compound=%{z}<extra></extra>\",\"locationmode\":\"country names\",\"locations\":[\"Australia\",\"Austria\",\"Belgium\",\"Canada\",\"France\",\"Germany\",\"India\",\"Italy\",\"Mexico\",\"Pakistan\",\"Palestinian Territory\",\"Russian Federation\",\"Spain\",\"United Kingdom\",\"United States\"],\"name\":\"\",\"type\":\"choropleth\",\"z\":[0.0,0.5859,0.4517333333333333,-0.21448333333333336,-0.0741,0.37126666666666663,0.06053214285714282,0.6908,0.0,0.3712,-0.4645,0.09100833333333334,0.0,0.286375,0.13363125000000003]}],\"name\":\"2021-02-19\"},{\"data\":[{\"coloraxis\":\"coloraxis\",\"geo\":\"geo\",\"hovertemplate\":\"created_at=2021-02-20<br>user_location=%{location}<br>sentiment_compound=%{z}<extra></extra>\",\"locationmode\":\"country names\",\"locations\":[\"Australia\",\"Austria\",\"Canada\",\"France\",\"Germany\",\"India\",\"Italy\",\"Pakistan\",\"Palestinian Territory\",\"Russian Federation\",\"Ukraine\",\"United Kingdom\",\"United States\"],\"name\":\"\",\"type\":\"choropleth\",\"z\":[-0.21715000000000004,0.0,-0.028783333333333327,-0.13312,0.23850000000000002,0.1850761904761905,0.0,-0.1027,0.3548,0.17812857142857141,0.4767,0.20095,0.0755090909090909]}],\"name\":\"2021-02-20\"},{\"data\":[{\"coloraxis\":\"coloraxis\",\"geo\":\"geo\",\"hovertemplate\":\"created_at=2021-02-21<br>user_location=%{location}<br>sentiment_compound=%{z}<extra></extra>\",\"locationmode\":\"country names\",\"locations\":[\"Australia\",\"Austria\",\"Canada\",\"Germany\",\"India\",\"Italy\",\"Palestinian Territory\",\"Russian Federation\",\"Spain\",\"Ukraine\",\"United Kingdom\",\"United States\"],\"name\":\"\",\"type\":\"choropleth\",\"z\":[0.11365,0.0,0.26912,0.5423,0.01470000000000001,0.7184,-0.09106666666666667,-0.6045999999999999,0.0,0.0772,0.48455714285714285,-0.11901999999999999]}],\"name\":\"2021-02-21\"},{\"data\":[{\"coloraxis\":\"coloraxis\",\"geo\":\"geo\",\"hovertemplate\":\"created_at=2021-02-22<br>user_location=%{location}<br>sentiment_compound=%{z}<extra></extra>\",\"locationmode\":\"country names\",\"locations\":[\"Australia\",\"Belgium\",\"Canada\",\"France\",\"Germany\",\"India\",\"Italy\",\"Japan\",\"Mexico\",\"Pakistan\",\"Palestinian Territory\",\"Russian Federation\",\"United Kingdom\",\"United States\"],\"name\":\"\",\"type\":\"choropleth\",\"z\":[0.3951,0.4019,0.74956,0.7351,-0.1963333333333333,0.19810588235294124,0.3818,-0.4767,0.3182,0.22766000000000003,0.7096,0.282875,0.16933333333333334,0.22524444444444447]}],\"name\":\"2021-02-22\"},{\"data\":[{\"coloraxis\":\"coloraxis\",\"geo\":\"geo\",\"hovertemplate\":\"created_at=2021-02-23<br>user_location=%{location}<br>sentiment_compound=%{z}<extra></extra>\",\"locationmode\":\"country names\",\"locations\":[\"Australia\",\"Belgium\",\"Canada\",\"France\",\"Germany\",\"India\",\"Italy\",\"Pakistan\",\"Russian Federation\",\"Spain\",\"United Kingdom\",\"United States\"],\"name\":\"\",\"type\":\"choropleth\",\"z\":[0.6249,-0.3674,-0.12332499999999998,-0.2165,0.20413333333333336,0.11097058823529411,0.0,0.45996666666666663,0.08913333333333334,-0.5106,-0.07714545454545454,0.17555555555555555]}],\"name\":\"2021-02-23\"},{\"data\":[{\"coloraxis\":\"coloraxis\",\"geo\":\"geo\",\"hovertemplate\":\"created_at=2021-02-24<br>user_location=%{location}<br>sentiment_compound=%{z}<extra></extra>\",\"locationmode\":\"country names\",\"locations\":[\"Argentina\",\"Australia\",\"Austria\",\"Canada\",\"France\",\"Germany\",\"India\",\"Pakistan\",\"Palestinian Territory\",\"Russian Federation\",\"Spain\",\"United Kingdom\",\"United States\"],\"name\":\"\",\"type\":\"choropleth\",\"z\":[0.0,0.2263,0.4767,-0.176025,0.4732,0.3291,0.13970434782608693,0.2659076923076923,0.0,0.1818142857142857,0.8909999999999999,0.16136666666666666,0.1866857142857143]}],\"name\":\"2021-02-24\"},{\"data\":[{\"coloraxis\":\"coloraxis\",\"geo\":\"geo\",\"hovertemplate\":\"created_at=2021-02-25<br>user_location=%{location}<br>sentiment_compound=%{z}<extra></extra>\",\"locationmode\":\"country names\",\"locations\":[\"Austria\",\"Belgium\",\"Brazil\",\"Canada\",\"France\",\"Germany\",\"India\",\"Italy\",\"Pakistan\",\"Palestinian Territory\",\"Russian Federation\",\"Ukraine\",\"United Arab Emirates\",\"United Kingdom\",\"United States\"],\"name\":\"\",\"type\":\"choropleth\",\"z\":[0.0,0.31245,0.0,-0.05681999999999998,0.39410000000000006,0.1531,0.2301526315789474,-0.1531,0.00018000000000001348,-0.6769,0.41967499999999996,0.21075,0.6378,0.22012857142857145,0.3618318181818182]}],\"name\":\"2021-02-25\"},{\"data\":[{\"coloraxis\":\"coloraxis\",\"geo\":\"geo\",\"hovertemplate\":\"created_at=2021-02-26<br>user_location=%{location}<br>sentiment_compound=%{z}<extra></extra>\",\"locationmode\":\"country names\",\"locations\":[\"Argentina\",\"Austria\",\"Canada\",\"France\",\"Germany\",\"India\",\"Pakistan\",\"Russian Federation\",\"Spain\",\"Ukraine\",\"United Kingdom\",\"United States\"],\"name\":\"\",\"type\":\"choropleth\",\"z\":[0.0,0.0,-0.07091,0.183075,0.0,0.1324811320754717,0.0,0.1682555555555555,0.0,0.0,0.13634285714285727,0.24968181818181814]}],\"name\":\"2021-02-26\"},{\"data\":[{\"coloraxis\":\"coloraxis\",\"geo\":\"geo\",\"hovertemplate\":\"created_at=2021-02-27<br>user_location=%{location}<br>sentiment_compound=%{z}<extra></extra>\",\"locationmode\":\"country names\",\"locations\":[\"Austria\",\"Belgium\",\"Canada\",\"France\",\"India\",\"Japan\",\"Pakistan\",\"Russian Federation\",\"Ukraine\",\"United Kingdom\",\"United States\"],\"name\":\"\",\"type\":\"choropleth\",\"z\":[0.4939,0.8481,0.2588,-0.34,0.15241250000000003,0.5423,0.6124,0.15582857142857143,-0.128,0.2949833333333333,0.1016277777777778]}],\"name\":\"2021-02-27\"},{\"data\":[{\"coloraxis\":\"coloraxis\",\"geo\":\"geo\",\"hovertemplate\":\"created_at=2021-02-28<br>user_location=%{location}<br>sentiment_compound=%{z}<extra></extra>\",\"locationmode\":\"country names\",\"locations\":[\"Belgium\",\"Canada\",\"France\",\"India\",\"Pakistan\",\"Palestinian Territory\",\"Russian Federation\",\"Ukraine\",\"United Kingdom\",\"United States\"],\"name\":\"\",\"type\":\"choropleth\",\"z\":[0.0,0.24551111111111112,0.38460000000000005,0.26159230769230785,-0.3182,0.009800000000000003,0.16083333333333333,0.0,0.4555571428571428,0.1932578947368421]}],\"name\":\"2021-02-28\"},{\"data\":[{\"coloraxis\":\"coloraxis\",\"geo\":\"geo\",\"hovertemplate\":\"created_at=2021-03-01<br>user_location=%{location}<br>sentiment_compound=%{z}<extra></extra>\",\"locationmode\":\"country names\",\"locations\":[\"Argentina\",\"Australia\",\"Austria\",\"Belgium\",\"Brazil\",\"Canada\",\"France\",\"Germany\",\"India\",\"Italy\",\"Japan\",\"Pakistan\",\"Palestinian Territory\",\"Russian Federation\",\"Spain\",\"Ukraine\",\"United Kingdom\",\"United States\"],\"name\":\"\",\"type\":\"choropleth\",\"z\":[0.2732,0.0,0.31245,0.13191999999999998,0.4019,0.2585444444444444,0.156225,-0.1099,0.22090630733944985,0.0,0.0,0.43125,0.07954999999999995,0.20566,0.7717,0.4767,0.14778333333333335,0.18619428571428562]}],\"name\":\"2021-03-01\"},{\"data\":[{\"coloraxis\":\"coloraxis\",\"geo\":\"geo\",\"hovertemplate\":\"created_at=2021-03-02<br>user_location=%{location}<br>sentiment_compound=%{z}<extra></extra>\",\"locationmode\":\"country names\",\"locations\":[\"Austria\",\"Belgium\",\"Canada\",\"France\",\"India\",\"Italy\",\"Japan\",\"Malaysia\",\"Mexico\",\"Pakistan\",\"Palestinian Territory\",\"Russian Federation\",\"Ukraine\",\"United Kingdom\",\"United States\"],\"name\":\"\",\"type\":\"choropleth\",\"z\":[0.0258,0.2732,0.3359888888888889,0.5112000000000001,0.12839662921348324,0.0,0.0,0.0,0.7096,0.5138,-0.5994,0.22167499999999998,0.61015,0.26385714285714285,0.33195217391304355]}],\"name\":\"2021-03-02\"},{\"data\":[{\"coloraxis\":\"coloraxis\",\"geo\":\"geo\",\"hovertemplate\":\"created_at=2021-03-03<br>user_location=%{location}<br>sentiment_compound=%{z}<extra></extra>\",\"locationmode\":\"country names\",\"locations\":[\"Australia\",\"Austria\",\"Brazil\",\"Canada\",\"France\",\"Germany\",\"India\",\"Italy\",\"Japan\",\"Mexico\",\"Pakistan\",\"Palestinian Territory\",\"Russian Federation\",\"Spain\",\"Ukraine\",\"United Kingdom\",\"United States\"],\"name\":\"\",\"type\":\"choropleth\",\"z\":[0.7635,0.3182,0.0,-0.09694999999999998,0.20759999999999998,0.0,0.199674021352313,0.17915000000000003,0.5994,0.14952,0.6239,0.4404,0.31581250000000005,0.4035,0.019500000000000017,0.35302941176470587,0.36212500000000003]}],\"name\":\"2021-03-03\"},{\"data\":[{\"coloraxis\":\"coloraxis\",\"geo\":\"geo\",\"hovertemplate\":\"created_at=2021-03-04<br>user_location=%{location}<br>sentiment_compound=%{z}<extra></extra>\",\"locationmode\":\"country names\",\"locations\":[\"Australia\",\"Austria\",\"Belgium\",\"Canada\",\"France\",\"Germany\",\"India\",\"Italy\",\"Japan\",\"Pakistan\",\"Russian Federation\",\"Spain\",\"United Kingdom\",\"United States\"],\"name\":\"\",\"type\":\"choropleth\",\"z\":[0.16306666666666667,0.13396666666666665,0.2523,-0.19701818181818184,0.4767,-0.1052,0.15955578231292525,0.2956,0.8126,0.3177,0.24930625,0.39185,0.11502000000000001,0.35902647058823534]}],\"name\":\"2021-03-04\"},{\"data\":[{\"coloraxis\":\"coloraxis\",\"geo\":\"geo\",\"hovertemplate\":\"created_at=2021-03-05<br>user_location=%{location}<br>sentiment_compound=%{z}<extra></extra>\",\"locationmode\":\"country names\",\"locations\":[\"Australia\",\"Austria\",\"Brazil\",\"Canada\",\"France\",\"Germany\",\"India\",\"Italy\",\"Japan\",\"Jersey\",\"Mexico\",\"Pakistan\",\"Palestinian Territory\",\"Russian Federation\",\"Spain\",\"Ukraine\",\"United Kingdom\",\"United States\"],\"name\":\"\",\"type\":\"choropleth\",\"z\":[0.064,0.0,0.4215,-0.15369285714285716,0.6908,0.42110000000000003,0.19026759259259265,0.30745,0.8625,0.0,0.0772,0.15080000000000002,0.4215,0.06706363636363635,0.0,0.0,0.36629999999999996,0.2571793103448277]}],\"name\":\"2021-03-05\"},{\"data\":[{\"coloraxis\":\"coloraxis\",\"geo\":\"geo\",\"hovertemplate\":\"created_at=2021-03-06<br>user_location=%{location}<br>sentiment_compound=%{z}<extra></extra>\",\"locationmode\":\"country names\",\"locations\":[\"Australia\",\"Austria\",\"Canada\",\"France\",\"India\",\"Japan\",\"Pakistan\",\"Russian Federation\",\"Spain\",\"United Kingdom\",\"United States\"],\"name\":\"\",\"type\":\"choropleth\",\"z\":[0.0,0.0,-0.019933333333333327,-0.08129999999999997,0.19189347826086947,0.5423,0.47459999999999997,0.29880000000000007,0.8957,0.26975000000000005,0.21653913043478262]}],\"name\":\"2021-03-06\"},{\"data\":[{\"coloraxis\":\"coloraxis\",\"geo\":\"geo\",\"hovertemplate\":\"created_at=2021-03-07<br>user_location=%{location}<br>sentiment_compound=%{z}<extra></extra>\",\"locationmode\":\"country names\",\"locations\":[\"Argentina\",\"Austria\",\"Canada\",\"France\",\"Germany\",\"India\",\"Italy\",\"Japan\",\"Pakistan\",\"Palestinian Territory\",\"Philippines\",\"Russian Federation\",\"United Kingdom\",\"United States\"],\"name\":\"\",\"type\":\"choropleth\",\"z\":[0.0,0.176,-0.08780000000000002,-0.5267,-0.023849999999999996,0.1940388888888889,0.0,0.0,0.0,-0.18184999999999996,0.3818,0.1869333333333333,0.1649,-0.09604166666666665]}],\"name\":\"2021-03-07\"},{\"data\":[{\"coloraxis\":\"coloraxis\",\"geo\":\"geo\",\"hovertemplate\":\"created_at=2021-03-08<br>user_location=%{location}<br>sentiment_compound=%{z}<extra></extra>\",\"locationmode\":\"country names\",\"locations\":[\"Australia\",\"Austria\",\"Belgium\",\"Canada\",\"France\",\"India\",\"Italy\",\"Pakistan\",\"Palestinian Territory\",\"Philippines\",\"Russian Federation\",\"Spain\",\"United Kingdom\",\"United States\"],\"name\":\"\",\"type\":\"choropleth\",\"z\":[0.0,0.589,-0.24704285714285712,0.015963636363636343,0.0,0.18801379310344826,0.4767,0.0,0.44475000000000003,0.23775000000000002,0.062140000000000015,0.57125,0.3345833333333334,0.13857878787878788]}],\"name\":\"2021-03-08\"},{\"data\":[{\"coloraxis\":\"coloraxis\",\"geo\":\"geo\",\"hovertemplate\":\"created_at=2021-03-09<br>user_location=%{location}<br>sentiment_compound=%{z}<extra></extra>\",\"locationmode\":\"country names\",\"locations\":[\"Austria\",\"Belgium\",\"Canada\",\"France\",\"Germany\",\"India\",\"Italy\",\"Japan\",\"Pakistan\",\"Philippines\",\"Russian Federation\",\"Spain\",\"United Arab Emirates\",\"United Kingdom\",\"United States\"],\"name\":\"\",\"type\":\"choropleth\",\"z\":[0.024599999999999997,0.546,0.5529600000000002,0.0,0.5859,0.2554246376811593,0.28555,-0.3443,0.031275,0.5574,0.19419999999999998,0.0,0.4404,0.40358333333333335,0.05999444444444445]}],\"name\":\"2021-03-09\"},{\"data\":[{\"coloraxis\":\"coloraxis\",\"geo\":\"geo\",\"hovertemplate\":\"created_at=2021-03-10<br>user_location=%{location}<br>sentiment_compound=%{z}<extra></extra>\",\"locationmode\":\"country names\",\"locations\":[\"Australia\",\"Belgium\",\"Canada\",\"France\",\"Germany\",\"India\",\"Italy\",\"Mexico\",\"Pakistan\",\"Palestinian Territory\",\"Philippines\",\"Russian Federation\",\"Spain\",\"United Kingdom\",\"United States\"],\"name\":\"\",\"type\":\"choropleth\",\"z\":[0.4756666666666667,-0.56015,0.39430000000000004,0.164,0.3338,0.22730140845070435,-0.061,0.0,0.07492500000000002,0.0,0.0,-0.16522,-0.7351,0.2312857142857143,0.007250000000000036]}],\"name\":\"2021-03-10\"},{\"data\":[{\"coloraxis\":\"coloraxis\",\"geo\":\"geo\",\"hovertemplate\":\"created_at=2021-03-11<br>user_location=%{location}<br>sentiment_compound=%{z}<extra></extra>\",\"locationmode\":\"country names\",\"locations\":[\"Argentina\",\"Australia\",\"Belgium\",\"Canada\",\"France\",\"Germany\",\"India\",\"Italy\",\"Japan\",\"Mexico\",\"Pakistan\",\"Russian Federation\",\"Spain\",\"United Arab Emirates\",\"United Kingdom\",\"United States\"],\"name\":\"\",\"type\":\"choropleth\",\"z\":[0.0,-0.09386666666666665,-0.3062,0.0678545454545455,0.1779,0.4521833333333334,0.13394945054945046,0.1909,0.3359666666666667,0.6808,0.20529999999999998,0.44626,-0.2263,0.7003,0.3463153846153846,-0.1531386363636364]}],\"name\":\"2021-03-11\"},{\"data\":[{\"coloraxis\":\"coloraxis\",\"geo\":\"geo\",\"hovertemplate\":\"created_at=2021-03-12<br>user_location=%{location}<br>sentiment_compound=%{z}<extra></extra>\",\"locationmode\":\"country names\",\"locations\":[\"Argentina\",\"Belgium\",\"Brazil\",\"Canada\",\"France\",\"Germany\",\"India\",\"Indonesia\",\"Italy\",\"Japan\",\"Mexico\",\"Pakistan\",\"Russian Federation\",\"Spain\",\"United Kingdom\",\"United States\"],\"name\":\"\",\"type\":\"choropleth\",\"z\":[0.0,-0.2551666666666667,0.0,-0.35607500000000003,0.03715999999999999,0.24773333333333336,0.13897333333333334,0.0,0.5369250000000001,-0.8885,0.0,-0.026824999999999988,-0.00630000000000001,0.0,-0.009914285714285796,0.2331390243902439]}],\"name\":\"2021-03-12\"},{\"data\":[{\"coloraxis\":\"coloraxis\",\"geo\":\"geo\",\"hovertemplate\":\"created_at=2021-03-13<br>user_location=%{location}<br>sentiment_compound=%{z}<extra></extra>\",\"locationmode\":\"country names\",\"locations\":[\"Australia\",\"Belgium\",\"Canada\",\"France\",\"India\",\"Indonesia\",\"Italy\",\"Mexico\",\"Pakistan\",\"Palestinian Territory\",\"Russian Federation\",\"United Kingdom\",\"United States\"],\"name\":\"\",\"type\":\"choropleth\",\"z\":[-0.5859,0.5574,-0.38083888888888895,0.0,0.15970689655172413,0.0,0.765,-0.01815,0.2007,0.6369,0.18606666666666669,0.19284285714285715,0.2619652173913044]}],\"name\":\"2021-03-13\"},{\"data\":[{\"coloraxis\":\"coloraxis\",\"geo\":\"geo\",\"hovertemplate\":\"created_at=2021-03-14<br>user_location=%{location}<br>sentiment_compound=%{z}<extra></extra>\",\"locationmode\":\"country names\",\"locations\":[\"Australia\",\"Brazil\",\"Canada\",\"Germany\",\"India\",\"Italy\",\"Japan\",\"Pakistan\",\"Palestinian Territory\",\"Russian Federation\",\"United Kingdom\",\"United States\"],\"name\":\"\",\"type\":\"choropleth\",\"z\":[0.12040000000000001,0.1779,-0.3423666666666667,0.5585,0.13344705882352945,0.2569,0.802,0.0538,0.0772,-0.10533333333333333,0.29044999999999993,-0.010637499999999994]}],\"name\":\"2021-03-14\"},{\"data\":[{\"coloraxis\":\"coloraxis\",\"geo\":\"geo\",\"hovertemplate\":\"created_at=2021-03-15<br>user_location=%{location}<br>sentiment_compound=%{z}<extra></extra>\",\"locationmode\":\"country names\",\"locations\":[\"Australia\",\"Austria\",\"Belgium\",\"Canada\",\"France\",\"Germany\",\"India\",\"Italy\",\"Mexico\",\"Pakistan\",\"Palestinian Territory\",\"Philippines\",\"Russian Federation\",\"Spain\",\"United Kingdom\",\"United States\"],\"name\":\"\",\"type\":\"choropleth\",\"z\":[-0.28636666666666666,-0.0129,0.12274000000000004,-0.23813142857142863,0.24220000000000003,-0.009025000000000005,0.12451176470588234,0.25443333333333334,-0.022300000000000035,-0.03028333333333333,0.0,0.0,0.03770000000000004,0.0,-0.061695652173913006,0.1897040000000001]}],\"name\":\"2021-03-15\"},{\"data\":[{\"coloraxis\":\"coloraxis\",\"geo\":\"geo\",\"hovertemplate\":\"created_at=2021-03-16<br>user_location=%{location}<br>sentiment_compound=%{z}<extra></extra>\",\"locationmode\":\"country names\",\"locations\":[\"Argentina\",\"Australia\",\"Austria\",\"Belgium\",\"Brazil\",\"Canada\",\"Chile\",\"France\",\"Germany\",\"India\",\"Italy\",\"Japan\",\"Pakistan\",\"Palestinian Territory\",\"Russian Federation\",\"United Kingdom\",\"United States\"],\"name\":\"\",\"type\":\"choropleth\",\"z\":[0.0,-0.31464285714285717,0.0,0.6305000000000001,-0.29600000000000004,0.051905128205128236,0.0,0.27216,0.14976666666666666,0.15525428571428584,-0.045899999999999996,0.4371,0.21372000000000005,-0.2202,0.22999999999999998,0.007556756756756758,0.19716666666666666]}],\"name\":\"2021-03-16\"},{\"data\":[{\"coloraxis\":\"coloraxis\",\"geo\":\"geo\",\"hovertemplate\":\"created_at=2021-03-17<br>user_location=%{location}<br>sentiment_compound=%{z}<extra></extra>\",\"locationmode\":\"country names\",\"locations\":[\"Australia\",\"Austria\",\"Belgium\",\"Canada\",\"France\",\"Germany\",\"India\",\"Italy\",\"Pakistan\",\"Russian Federation\",\"United Kingdom\",\"United States\"],\"name\":\"\",\"type\":\"choropleth\",\"z\":[-0.13834999999999997,-0.4404,0.0,0.13659599999999986,0.11186666666666667,-0.41450000000000004,0.10235396825396822,0.4019,0.239456,0.12009,0.2661800000000001,0.3496242424242424]}],\"name\":\"2021-03-17\"},{\"data\":[{\"coloraxis\":\"coloraxis\",\"geo\":\"geo\",\"hovertemplate\":\"created_at=2021-03-18<br>user_location=%{location}<br>sentiment_compound=%{z}<extra></extra>\",\"locationmode\":\"country names\",\"locations\":[\"Argentina\",\"Australia\",\"Austria\",\"Belgium\",\"Canada\",\"France\",\"Germany\",\"India\",\"Italy\",\"Japan\",\"Mexico\",\"Pakistan\",\"Palestinian Territory\",\"Russian Federation\",\"United Kingdom\",\"United States\"],\"name\":\"\",\"type\":\"choropleth\",\"z\":[-0.4404,0.29485,0.327675,0.0,0.0076479166666668374,-0.7351,0.08065,0.10332954545454548,0.5359666666666666,0.1027,-0.8246,0.23952999999999997,0.2553,-0.09129999999999999,0.30517500000000003,0.20807435897435902]}],\"name\":\"2021-03-18\"},{\"data\":[{\"coloraxis\":\"coloraxis\",\"geo\":\"geo\",\"hovertemplate\":\"created_at=2021-03-19<br>user_location=%{location}<br>sentiment_compound=%{z}<extra></extra>\",\"locationmode\":\"country names\",\"locations\":[\"Argentina\",\"Austria\",\"Belgium\",\"Canada\",\"France\",\"Germany\",\"India\",\"Italy\",\"Japan\",\"Pakistan\",\"Philippines\",\"Russian Federation\",\"Ukraine\",\"United Kingdom\",\"United States\"],\"name\":\"\",\"type\":\"choropleth\",\"z\":[0.6597,0.06795000000000001,-0.05173333333333333,-0.14626000000000003,0.0873,-0.11486,0.2538983606557376,0.1591,0.0258,0.21366666666666667,0.2787,0.1500285714285714,0.0,0.2515558823529412,0.13223888888888888]}],\"name\":\"2021-03-19\"},{\"data\":[{\"coloraxis\":\"coloraxis\",\"geo\":\"geo\",\"hovertemplate\":\"created_at=2021-03-20<br>user_location=%{location}<br>sentiment_compound=%{z}<extra></extra>\",\"locationmode\":\"country names\",\"locations\":[\"Brazil\",\"Canada\",\"Germany\",\"India\",\"Japan\",\"Pakistan\",\"Russian Federation\",\"United Kingdom\",\"United States\"],\"name\":\"\",\"type\":\"choropleth\",\"z\":[0.6249,-0.17139750000000006,0.12599999999999997,0.25077631578947385,0.44095,0.18162647058823528,0.0005999999999999894,0.3242225806451612,0.2524727272727273]}],\"name\":\"2021-03-20\"},{\"data\":[{\"coloraxis\":\"coloraxis\",\"geo\":\"geo\",\"hovertemplate\":\"created_at=2021-03-21<br>user_location=%{location}<br>sentiment_compound=%{z}<extra></extra>\",\"locationmode\":\"country names\",\"locations\":[\"Austria\",\"Belgium\",\"Canada\",\"France\",\"Germany\",\"India\",\"Italy\",\"Mexico\",\"Pakistan\",\"Russian Federation\",\"Ukraine\",\"United Kingdom\",\"United States\"],\"name\":\"\",\"type\":\"choropleth\",\"z\":[-0.07415,0.6705,-0.3210833333333333,0.0,0.0,0.09468285714285708,0.0,0.34,0.10953684210526311,0.285825,-0.7783,0.06327272727272724,0.3032095238095239]}],\"name\":\"2021-03-21\"},{\"data\":[{\"coloraxis\":\"coloraxis\",\"geo\":\"geo\",\"hovertemplate\":\"created_at=2021-03-22<br>user_location=%{location}<br>sentiment_compound=%{z}<extra></extra>\",\"locationmode\":\"country names\",\"locations\":[\"Australia\",\"Austria\",\"Brazil\",\"Canada\",\"France\",\"Germany\",\"Hong Kong\",\"India\",\"Italy\",\"Japan\",\"Pakistan\",\"Palestinian Territory\",\"Russian Federation\",\"United Kingdom\",\"United States\"],\"name\":\"\",\"type\":\"choropleth\",\"z\":[0.0,0.3246,-0.61395,0.015676562500000428,0.0,0.2966444444444445,-0.3612,0.26679107142857145,0.7096,0.8588,0.11532222222222226,0.2202,0.03943999999999999,0.07884999999999998,0.25743793103448276]}],\"name\":\"2021-03-22\"},{\"data\":[{\"coloraxis\":\"coloraxis\",\"geo\":\"geo\",\"hovertemplate\":\"created_at=2021-03-23<br>user_location=%{location}<br>sentiment_compound=%{z}<extra></extra>\",\"locationmode\":\"country names\",\"locations\":[\"Australia\",\"Austria\",\"Belgium\",\"Brazil\",\"Canada\",\"France\",\"Germany\",\"India\",\"Italy\",\"Japan\",\"Pakistan\",\"Russian Federation\",\"United Kingdom\",\"United States\"],\"name\":\"\",\"type\":\"choropleth\",\"z\":[0.09784999999999999,0.4404,-0.02310000000000001,0.4939,-0.10829999999999977,-0.7184,0.0,0.14810892857142857,0.1909,0.0,0.0,-0.08231666666666666,0.2274214285714286,0.04852564102564102]}],\"name\":\"2021-03-23\"},{\"data\":[{\"coloraxis\":\"coloraxis\",\"geo\":\"geo\",\"hovertemplate\":\"created_at=2021-03-24<br>user_location=%{location}<br>sentiment_compound=%{z}<extra></extra>\",\"locationmode\":\"country names\",\"locations\":[\"Australia\",\"Austria\",\"Canada\",\"France\",\"Germany\",\"India\",\"Italy\",\"Japan\",\"Pakistan\",\"Russian Federation\",\"United Kingdom\",\"United States\"],\"name\":\"\",\"type\":\"choropleth\",\"z\":[0.3498,0.0,0.00616111111111145,0.10705,0.8176,0.0808923076923077,0.39185,-0.7906,0.05198749999999999,0.50595,0.30991,0.2280866666666667]}],\"name\":\"2021-03-24\"},{\"data\":[{\"coloraxis\":\"coloraxis\",\"geo\":\"geo\",\"hovertemplate\":\"created_at=2021-03-25<br>user_location=%{location}<br>sentiment_compound=%{z}<extra></extra>\",\"locationmode\":\"country names\",\"locations\":[\"Argentina\",\"Australia\",\"Belgium\",\"Canada\",\"France\",\"Germany\",\"India\",\"Italy\",\"Mexico\",\"Pakistan\",\"Palestinian Territory\",\"Russian Federation\",\"United Kingdom\",\"United States\"],\"name\":\"\",\"type\":\"choropleth\",\"z\":[0.5267,0.0,0.0,-0.08762962962962963,0.3612,-0.07816666666666666,0.16590000000000002,0.08595000000000003,0.4215,-0.5994,0.5423,0.0552875,0.14781764705882358,0.12483225806451613]}],\"name\":\"2021-03-25\"},{\"data\":[{\"coloraxis\":\"coloraxis\",\"geo\":\"geo\",\"hovertemplate\":\"created_at=2021-03-26<br>user_location=%{location}<br>sentiment_compound=%{z}<extra></extra>\",\"locationmode\":\"country names\",\"locations\":[\"Argentina\",\"Belgium\",\"Brazil\",\"Canada\",\"France\",\"Germany\",\"India\",\"Indonesia\",\"Italy\",\"Qatar\",\"Russian Federation\",\"Ukraine\",\"United Kingdom\",\"United States\"],\"name\":\"\",\"type\":\"choropleth\",\"z\":[0.2023,0.24935,0.0,0.15757027027027062,0.18973333333333334,0.0,0.07137272727272727,0.0,-0.3818,0.3612,0.19642857142857142,0.0,0.2379571428571429,0.15704249999999997]}],\"name\":\"2021-03-26\"},{\"data\":[{\"coloraxis\":\"coloraxis\",\"geo\":\"geo\",\"hovertemplate\":\"created_at=2021-03-27<br>user_location=%{location}<br>sentiment_compound=%{z}<extra></extra>\",\"locationmode\":\"country names\",\"locations\":[\"Austria\",\"Canada\",\"France\",\"India\",\"Italy\",\"Japan\",\"Mexico\",\"Pakistan\",\"Russian Federation\",\"Spain\",\"United Kingdom\",\"United States\"],\"name\":\"\",\"type\":\"choropleth\",\"z\":[0.0,-0.2516906976744186,0.2023,0.2927214285714285,0.3630333333333334,0.29600000000000004,0.0,0.17723333333333333,0.23892499999999994,0.1027,0.30045,0.2369410256410256]}],\"name\":\"2021-03-27\"},{\"data\":[{\"coloraxis\":\"coloraxis\",\"geo\":\"geo\",\"hovertemplate\":\"created_at=2021-03-28<br>user_location=%{location}<br>sentiment_compound=%{z}<extra></extra>\",\"locationmode\":\"country names\",\"locations\":[\"Argentina\",\"Australia\",\"Canada\",\"France\",\"Germany\",\"India\",\"Pakistan\",\"Russian Federation\",\"Ukraine\",\"United Kingdom\",\"United States\"],\"name\":\"\",\"type\":\"choropleth\",\"z\":[0.0,0.6808,0.18559130434782617,-0.28686666666666666,0.18295,0.20792000000000002,-0.083725,0.182425,0.6249,-0.062157142857142855,0.19426470588235292]}],\"name\":\"2021-03-28\"},{\"data\":[{\"coloraxis\":\"coloraxis\",\"geo\":\"geo\",\"hovertemplate\":\"created_at=2021-03-29<br>user_location=%{location}<br>sentiment_compound=%{z}<extra></extra>\",\"locationmode\":\"country names\",\"locations\":[\"Australia\",\"Austria\",\"Belgium\",\"Canada\",\"France\",\"Germany\",\"India\",\"Italy\",\"Japan\",\"Pakistan\",\"Palestinian Territory\",\"Russian Federation\",\"Spain\",\"Ukraine\",\"United Arab Emirates\",\"United Kingdom\",\"United States\"],\"name\":\"\",\"type\":\"choropleth\",\"z\":[0.7717,0.37495,-0.21326666666666663,-0.01355833333333315,0.28358,0.720225,0.19051428571428577,0.0,0.5431,0.021333333333333333,0.07415,0.40275,0.51535,0.24027999999999997,0.0,-0.0873142857142857,0.18576111111111115]}],\"name\":\"2021-03-29\"},{\"data\":[{\"coloraxis\":\"coloraxis\",\"geo\":\"geo\",\"hovertemplate\":\"created_at=2021-03-30<br>user_location=%{location}<br>sentiment_compound=%{z}<extra></extra>\",\"locationmode\":\"country names\",\"locations\":[\"Australia\",\"Austria\",\"Belgium\",\"Brazil\",\"Canada\",\"France\",\"India\",\"Italy\",\"Japan\",\"Mexico\",\"Pakistan\",\"Palestinian Territory\",\"Russian Federation\",\"Ukraine\",\"United Kingdom\",\"United States\"],\"name\":\"\",\"type\":\"choropleth\",\"z\":[0.127025,0.0,0.27930000000000005,0.2023,-0.06669999999999975,0.31816,0.12427164179104465,0.7178,0.0,0.0,0.25358,0.2814,-0.08818750000000002,0.29153333333333337,0.04923076923076924,0.23565283018867925]}],\"name\":\"2021-03-30\"},{\"data\":[{\"coloraxis\":\"coloraxis\",\"geo\":\"geo\",\"hovertemplate\":\"created_at=2021-03-31<br>user_location=%{location}<br>sentiment_compound=%{z}<extra></extra>\",\"locationmode\":\"country names\",\"locations\":[\"Argentina\",\"Australia\",\"Austria\",\"Belgium\",\"Canada\",\"France\",\"Germany\",\"India\",\"Italy\",\"Japan\",\"Pakistan\",\"Palestinian Territory\",\"Russian Federation\",\"Spain\",\"Ukraine\",\"United Kingdom\",\"United States\"],\"name\":\"\",\"type\":\"choropleth\",\"z\":[0.0,0.38029999999999997,0.3806,0.315175,-0.2187694444444445,0.44610000000000005,0.09876666666666666,0.14537101449275353,0.2716,0.15335000000000001,0.027830769230769232,0.1531,0.1142,0.16556666666666667,0.23095,0.11908235294117653,0.23026734693877546]}],\"name\":\"2021-03-31\"},{\"data\":[{\"coloraxis\":\"coloraxis\",\"geo\":\"geo\",\"hovertemplate\":\"created_at=2021-04-01<br>user_location=%{location}<br>sentiment_compound=%{z}<extra></extra>\",\"locationmode\":\"country names\",\"locations\":[\"Australia\",\"Canada\",\"France\",\"Germany\",\"India\",\"Italy\",\"Mexico\",\"Netherlands\",\"Pakistan\",\"Russian Federation\",\"United Kingdom\",\"United States\"],\"name\":\"\",\"type\":\"choropleth\",\"z\":[0.0,-0.030016666666666702,0.13652499999999998,0.0,0.169530985915493,0.6908,0.0,0.0772,0.12036363636363637,0.4590166666666667,0.22541666666666674,0.24825428571428562]}],\"name\":\"2021-04-01\"},{\"data\":[{\"coloraxis\":\"coloraxis\",\"geo\":\"geo\",\"hovertemplate\":\"created_at=2021-04-02<br>user_location=%{location}<br>sentiment_compound=%{z}<extra></extra>\",\"locationmode\":\"country names\",\"locations\":[\"Australia\",\"Austria\",\"Belgium\",\"Canada\",\"France\",\"Germany\",\"India\",\"Pakistan\",\"Russian Federation\",\"United Kingdom\",\"United States\"],\"name\":\"\",\"type\":\"choropleth\",\"z\":[-0.6632,-0.0172,-0.8176,-0.11253684210526317,0.31245,0.2294,0.23070535714285725,0.18692727272727272,0.4418250000000001,0.18952857142857146,0.20616363636363635]}],\"name\":\"2021-04-02\"},{\"data\":[{\"coloraxis\":\"coloraxis\",\"geo\":\"geo\",\"hovertemplate\":\"created_at=2021-04-03<br>user_location=%{location}<br>sentiment_compound=%{z}<extra></extra>\",\"locationmode\":\"country names\",\"locations\":[\"Argentina\",\"Australia\",\"Austria\",\"Belgium\",\"Brazil\",\"Canada\",\"France\",\"Germany\",\"India\",\"Italy\",\"Mexico\",\"Pakistan\",\"Philippines\",\"Russian Federation\",\"United Kingdom\",\"United States\"],\"name\":\"\",\"type\":\"choropleth\",\"z\":[0.128,0.0,0.3818,0.44803333333333334,0.8126,-0.016582352941176375,-0.41966666666666663,0.2787,0.178533962264151,0.0,0.0772,0.2856166666666667,0.5457,0.027539999999999988,-0.06864166666666667,0.2482654545454546]}],\"name\":\"2021-04-03\"},{\"data\":[{\"coloraxis\":\"coloraxis\",\"geo\":\"geo\",\"hovertemplate\":\"created_at=2021-04-04<br>user_location=%{location}<br>sentiment_compound=%{z}<extra></extra>\",\"locationmode\":\"country names\",\"locations\":[\"Australia\",\"Austria\",\"Canada\",\"Germany\",\"India\",\"Japan\",\"Pakistan\",\"Palestinian Territory\",\"Russian Federation\",\"United Kingdom\",\"United States\"],\"name\":\"\",\"type\":\"choropleth\",\"z\":[-0.11363333333333332,0.0,-0.18044761904761908,0.14800000000000002,0.1426222222222223,0.4215,0.029037500000000015,-0.8625,0.4686,0.19418000000000002,0.09157407407407409]}],\"name\":\"2021-04-04\"},{\"data\":[{\"coloraxis\":\"coloraxis\",\"geo\":\"geo\",\"hovertemplate\":\"created_at=2021-04-05<br>user_location=%{location}<br>sentiment_compound=%{z}<extra></extra>\",\"locationmode\":\"country names\",\"locations\":[\"Belgium\",\"Canada\",\"France\",\"Germany\",\"India\",\"Italy\",\"Mexico\",\"Pakistan\",\"Philippines\",\"Russian Federation\",\"Spain\",\"Ukraine\",\"United Kingdom\",\"United States\"],\"name\":\"\",\"type\":\"choropleth\",\"z\":[-0.5574,0.35947500000000027,0.2679333333333333,0.09045999999999998,0.0995392857142857,0.4939,0.0,0.059099999999999986,0.4404,0.5549857142857143,0.0,0.0,-0.18076666666666666,0.2060606060606061]}],\"name\":\"2021-04-05\"},{\"data\":[{\"coloraxis\":\"coloraxis\",\"geo\":\"geo\",\"hovertemplate\":\"created_at=2021-04-06<br>user_location=%{location}<br>sentiment_compound=%{z}<extra></extra>\",\"locationmode\":\"country names\",\"locations\":[\"Argentina\",\"Australia\",\"Austria\",\"Belgium\",\"Canada\",\"France\",\"Germany\",\"India\",\"Italy\",\"Pakistan\",\"Philippines\",\"Russian Federation\",\"Spain\",\"United Kingdom\",\"United States\"],\"name\":\"\",\"type\":\"choropleth\",\"z\":[0.0,-0.1027,0.5104500000000001,0.42755,0.11553913043478266,0.11359999999999998,0.13085714285714284,0.25547800000000004,0.3818,0.4065,0.0,-0.05226666666666666,0.0,0.02235000000000001,0.16093783783783785]}],\"name\":\"2021-04-06\"},{\"data\":[{\"coloraxis\":\"coloraxis\",\"geo\":\"geo\",\"hovertemplate\":\"created_at=2021-04-07<br>user_location=%{location}<br>sentiment_compound=%{z}<extra></extra>\",\"locationmode\":\"country names\",\"locations\":[\"Argentina\",\"Australia\",\"Austria\",\"Belgium\",\"Canada\",\"France\",\"Germany\",\"India\",\"Italy\",\"Japan\",\"Pakistan\",\"Palestinian Territory\",\"Philippines\",\"Russian Federation\",\"Spain\",\"Ukraine\",\"United Kingdom\",\"United States\"],\"name\":\"\",\"type\":\"choropleth\",\"z\":[0.0,0.20095,-0.018016666666666663,0.19765,0.18970483870967755,0.14367999999999997,0.15441111111111114,0.03101645569620257,-0.1806,0.0,0.17659473684210525,0.5719,0.4588,0.03357777777777779,0.5796,0.0,0.15196170212765953,0.04575698924731184]}],\"name\":\"2021-04-07\"},{\"data\":[{\"coloraxis\":\"coloraxis\",\"geo\":\"geo\",\"hovertemplate\":\"created_at=2021-04-08<br>user_location=%{location}<br>sentiment_compound=%{z}<extra></extra>\",\"locationmode\":\"country names\",\"locations\":[\"Argentina\",\"Australia\",\"Austria\",\"Belgium\",\"Canada\",\"France\",\"Germany\",\"India\",\"Italy\",\"Japan\",\"Pakistan\",\"Philippines\",\"Russian Federation\",\"Spain\",\"United Kingdom\",\"United States\"],\"name\":\"\",\"type\":\"choropleth\",\"z\":[0.6369,0.044149999999999995,0.0,-0.11362000000000001,-0.3234909090909091,0.4372,0.08514999999999999,0.11261818181818156,0.17520000000000002,0.025733333333333334,-0.12668,0.0,0.043099999999999986,0.0,0.2515037037037037,0.08667164179104477]}],\"name\":\"2021-04-08\"},{\"data\":[{\"coloraxis\":\"coloraxis\",\"geo\":\"geo\",\"hovertemplate\":\"created_at=2021-04-09<br>user_location=%{location}<br>sentiment_compound=%{z}<extra></extra>\",\"locationmode\":\"country names\",\"locations\":[\"Argentina\",\"Australia\",\"Austria\",\"Belgium\",\"Canada\",\"France\",\"Germany\",\"India\",\"Indonesia\",\"Italy\",\"Japan\",\"Pakistan\",\"Palestinian Territory\",\"Philippines\",\"Russian Federation\",\"Spain\",\"United Kingdom\",\"United States\"],\"name\":\"\",\"type\":\"choropleth\",\"z\":[0.4767,-0.04315000000000002,-0.1909,0.23878,0.1431191176470583,-0.10846,0.4141666666666666,0.11151911764705873,0.8271,0.0,0.5243,0.252,0.0,-0.3612,0.0,0.15569999999999998,0.4215153846153847,0.09512923076923076]}],\"name\":\"2021-04-09\"},{\"data\":[{\"coloraxis\":\"coloraxis\",\"geo\":\"geo\",\"hovertemplate\":\"created_at=2021-04-10<br>user_location=%{location}<br>sentiment_compound=%{z}<extra></extra>\",\"locationmode\":\"country names\",\"locations\":[\"Australia\",\"Belgium\",\"Canada\",\"France\",\"Germany\",\"Hong Kong\",\"India\",\"Japan\",\"Mexico\",\"Pakistan\",\"Palestinian Territory\",\"United Kingdom\",\"United States\"],\"name\":\"\",\"type\":\"choropleth\",\"z\":[0.0,0.6876000000000001,0.28893928571428573,0.41714,0.23835,0.0,0.14767865168539335,0.34,0.29295,0.2624181818181819,0.2532666666666667,0.4149333333333333,0.176064]}],\"name\":\"2021-04-10\"},{\"data\":[{\"coloraxis\":\"coloraxis\",\"geo\":\"geo\",\"hovertemplate\":\"created_at=2021-04-11<br>user_location=%{location}<br>sentiment_compound=%{z}<extra></extra>\",\"locationmode\":\"country names\",\"locations\":[\"Argentina\",\"Australia\",\"Austria\",\"Belgium\",\"Brazil\",\"Canada\",\"France\",\"Germany\",\"India\",\"Italy\",\"Japan\",\"Mexico\",\"Pakistan\",\"Russian Federation\",\"Ukraine\",\"United Kingdom\",\"United States\"],\"name\":\"\",\"type\":\"choropleth\",\"z\":[0.4404,0.02890000000000001,-0.3612,0.0,0.3612,0.2325962962962963,0.0,-0.3182,0.21583644067796615,-0.2732,0.8555,0.3182,0.4404,0.8271,0.0772,0.09871999999999999,0.07943488372093022]}],\"name\":\"2021-04-11\"},{\"data\":[{\"coloraxis\":\"coloraxis\",\"geo\":\"geo\",\"hovertemplate\":\"created_at=2021-04-12<br>user_location=%{location}<br>sentiment_compound=%{z}<extra></extra>\",\"locationmode\":\"country names\",\"locations\":[\"Argentina\",\"Australia\",\"Austria\",\"Belgium\",\"Canada\",\"France\",\"Germany\",\"India\",\"Italy\",\"Japan\",\"Pakistan\",\"Russian Federation\",\"Spain\",\"United Kingdom\",\"United States\"],\"name\":\"\",\"type\":\"choropleth\",\"z\":[-0.2732,0.054179999999999985,0.3612,-0.6486,0.15767049180327844,0.28108,0.16696666666666662,0.23127999999999982,0.62045,0.6249,0.17436000000000001,0.03436000000000002,0.4019,0.02356666666666665,0.048631111111111104]}],\"name\":\"2021-04-12\"},{\"data\":[{\"coloraxis\":\"coloraxis\",\"geo\":\"geo\",\"hovertemplate\":\"created_at=2021-04-13<br>user_location=%{location}<br>sentiment_compound=%{z}<extra></extra>\",\"locationmode\":\"country names\",\"locations\":[\"Australia\",\"Austria\",\"Canada\",\"France\",\"Germany\",\"India\",\"Japan\",\"Mexico\",\"Pakistan\",\"Palestinian Territory\",\"Russian Federation\",\"Ukraine\",\"United Kingdom\",\"United States\"],\"name\":\"\",\"type\":\"choropleth\",\"z\":[0.44615,-0.5423,-0.062174444444444456,0.206775,0.22698333333333331,0.14909099099099032,0.0,0.14049999999999999,0.0,0.0,0.37747333333333344,0.4019,0.0036333333333333478,0.15168608695652191]}],\"name\":\"2021-04-13\"},{\"data\":[{\"coloraxis\":\"coloraxis\",\"geo\":\"geo\",\"hovertemplate\":\"created_at=2021-04-14<br>user_location=%{location}<br>sentiment_compound=%{z}<extra></extra>\",\"locationmode\":\"country names\",\"locations\":[\"Australia\",\"Austria\",\"Canada\",\"France\",\"Germany\",\"India\",\"Japan\",\"Mexico\",\"Pakistan\",\"Russian Federation\",\"Spain\",\"United Kingdom\",\"United States\"],\"name\":\"\",\"type\":\"choropleth\",\"z\":[0.43462500000000004,0.0,0.11423414634146344,0.0,0.06239999999999998,0.08353642857142866,0.5859,0.3182,-0.0498,0.25665714285714286,-0.13005,0.39997333333333335,0.2272684782608697]}],\"name\":\"2021-04-14\"},{\"data\":[{\"coloraxis\":\"coloraxis\",\"geo\":\"geo\",\"hovertemplate\":\"created_at=2021-04-15<br>user_location=%{location}<br>sentiment_compound=%{z}<extra></extra>\",\"locationmode\":\"country names\",\"locations\":[\"Australia\",\"Austria\",\"Canada\",\"France\",\"Germany\",\"India\",\"Indonesia\",\"Japan\",\"Pakistan\",\"Russian Federation\",\"Spain\",\"Ukraine\",\"United Kingdom\",\"United States\"],\"name\":\"\",\"type\":\"choropleth\",\"z\":[0.40359999999999996,0.1591,-0.3090513513513512,0.38125,-0.36379999999999996,0.08153406593406591,0.0,-0.8144,-0.1909,0.06104444444444444,0.4215,0.4939,0.1662181818181818,0.19024567901234585]}],\"name\":\"2021-04-15\"},{\"data\":[{\"coloraxis\":\"coloraxis\",\"geo\":\"geo\",\"hovertemplate\":\"created_at=2021-04-16<br>user_location=%{location}<br>sentiment_compound=%{z}<extra></extra>\",\"locationmode\":\"country names\",\"locations\":[\"Australia\",\"Austria\",\"Canada\",\"France\",\"Germany\",\"Guyana\",\"India\",\"Italy\",\"Japan\",\"Mexico\",\"Pakistan\",\"Palestinian Territory\",\"Philippines\",\"Russian Federation\",\"Ukraine\",\"United Kingdom\",\"United States\"],\"name\":\"\",\"type\":\"choropleth\",\"z\":[-0.47685,-0.0772,0.07073255813953472,-0.1591,0.394425,0.4404,0.17522580645161323,0.7598,0.6369,-0.315,0.0,0.128,0.3982,-0.23284000000000002,-0.3182,-0.0019874999999999407,0.1159826086956521]}],\"name\":\"2021-04-16\"},{\"data\":[{\"coloraxis\":\"coloraxis\",\"geo\":\"geo\",\"hovertemplate\":\"created_at=2021-04-17<br>user_location=%{location}<br>sentiment_compound=%{z}<extra></extra>\",\"locationmode\":\"country names\",\"locations\":[\"Argentina\",\"Australia\",\"Canada\",\"France\",\"India\",\"Mexico\",\"Pakistan\",\"Palestinian Territory\",\"Philippines\",\"Russian Federation\",\"Spain\",\"Ukraine\",\"United Kingdom\",\"United States\"],\"name\":\"\",\"type\":\"choropleth\",\"z\":[0.4019,0.0129,-0.09143913043478254,0.03512,0.16307986111111095,0.0,0.2997,-0.6705,0.7351,-0.21724000000000002,-0.05135,0.0,0.5740375,0.2609692307692307]}],\"name\":\"2021-04-17\"},{\"data\":[{\"coloraxis\":\"coloraxis\",\"geo\":\"geo\",\"hovertemplate\":\"created_at=2021-04-18<br>user_location=%{location}<br>sentiment_compound=%{z}<extra></extra>\",\"locationmode\":\"country names\",\"locations\":[\"Australia\",\"Canada\",\"France\",\"Germany\",\"India\",\"Italy\",\"Pakistan\",\"Russian Federation\",\"Spain\",\"United Kingdom\",\"United States\"],\"name\":\"\",\"type\":\"choropleth\",\"z\":[0.16702499999999998,-0.30714210526315777,-0.35875,0.0,0.1441014925373134,0.9517,0.43574,0.04193999999999999,-0.1366,0.10798571428571431,0.23222926829268292]}],\"name\":\"2021-04-18\"},{\"data\":[{\"coloraxis\":\"coloraxis\",\"geo\":\"geo\",\"hovertemplate\":\"created_at=2021-04-19<br>user_location=%{location}<br>sentiment_compound=%{z}<extra></extra>\",\"locationmode\":\"country names\",\"locations\":[\"Australia\",\"Austria\",\"Brazil\",\"Canada\",\"France\",\"India\",\"Japan\",\"Pakistan\",\"Palestinian Territory\",\"Russian Federation\",\"Spain\",\"Ukraine\",\"United Kingdom\",\"United States\"],\"name\":\"\",\"type\":\"choropleth\",\"z\":[0.34,0.21153333333333335,0.4939,0.23368602150537654,0.17102,0.14331818181818184,0.09003333333333334,0.20095,0.0,0.04206363636363635,0.26753333333333335,0.06365000000000001,0.28202499999999997,0.12364897959183671]}],\"name\":\"2021-04-19\"},{\"data\":[{\"coloraxis\":\"coloraxis\",\"geo\":\"geo\",\"hovertemplate\":\"created_at=2021-04-20<br>user_location=%{location}<br>sentiment_compound=%{z}<extra></extra>\",\"locationmode\":\"country names\",\"locations\":[\"Argentina\",\"Australia\",\"Austria\",\"Belgium\",\"Canada\",\"France\",\"Germany\",\"India\",\"Pakistan\",\"Palestinian Territory\",\"Russian Federation\",\"United Kingdom\",\"United States\"],\"name\":\"\",\"type\":\"choropleth\",\"z\":[0.2655875,0.6423,0.0,0.0,0.009250684931506917,0.11926666666666667,0.159225,0.18425111111111125,0.24043333333333336,0.4588,0.15601111111111107,0.45498000000000005,0.08687021276595748]}],\"name\":\"2021-04-20\"},{\"data\":[{\"coloraxis\":\"coloraxis\",\"geo\":\"geo\",\"hovertemplate\":\"created_at=2021-04-21<br>user_location=%{location}<br>sentiment_compound=%{z}<extra></extra>\",\"locationmode\":\"country names\",\"locations\":[\"Argentina\",\"Australia\",\"Belgium\",\"Brazil\",\"Canada\",\"France\",\"Germany\",\"India\",\"Italy\",\"Pakistan\",\"Philippines\",\"Russian Federation\",\"United Kingdom\",\"United States\"],\"name\":\"\",\"type\":\"choropleth\",\"z\":[0.211275,0.4868,0.0,0.34995,0.14366595744680852,-0.010700000000000006,0.3182,0.18549788617886162,0.0,0.18828,0.0,0.24997499999999997,0.20273846153846156,0.1263208333333333]}],\"name\":\"2021-04-21\"},{\"data\":[{\"coloraxis\":\"coloraxis\",\"geo\":\"geo\",\"hovertemplate\":\"created_at=2021-04-22<br>user_location=%{location}<br>sentiment_compound=%{z}<extra></extra>\",\"locationmode\":\"country names\",\"locations\":[\"Australia\",\"Belgium\",\"Canada\",\"China\",\"France\",\"Germany\",\"India\",\"Japan\",\"Pakistan\",\"Palestinian Territory\",\"Philippines\",\"Russian Federation\",\"Saudi Arabia\",\"United Arab Emirates\",\"United Kingdom\",\"United States\"],\"name\":\"\",\"type\":\"choropleth\",\"z\":[-0.3167,0.0,-0.42241739130434774,0.0,0.056675,0.173925,0.13705580110497245,0.31355,-0.22353333333333333,0.0,0.0,0.12440000000000001,0.0,0.0,0.14402222222222216,0.16256666666666672]}],\"name\":\"2021-04-22\"},{\"data\":[{\"coloraxis\":\"coloraxis\",\"geo\":\"geo\",\"hovertemplate\":\"created_at=2021-05-13<br>user_location=%{location}<br>sentiment_compound=%{z}<extra></extra>\",\"locationmode\":\"country names\",\"locations\":[\"Australia\",\"Belgium\",\"Canada\",\"France\",\"India\",\"Italy\",\"Mexico\",\"United Kingdom\",\"United States\"],\"name\":\"\",\"type\":\"choropleth\",\"z\":[0.16678,0.4404,0.10515000000000001,0.0,0.05777333333333337,-0.3612,0.4404,-0.065925,0.11942173913043481]}],\"name\":\"2021-05-13\"},{\"data\":[{\"coloraxis\":\"coloraxis\",\"geo\":\"geo\",\"hovertemplate\":\"created_at=2021-05-14<br>user_location=%{location}<br>sentiment_compound=%{z}<extra></extra>\",\"locationmode\":\"country names\",\"locations\":[\"Australia\",\"Belgium\",\"Canada\",\"France\",\"Germany\",\"India\",\"Italy\",\"Pakistan\",\"Philippines\",\"Russian Federation\",\"Spain\",\"Ukraine\",\"United Kingdom\",\"United States\"],\"name\":\"\",\"type\":\"choropleth\",\"z\":[0.5783,0.24735,0.2613684210526316,0.4939,0.4982666666666667,0.08320495283018851,0.0593,-0.33983333333333327,0.41305,0.17462500000000006,0.7184,0.0,-0.1909,0.05983636363636364]}],\"name\":\"2021-05-14\"},{\"data\":[{\"coloraxis\":\"coloraxis\",\"geo\":\"geo\",\"hovertemplate\":\"created_at=2021-05-15<br>user_location=%{location}<br>sentiment_compound=%{z}<extra></extra>\",\"locationmode\":\"country names\",\"locations\":[\"Australia\",\"Canada\",\"France\",\"Hong Kong\",\"India\",\"Italy\",\"Pakistan\",\"Russian Federation\",\"Spain\",\"United States\"],\"name\":\"\",\"type\":\"choropleth\",\"z\":[0.4517666666666667,0.19772105263157896,0.17,0.0,0.1585716216216217,-0.8316,0.18646666666666667,0.4158,0.32305000000000006,0.019458620689655117]}],\"name\":\"2021-05-15\"},{\"data\":[{\"coloraxis\":\"coloraxis\",\"geo\":\"geo\",\"hovertemplate\":\"created_at=2021-05-16<br>user_location=%{location}<br>sentiment_compound=%{z}<extra></extra>\",\"locationmode\":\"country names\",\"locations\":[\"Argentina\",\"Australia\",\"Canada\",\"France\",\"Germany\",\"India\",\"Pakistan\",\"Philippines\",\"Ukraine\",\"United Kingdom\",\"United States\"],\"name\":\"\",\"type\":\"choropleth\",\"z\":[0.0,0.4019,-0.07275000000000002,0.4019,0.3458333333333334,0.161831304347826,0.1355,0.6808,0.4019,0.4019,0.18721923076923078]}],\"name\":\"2021-05-16\"},{\"data\":[{\"coloraxis\":\"coloraxis\",\"geo\":\"geo\",\"hovertemplate\":\"created_at=2021-05-17<br>user_location=%{location}<br>sentiment_compound=%{z}<extra></extra>\",\"locationmode\":\"country names\",\"locations\":[\"Australia\",\"Austria\",\"Brazil\",\"Canada\",\"France\",\"Germany\",\"India\",\"Japan\",\"Pakistan\",\"Philippines\",\"Russian Federation\",\"Ukraine\",\"United Kingdom\",\"United States\"],\"name\":\"\",\"type\":\"choropleth\",\"z\":[-0.5160333333333332,0.0,0.7645,0.21175714285714284,0.26006666666666667,-0.18561999999999998,0.15641715210355972,0.4019,0.13172727272727272,0.3612,0.17658333333333334,0.23835,0.2908,0.14729583333333332]}],\"name\":\"2021-05-17\"},{\"data\":[{\"coloraxis\":\"coloraxis\",\"geo\":\"geo\",\"hovertemplate\":\"created_at=2021-05-18<br>user_location=%{location}<br>sentiment_compound=%{z}<extra></extra>\",\"locationmode\":\"country names\",\"locations\":[\"Australia\",\"Belgium\",\"Brazil\",\"Canada\",\"France\",\"Germany\",\"India\",\"Italy\",\"Japan\",\"Pakistan\",\"Russian Federation\",\"Spain\",\"Ukraine\",\"United Kingdom\",\"United States\"],\"name\":\"\",\"type\":\"choropleth\",\"z\":[0.6249,0.36345,-0.8268,0.24245,0.47476,0.39716666666666667,0.13716311475409834,0.7783,-0.059250000000000025,0.1554875,0.46713333333333334,0.0,0.25277999999999995,0.3286833333333333,-0.03892857142857142]}],\"name\":\"2021-05-18\"},{\"data\":[{\"coloraxis\":\"coloraxis\",\"geo\":\"geo\",\"hovertemplate\":\"created_at=2021-05-19<br>user_location=%{location}<br>sentiment_compound=%{z}<extra></extra>\",\"locationmode\":\"country names\",\"locations\":[\"Argentina\",\"Australia\",\"Belgium\",\"Canada\",\"France\",\"Germany\",\"India\",\"Italy\",\"Japan\",\"Mexico\",\"Pakistan\",\"Qatar\",\"Russian Federation\",\"Ukraine\",\"United Kingdom\",\"United States\"],\"name\":\"\",\"type\":\"choropleth\",\"z\":[0.60805,-0.20947500000000002,-0.11750000000000002,0.12334333333333337,0.45269999999999994,0.1101,0.13303488372093034,0.6448333333333334,0.28076666666666666,0.0,0.6153500000000001,0.3612,0.5096333333333334,0.0,0.13826666666666668,0.188432]}],\"name\":\"2021-05-19\"},{\"data\":[{\"coloraxis\":\"coloraxis\",\"geo\":\"geo\",\"hovertemplate\":\"created_at=2021-05-20<br>user_location=%{location}<br>sentiment_compound=%{z}<extra></extra>\",\"locationmode\":\"country names\",\"locations\":[\"Australia\",\"Austria\",\"Belgium\",\"Canada\",\"France\",\"Germany\",\"India\",\"Japan\",\"Mexico\",\"Pakistan\",\"Philippines\",\"Russian Federation\",\"Thailand\",\"Ukraine\",\"United Kingdom\",\"United States\"],\"name\":\"\",\"type\":\"choropleth\",\"z\":[-0.018185714285714298,0.8859999999999999,0.0,0.007447999999999993,0.5994,-0.4767,0.1741261802575106,0.0,0.7579,0.12316,0.0,-0.08634,0.0,0.2621,0.1659,-0.05678000000000002]}],\"name\":\"2021-05-20\"},{\"data\":[{\"coloraxis\":\"coloraxis\",\"geo\":\"geo\",\"hovertemplate\":\"created_at=2021-05-21<br>user_location=%{location}<br>sentiment_compound=%{z}<extra></extra>\",\"locationmode\":\"country names\",\"locations\":[\"Australia\",\"Canada\",\"India\",\"Pakistan\",\"Philippines\",\"Singapore\",\"United States\"],\"name\":\"\",\"type\":\"choropleth\",\"z\":[0.4157666666666667,0.039599999999999996,0.11627968749999995,0.10115,-0.5719,0.0,0.12200000000000001]}],\"name\":\"2021-05-21\"},{\"data\":[{\"coloraxis\":\"coloraxis\",\"geo\":\"geo\",\"hovertemplate\":\"created_at=2021-05-22<br>user_location=%{location}<br>sentiment_compound=%{z}<extra></extra>\",\"locationmode\":\"country names\",\"locations\":[\"Australia\",\"Canada\",\"Germany\",\"India\",\"Pakistan\",\"Philippines\",\"Russian Federation\",\"Ukraine\",\"United Kingdom\",\"United States\"],\"name\":\"\",\"type\":\"choropleth\",\"z\":[-0.17023333333333332,0.20627272727272725,0.365,0.17035535714285707,0.26160625,0.49905,-0.025066666666666664,0.8126,0.5828,0.29702]}],\"name\":\"2021-05-22\"},{\"data\":[{\"coloraxis\":\"coloraxis\",\"geo\":\"geo\",\"hovertemplate\":\"created_at=2021-05-23<br>user_location=%{location}<br>sentiment_compound=%{z}<extra></extra>\",\"locationmode\":\"country names\",\"locations\":[\"Australia\",\"Belgium\",\"Canada\",\"France\",\"Germany\",\"India\",\"Pakistan\",\"Russian Federation\",\"Ukraine\",\"United Kingdom\",\"United States\"],\"name\":\"\",\"type\":\"choropleth\",\"z\":[0.2396666666666667,-0.3991,0.07575454545454544,0.3171285714285714,0.2773,0.06917948717948717,0.3094122641509435,-0.0258,0.31893333333333335,0.07224000000000001,0.4949923076923077]}],\"name\":\"2021-05-23\"},{\"data\":[{\"coloraxis\":\"coloraxis\",\"geo\":\"geo\",\"hovertemplate\":\"created_at=2021-05-24<br>user_location=%{location}<br>sentiment_compound=%{z}<extra></extra>\",\"locationmode\":\"country names\",\"locations\":[\"Argentina\",\"Belgium\",\"Canada\",\"France\",\"Germany\",\"India\",\"Japan\",\"Mexico\",\"Pakistan\",\"Russian Federation\",\"Spain\",\"Ukraine\",\"United Kingdom\",\"United States\"],\"name\":\"\",\"type\":\"choropleth\",\"z\":[0.0,0.3825,0.14766249999999997,0.62535,-0.21391666666666667,0.060776328502415405,0.0,0.0,0.16449999999999998,0.24346666666666664,0.0,0.3062,0.49525,0.3374652173913043]}],\"name\":\"2021-05-24\"},{\"data\":[{\"coloraxis\":\"coloraxis\",\"geo\":\"geo\",\"hovertemplate\":\"created_at=2021-05-25<br>user_location=%{location}<br>sentiment_compound=%{z}<extra></extra>\",\"locationmode\":\"country names\",\"locations\":[\"Austria\",\"Canada\",\"France\",\"Germany\",\"India\",\"Italy\",\"Japan\",\"Pakistan\",\"Palestinian Territory\",\"Philippines\",\"Russian Federation\",\"Spain\",\"United Kingdom\",\"United States\"],\"name\":\"\",\"type\":\"choropleth\",\"z\":[0.6018,0.08418783783783801,0.3787,0.5108,0.17972202797202794,0.0,0.23723333333333332,0.21352903225806455,0.4939,0.4404,0.0,0.3466666666666667,0.2358125,0.17493999999999998]}],\"name\":\"2021-05-25\"},{\"data\":[{\"coloraxis\":\"coloraxis\",\"geo\":\"geo\",\"hovertemplate\":\"created_at=2021-05-26<br>user_location=%{location}<br>sentiment_compound=%{z}<extra></extra>\",\"locationmode\":\"country names\",\"locations\":[\"Argentina\",\"Australia\",\"Canada\",\"France\",\"Germany\",\"India\",\"Italy\",\"Mexico\",\"Pakistan\",\"Palestinian Territory\",\"Philippines\",\"Russian Federation\",\"Spain\",\"Thailand\",\"Ukraine\",\"United Kingdom\",\"United States\"],\"name\":\"\",\"type\":\"choropleth\",\"z\":[0.5256,0.2732,0.015983333333333325,0.06653333333333332,0.29391666666666666,0.1259341013824885,0.0,0.3612,0.24310500000000004,0.0,0.9643,0.04676666666666666,0.0,0.0,0.11315,0.02034999999999999,0.11030588235294114]}],\"name\":\"2021-05-26\"},{\"data\":[{\"coloraxis\":\"coloraxis\",\"geo\":\"geo\",\"hovertemplate\":\"created_at=2021-05-27<br>user_location=%{location}<br>sentiment_compound=%{z}<extra></extra>\",\"locationmode\":\"country names\",\"locations\":[\"Australia\",\"Belgium\",\"Canada\",\"France\",\"Germany\",\"India\",\"Japan\",\"Pakistan\",\"Russian Federation\",\"Spain\",\"Ukraine\",\"United Kingdom\",\"United States\"],\"name\":\"\",\"type\":\"choropleth\",\"z\":[0.07945,0.3182,0.03723888888888869,0.19501428571428572,0.09505,0.15371308411214954,0.8302,0.32354,0.17514,0.3415,0.4491666666666667,0.2696875,0.09144999999999999]}],\"name\":\"2021-05-27\"},{\"data\":[{\"coloraxis\":\"coloraxis\",\"geo\":\"geo\",\"hovertemplate\":\"created_at=2021-05-28<br>user_location=%{location}<br>sentiment_compound=%{z}<extra></extra>\",\"locationmode\":\"country names\",\"locations\":[\"Argentina\",\"Australia\",\"Austria\",\"Belgium\",\"Canada\",\"France\",\"Germany\",\"India\",\"Japan\",\"Mexico\",\"Pakistan\",\"Qatar\",\"Russian Federation\",\"Ukraine\",\"United Kingdom\",\"United States\"],\"name\":\"\",\"type\":\"choropleth\",\"z\":[0.4404,0.41125,-0.29295,0.4404,-0.09066399999999994,0.12726666666666667,0.1343,0.16934300699300642,-0.1779,0.0,0.10715000000000001,0.128,0.07164999999999998,0.0,0.037049999999999986,0.24043846153846155]}],\"name\":\"2021-05-28\"},{\"data\":[{\"coloraxis\":\"coloraxis\",\"geo\":\"geo\",\"hovertemplate\":\"created_at=2021-05-29<br>user_location=%{location}<br>sentiment_compound=%{z}<extra></extra>\",\"locationmode\":\"country names\",\"locations\":[\"Argentina\",\"Australia\",\"Canada\",\"France\",\"Germany\",\"India\",\"Japan\",\"Pakistan\",\"Russian Federation\",\"Singapore\",\"Ukraine\",\"United Kingdom\",\"United States\"],\"name\":\"\",\"type\":\"choropleth\",\"z\":[0.2023,-0.5106,-0.19775294117647058,0.4553375,-0.4118,0.17076563706563683,-0.1045,0.23265769230769234,-0.23505,0.0,0.48607500000000003,0.36035,0.0819277777777778]}],\"name\":\"2021-05-29\"},{\"data\":[{\"coloraxis\":\"coloraxis\",\"geo\":\"geo\",\"hovertemplate\":\"created_at=2021-05-30<br>user_location=%{location}<br>sentiment_compound=%{z}<extra></extra>\",\"locationmode\":\"country names\",\"locations\":[\"Argentina\",\"Australia\",\"Canada\",\"Croatia\",\"France\",\"Germany\",\"India\",\"Japan\",\"Mexico\",\"Pakistan\",\"Russian Federation\",\"Ukraine\",\"United Kingdom\",\"United States\"],\"name\":\"\",\"type\":\"choropleth\",\"z\":[0.0,-0.0772,-0.2776388888888889,0.0,0.48646666666666666,0.22477999999999998,0.1578173913043479,0.032460000000000024,0.8291,0.2041666666666667,0.2279,0.46775,0.058975,0.12754]}],\"name\":\"2021-05-30\"},{\"data\":[{\"coloraxis\":\"coloraxis\",\"geo\":\"geo\",\"hovertemplate\":\"created_at=2021-05-31<br>user_location=%{location}<br>sentiment_compound=%{z}<extra></extra>\",\"locationmode\":\"country names\",\"locations\":[\"Australia\",\"Canada\",\"France\",\"Germany\",\"India\",\"Japan\",\"Mexico\",\"Pakistan\",\"Philippines\",\"Russian Federation\",\"United Arab Emirates\",\"United Kingdom\",\"United States\"],\"name\":\"\",\"type\":\"choropleth\",\"z\":[0.20535,-0.04697727272727273,0.43220000000000003,0.25276,0.14293898305084746,0.0,0.0,0.23840999999999987,0.3612,0.9217,0.4215,0.2818714285714286,0.06580000000000003]}],\"name\":\"2021-05-31\"},{\"data\":[{\"coloraxis\":\"coloraxis\",\"geo\":\"geo\",\"hovertemplate\":\"created_at=2021-06-01<br>user_location=%{location}<br>sentiment_compound=%{z}<extra></extra>\",\"locationmode\":\"country names\",\"locations\":[\"Australia\",\"Austria\",\"Belgium\",\"Brazil\",\"Canada\",\"France\",\"Germany\",\"India\",\"Japan\",\"Pakistan\",\"Russian Federation\",\"Spain\",\"Ukraine\",\"United Kingdom\",\"United States\"],\"name\":\"\",\"type\":\"choropleth\",\"z\":[0.3182,0.4019,0.0258,0.0516,0.2656769230769231,0.4346,0.3292833333333333,0.19791597938144315,0.34,0.2839694444444444,0.034333333333333334,0.3612,0.0,0.00046000000000000484,0.17921428571428571]}],\"name\":\"2021-06-01\"},{\"data\":[{\"coloraxis\":\"coloraxis\",\"geo\":\"geo\",\"hovertemplate\":\"created_at=2021-06-02<br>user_location=%{location}<br>sentiment_compound=%{z}<extra></extra>\",\"locationmode\":\"country names\",\"locations\":[\"Australia\",\"Austria\",\"Brazil\",\"Canada\",\"France\",\"Germany\",\"India\",\"Italy\",\"Pakistan\",\"Philippines\",\"United Kingdom\",\"United States\"],\"name\":\"\",\"type\":\"choropleth\",\"z\":[0.549725,0.4404,0.1531,0.047075,0.17556666666666665,-0.128,0.18876212121212124,0.1651,0.16932962962962964,0.3612,0.447575,-0.12804375]}],\"name\":\"2021-06-02\"},{\"data\":[{\"coloraxis\":\"coloraxis\",\"geo\":\"geo\",\"hovertemplate\":\"created_at=2021-06-03<br>user_location=%{location}<br>sentiment_compound=%{z}<extra></extra>\",\"locationmode\":\"country names\",\"locations\":[\"Australia\",\"Belgium\",\"Canada\",\"France\",\"Germany\",\"India\",\"Japan\",\"Mexico\",\"Pakistan\",\"Switzerland\",\"United Kingdom\",\"United States\"],\"name\":\"\",\"type\":\"choropleth\",\"z\":[0.6597,0.7269,-0.14035714285714287,0.0129,0.24953333333333336,0.12113636363636368,0.01639999999999997,0.0,0.20005357142857144,0.128,0.15240000000000004,0.014416666666666652]}],\"name\":\"2021-06-03\"},{\"data\":[{\"coloraxis\":\"coloraxis\",\"geo\":\"geo\",\"hovertemplate\":\"created_at=2021-06-04<br>user_location=%{location}<br>sentiment_compound=%{z}<extra></extra>\",\"locationmode\":\"country names\",\"locations\":[\"Argentina\",\"Canada\",\"France\",\"Germany\",\"India\",\"Italy\",\"Mexico\",\"Pakistan\",\"Philippines\",\"Russian Federation\",\"Ukraine\",\"United Kingdom\",\"United States\"],\"name\":\"\",\"type\":\"choropleth\",\"z\":[0.0,0.053388235294117646,0.555,0.8883,0.24066666666666675,0.0,0.0,0.46789090909090914,0.6786,0.0,0.2732,-0.23932000000000003,0.0930727272727273]}],\"name\":\"2021-06-04\"},{\"data\":[{\"coloraxis\":\"coloraxis\",\"geo\":\"geo\",\"hovertemplate\":\"created_at=2021-06-05<br>user_location=%{location}<br>sentiment_compound=%{z}<extra></extra>\",\"locationmode\":\"country names\",\"locations\":[\"Argentina\",\"Australia\",\"Belgium\",\"Canada\",\"Germany\",\"India\",\"Pakistan\",\"Russian Federation\",\"Spain\",\"Ukraine\",\"United Kingdom\",\"United States\"],\"name\":\"\",\"type\":\"choropleth\",\"z\":[0.4019,-0.22440000000000002,-0.7579,-0.025019230769230794,-0.06233333333333332,0.19074516129032254,0.18343846153846155,0.08536666666666666,-0.128,0.0258,-0.04403999999999999,0.33060000000000006]}],\"name\":\"2021-06-05\"},{\"data\":[{\"coloraxis\":\"coloraxis\",\"geo\":\"geo\",\"hovertemplate\":\"created_at=2021-06-06<br>user_location=%{location}<br>sentiment_compound=%{z}<extra></extra>\",\"locationmode\":\"country names\",\"locations\":[\"Argentina\",\"Australia\",\"Belgium\",\"Canada\",\"France\",\"India\",\"Italy\",\"Pakistan\",\"Russian Federation\",\"Singapore\",\"Ukraine\",\"United Kingdom\",\"United States\"],\"name\":\"\",\"type\":\"choropleth\",\"z\":[0.0,0.0,0.836,-0.16058750000000002,-0.1298,0.13906181818181815,0.0,0.24666538461538468,0.31845,0.8176,0.0,0.21022500000000002,0.09064444444444442]}],\"name\":\"2021-06-06\"},{\"data\":[{\"coloraxis\":\"coloraxis\",\"geo\":\"geo\",\"hovertemplate\":\"created_at=2021-06-07<br>user_location=%{location}<br>sentiment_compound=%{z}<extra></extra>\",\"locationmode\":\"country names\",\"locations\":[\"Australia\",\"Austria\",\"Belgium\",\"Canada\",\"France\",\"Germany\",\"India\",\"Italy\",\"Japan\",\"Mexico\",\"Pakistan\",\"Palestinian Territory\",\"Russian Federation\",\"Spain\",\"Ukraine\",\"United Kingdom\",\"United States\"],\"name\":\"\",\"type\":\"choropleth\",\"z\":[0.0,0.03689999999999999,0.3592,0.1276413793103448,-0.7224999999999999,0.2612666666666667,0.16435721393034813,0.8658,0.1809,0.0,0.17709565217391304,0.0,0.13688333333333333,0.1531,0.21075,0.09793333333333333,0.2028875]}],\"name\":\"2021-06-07\"},{\"data\":[{\"coloraxis\":\"coloraxis\",\"geo\":\"geo\",\"hovertemplate\":\"created_at=2021-06-08<br>user_location=%{location}<br>sentiment_compound=%{z}<extra></extra>\",\"locationmode\":\"country names\",\"locations\":[\"Australia\",\"Austria\",\"Belgium\",\"Brazil\",\"Canada\",\"France\",\"Germany\",\"India\",\"Italy\",\"Japan\",\"Malaysia\",\"Pakistan\",\"Palestinian Territory\",\"Philippines\",\"Russian Federation\",\"Thailand\",\"Ukraine\",\"United Kingdom\",\"United States\"],\"name\":\"\",\"type\":\"choropleth\",\"z\":[0.24503333333333335,0.5760000000000001,0.1841,0.3182,-0.3236969696969696,-0.024825,0.17105714285714282,0.14990492700729918,0.7579,0.4215,0.3612,0.2540066666666667,0.0,0.36846,0.37343333333333334,0.0,0.1806,-0.0710625,0.019634736842105264]}],\"name\":\"2021-06-08\"},{\"data\":[{\"coloraxis\":\"coloraxis\",\"geo\":\"geo\",\"hovertemplate\":\"created_at=2021-06-09<br>user_location=%{location}<br>sentiment_compound=%{z}<extra></extra>\",\"locationmode\":\"country names\",\"locations\":[\"Canada\",\"France\",\"Germany\",\"India\",\"Japan\",\"Mexico\",\"Pakistan\",\"Philippines\",\"Russian Federation\",\"United Kingdom\",\"United States\"],\"name\":\"\",\"type\":\"choropleth\",\"z\":[0.2517117647058824,0.39780000000000004,-0.1779,0.19494232558139518,-0.017183333333333346,0.5106,0.15241538461538465,0.2787,0.12483333333333334,0.31353333333333333,0.24168333333333336]}],\"name\":\"2021-06-09\"},{\"data\":[{\"coloraxis\":\"coloraxis\",\"geo\":\"geo\",\"hovertemplate\":\"created_at=2021-06-10<br>user_location=%{location}<br>sentiment_compound=%{z}<extra></extra>\",\"locationmode\":\"country names\",\"locations\":[\"Argentina\",\"Australia\",\"Austria\",\"Canada\",\"France\",\"Germany\",\"India\",\"Italy\",\"Japan\",\"Pakistan\",\"Palestinian Territory\",\"Philippines\",\"Russian Federation\",\"Spain\",\"Thailand\",\"United Kingdom\",\"United States\"],\"name\":\"\",\"type\":\"choropleth\",\"z\":[-0.5608500000000001,-0.19236666666666666,-0.3182,-0.22155,0.0,-0.08868000000000001,0.22197932330827091,0.4019,-0.24695,0.14378,0.0,0.41562499999999997,0.34745,0.0,0.0,-0.021362499999999993,0.20850588235294112]}],\"name\":\"2021-06-10\"},{\"data\":[{\"coloraxis\":\"coloraxis\",\"geo\":\"geo\",\"hovertemplate\":\"created_at=2021-06-11<br>user_location=%{location}<br>sentiment_compound=%{z}<extra></extra>\",\"locationmode\":\"country names\",\"locations\":[\"Argentina\",\"Australia\",\"Austria\",\"Belgium\",\"Brazil\",\"Canada\",\"France\",\"Germany\",\"India\",\"Italy\",\"Japan\",\"Mexico\",\"Pakistan\",\"Palestinian Territory\",\"Philippines\",\"Russian Federation\",\"Spain\",\"United Kingdom\",\"United States\"],\"name\":\"\",\"type\":\"choropleth\",\"z\":[0.44155,-0.36335,0.3612,0.23026666666666665,0.5859,-0.11393571428571425,0.31845,0.20368000000000003,0.1027674185463659,-0.4404,0.29600000000000004,0.0,-0.019580000000000007,0.29600000000000004,0.12040000000000001,0.38137777777777776,-0.1806,0.016688888888888864,-0.12433749999999999]}],\"name\":\"2021-06-11\"},{\"data\":[{\"coloraxis\":\"coloraxis\",\"geo\":\"geo\",\"hovertemplate\":\"created_at=2021-06-12<br>user_location=%{location}<br>sentiment_compound=%{z}<extra></extra>\",\"locationmode\":\"country names\",\"locations\":[\"Australia\",\"Canada\",\"France\",\"Germany\",\"India\",\"Italy\",\"Pakistan\",\"Palestinian Territory\",\"Russian Federation\",\"United Kingdom\",\"United States\"],\"name\":\"\",\"type\":\"choropleth\",\"z\":[-0.12726666666666667,-0.20208888888888885,0.0,0.3454,0.18059813432835817,-0.1991,0.184135,-0.3182,0.3948666666666667,0.0,0.1800818181818182]}],\"name\":\"2021-06-12\"},{\"data\":[{\"coloraxis\":\"coloraxis\",\"geo\":\"geo\",\"hovertemplate\":\"created_at=2021-06-13<br>user_location=%{location}<br>sentiment_compound=%{z}<extra></extra>\",\"locationmode\":\"country names\",\"locations\":[\"Austria\",\"Belgium\",\"Canada\",\"France\",\"Germany\",\"India\",\"Italy\",\"Japan\",\"Pakistan\",\"Russian Federation\",\"Spain\",\"United Kingdom\",\"United States\"],\"name\":\"\",\"type\":\"choropleth\",\"z\":[0.0,0.0,-0.09814166666666667,0.7402,0.0,0.15580250000000007,0.8225,-0.08629999999999999,0.42179999999999995,0.27108,0.29600000000000004,0.24548333333333336,-0.030475000000000002]}],\"name\":\"2021-06-13\"},{\"data\":[{\"coloraxis\":\"coloraxis\",\"geo\":\"geo\",\"hovertemplate\":\"created_at=2021-06-14<br>user_location=%{location}<br>sentiment_compound=%{z}<extra></extra>\",\"locationmode\":\"country names\",\"locations\":[\"Australia\",\"Belgium\",\"Canada\",\"France\",\"Germany\",\"India\",\"Pakistan\",\"Philippines\",\"Russian Federation\",\"United Kingdom\",\"United States\"],\"name\":\"\",\"type\":\"choropleth\",\"z\":[-0.020250000000000046,0.765,0.14830769230769236,0.47685,0.4868,0.06502203389830509,0.009616666666666671,0.0,0.33896666666666664,-0.07955,-0.08655454545454545]}],\"name\":\"2021-06-14\"},{\"data\":[{\"coloraxis\":\"coloraxis\",\"geo\":\"geo\",\"hovertemplate\":\"created_at=2021-06-15<br>user_location=%{location}<br>sentiment_compound=%{z}<extra></extra>\",\"locationmode\":\"country names\",\"locations\":[\"Canada\",\"France\",\"Germany\",\"India\",\"Italy\",\"Japan\",\"Pakistan\",\"Palestinian Territory\",\"Philippines\",\"Russian Federation\",\"Spain\",\"Trinidad and Tobago\",\"United Kingdom\",\"United States\"],\"name\":\"\",\"type\":\"choropleth\",\"z\":[0.12755238095238092,0.0,0.0,0.21466764705882352,0.6013999999999999,0.0,0.23353749999999995,0.5423,0.0,0.48304,0.3818,0.0,0.5044833333333334,0.4242125]}],\"name\":\"2021-06-15\"},{\"data\":[{\"coloraxis\":\"coloraxis\",\"geo\":\"geo\",\"hovertemplate\":\"created_at=2021-06-16<br>user_location=%{location}<br>sentiment_compound=%{z}<extra></extra>\",\"locationmode\":\"country names\",\"locations\":[\"Australia\",\"Belgium\",\"Canada\",\"France\",\"Germany\",\"Greece\",\"India\",\"Pakistan\",\"Palestinian Territory\",\"Philippines\",\"Russian Federation\",\"Thailand\",\"Ukraine\",\"United Kingdom\",\"United States\"],\"name\":\"\",\"type\":\"choropleth\",\"z\":[0.1495,0.06185,0.025494444444444424,0.26335,0.12040000000000001,0.0,0.03112615384615384,0.09683076923076922,0.0,0.93,0.05869999999999999,0.0,0.26335,0.5271800000000001,0.01407142857142856]}],\"name\":\"2021-06-16\"},{\"data\":[{\"coloraxis\":\"coloraxis\",\"geo\":\"geo\",\"hovertemplate\":\"created_at=2021-06-17<br>user_location=%{location}<br>sentiment_compound=%{z}<extra></extra>\",\"locationmode\":\"country names\",\"locations\":[\"Argentina\",\"Australia\",\"Austria\",\"Belgium\",\"Brazil\",\"Canada\",\"France\",\"Germany\",\"India\",\"Japan\",\"Malaysia\",\"Mexico\",\"Pakistan\",\"Russian Federation\",\"Trinidad and Tobago\",\"United Kingdom\",\"United States\"],\"name\":\"\",\"type\":\"choropleth\",\"z\":[0.0,0.24834000000000006,0.0,0.0,0.4939,-0.042412499999999985,0.08499999999999999,0.0,0.11859595141700416,0.2294,0.3612,0.0,0.26571000000000006,0.17,0.0,0.03743333333333329,0.47086666666666704]}],\"name\":\"2021-06-17\"},{\"data\":[{\"coloraxis\":\"coloraxis\",\"geo\":\"geo\",\"hovertemplate\":\"created_at=2021-06-18<br>user_location=%{location}<br>sentiment_compound=%{z}<extra></extra>\",\"locationmode\":\"country names\",\"locations\":[\"Australia\",\"Belgium\",\"Canada\",\"France\",\"Germany\",\"India\",\"Italy\",\"Japan\",\"Malaysia\",\"Pakistan\",\"Philippines\",\"Russian Federation\",\"Spain\",\"Sweden\",\"Thailand\",\"Trinidad and Tobago\",\"Ukraine\",\"United Kingdom\",\"United States\"],\"name\":\"\",\"type\":\"choropleth\",\"z\":[0.1365,0.0772,0.13323783783783785,-0.6486,-0.044616666666666666,0.12219717514124295,0.5859,-0.33525,0.0,0.38985000000000003,0.0,0.4767,0.27115,0.0,0.0,0.4215,-0.3182,0.18710000000000002,0.16296153846153844]}],\"name\":\"2021-06-18\"},{\"data\":[{\"coloraxis\":\"coloraxis\",\"geo\":\"geo\",\"hovertemplate\":\"created_at=2021-06-19<br>user_location=%{location}<br>sentiment_compound=%{z}<extra></extra>\",\"locationmode\":\"country names\",\"locations\":[\"Australia\",\"Belgium\",\"Canada\",\"France\",\"India\",\"Malaysia\",\"Pakistan\",\"Philippines\",\"Russian Federation\",\"Spain\",\"United Kingdom\",\"United States\"],\"name\":\"\",\"type\":\"choropleth\",\"z\":[-0.3875,0.6124,0.05105937500000001,0.0,0.16901043478260883,-0.19375,-0.01022,0.3944666666666667,0.5267,-0.4404,0.0,0.0]}],\"name\":\"2021-06-19\"}]);\n",
       "                        }).then(function(){\n",
       "                            \n",
       "var gd = document.getElementById('84985b77-1e41-4d09-958e-e76935ac15fa');\n",
       "var x = new MutationObserver(function (mutations, observer) {{\n",
       "        var display = window.getComputedStyle(gd).display;\n",
       "        if (!display || display === 'none') {{\n",
       "            console.log([gd, 'removed!']);\n",
       "            Plotly.purge(gd);\n",
       "            observer.disconnect();\n",
       "        }}\n",
       "}});\n",
       "\n",
       "// Listen for the removal of the full notebook cells\n",
       "var notebookContainer = gd.closest('#notebook-container');\n",
       "if (notebookContainer) {{\n",
       "    x.observe(notebookContainer, {childList: true});\n",
       "}}\n",
       "\n",
       "// Listen for the clearing of the current output cell\n",
       "var outputEl = gd.closest('.output');\n",
       "if (outputEl) {{\n",
       "    x.observe(outputEl, {childList: true});\n",
       "}}\n",
       "\n",
       "                        })                };                });            </script>        </div>"
      ]
     },
     "metadata": {},
     "output_type": "display_data"
    }
   ],
   "source": [
    "fig = px.choropleth(geo_tweets.groupby([\"created_at\",\"user_location\"])[\"sentiment_compound\"].mean().reset_index(), \n",
    "              locations = 'user_location',\n",
    "              color=\"sentiment_compound\",\n",
    "              locationmode=\"country names\",\n",
    "              animation_frame=\"created_at\",\n",
    "              color_continuous_scale=\"sunsetdark\",\n",
    "              scope=\"world\",\n",
    "              range_color=(-1,1),\n",
    "              title='Mean sentiment over time by country',\n",
    "              height=600\n",
    "             )\n",
    "fig.layout.updatemenus[0].buttons[0].args[1][\"frame\"][\"duration\"] = 80\n",
    "\n",
    "fig.show()\n",
    "fig.write_html(\"../reports/figures/VaccineGeo/Mean_Sentiment_By_Country_Over_Time.html\")"
   ]
  },
  {
   "cell_type": "markdown",
   "metadata": {},
   "source": [
    "Canada tweets from 02-02-2021:"
   ]
  },
  {
   "cell_type": "code",
   "execution_count": 10,
   "metadata": {},
   "outputs": [
    {
     "data": {
      "text/plain": [
       "'Itâ\\x80\\x99s time that we got the truth from our government @JustinTrudeau @jjhorgan @adriandix and #BonnieHenry regarding #pfizerbiontech! Stop delaying 2nd doses. Stop lying to Canadians! https://t.co/MuKjqC85Ko'"
      ]
     },
     "execution_count": 10,
     "metadata": {},
     "output_type": "execute_result"
    }
   ],
   "source": [
    "geo_tweets[(geo_tweets[\"user_location\"] == \"Canada\")&(geo_tweets[\"created_at\"] == \"2021-02-02\")][\"full_text\"].iloc[0]"
   ]
  },
  {
   "cell_type": "code",
   "execution_count": 11,
   "metadata": {},
   "outputs": [
    {
     "data": {
      "text/plain": [
       "25796   -0.6705\n",
       "Name: sentiment_compound, dtype: float64"
      ]
     },
     "execution_count": 11,
     "metadata": {},
     "output_type": "execute_result"
    }
   ],
   "source": [
    "geo_tweets[(geo_tweets[\"user_location\"] == \"Canada\")&(geo_tweets[\"created_at\"] == \"2021-02-02\")][\"sentiment_compound\"]"
   ]
  },
  {
   "cell_type": "code",
   "execution_count": 12,
   "metadata": {},
   "outputs": [],
   "source": [
    "#geo_df = geo_tweets[geo_tweets[\"Sinopharm\"] == 1].groupby([\"user_location\"])[\"sentiment_compound\"].mean().reset_index()"
   ]
  },
  {
   "cell_type": "code",
   "execution_count": 13,
   "metadata": {},
   "outputs": [
    {
     "data": {
      "text/html": [
       "<div>\n",
       "<style scoped>\n",
       "    .dataframe tbody tr th:only-of-type {\n",
       "        vertical-align: middle;\n",
       "    }\n",
       "\n",
       "    .dataframe tbody tr th {\n",
       "        vertical-align: top;\n",
       "    }\n",
       "\n",
       "    .dataframe thead th {\n",
       "        text-align: right;\n",
       "    }\n",
       "</style>\n",
       "<table border=\"1\" class=\"dataframe\">\n",
       "  <thead>\n",
       "    <tr style=\"text-align: right;\">\n",
       "      <th></th>\n",
       "      <th>user_location</th>\n",
       "      <th>sentiment_compound</th>\n",
       "    </tr>\n",
       "  </thead>\n",
       "  <tbody>\n",
       "    <tr>\n",
       "      <th>0</th>\n",
       "      <td>Argentina</td>\n",
       "      <td>0.148006</td>\n",
       "    </tr>\n",
       "    <tr>\n",
       "      <th>1</th>\n",
       "      <td>Australia</td>\n",
       "      <td>0.100207</td>\n",
       "    </tr>\n",
       "    <tr>\n",
       "      <th>2</th>\n",
       "      <td>Austria</td>\n",
       "      <td>0.121842</td>\n",
       "    </tr>\n",
       "    <tr>\n",
       "      <th>3</th>\n",
       "      <td>Belgium</td>\n",
       "      <td>0.163335</td>\n",
       "    </tr>\n",
       "    <tr>\n",
       "      <th>4</th>\n",
       "      <td>Brazil</td>\n",
       "      <td>0.198665</td>\n",
       "    </tr>\n",
       "    <tr>\n",
       "      <th>5</th>\n",
       "      <td>Canada</td>\n",
       "      <td>0.013323</td>\n",
       "    </tr>\n",
       "    <tr>\n",
       "      <th>6</th>\n",
       "      <td>Chile</td>\n",
       "      <td>0.000000</td>\n",
       "    </tr>\n",
       "    <tr>\n",
       "      <th>7</th>\n",
       "      <td>China</td>\n",
       "      <td>0.000000</td>\n",
       "    </tr>\n",
       "    <tr>\n",
       "      <th>8</th>\n",
       "      <td>Croatia</td>\n",
       "      <td>0.000000</td>\n",
       "    </tr>\n",
       "    <tr>\n",
       "      <th>9</th>\n",
       "      <td>France</td>\n",
       "      <td>0.141037</td>\n",
       "    </tr>\n",
       "    <tr>\n",
       "      <th>10</th>\n",
       "      <td>Germany</td>\n",
       "      <td>0.153105</td>\n",
       "    </tr>\n",
       "    <tr>\n",
       "      <th>11</th>\n",
       "      <td>Greece</td>\n",
       "      <td>0.000000</td>\n",
       "    </tr>\n",
       "    <tr>\n",
       "      <th>12</th>\n",
       "      <td>Guyana</td>\n",
       "      <td>0.440400</td>\n",
       "    </tr>\n",
       "    <tr>\n",
       "      <th>13</th>\n",
       "      <td>Hong Kong</td>\n",
       "      <td>-0.120400</td>\n",
       "    </tr>\n",
       "    <tr>\n",
       "      <th>14</th>\n",
       "      <td>India</td>\n",
       "      <td>0.156623</td>\n",
       "    </tr>\n",
       "    <tr>\n",
       "      <th>15</th>\n",
       "      <td>Indonesia</td>\n",
       "      <td>0.165420</td>\n",
       "    </tr>\n",
       "    <tr>\n",
       "      <th>16</th>\n",
       "      <td>Italy</td>\n",
       "      <td>0.229428</td>\n",
       "    </tr>\n",
       "    <tr>\n",
       "      <th>17</th>\n",
       "      <td>Japan</td>\n",
       "      <td>0.165250</td>\n",
       "    </tr>\n",
       "    <tr>\n",
       "      <th>18</th>\n",
       "      <td>Jersey</td>\n",
       "      <td>0.000000</td>\n",
       "    </tr>\n",
       "    <tr>\n",
       "      <th>19</th>\n",
       "      <td>Malaysia</td>\n",
       "      <td>0.151686</td>\n",
       "    </tr>\n",
       "    <tr>\n",
       "      <th>20</th>\n",
       "      <td>Mexico</td>\n",
       "      <td>0.089652</td>\n",
       "    </tr>\n",
       "    <tr>\n",
       "      <th>21</th>\n",
       "      <td>Netherlands</td>\n",
       "      <td>0.077200</td>\n",
       "    </tr>\n",
       "    <tr>\n",
       "      <th>22</th>\n",
       "      <td>Pakistan</td>\n",
       "      <td>0.199673</td>\n",
       "    </tr>\n",
       "    <tr>\n",
       "      <th>23</th>\n",
       "      <td>Palestinian Territory</td>\n",
       "      <td>0.109810</td>\n",
       "    </tr>\n",
       "    <tr>\n",
       "      <th>24</th>\n",
       "      <td>Philippines</td>\n",
       "      <td>0.273735</td>\n",
       "    </tr>\n",
       "    <tr>\n",
       "      <th>25</th>\n",
       "      <td>Qatar</td>\n",
       "      <td>0.283467</td>\n",
       "    </tr>\n",
       "    <tr>\n",
       "      <th>26</th>\n",
       "      <td>Russian Federation</td>\n",
       "      <td>0.168365</td>\n",
       "    </tr>\n",
       "    <tr>\n",
       "      <th>27</th>\n",
       "      <td>Saudi Arabia</td>\n",
       "      <td>0.000000</td>\n",
       "    </tr>\n",
       "    <tr>\n",
       "      <th>28</th>\n",
       "      <td>Singapore</td>\n",
       "      <td>0.272533</td>\n",
       "    </tr>\n",
       "    <tr>\n",
       "      <th>29</th>\n",
       "      <td>Spain</td>\n",
       "      <td>0.171121</td>\n",
       "    </tr>\n",
       "    <tr>\n",
       "      <th>30</th>\n",
       "      <td>Sweden</td>\n",
       "      <td>0.000000</td>\n",
       "    </tr>\n",
       "    <tr>\n",
       "      <th>31</th>\n",
       "      <td>Switzerland</td>\n",
       "      <td>0.128000</td>\n",
       "    </tr>\n",
       "    <tr>\n",
       "      <th>32</th>\n",
       "      <td>Thailand</td>\n",
       "      <td>0.000000</td>\n",
       "    </tr>\n",
       "    <tr>\n",
       "      <th>33</th>\n",
       "      <td>Trinidad and Tobago</td>\n",
       "      <td>0.140500</td>\n",
       "    </tr>\n",
       "    <tr>\n",
       "      <th>34</th>\n",
       "      <td>Ukraine</td>\n",
       "      <td>0.208433</td>\n",
       "    </tr>\n",
       "    <tr>\n",
       "      <th>35</th>\n",
       "      <td>United Arab Emirates</td>\n",
       "      <td>0.366667</td>\n",
       "    </tr>\n",
       "    <tr>\n",
       "      <th>36</th>\n",
       "      <td>United Kingdom</td>\n",
       "      <td>0.199892</td>\n",
       "    </tr>\n",
       "    <tr>\n",
       "      <th>37</th>\n",
       "      <td>United States</td>\n",
       "      <td>0.165845</td>\n",
       "    </tr>\n",
       "    <tr>\n",
       "      <th>38</th>\n",
       "      <td>Virgin Islands, U.S.</td>\n",
       "      <td>0.000000</td>\n",
       "    </tr>\n",
       "  </tbody>\n",
       "</table>\n",
       "</div>"
      ],
      "text/plain": [
       "            user_location  sentiment_compound\n",
       "0               Argentina            0.148006\n",
       "1               Australia            0.100207\n",
       "2                 Austria            0.121842\n",
       "3                 Belgium            0.163335\n",
       "4                  Brazil            0.198665\n",
       "5                  Canada            0.013323\n",
       "6                   Chile            0.000000\n",
       "7                   China            0.000000\n",
       "8                 Croatia            0.000000\n",
       "9                  France            0.141037\n",
       "10                Germany            0.153105\n",
       "11                 Greece            0.000000\n",
       "12                 Guyana            0.440400\n",
       "13              Hong Kong           -0.120400\n",
       "14                  India            0.156623\n",
       "15              Indonesia            0.165420\n",
       "16                  Italy            0.229428\n",
       "17                  Japan            0.165250\n",
       "18                 Jersey            0.000000\n",
       "19               Malaysia            0.151686\n",
       "20                 Mexico            0.089652\n",
       "21            Netherlands            0.077200\n",
       "22               Pakistan            0.199673\n",
       "23  Palestinian Territory            0.109810\n",
       "24            Philippines            0.273735\n",
       "25                  Qatar            0.283467\n",
       "26     Russian Federation            0.168365\n",
       "27           Saudi Arabia            0.000000\n",
       "28              Singapore            0.272533\n",
       "29                  Spain            0.171121\n",
       "30                 Sweden            0.000000\n",
       "31            Switzerland            0.128000\n",
       "32               Thailand            0.000000\n",
       "33    Trinidad and Tobago            0.140500\n",
       "34                Ukraine            0.208433\n",
       "35   United Arab Emirates            0.366667\n",
       "36         United Kingdom            0.199892\n",
       "37          United States            0.165845\n",
       "38   Virgin Islands, U.S.            0.000000"
      ]
     },
     "execution_count": 13,
     "metadata": {},
     "output_type": "execute_result"
    }
   ],
   "source": [
    "geo_tweets.groupby([\"user_location\"])[\"sentiment_compound\"].mean().reset_index()"
   ]
  },
  {
   "cell_type": "markdown",
   "metadata": {},
   "source": [
    "Build Dataframe for sentiment by country and vaccine:"
   ]
  },
  {
   "cell_type": "code",
   "execution_count": 14,
   "metadata": {},
   "outputs": [],
   "source": [
    "geo_df = pd.DataFrame(columns=[\"user_location\",\"Overall\",\"PfizerBiontech\",\"SputnikV\",\"Sinopharm\",\"Sinovac\",\"Moderna\",\"AstraZeneca\",\"Covaxin\",\"JandJ\"])"
   ]
  },
  {
   "cell_type": "code",
   "execution_count": 15,
   "metadata": {},
   "outputs": [],
   "source": [
    "geo_df.Overall = geo_tweets.sort_values(\"user_location\").groupby(\"user_location\")[\"sentiment_compound\"].mean().reset_index()[\"sentiment_compound\"]\n",
    "geo_df.user_location = geo_tweets.sort_values(\"user_location\").groupby(\"user_location\")[\"sentiment_compound\"].mean().reset_index()[\"user_location\"]"
   ]
  },
  {
   "cell_type": "code",
   "execution_count": 16,
   "metadata": {
    "scrolled": true
   },
   "outputs": [
    {
     "data": {
      "text/html": [
       "<div>\n",
       "<style scoped>\n",
       "    .dataframe tbody tr th:only-of-type {\n",
       "        vertical-align: middle;\n",
       "    }\n",
       "\n",
       "    .dataframe tbody tr th {\n",
       "        vertical-align: top;\n",
       "    }\n",
       "\n",
       "    .dataframe thead th {\n",
       "        text-align: right;\n",
       "    }\n",
       "</style>\n",
       "<table border=\"1\" class=\"dataframe\">\n",
       "  <thead>\n",
       "    <tr style=\"text-align: right;\">\n",
       "      <th></th>\n",
       "      <th>user_location</th>\n",
       "      <th>Overall</th>\n",
       "      <th>PfizerBiontech</th>\n",
       "      <th>SputnikV</th>\n",
       "      <th>Sinopharm</th>\n",
       "      <th>Sinovac</th>\n",
       "      <th>Moderna</th>\n",
       "      <th>AstraZeneca</th>\n",
       "      <th>Covaxin</th>\n",
       "      <th>JandJ</th>\n",
       "    </tr>\n",
       "  </thead>\n",
       "  <tbody>\n",
       "    <tr>\n",
       "      <th>0</th>\n",
       "      <td>Argentina</td>\n",
       "      <td>0.148006</td>\n",
       "      <td>NaN</td>\n",
       "      <td>NaN</td>\n",
       "      <td>NaN</td>\n",
       "      <td>NaN</td>\n",
       "      <td>NaN</td>\n",
       "      <td>NaN</td>\n",
       "      <td>NaN</td>\n",
       "      <td>NaN</td>\n",
       "    </tr>\n",
       "    <tr>\n",
       "      <th>1</th>\n",
       "      <td>Australia</td>\n",
       "      <td>0.100207</td>\n",
       "      <td>NaN</td>\n",
       "      <td>NaN</td>\n",
       "      <td>NaN</td>\n",
       "      <td>NaN</td>\n",
       "      <td>NaN</td>\n",
       "      <td>NaN</td>\n",
       "      <td>NaN</td>\n",
       "      <td>NaN</td>\n",
       "    </tr>\n",
       "    <tr>\n",
       "      <th>2</th>\n",
       "      <td>Austria</td>\n",
       "      <td>0.121842</td>\n",
       "      <td>NaN</td>\n",
       "      <td>NaN</td>\n",
       "      <td>NaN</td>\n",
       "      <td>NaN</td>\n",
       "      <td>NaN</td>\n",
       "      <td>NaN</td>\n",
       "      <td>NaN</td>\n",
       "      <td>NaN</td>\n",
       "    </tr>\n",
       "    <tr>\n",
       "      <th>3</th>\n",
       "      <td>Belgium</td>\n",
       "      <td>0.163335</td>\n",
       "      <td>NaN</td>\n",
       "      <td>NaN</td>\n",
       "      <td>NaN</td>\n",
       "      <td>NaN</td>\n",
       "      <td>NaN</td>\n",
       "      <td>NaN</td>\n",
       "      <td>NaN</td>\n",
       "      <td>NaN</td>\n",
       "    </tr>\n",
       "    <tr>\n",
       "      <th>4</th>\n",
       "      <td>Brazil</td>\n",
       "      <td>0.198665</td>\n",
       "      <td>NaN</td>\n",
       "      <td>NaN</td>\n",
       "      <td>NaN</td>\n",
       "      <td>NaN</td>\n",
       "      <td>NaN</td>\n",
       "      <td>NaN</td>\n",
       "      <td>NaN</td>\n",
       "      <td>NaN</td>\n",
       "    </tr>\n",
       "  </tbody>\n",
       "</table>\n",
       "</div>"
      ],
      "text/plain": [
       "  user_location   Overall PfizerBiontech SputnikV Sinopharm Sinovac Moderna  \\\n",
       "0     Argentina  0.148006            NaN      NaN       NaN     NaN     NaN   \n",
       "1     Australia  0.100207            NaN      NaN       NaN     NaN     NaN   \n",
       "2       Austria  0.121842            NaN      NaN       NaN     NaN     NaN   \n",
       "3       Belgium  0.163335            NaN      NaN       NaN     NaN     NaN   \n",
       "4        Brazil  0.198665            NaN      NaN       NaN     NaN     NaN   \n",
       "\n",
       "  AstraZeneca Covaxin JandJ  \n",
       "0         NaN     NaN   NaN  \n",
       "1         NaN     NaN   NaN  \n",
       "2         NaN     NaN   NaN  \n",
       "3         NaN     NaN   NaN  \n",
       "4         NaN     NaN   NaN  "
      ]
     },
     "execution_count": 16,
     "metadata": {},
     "output_type": "execute_result"
    }
   ],
   "source": [
    "geo_df.head()"
   ]
  },
  {
   "cell_type": "code",
   "execution_count": 17,
   "metadata": {},
   "outputs": [
    {
     "name": "stderr",
     "output_type": "stream",
     "text": [
      "<ipython-input-17-a52dc8e8f16e>:3: SettingWithCopyWarning:\n",
      "\n",
      "\n",
      "A value is trying to be set on a copy of a slice from a DataFrame\n",
      "\n",
      "See the caveats in the documentation: https://pandas.pydata.org/pandas-docs/stable/user_guide/indexing.html#returning-a-view-versus-a-copy\n",
      "\n"
     ]
    }
   ],
   "source": [
    "for i in range(len(geo_df)):\n",
    "    for vaccine in geo_df.columns[2:]:\n",
    "        geo_df[vaccine][i] = geo_tweets[(geo_tweets[\"user_location\"] == geo_df.user_location[i])&(geo_tweets[vaccine] == 1)].sentiment_compound.mean()"
   ]
  },
  {
   "cell_type": "code",
   "execution_count": 18,
   "metadata": {},
   "outputs": [
    {
     "data": {
      "text/html": [
       "<div>\n",
       "<style scoped>\n",
       "    .dataframe tbody tr th:only-of-type {\n",
       "        vertical-align: middle;\n",
       "    }\n",
       "\n",
       "    .dataframe tbody tr th {\n",
       "        vertical-align: top;\n",
       "    }\n",
       "\n",
       "    .dataframe thead th {\n",
       "        text-align: right;\n",
       "    }\n",
       "</style>\n",
       "<table border=\"1\" class=\"dataframe\">\n",
       "  <thead>\n",
       "    <tr style=\"text-align: right;\">\n",
       "      <th></th>\n",
       "      <th>user_location</th>\n",
       "      <th>Overall</th>\n",
       "      <th>PfizerBiontech</th>\n",
       "      <th>SputnikV</th>\n",
       "      <th>Sinopharm</th>\n",
       "      <th>Sinovac</th>\n",
       "      <th>Moderna</th>\n",
       "      <th>AstraZeneca</th>\n",
       "      <th>Covaxin</th>\n",
       "      <th>JandJ</th>\n",
       "    </tr>\n",
       "  </thead>\n",
       "  <tbody>\n",
       "    <tr>\n",
       "      <th>0</th>\n",
       "      <td>Argentina</td>\n",
       "      <td>0.148006</td>\n",
       "      <td>0.155291</td>\n",
       "      <td>0.130402</td>\n",
       "      <td>-0.05464</td>\n",
       "      <td>-0.0683</td>\n",
       "      <td>0.0337167</td>\n",
       "      <td>0</td>\n",
       "      <td>0.2732</td>\n",
       "      <td>NaN</td>\n",
       "    </tr>\n",
       "    <tr>\n",
       "      <th>1</th>\n",
       "      <td>Australia</td>\n",
       "      <td>0.100207</td>\n",
       "      <td>0.0847642</td>\n",
       "      <td>0.200955</td>\n",
       "      <td>0.10665</td>\n",
       "      <td>0.108224</td>\n",
       "      <td>0.0766034</td>\n",
       "      <td>0.152051</td>\n",
       "      <td>0.149384</td>\n",
       "      <td>-0.173567</td>\n",
       "    </tr>\n",
       "    <tr>\n",
       "      <th>2</th>\n",
       "      <td>Austria</td>\n",
       "      <td>0.121842</td>\n",
       "      <td>0.151114</td>\n",
       "      <td>0.0791541</td>\n",
       "      <td>0.0121</td>\n",
       "      <td>0.245262</td>\n",
       "      <td>0.164163</td>\n",
       "      <td>0.176</td>\n",
       "      <td>0.6249</td>\n",
       "      <td>0</td>\n",
       "    </tr>\n",
       "    <tr>\n",
       "      <th>3</th>\n",
       "      <td>Belgium</td>\n",
       "      <td>0.163335</td>\n",
       "      <td>0.0378774</td>\n",
       "      <td>0.128432</td>\n",
       "      <td>0.2238</td>\n",
       "      <td>0.436744</td>\n",
       "      <td>0.288737</td>\n",
       "      <td>0.160365</td>\n",
       "      <td>-0.064375</td>\n",
       "      <td>0.2202</td>\n",
       "    </tr>\n",
       "    <tr>\n",
       "      <th>4</th>\n",
       "      <td>Brazil</td>\n",
       "      <td>0.198665</td>\n",
       "      <td>0.5399</td>\n",
       "      <td>0.690333</td>\n",
       "      <td>0.3612</td>\n",
       "      <td>-0.155267</td>\n",
       "      <td>-0.1351</td>\n",
       "      <td>0.130937</td>\n",
       "      <td>0.26978</td>\n",
       "      <td>NaN</td>\n",
       "    </tr>\n",
       "    <tr>\n",
       "      <th>5</th>\n",
       "      <td>Canada</td>\n",
       "      <td>0.013323</td>\n",
       "      <td>0.154064</td>\n",
       "      <td>-0.066131</td>\n",
       "      <td>0.16685</td>\n",
       "      <td>0.0579159</td>\n",
       "      <td>0.136249</td>\n",
       "      <td>0.029113</td>\n",
       "      <td>0.186287</td>\n",
       "      <td>0.158076</td>\n",
       "    </tr>\n",
       "    <tr>\n",
       "      <th>6</th>\n",
       "      <td>Chile</td>\n",
       "      <td>0.000000</td>\n",
       "      <td>NaN</td>\n",
       "      <td>NaN</td>\n",
       "      <td>NaN</td>\n",
       "      <td>0</td>\n",
       "      <td>NaN</td>\n",
       "      <td>NaN</td>\n",
       "      <td>NaN</td>\n",
       "      <td>NaN</td>\n",
       "    </tr>\n",
       "    <tr>\n",
       "      <th>7</th>\n",
       "      <td>China</td>\n",
       "      <td>0.000000</td>\n",
       "      <td>NaN</td>\n",
       "      <td>NaN</td>\n",
       "      <td>NaN</td>\n",
       "      <td>0</td>\n",
       "      <td>NaN</td>\n",
       "      <td>NaN</td>\n",
       "      <td>NaN</td>\n",
       "      <td>NaN</td>\n",
       "    </tr>\n",
       "    <tr>\n",
       "      <th>8</th>\n",
       "      <td>Croatia</td>\n",
       "      <td>0.000000</td>\n",
       "      <td>NaN</td>\n",
       "      <td>NaN</td>\n",
       "      <td>NaN</td>\n",
       "      <td>NaN</td>\n",
       "      <td>NaN</td>\n",
       "      <td>NaN</td>\n",
       "      <td>0</td>\n",
       "      <td>NaN</td>\n",
       "    </tr>\n",
       "    <tr>\n",
       "      <th>9</th>\n",
       "      <td>France</td>\n",
       "      <td>0.141037</td>\n",
       "      <td>0.0261685</td>\n",
       "      <td>0.187666</td>\n",
       "      <td>0.247515</td>\n",
       "      <td>0.0578588</td>\n",
       "      <td>0.133042</td>\n",
       "      <td>0.113433</td>\n",
       "      <td>0.330817</td>\n",
       "      <td>0.247871</td>\n",
       "    </tr>\n",
       "    <tr>\n",
       "      <th>10</th>\n",
       "      <td>Germany</td>\n",
       "      <td>0.153105</td>\n",
       "      <td>0.156786</td>\n",
       "      <td>0.108008</td>\n",
       "      <td>0.125777</td>\n",
       "      <td>0.0945667</td>\n",
       "      <td>0.184667</td>\n",
       "      <td>0.11581</td>\n",
       "      <td>0.210445</td>\n",
       "      <td>0.326264</td>\n",
       "    </tr>\n",
       "    <tr>\n",
       "      <th>11</th>\n",
       "      <td>Greece</td>\n",
       "      <td>0.000000</td>\n",
       "      <td>NaN</td>\n",
       "      <td>NaN</td>\n",
       "      <td>NaN</td>\n",
       "      <td>NaN</td>\n",
       "      <td>0</td>\n",
       "      <td>NaN</td>\n",
       "      <td>NaN</td>\n",
       "      <td>NaN</td>\n",
       "    </tr>\n",
       "    <tr>\n",
       "      <th>12</th>\n",
       "      <td>Guyana</td>\n",
       "      <td>0.440400</td>\n",
       "      <td>NaN</td>\n",
       "      <td>0.4404</td>\n",
       "      <td>NaN</td>\n",
       "      <td>NaN</td>\n",
       "      <td>NaN</td>\n",
       "      <td>NaN</td>\n",
       "      <td>NaN</td>\n",
       "      <td>NaN</td>\n",
       "    </tr>\n",
       "    <tr>\n",
       "      <th>13</th>\n",
       "      <td>Hong Kong</td>\n",
       "      <td>-0.120400</td>\n",
       "      <td>0</td>\n",
       "      <td>NaN</td>\n",
       "      <td>NaN</td>\n",
       "      <td>-0.3612</td>\n",
       "      <td>NaN</td>\n",
       "      <td>NaN</td>\n",
       "      <td>NaN</td>\n",
       "      <td>NaN</td>\n",
       "    </tr>\n",
       "    <tr>\n",
       "      <th>14</th>\n",
       "      <td>India</td>\n",
       "      <td>0.156623</td>\n",
       "      <td>0.102653</td>\n",
       "      <td>0.138698</td>\n",
       "      <td>0.202485</td>\n",
       "      <td>0.100665</td>\n",
       "      <td>0.135501</td>\n",
       "      <td>0.113953</td>\n",
       "      <td>0.167234</td>\n",
       "      <td>0.173923</td>\n",
       "    </tr>\n",
       "    <tr>\n",
       "      <th>15</th>\n",
       "      <td>Indonesia</td>\n",
       "      <td>0.165420</td>\n",
       "      <td>NaN</td>\n",
       "      <td>NaN</td>\n",
       "      <td>NaN</td>\n",
       "      <td>0.16542</td>\n",
       "      <td>NaN</td>\n",
       "      <td>NaN</td>\n",
       "      <td>NaN</td>\n",
       "      <td>NaN</td>\n",
       "    </tr>\n",
       "    <tr>\n",
       "      <th>16</th>\n",
       "      <td>Italy</td>\n",
       "      <td>0.229428</td>\n",
       "      <td>0.269582</td>\n",
       "      <td>0.158856</td>\n",
       "      <td>0</td>\n",
       "      <td>0.110875</td>\n",
       "      <td>0.281671</td>\n",
       "      <td>0.26136</td>\n",
       "      <td>0.0172</td>\n",
       "      <td>0.21756</td>\n",
       "    </tr>\n",
       "    <tr>\n",
       "      <th>17</th>\n",
       "      <td>Japan</td>\n",
       "      <td>0.165250</td>\n",
       "      <td>-0.106073</td>\n",
       "      <td>0.4147</td>\n",
       "      <td>-0.035</td>\n",
       "      <td>0.293008</td>\n",
       "      <td>0.0547132</td>\n",
       "      <td>0.05768</td>\n",
       "      <td>0.244765</td>\n",
       "      <td>-0.0142333</td>\n",
       "    </tr>\n",
       "    <tr>\n",
       "      <th>18</th>\n",
       "      <td>Jersey</td>\n",
       "      <td>0.000000</td>\n",
       "      <td>NaN</td>\n",
       "      <td>NaN</td>\n",
       "      <td>NaN</td>\n",
       "      <td>NaN</td>\n",
       "      <td>NaN</td>\n",
       "      <td>0</td>\n",
       "      <td>NaN</td>\n",
       "      <td>NaN</td>\n",
       "    </tr>\n",
       "    <tr>\n",
       "      <th>19</th>\n",
       "      <td>Malaysia</td>\n",
       "      <td>0.151686</td>\n",
       "      <td>0.36345</td>\n",
       "      <td>NaN</td>\n",
       "      <td>NaN</td>\n",
       "      <td>0.083725</td>\n",
       "      <td>0</td>\n",
       "      <td>NaN</td>\n",
       "      <td>NaN</td>\n",
       "      <td>NaN</td>\n",
       "    </tr>\n",
       "    <tr>\n",
       "      <th>20</th>\n",
       "      <td>Mexico</td>\n",
       "      <td>0.089652</td>\n",
       "      <td>0.23495</td>\n",
       "      <td>-0.172233</td>\n",
       "      <td>NaN</td>\n",
       "      <td>0.2384</td>\n",
       "      <td>0.0759667</td>\n",
       "      <td>0.1487</td>\n",
       "      <td>0.0907308</td>\n",
       "      <td>0</td>\n",
       "    </tr>\n",
       "    <tr>\n",
       "      <th>21</th>\n",
       "      <td>Netherlands</td>\n",
       "      <td>0.077200</td>\n",
       "      <td>NaN</td>\n",
       "      <td>NaN</td>\n",
       "      <td>NaN</td>\n",
       "      <td>NaN</td>\n",
       "      <td>0.0772</td>\n",
       "      <td>NaN</td>\n",
       "      <td>NaN</td>\n",
       "      <td>NaN</td>\n",
       "    </tr>\n",
       "    <tr>\n",
       "      <th>22</th>\n",
       "      <td>Pakistan</td>\n",
       "      <td>0.199673</td>\n",
       "      <td>0.118696</td>\n",
       "      <td>0.114997</td>\n",
       "      <td>0.215679</td>\n",
       "      <td>0.229005</td>\n",
       "      <td>0.181048</td>\n",
       "      <td>0.0515791</td>\n",
       "      <td>0.1637</td>\n",
       "      <td>0.08575</td>\n",
       "    </tr>\n",
       "    <tr>\n",
       "      <th>23</th>\n",
       "      <td>Palestinian Territory</td>\n",
       "      <td>0.109810</td>\n",
       "      <td>0.0779205</td>\n",
       "      <td>0.321852</td>\n",
       "      <td>-0.1027</td>\n",
       "      <td>-0.12638</td>\n",
       "      <td>0.0200794</td>\n",
       "      <td>0</td>\n",
       "      <td>-0.6705</td>\n",
       "      <td>NaN</td>\n",
       "    </tr>\n",
       "    <tr>\n",
       "      <th>24</th>\n",
       "      <td>Philippines</td>\n",
       "      <td>0.273735</td>\n",
       "      <td>0.26565</td>\n",
       "      <td>0</td>\n",
       "      <td>NaN</td>\n",
       "      <td>0.279012</td>\n",
       "      <td>NaN</td>\n",
       "      <td>NaN</td>\n",
       "      <td>NaN</td>\n",
       "      <td>NaN</td>\n",
       "    </tr>\n",
       "    <tr>\n",
       "      <th>25</th>\n",
       "      <td>Qatar</td>\n",
       "      <td>0.283467</td>\n",
       "      <td>0.3612</td>\n",
       "      <td>NaN</td>\n",
       "      <td>NaN</td>\n",
       "      <td>NaN</td>\n",
       "      <td>0.128</td>\n",
       "      <td>NaN</td>\n",
       "      <td>NaN</td>\n",
       "      <td>NaN</td>\n",
       "    </tr>\n",
       "    <tr>\n",
       "      <th>26</th>\n",
       "      <td>Russian Federation</td>\n",
       "      <td>0.168365</td>\n",
       "      <td>0.18803</td>\n",
       "      <td>0.167167</td>\n",
       "      <td>0.7269</td>\n",
       "      <td>0.2473</td>\n",
       "      <td>0.345957</td>\n",
       "      <td>0.0572571</td>\n",
       "      <td>0.4584</td>\n",
       "      <td>0.5546</td>\n",
       "    </tr>\n",
       "    <tr>\n",
       "      <th>27</th>\n",
       "      <td>Saudi Arabia</td>\n",
       "      <td>0.000000</td>\n",
       "      <td>NaN</td>\n",
       "      <td>NaN</td>\n",
       "      <td>NaN</td>\n",
       "      <td>NaN</td>\n",
       "      <td>NaN</td>\n",
       "      <td>0</td>\n",
       "      <td>NaN</td>\n",
       "      <td>NaN</td>\n",
       "    </tr>\n",
       "    <tr>\n",
       "      <th>28</th>\n",
       "      <td>Singapore</td>\n",
       "      <td>0.272533</td>\n",
       "      <td>0.8176</td>\n",
       "      <td>NaN</td>\n",
       "      <td>NaN</td>\n",
       "      <td>NaN</td>\n",
       "      <td>0</td>\n",
       "      <td>NaN</td>\n",
       "      <td>NaN</td>\n",
       "      <td>NaN</td>\n",
       "    </tr>\n",
       "    <tr>\n",
       "      <th>29</th>\n",
       "      <td>Spain</td>\n",
       "      <td>0.171121</td>\n",
       "      <td>0.22156</td>\n",
       "      <td>0.1165</td>\n",
       "      <td>-0.11315</td>\n",
       "      <td>0.16735</td>\n",
       "      <td>0.171579</td>\n",
       "      <td>0.04076</td>\n",
       "      <td>0.360917</td>\n",
       "      <td>-0.4588</td>\n",
       "    </tr>\n",
       "    <tr>\n",
       "      <th>30</th>\n",
       "      <td>Sweden</td>\n",
       "      <td>0.000000</td>\n",
       "      <td>NaN</td>\n",
       "      <td>NaN</td>\n",
       "      <td>NaN</td>\n",
       "      <td>NaN</td>\n",
       "      <td>0</td>\n",
       "      <td>NaN</td>\n",
       "      <td>NaN</td>\n",
       "      <td>NaN</td>\n",
       "    </tr>\n",
       "    <tr>\n",
       "      <th>31</th>\n",
       "      <td>Switzerland</td>\n",
       "      <td>0.128000</td>\n",
       "      <td>NaN</td>\n",
       "      <td>NaN</td>\n",
       "      <td>NaN</td>\n",
       "      <td>NaN</td>\n",
       "      <td>0.128</td>\n",
       "      <td>NaN</td>\n",
       "      <td>NaN</td>\n",
       "      <td>NaN</td>\n",
       "    </tr>\n",
       "    <tr>\n",
       "      <th>32</th>\n",
       "      <td>Thailand</td>\n",
       "      <td>0.000000</td>\n",
       "      <td>NaN</td>\n",
       "      <td>NaN</td>\n",
       "      <td>NaN</td>\n",
       "      <td>0</td>\n",
       "      <td>NaN</td>\n",
       "      <td>NaN</td>\n",
       "      <td>NaN</td>\n",
       "      <td>NaN</td>\n",
       "    </tr>\n",
       "    <tr>\n",
       "      <th>33</th>\n",
       "      <td>Trinidad and Tobago</td>\n",
       "      <td>0.140500</td>\n",
       "      <td>NaN</td>\n",
       "      <td>NaN</td>\n",
       "      <td>0.1405</td>\n",
       "      <td>NaN</td>\n",
       "      <td>NaN</td>\n",
       "      <td>NaN</td>\n",
       "      <td>NaN</td>\n",
       "      <td>NaN</td>\n",
       "    </tr>\n",
       "    <tr>\n",
       "      <th>34</th>\n",
       "      <td>Ukraine</td>\n",
       "      <td>0.208433</td>\n",
       "      <td>0.219056</td>\n",
       "      <td>0.114408</td>\n",
       "      <td>0.244177</td>\n",
       "      <td>0.20095</td>\n",
       "      <td>0.121894</td>\n",
       "      <td>0.31496</td>\n",
       "      <td>0.185671</td>\n",
       "      <td>NaN</td>\n",
       "    </tr>\n",
       "    <tr>\n",
       "      <th>35</th>\n",
       "      <td>United Arab Emirates</td>\n",
       "      <td>0.366667</td>\n",
       "      <td>0.4404</td>\n",
       "      <td>NaN</td>\n",
       "      <td>0.35192</td>\n",
       "      <td>NaN</td>\n",
       "      <td>NaN</td>\n",
       "      <td>NaN</td>\n",
       "      <td>NaN</td>\n",
       "      <td>NaN</td>\n",
       "    </tr>\n",
       "    <tr>\n",
       "      <th>36</th>\n",
       "      <td>United Kingdom</td>\n",
       "      <td>0.199892</td>\n",
       "      <td>0.254063</td>\n",
       "      <td>0.0281363</td>\n",
       "      <td>0.170022</td>\n",
       "      <td>0.081407</td>\n",
       "      <td>0.187903</td>\n",
       "      <td>0.207076</td>\n",
       "      <td>0.130753</td>\n",
       "      <td>0.217967</td>\n",
       "    </tr>\n",
       "    <tr>\n",
       "      <th>37</th>\n",
       "      <td>United States</td>\n",
       "      <td>0.165845</td>\n",
       "      <td>0.185359</td>\n",
       "      <td>-0.1712</td>\n",
       "      <td>0.116583</td>\n",
       "      <td>0.058475</td>\n",
       "      <td>0.168561</td>\n",
       "      <td>0.195869</td>\n",
       "      <td>0.231718</td>\n",
       "      <td>0.13054</td>\n",
       "    </tr>\n",
       "    <tr>\n",
       "      <th>38</th>\n",
       "      <td>Virgin Islands, U.S.</td>\n",
       "      <td>0.000000</td>\n",
       "      <td>0</td>\n",
       "      <td>NaN</td>\n",
       "      <td>NaN</td>\n",
       "      <td>NaN</td>\n",
       "      <td>NaN</td>\n",
       "      <td>NaN</td>\n",
       "      <td>NaN</td>\n",
       "      <td>NaN</td>\n",
       "    </tr>\n",
       "  </tbody>\n",
       "</table>\n",
       "</div>"
      ],
      "text/plain": [
       "            user_location   Overall PfizerBiontech   SputnikV Sinopharm  \\\n",
       "0               Argentina  0.148006       0.155291   0.130402  -0.05464   \n",
       "1               Australia  0.100207      0.0847642   0.200955   0.10665   \n",
       "2                 Austria  0.121842       0.151114  0.0791541    0.0121   \n",
       "3                 Belgium  0.163335      0.0378774   0.128432    0.2238   \n",
       "4                  Brazil  0.198665         0.5399   0.690333    0.3612   \n",
       "5                  Canada  0.013323       0.154064  -0.066131   0.16685   \n",
       "6                   Chile  0.000000            NaN        NaN       NaN   \n",
       "7                   China  0.000000            NaN        NaN       NaN   \n",
       "8                 Croatia  0.000000            NaN        NaN       NaN   \n",
       "9                  France  0.141037      0.0261685   0.187666  0.247515   \n",
       "10                Germany  0.153105       0.156786   0.108008  0.125777   \n",
       "11                 Greece  0.000000            NaN        NaN       NaN   \n",
       "12                 Guyana  0.440400            NaN     0.4404       NaN   \n",
       "13              Hong Kong -0.120400              0        NaN       NaN   \n",
       "14                  India  0.156623       0.102653   0.138698  0.202485   \n",
       "15              Indonesia  0.165420            NaN        NaN       NaN   \n",
       "16                  Italy  0.229428       0.269582   0.158856         0   \n",
       "17                  Japan  0.165250      -0.106073     0.4147    -0.035   \n",
       "18                 Jersey  0.000000            NaN        NaN       NaN   \n",
       "19               Malaysia  0.151686        0.36345        NaN       NaN   \n",
       "20                 Mexico  0.089652        0.23495  -0.172233       NaN   \n",
       "21            Netherlands  0.077200            NaN        NaN       NaN   \n",
       "22               Pakistan  0.199673       0.118696   0.114997  0.215679   \n",
       "23  Palestinian Territory  0.109810      0.0779205   0.321852   -0.1027   \n",
       "24            Philippines  0.273735        0.26565          0       NaN   \n",
       "25                  Qatar  0.283467         0.3612        NaN       NaN   \n",
       "26     Russian Federation  0.168365        0.18803   0.167167    0.7269   \n",
       "27           Saudi Arabia  0.000000            NaN        NaN       NaN   \n",
       "28              Singapore  0.272533         0.8176        NaN       NaN   \n",
       "29                  Spain  0.171121        0.22156     0.1165  -0.11315   \n",
       "30                 Sweden  0.000000            NaN        NaN       NaN   \n",
       "31            Switzerland  0.128000            NaN        NaN       NaN   \n",
       "32               Thailand  0.000000            NaN        NaN       NaN   \n",
       "33    Trinidad and Tobago  0.140500            NaN        NaN    0.1405   \n",
       "34                Ukraine  0.208433       0.219056   0.114408  0.244177   \n",
       "35   United Arab Emirates  0.366667         0.4404        NaN   0.35192   \n",
       "36         United Kingdom  0.199892       0.254063  0.0281363  0.170022   \n",
       "37          United States  0.165845       0.185359    -0.1712  0.116583   \n",
       "38   Virgin Islands, U.S.  0.000000              0        NaN       NaN   \n",
       "\n",
       "      Sinovac    Moderna AstraZeneca    Covaxin      JandJ  \n",
       "0     -0.0683  0.0337167           0     0.2732        NaN  \n",
       "1    0.108224  0.0766034    0.152051   0.149384  -0.173567  \n",
       "2    0.245262   0.164163       0.176     0.6249          0  \n",
       "3    0.436744   0.288737    0.160365  -0.064375     0.2202  \n",
       "4   -0.155267    -0.1351    0.130937    0.26978        NaN  \n",
       "5   0.0579159   0.136249    0.029113   0.186287   0.158076  \n",
       "6           0        NaN         NaN        NaN        NaN  \n",
       "7           0        NaN         NaN        NaN        NaN  \n",
       "8         NaN        NaN         NaN          0        NaN  \n",
       "9   0.0578588   0.133042    0.113433   0.330817   0.247871  \n",
       "10  0.0945667   0.184667     0.11581   0.210445   0.326264  \n",
       "11        NaN          0         NaN        NaN        NaN  \n",
       "12        NaN        NaN         NaN        NaN        NaN  \n",
       "13    -0.3612        NaN         NaN        NaN        NaN  \n",
       "14   0.100665   0.135501    0.113953   0.167234   0.173923  \n",
       "15    0.16542        NaN         NaN        NaN        NaN  \n",
       "16   0.110875   0.281671     0.26136     0.0172    0.21756  \n",
       "17   0.293008  0.0547132     0.05768   0.244765 -0.0142333  \n",
       "18        NaN        NaN           0        NaN        NaN  \n",
       "19   0.083725          0         NaN        NaN        NaN  \n",
       "20     0.2384  0.0759667      0.1487  0.0907308          0  \n",
       "21        NaN     0.0772         NaN        NaN        NaN  \n",
       "22   0.229005   0.181048   0.0515791     0.1637    0.08575  \n",
       "23   -0.12638  0.0200794           0    -0.6705        NaN  \n",
       "24   0.279012        NaN         NaN        NaN        NaN  \n",
       "25        NaN      0.128         NaN        NaN        NaN  \n",
       "26     0.2473   0.345957   0.0572571     0.4584     0.5546  \n",
       "27        NaN        NaN           0        NaN        NaN  \n",
       "28        NaN          0         NaN        NaN        NaN  \n",
       "29    0.16735   0.171579     0.04076   0.360917    -0.4588  \n",
       "30        NaN          0         NaN        NaN        NaN  \n",
       "31        NaN      0.128         NaN        NaN        NaN  \n",
       "32          0        NaN         NaN        NaN        NaN  \n",
       "33        NaN        NaN         NaN        NaN        NaN  \n",
       "34    0.20095   0.121894     0.31496   0.185671        NaN  \n",
       "35        NaN        NaN         NaN        NaN        NaN  \n",
       "36   0.081407   0.187903    0.207076   0.130753   0.217967  \n",
       "37   0.058475   0.168561    0.195869   0.231718    0.13054  \n",
       "38        NaN        NaN         NaN        NaN        NaN  "
      ]
     },
     "execution_count": 18,
     "metadata": {},
     "output_type": "execute_result"
    }
   ],
   "source": [
    "geo_df"
   ]
  },
  {
   "cell_type": "code",
   "execution_count": 20,
   "metadata": {},
   "outputs": [],
   "source": [
    "def sentiment_by_country(dataset):\n",
    "    \n",
    "    fig = go.Figure()\n",
    "    \n",
    "    for column in dataset.columns[1:].to_list():\n",
    "        fig.add_trace(\n",
    "            go.Bar(\n",
    "                x = dataset.user_location,\n",
    "                y = dataset[column],\n",
    "                name = column\n",
    "            )\n",
    "        )\n",
    "    \n",
    "    # Add dropdown\n",
    "    fig.update_layout(\n",
    "        updatemenus=[\n",
    "            dict(\n",
    "                buttons=list([\n",
    "                    dict( \n",
    "                        args=[{'visible': [True,True,True,True,True,True,True,True,True,True]}, \n",
    "                               {'title' : 'Mean sentiment by country (All)'}],\n",
    "                        label=\"All\",\n",
    "                        method=\"update\"\n",
    "                    ),\n",
    "                    dict( \n",
    "                        args=[{'visible': [True,False,False,False,False,False,False,False,False]}, \n",
    "                               {'title' : 'Mean sentiment by country (All vaccines)'}],\n",
    "                        label=\"Overall Sentiment\",\n",
    "                        method=\"update\"\n",
    "                    ),\n",
    "                    dict( \n",
    "                        args=[{'visible': [False,True,False,False,False,False,False,False,False]},\n",
    "                             {'title' : 'Mean sentiment by country for PfizerBiontech'}],\n",
    "                        label=\"PfizerBiontech\",\n",
    "                        method=\"update\"\n",
    "                    ),\n",
    "                    dict(\n",
    "                        args=[{'visible': [False,False,True,False,False,False,False,False,False]},\n",
    "                             {'title' : 'Mean sentiment by country for SputnikV'}],\n",
    "                        label=\"SputnikV\",\n",
    "                        method=\"update\"\n",
    "                    ),\n",
    "                    dict(\n",
    "                        args=[{'visible': [False,False,False,True,False,False,False,False,False]},\n",
    "                             {'title' : 'Mean sentiment by country for Sinopharm'}],\n",
    "                        label=\"Sinopharm\",\n",
    "                        method=\"update\"\n",
    "                    ),\n",
    "                    dict(\n",
    "                        args=[{'visible': [False,False,False,False,True,False,False,False,False]},\n",
    "                             {'title' : 'Mean sentiment by country for Sinovac'}],\n",
    "                        label=\"Sinovac\",\n",
    "                        method=\"update\"\n",
    "                    ),\n",
    "                    dict(\n",
    "                        args=[{'visible': [False,False,False,False,False,True,False,False,False]}, \n",
    "                             {'title' : 'Mean sentiment by country for Moderna'}],\n",
    "                        label=\"Moderna\",\n",
    "                        method=\"update\"\n",
    "                    ),\n",
    "                    dict(\n",
    "                        args=[{'visible': [False,False,False,False,False,False,True,False,False]}, \n",
    "                             {'title' : 'Mean sentiment by country for AstraZeneca'}],\n",
    "                        label=\"AstraZeneca\",\n",
    "                        method=\"update\"\n",
    "                    ),\n",
    "                    dict(\n",
    "                        args=[{'visible': [False,False,False,False,False,False,False,True,False]},\n",
    "                             {'title' : 'Sentiment by country for Covaxin'}],\n",
    "                        label=\"Covaxin\",\n",
    "                        method=\"update\"\n",
    "                    ),\n",
    "                    dict(\n",
    "                        args=[{'visible': [False,False,False,False,False,False,False,False,True]},\n",
    "                             {'title' : 'Sentiment by country for JandJ'}],\n",
    "                        label=\"JandJ\",\n",
    "                        method=\"update\"\n",
    "                    )                    \n",
    "                ]),\n",
    "                direction=\"down\",\n",
    "                pad={\"r\": 10, \"t\": 10},\n",
    "                showactive=True,\n",
    "                x=1.0,\n",
    "                xanchor=\"right\",\n",
    "                y=1.2,\n",
    "                yanchor=\"top\"\n",
    "            ),\n",
    "        ],\n",
    "        xaxis_title=\"Country\",\n",
    "        yaxis_title=\"Sentiment\",\n",
    "        legend_title=\"Vaccines\"\n",
    "    )\n",
    "    \n",
    "    fig.show()\n",
    "    fig.write_html(\"../reports/figures/VaccineGeo/Mean_Sentiment_By_Vaccine.html\")\n"
   ]
  },
  {
   "cell_type": "code",
   "execution_count": 21,
   "metadata": {},
   "outputs": [
    {
     "data": {
      "application/vnd.plotly.v1+json": {
       "config": {
        "plotlyServerURL": "https://plot.ly"
       },
       "data": [
        {
         "name": "Overall",
         "type": "bar",
         "x": [
          "Argentina",
          "Australia",
          "Austria",
          "Belgium",
          "Brazil",
          "Canada",
          "Chile",
          "China",
          "Croatia",
          "France",
          "Germany",
          "Greece",
          "Guyana",
          "Hong Kong",
          "India",
          "Indonesia",
          "Italy",
          "Japan",
          "Jersey",
          "Malaysia",
          "Mexico",
          "Netherlands",
          "Pakistan",
          "Palestinian Territory",
          "Philippines",
          "Qatar",
          "Russian Federation",
          "Saudi Arabia",
          "Singapore",
          "Spain",
          "Sweden",
          "Switzerland",
          "Thailand",
          "Trinidad and Tobago",
          "Ukraine",
          "United Arab Emirates",
          "United Kingdom",
          "United States",
          "Virgin Islands, U.S."
         ],
         "y": [
          0.14800555555555556,
          0.10020731707317074,
          0.12184173913043475,
          0.1633347368421052,
          0.19866538461538463,
          0.01332345951920549,
          0,
          0,
          0,
          0.14103678160919514,
          0.15310520833333335,
          0,
          0.4404,
          -0.12040000000000001,
          0.15662299722353298,
          0.16541999999999998,
          0.2294283687943262,
          0.16524954128440372,
          0,
          0.15168571428571428,
          0.0896516129032258,
          0.0772,
          0.19967262984336362,
          0.1098098901098901,
          0.2737349206349208,
          0.2834666666666667,
          0.16836456456456458,
          0,
          0.27253333333333335,
          0.17112142857142854,
          0,
          0.128,
          0,
          0.14049999999999999,
          0.2084333333333333,
          0.36666666666666664,
          0.19989159034138215,
          0.1658450390189503,
          0
         ]
        },
        {
         "name": "PfizerBiontech",
         "type": "bar",
         "x": [
          "Argentina",
          "Australia",
          "Austria",
          "Belgium",
          "Brazil",
          "Canada",
          "Chile",
          "China",
          "Croatia",
          "France",
          "Germany",
          "Greece",
          "Guyana",
          "Hong Kong",
          "India",
          "Indonesia",
          "Italy",
          "Japan",
          "Jersey",
          "Malaysia",
          "Mexico",
          "Netherlands",
          "Pakistan",
          "Palestinian Territory",
          "Philippines",
          "Qatar",
          "Russian Federation",
          "Saudi Arabia",
          "Singapore",
          "Spain",
          "Sweden",
          "Switzerland",
          "Thailand",
          "Trinidad and Tobago",
          "Ukraine",
          "United Arab Emirates",
          "United Kingdom",
          "United States",
          "Virgin Islands, U.S."
         ],
         "y": [
          0.15529090909090906,
          0.08476422764227645,
          0.15111428571428573,
          0.037877358490566046,
          0.5399,
          0.15406422764227623,
          null,
          null,
          null,
          0.026168548387096795,
          0.1567859375000002,
          null,
          null,
          0,
          0.10265252416756218,
          null,
          0.26958214285714277,
          -0.10607333333333334,
          null,
          0.36345,
          0.23495000000000002,
          null,
          0.11869634146341468,
          0.07792045454545456,
          0.26565,
          0.3612,
          0.18802999999999997,
          null,
          0.8176,
          0.221560465116279,
          null,
          null,
          null,
          null,
          0.2190555555555556,
          0.4404,
          0.2540627659574463,
          0.18535906593406606,
          0
         ]
        },
        {
         "name": "SputnikV",
         "type": "bar",
         "x": [
          "Argentina",
          "Australia",
          "Austria",
          "Belgium",
          "Brazil",
          "Canada",
          "Chile",
          "China",
          "Croatia",
          "France",
          "Germany",
          "Greece",
          "Guyana",
          "Hong Kong",
          "India",
          "Indonesia",
          "Italy",
          "Japan",
          "Jersey",
          "Malaysia",
          "Mexico",
          "Netherlands",
          "Pakistan",
          "Palestinian Territory",
          "Philippines",
          "Qatar",
          "Russian Federation",
          "Saudi Arabia",
          "Singapore",
          "Spain",
          "Sweden",
          "Switzerland",
          "Thailand",
          "Trinidad and Tobago",
          "Ukraine",
          "United Arab Emirates",
          "United Kingdom",
          "United States",
          "Virgin Islands, U.S."
         ],
         "y": [
          0.13040227272727276,
          0.20095517241379304,
          0.0791540983606557,
          0.12843170731707315,
          0.6903333333333332,
          -0.06613095131754887,
          null,
          null,
          null,
          0.18766637168141598,
          0.10800754716981134,
          null,
          0.4404,
          null,
          0.13869767797128107,
          null,
          0.1588558823529412,
          0.4147,
          null,
          null,
          -0.17223333333333332,
          null,
          0.11499742268041255,
          0.32185217391304355,
          0,
          null,
          0.16716651445966563,
          null,
          null,
          0.11649999999999999,
          null,
          null,
          null,
          null,
          0.11440833333333329,
          null,
          0.028136274509803865,
          -0.17119999999999996,
          null
         ]
        },
        {
         "name": "Sinopharm",
         "type": "bar",
         "x": [
          "Argentina",
          "Australia",
          "Austria",
          "Belgium",
          "Brazil",
          "Canada",
          "Chile",
          "China",
          "Croatia",
          "France",
          "Germany",
          "Greece",
          "Guyana",
          "Hong Kong",
          "India",
          "Indonesia",
          "Italy",
          "Japan",
          "Jersey",
          "Malaysia",
          "Mexico",
          "Netherlands",
          "Pakistan",
          "Palestinian Territory",
          "Philippines",
          "Qatar",
          "Russian Federation",
          "Saudi Arabia",
          "Singapore",
          "Spain",
          "Sweden",
          "Switzerland",
          "Thailand",
          "Trinidad and Tobago",
          "Ukraine",
          "United Arab Emirates",
          "United Kingdom",
          "United States",
          "Virgin Islands, U.S."
         ],
         "y": [
          -0.05464,
          0.10665000000000001,
          0.0121,
          0.2238,
          0.3612,
          0.16685000000000008,
          null,
          null,
          null,
          0.2475148148148149,
          0.12577692307692304,
          null,
          null,
          null,
          0.20248453038674039,
          null,
          0,
          -0.034999999999999996,
          null,
          null,
          null,
          null,
          0.215679086115993,
          -0.1027,
          null,
          null,
          0.7269,
          null,
          null,
          -0.11315,
          null,
          null,
          null,
          0.14049999999999999,
          0.24417727272727266,
          0.35192,
          0.17002222222222227,
          0.11658260869565211,
          null
         ]
        },
        {
         "name": "Sinovac",
         "type": "bar",
         "x": [
          "Argentina",
          "Australia",
          "Austria",
          "Belgium",
          "Brazil",
          "Canada",
          "Chile",
          "China",
          "Croatia",
          "France",
          "Germany",
          "Greece",
          "Guyana",
          "Hong Kong",
          "India",
          "Indonesia",
          "Italy",
          "Japan",
          "Jersey",
          "Malaysia",
          "Mexico",
          "Netherlands",
          "Pakistan",
          "Palestinian Territory",
          "Philippines",
          "Qatar",
          "Russian Federation",
          "Saudi Arabia",
          "Singapore",
          "Spain",
          "Sweden",
          "Switzerland",
          "Thailand",
          "Trinidad and Tobago",
          "Ukraine",
          "United Arab Emirates",
          "United Kingdom",
          "United States",
          "Virgin Islands, U.S."
         ],
         "y": [
          -0.0683,
          0.10822400000000004,
          0.2452625,
          0.43674444444444444,
          -0.15526666666666666,
          0.05791587301587302,
          0,
          0,
          null,
          0.05785882352941177,
          0.09456666666666666,
          null,
          null,
          -0.3612,
          0.10066467661691547,
          0.16541999999999998,
          0.11087499999999997,
          0.2930083333333333,
          null,
          0.08372500000000001,
          0.2384,
          null,
          0.229004585152838,
          -0.12638,
          0.2790120689655172,
          null,
          0.2473,
          null,
          null,
          0.16735,
          null,
          null,
          0,
          null,
          0.20095000000000002,
          null,
          0.08140697674418605,
          0.05847500000000002,
          null
         ]
        },
        {
         "name": "Moderna",
         "type": "bar",
         "x": [
          "Argentina",
          "Australia",
          "Austria",
          "Belgium",
          "Brazil",
          "Canada",
          "Chile",
          "China",
          "Croatia",
          "France",
          "Germany",
          "Greece",
          "Guyana",
          "Hong Kong",
          "India",
          "Indonesia",
          "Italy",
          "Japan",
          "Jersey",
          "Malaysia",
          "Mexico",
          "Netherlands",
          "Pakistan",
          "Palestinian Territory",
          "Philippines",
          "Qatar",
          "Russian Federation",
          "Saudi Arabia",
          "Singapore",
          "Spain",
          "Sweden",
          "Switzerland",
          "Thailand",
          "Trinidad and Tobago",
          "Ukraine",
          "United Arab Emirates",
          "United Kingdom",
          "United States",
          "Virgin Islands, U.S."
         ],
         "y": [
          0.033716666666666666,
          0.07660341880341888,
          0.16416333333333336,
          0.28873695652173903,
          -0.1351,
          0.13624855004677283,
          null,
          null,
          null,
          0.13304224137931048,
          0.184666911764706,
          0,
          null,
          null,
          0.13550112359550615,
          null,
          0.28167108433734933,
          0.05471315789473687,
          null,
          0,
          0.07596666666666667,
          0.0772,
          0.18104761904761896,
          0.020079411764705877,
          null,
          0.128,
          0.3459571428571429,
          null,
          0,
          0.1715787234042553,
          0,
          0.128,
          null,
          null,
          0.12189375,
          null,
          0.1879028391167187,
          0.16856115581565667,
          null
         ]
        },
        {
         "name": "AstraZeneca",
         "type": "bar",
         "x": [
          "Argentina",
          "Australia",
          "Austria",
          "Belgium",
          "Brazil",
          "Canada",
          "Chile",
          "China",
          "Croatia",
          "France",
          "Germany",
          "Greece",
          "Guyana",
          "Hong Kong",
          "India",
          "Indonesia",
          "Italy",
          "Japan",
          "Jersey",
          "Malaysia",
          "Mexico",
          "Netherlands",
          "Pakistan",
          "Palestinian Territory",
          "Philippines",
          "Qatar",
          "Russian Federation",
          "Saudi Arabia",
          "Singapore",
          "Spain",
          "Sweden",
          "Switzerland",
          "Thailand",
          "Trinidad and Tobago",
          "Ukraine",
          "United Arab Emirates",
          "United Kingdom",
          "United States",
          "Virgin Islands, U.S."
         ],
         "y": [
          0,
          0.15205076923076918,
          0.176,
          0.16036470588235296,
          0.13093749999999998,
          0.029112955465587002,
          null,
          null,
          null,
          0.11343250000000005,
          0.11581000000000004,
          null,
          null,
          null,
          0.11395292096219914,
          null,
          0.2613595744680851,
          0.057679999999999974,
          0,
          null,
          0.14870000000000003,
          null,
          0.05157910447761193,
          0,
          null,
          null,
          0.05725714285714288,
          0,
          null,
          0.04076000000000003,
          null,
          null,
          null,
          null,
          0.31495999999999996,
          null,
          0.2070756855575872,
          0.1958694117647059,
          null
         ]
        },
        {
         "name": "Covaxin",
         "type": "bar",
         "x": [
          "Argentina",
          "Australia",
          "Austria",
          "Belgium",
          "Brazil",
          "Canada",
          "Chile",
          "China",
          "Croatia",
          "France",
          "Germany",
          "Greece",
          "Guyana",
          "Hong Kong",
          "India",
          "Indonesia",
          "Italy",
          "Japan",
          "Jersey",
          "Malaysia",
          "Mexico",
          "Netherlands",
          "Pakistan",
          "Palestinian Territory",
          "Philippines",
          "Qatar",
          "Russian Federation",
          "Saudi Arabia",
          "Singapore",
          "Spain",
          "Sweden",
          "Switzerland",
          "Thailand",
          "Trinidad and Tobago",
          "Ukraine",
          "United Arab Emirates",
          "United Kingdom",
          "United States",
          "Virgin Islands, U.S."
         ],
         "y": [
          0.2732,
          0.14938421052631576,
          0.6249,
          -0.064375,
          0.26978,
          0.1862865384615384,
          null,
          null,
          0,
          0.3308166666666667,
          0.21044482758620692,
          null,
          null,
          null,
          0.16723415463041091,
          null,
          0.0172,
          0.2447645833333333,
          null,
          null,
          0.0907307692307692,
          null,
          0.16370000000000007,
          -0.6705,
          null,
          null,
          0.4583999999999999,
          null,
          null,
          0.3609166666666667,
          null,
          null,
          null,
          null,
          0.18567142857142854,
          null,
          0.13075294117647054,
          0.23171758241758134,
          null
         ]
        },
        {
         "name": "JandJ",
         "type": "bar",
         "x": [
          "Argentina",
          "Australia",
          "Austria",
          "Belgium",
          "Brazil",
          "Canada",
          "Chile",
          "China",
          "Croatia",
          "France",
          "Germany",
          "Greece",
          "Guyana",
          "Hong Kong",
          "India",
          "Indonesia",
          "Italy",
          "Japan",
          "Jersey",
          "Malaysia",
          "Mexico",
          "Netherlands",
          "Pakistan",
          "Palestinian Territory",
          "Philippines",
          "Qatar",
          "Russian Federation",
          "Saudi Arabia",
          "Singapore",
          "Spain",
          "Sweden",
          "Switzerland",
          "Thailand",
          "Trinidad and Tobago",
          "Ukraine",
          "United Arab Emirates",
          "United Kingdom",
          "United States",
          "Virgin Islands, U.S."
         ],
         "y": [
          null,
          -0.17356666666666665,
          0,
          0.2202,
          null,
          0.15807647058823524,
          null,
          null,
          null,
          0.24787142857142855,
          0.3262636363636364,
          null,
          null,
          null,
          0.17392291666666668,
          null,
          0.21756000000000003,
          -0.01423333333333332,
          null,
          null,
          0,
          null,
          0.08574999999999999,
          null,
          null,
          null,
          0.5546,
          null,
          null,
          -0.4588,
          null,
          null,
          null,
          null,
          null,
          null,
          0.21796666666666673,
          0.13053971631205666,
          null
         ]
        }
       ],
       "layout": {
        "legend": {
         "title": {
          "text": "Vaccines"
         }
        },
        "template": {
         "data": {
          "bar": [
           {
            "error_x": {
             "color": "#2a3f5f"
            },
            "error_y": {
             "color": "#2a3f5f"
            },
            "marker": {
             "line": {
              "color": "#E5ECF6",
              "width": 0.5
             },
             "pattern": {
              "fillmode": "overlay",
              "size": 10,
              "solidity": 0.2
             }
            },
            "type": "bar"
           }
          ],
          "barpolar": [
           {
            "marker": {
             "line": {
              "color": "#E5ECF6",
              "width": 0.5
             },
             "pattern": {
              "fillmode": "overlay",
              "size": 10,
              "solidity": 0.2
             }
            },
            "type": "barpolar"
           }
          ],
          "carpet": [
           {
            "aaxis": {
             "endlinecolor": "#2a3f5f",
             "gridcolor": "white",
             "linecolor": "white",
             "minorgridcolor": "white",
             "startlinecolor": "#2a3f5f"
            },
            "baxis": {
             "endlinecolor": "#2a3f5f",
             "gridcolor": "white",
             "linecolor": "white",
             "minorgridcolor": "white",
             "startlinecolor": "#2a3f5f"
            },
            "type": "carpet"
           }
          ],
          "choropleth": [
           {
            "colorbar": {
             "outlinewidth": 0,
             "ticks": ""
            },
            "type": "choropleth"
           }
          ],
          "contour": [
           {
            "colorbar": {
             "outlinewidth": 0,
             "ticks": ""
            },
            "colorscale": [
             [
              0,
              "#0d0887"
             ],
             [
              0.1111111111111111,
              "#46039f"
             ],
             [
              0.2222222222222222,
              "#7201a8"
             ],
             [
              0.3333333333333333,
              "#9c179e"
             ],
             [
              0.4444444444444444,
              "#bd3786"
             ],
             [
              0.5555555555555556,
              "#d8576b"
             ],
             [
              0.6666666666666666,
              "#ed7953"
             ],
             [
              0.7777777777777778,
              "#fb9f3a"
             ],
             [
              0.8888888888888888,
              "#fdca26"
             ],
             [
              1,
              "#f0f921"
             ]
            ],
            "type": "contour"
           }
          ],
          "contourcarpet": [
           {
            "colorbar": {
             "outlinewidth": 0,
             "ticks": ""
            },
            "type": "contourcarpet"
           }
          ],
          "heatmap": [
           {
            "colorbar": {
             "outlinewidth": 0,
             "ticks": ""
            },
            "colorscale": [
             [
              0,
              "#0d0887"
             ],
             [
              0.1111111111111111,
              "#46039f"
             ],
             [
              0.2222222222222222,
              "#7201a8"
             ],
             [
              0.3333333333333333,
              "#9c179e"
             ],
             [
              0.4444444444444444,
              "#bd3786"
             ],
             [
              0.5555555555555556,
              "#d8576b"
             ],
             [
              0.6666666666666666,
              "#ed7953"
             ],
             [
              0.7777777777777778,
              "#fb9f3a"
             ],
             [
              0.8888888888888888,
              "#fdca26"
             ],
             [
              1,
              "#f0f921"
             ]
            ],
            "type": "heatmap"
           }
          ],
          "heatmapgl": [
           {
            "colorbar": {
             "outlinewidth": 0,
             "ticks": ""
            },
            "colorscale": [
             [
              0,
              "#0d0887"
             ],
             [
              0.1111111111111111,
              "#46039f"
             ],
             [
              0.2222222222222222,
              "#7201a8"
             ],
             [
              0.3333333333333333,
              "#9c179e"
             ],
             [
              0.4444444444444444,
              "#bd3786"
             ],
             [
              0.5555555555555556,
              "#d8576b"
             ],
             [
              0.6666666666666666,
              "#ed7953"
             ],
             [
              0.7777777777777778,
              "#fb9f3a"
             ],
             [
              0.8888888888888888,
              "#fdca26"
             ],
             [
              1,
              "#f0f921"
             ]
            ],
            "type": "heatmapgl"
           }
          ],
          "histogram": [
           {
            "marker": {
             "pattern": {
              "fillmode": "overlay",
              "size": 10,
              "solidity": 0.2
             }
            },
            "type": "histogram"
           }
          ],
          "histogram2d": [
           {
            "colorbar": {
             "outlinewidth": 0,
             "ticks": ""
            },
            "colorscale": [
             [
              0,
              "#0d0887"
             ],
             [
              0.1111111111111111,
              "#46039f"
             ],
             [
              0.2222222222222222,
              "#7201a8"
             ],
             [
              0.3333333333333333,
              "#9c179e"
             ],
             [
              0.4444444444444444,
              "#bd3786"
             ],
             [
              0.5555555555555556,
              "#d8576b"
             ],
             [
              0.6666666666666666,
              "#ed7953"
             ],
             [
              0.7777777777777778,
              "#fb9f3a"
             ],
             [
              0.8888888888888888,
              "#fdca26"
             ],
             [
              1,
              "#f0f921"
             ]
            ],
            "type": "histogram2d"
           }
          ],
          "histogram2dcontour": [
           {
            "colorbar": {
             "outlinewidth": 0,
             "ticks": ""
            },
            "colorscale": [
             [
              0,
              "#0d0887"
             ],
             [
              0.1111111111111111,
              "#46039f"
             ],
             [
              0.2222222222222222,
              "#7201a8"
             ],
             [
              0.3333333333333333,
              "#9c179e"
             ],
             [
              0.4444444444444444,
              "#bd3786"
             ],
             [
              0.5555555555555556,
              "#d8576b"
             ],
             [
              0.6666666666666666,
              "#ed7953"
             ],
             [
              0.7777777777777778,
              "#fb9f3a"
             ],
             [
              0.8888888888888888,
              "#fdca26"
             ],
             [
              1,
              "#f0f921"
             ]
            ],
            "type": "histogram2dcontour"
           }
          ],
          "mesh3d": [
           {
            "colorbar": {
             "outlinewidth": 0,
             "ticks": ""
            },
            "type": "mesh3d"
           }
          ],
          "parcoords": [
           {
            "line": {
             "colorbar": {
              "outlinewidth": 0,
              "ticks": ""
             }
            },
            "type": "parcoords"
           }
          ],
          "pie": [
           {
            "automargin": true,
            "type": "pie"
           }
          ],
          "scatter": [
           {
            "marker": {
             "colorbar": {
              "outlinewidth": 0,
              "ticks": ""
             }
            },
            "type": "scatter"
           }
          ],
          "scatter3d": [
           {
            "line": {
             "colorbar": {
              "outlinewidth": 0,
              "ticks": ""
             }
            },
            "marker": {
             "colorbar": {
              "outlinewidth": 0,
              "ticks": ""
             }
            },
            "type": "scatter3d"
           }
          ],
          "scattercarpet": [
           {
            "marker": {
             "colorbar": {
              "outlinewidth": 0,
              "ticks": ""
             }
            },
            "type": "scattercarpet"
           }
          ],
          "scattergeo": [
           {
            "marker": {
             "colorbar": {
              "outlinewidth": 0,
              "ticks": ""
             }
            },
            "type": "scattergeo"
           }
          ],
          "scattergl": [
           {
            "marker": {
             "colorbar": {
              "outlinewidth": 0,
              "ticks": ""
             }
            },
            "type": "scattergl"
           }
          ],
          "scattermapbox": [
           {
            "marker": {
             "colorbar": {
              "outlinewidth": 0,
              "ticks": ""
             }
            },
            "type": "scattermapbox"
           }
          ],
          "scatterpolar": [
           {
            "marker": {
             "colorbar": {
              "outlinewidth": 0,
              "ticks": ""
             }
            },
            "type": "scatterpolar"
           }
          ],
          "scatterpolargl": [
           {
            "marker": {
             "colorbar": {
              "outlinewidth": 0,
              "ticks": ""
             }
            },
            "type": "scatterpolargl"
           }
          ],
          "scatterternary": [
           {
            "marker": {
             "colorbar": {
              "outlinewidth": 0,
              "ticks": ""
             }
            },
            "type": "scatterternary"
           }
          ],
          "surface": [
           {
            "colorbar": {
             "outlinewidth": 0,
             "ticks": ""
            },
            "colorscale": [
             [
              0,
              "#0d0887"
             ],
             [
              0.1111111111111111,
              "#46039f"
             ],
             [
              0.2222222222222222,
              "#7201a8"
             ],
             [
              0.3333333333333333,
              "#9c179e"
             ],
             [
              0.4444444444444444,
              "#bd3786"
             ],
             [
              0.5555555555555556,
              "#d8576b"
             ],
             [
              0.6666666666666666,
              "#ed7953"
             ],
             [
              0.7777777777777778,
              "#fb9f3a"
             ],
             [
              0.8888888888888888,
              "#fdca26"
             ],
             [
              1,
              "#f0f921"
             ]
            ],
            "type": "surface"
           }
          ],
          "table": [
           {
            "cells": {
             "fill": {
              "color": "#EBF0F8"
             },
             "line": {
              "color": "white"
             }
            },
            "header": {
             "fill": {
              "color": "#C8D4E3"
             },
             "line": {
              "color": "white"
             }
            },
            "type": "table"
           }
          ]
         },
         "layout": {
          "annotationdefaults": {
           "arrowcolor": "#2a3f5f",
           "arrowhead": 0,
           "arrowwidth": 1
          },
          "autotypenumbers": "strict",
          "coloraxis": {
           "colorbar": {
            "outlinewidth": 0,
            "ticks": ""
           }
          },
          "colorscale": {
           "diverging": [
            [
             0,
             "#8e0152"
            ],
            [
             0.1,
             "#c51b7d"
            ],
            [
             0.2,
             "#de77ae"
            ],
            [
             0.3,
             "#f1b6da"
            ],
            [
             0.4,
             "#fde0ef"
            ],
            [
             0.5,
             "#f7f7f7"
            ],
            [
             0.6,
             "#e6f5d0"
            ],
            [
             0.7,
             "#b8e186"
            ],
            [
             0.8,
             "#7fbc41"
            ],
            [
             0.9,
             "#4d9221"
            ],
            [
             1,
             "#276419"
            ]
           ],
           "sequential": [
            [
             0,
             "#0d0887"
            ],
            [
             0.1111111111111111,
             "#46039f"
            ],
            [
             0.2222222222222222,
             "#7201a8"
            ],
            [
             0.3333333333333333,
             "#9c179e"
            ],
            [
             0.4444444444444444,
             "#bd3786"
            ],
            [
             0.5555555555555556,
             "#d8576b"
            ],
            [
             0.6666666666666666,
             "#ed7953"
            ],
            [
             0.7777777777777778,
             "#fb9f3a"
            ],
            [
             0.8888888888888888,
             "#fdca26"
            ],
            [
             1,
             "#f0f921"
            ]
           ],
           "sequentialminus": [
            [
             0,
             "#0d0887"
            ],
            [
             0.1111111111111111,
             "#46039f"
            ],
            [
             0.2222222222222222,
             "#7201a8"
            ],
            [
             0.3333333333333333,
             "#9c179e"
            ],
            [
             0.4444444444444444,
             "#bd3786"
            ],
            [
             0.5555555555555556,
             "#d8576b"
            ],
            [
             0.6666666666666666,
             "#ed7953"
            ],
            [
             0.7777777777777778,
             "#fb9f3a"
            ],
            [
             0.8888888888888888,
             "#fdca26"
            ],
            [
             1,
             "#f0f921"
            ]
           ]
          },
          "colorway": [
           "#636efa",
           "#EF553B",
           "#00cc96",
           "#ab63fa",
           "#FFA15A",
           "#19d3f3",
           "#FF6692",
           "#B6E880",
           "#FF97FF",
           "#FECB52"
          ],
          "font": {
           "color": "#2a3f5f"
          },
          "geo": {
           "bgcolor": "white",
           "lakecolor": "white",
           "landcolor": "#E5ECF6",
           "showlakes": true,
           "showland": true,
           "subunitcolor": "white"
          },
          "hoverlabel": {
           "align": "left"
          },
          "hovermode": "closest",
          "mapbox": {
           "style": "light"
          },
          "paper_bgcolor": "white",
          "plot_bgcolor": "#E5ECF6",
          "polar": {
           "angularaxis": {
            "gridcolor": "white",
            "linecolor": "white",
            "ticks": ""
           },
           "bgcolor": "#E5ECF6",
           "radialaxis": {
            "gridcolor": "white",
            "linecolor": "white",
            "ticks": ""
           }
          },
          "scene": {
           "xaxis": {
            "backgroundcolor": "#E5ECF6",
            "gridcolor": "white",
            "gridwidth": 2,
            "linecolor": "white",
            "showbackground": true,
            "ticks": "",
            "zerolinecolor": "white"
           },
           "yaxis": {
            "backgroundcolor": "#E5ECF6",
            "gridcolor": "white",
            "gridwidth": 2,
            "linecolor": "white",
            "showbackground": true,
            "ticks": "",
            "zerolinecolor": "white"
           },
           "zaxis": {
            "backgroundcolor": "#E5ECF6",
            "gridcolor": "white",
            "gridwidth": 2,
            "linecolor": "white",
            "showbackground": true,
            "ticks": "",
            "zerolinecolor": "white"
           }
          },
          "shapedefaults": {
           "line": {
            "color": "#2a3f5f"
           }
          },
          "ternary": {
           "aaxis": {
            "gridcolor": "white",
            "linecolor": "white",
            "ticks": ""
           },
           "baxis": {
            "gridcolor": "white",
            "linecolor": "white",
            "ticks": ""
           },
           "bgcolor": "#E5ECF6",
           "caxis": {
            "gridcolor": "white",
            "linecolor": "white",
            "ticks": ""
           }
          },
          "title": {
           "x": 0.05
          },
          "xaxis": {
           "automargin": true,
           "gridcolor": "white",
           "linecolor": "white",
           "ticks": "",
           "title": {
            "standoff": 15
           },
           "zerolinecolor": "white",
           "zerolinewidth": 2
          },
          "yaxis": {
           "automargin": true,
           "gridcolor": "white",
           "linecolor": "white",
           "ticks": "",
           "title": {
            "standoff": 15
           },
           "zerolinecolor": "white",
           "zerolinewidth": 2
          }
         }
        },
        "updatemenus": [
         {
          "buttons": [
           {
            "args": [
             {
              "visible": [
               true,
               true,
               true,
               true,
               true,
               true,
               true,
               true,
               true,
               true
              ]
             },
             {
              "title": "Mean sentiment by country"
             }
            ],
            "label": "All",
            "method": "update"
           },
           {
            "args": [
             {
              "visible": [
               true,
               false,
               false,
               false,
               false,
               false,
               false,
               false,
               false
              ]
             },
             {
              "title": "Mean sentiment by country (All vaccines)"
             }
            ],
            "label": "Overall Sentiment",
            "method": "update"
           },
           {
            "args": [
             {
              "visible": [
               false,
               true,
               false,
               false,
               false,
               false,
               false,
               false,
               false
              ]
             },
             {
              "title": "Mean sentiment by country for PfizerBiontech"
             }
            ],
            "label": "PfizerBiontech",
            "method": "update"
           },
           {
            "args": [
             {
              "visible": [
               false,
               false,
               true,
               false,
               false,
               false,
               false,
               false,
               false
              ]
             },
             {
              "title": "Mean sentiment by country for SputnikV"
             }
            ],
            "label": "SputnikV",
            "method": "update"
           },
           {
            "args": [
             {
              "visible": [
               false,
               false,
               false,
               true,
               false,
               false,
               false,
               false,
               false
              ]
             },
             {
              "title": "Mean sentiment by country for Sinopharm"
             }
            ],
            "label": "Sinopharm",
            "method": "update"
           },
           {
            "args": [
             {
              "visible": [
               false,
               false,
               false,
               false,
               true,
               false,
               false,
               false,
               false
              ]
             },
             {
              "title": "Mean sentiment by country for Sinovac"
             }
            ],
            "label": "Sinovac",
            "method": "update"
           },
           {
            "args": [
             {
              "visible": [
               false,
               false,
               false,
               false,
               false,
               true,
               false,
               false,
               false
              ]
             },
             {
              "title": "Mean sentiment by country for Moderna"
             }
            ],
            "label": "Moderna",
            "method": "update"
           },
           {
            "args": [
             {
              "visible": [
               false,
               false,
               false,
               false,
               false,
               false,
               true,
               false,
               false
              ]
             },
             {
              "title": "Mean sentiment by country for AstraZeneca"
             }
            ],
            "label": "AstraZeneca",
            "method": "update"
           },
           {
            "args": [
             {
              "visible": [
               false,
               false,
               false,
               false,
               false,
               false,
               false,
               true,
               false
              ]
             },
             {
              "title": "Sentiment by country for Covaxin"
             }
            ],
            "label": "Covaxin",
            "method": "update"
           },
           {
            "args": [
             {
              "visible": [
               false,
               false,
               false,
               false,
               false,
               false,
               false,
               false,
               true
              ]
             },
             {
              "title": "Sentiment by country for JandJ"
             }
            ],
            "label": "JandJ",
            "method": "update"
           }
          ],
          "direction": "down",
          "pad": {
           "r": 10,
           "t": 10
          },
          "showactive": true,
          "x": 1,
          "xanchor": "right",
          "y": 1.2,
          "yanchor": "top"
         }
        ],
        "xaxis": {
         "title": {
          "text": "Country"
         }
        },
        "yaxis": {
         "title": {
          "text": "Sentiment"
         }
        }
       }
      },
      "text/html": [
       "<div>                            <div id=\"eaa14529-bb2c-4b47-b3f9-b3b6d7a8b6c0\" class=\"plotly-graph-div\" style=\"height:525px; width:100%;\"></div>            <script type=\"text/javascript\">                require([\"plotly\"], function(Plotly) {                    window.PLOTLYENV=window.PLOTLYENV || {};                                    if (document.getElementById(\"eaa14529-bb2c-4b47-b3f9-b3b6d7a8b6c0\")) {                    Plotly.newPlot(                        \"eaa14529-bb2c-4b47-b3f9-b3b6d7a8b6c0\",                        [{\"name\":\"Overall\",\"type\":\"bar\",\"x\":[\"Argentina\",\"Australia\",\"Austria\",\"Belgium\",\"Brazil\",\"Canada\",\"Chile\",\"China\",\"Croatia\",\"France\",\"Germany\",\"Greece\",\"Guyana\",\"Hong Kong\",\"India\",\"Indonesia\",\"Italy\",\"Japan\",\"Jersey\",\"Malaysia\",\"Mexico\",\"Netherlands\",\"Pakistan\",\"Palestinian Territory\",\"Philippines\",\"Qatar\",\"Russian Federation\",\"Saudi Arabia\",\"Singapore\",\"Spain\",\"Sweden\",\"Switzerland\",\"Thailand\",\"Trinidad and Tobago\",\"Ukraine\",\"United Arab Emirates\",\"United Kingdom\",\"United States\",\"Virgin Islands, U.S.\"],\"y\":[0.14800555555555556,0.10020731707317074,0.12184173913043475,0.1633347368421052,0.19866538461538463,0.01332345951920549,0.0,0.0,0.0,0.14103678160919514,0.15310520833333335,0.0,0.4404,-0.12040000000000001,0.15662299722353298,0.16541999999999998,0.2294283687943262,0.16524954128440372,0.0,0.15168571428571428,0.0896516129032258,0.0772,0.19967262984336362,0.1098098901098901,0.2737349206349208,0.2834666666666667,0.16836456456456458,0.0,0.27253333333333335,0.17112142857142854,0.0,0.128,0.0,0.14049999999999999,0.2084333333333333,0.36666666666666664,0.19989159034138215,0.1658450390189503,0.0]},{\"name\":\"PfizerBiontech\",\"type\":\"bar\",\"x\":[\"Argentina\",\"Australia\",\"Austria\",\"Belgium\",\"Brazil\",\"Canada\",\"Chile\",\"China\",\"Croatia\",\"France\",\"Germany\",\"Greece\",\"Guyana\",\"Hong Kong\",\"India\",\"Indonesia\",\"Italy\",\"Japan\",\"Jersey\",\"Malaysia\",\"Mexico\",\"Netherlands\",\"Pakistan\",\"Palestinian Territory\",\"Philippines\",\"Qatar\",\"Russian Federation\",\"Saudi Arabia\",\"Singapore\",\"Spain\",\"Sweden\",\"Switzerland\",\"Thailand\",\"Trinidad and Tobago\",\"Ukraine\",\"United Arab Emirates\",\"United Kingdom\",\"United States\",\"Virgin Islands, U.S.\"],\"y\":[0.15529090909090906,0.08476422764227645,0.15111428571428573,0.037877358490566046,0.5399,0.15406422764227623,null,null,null,0.026168548387096795,0.1567859375000002,null,null,0.0,0.10265252416756218,null,0.26958214285714277,-0.10607333333333334,null,0.36345,0.23495000000000002,null,0.11869634146341468,0.07792045454545456,0.26565,0.3612,0.18802999999999997,null,0.8176,0.221560465116279,null,null,null,null,0.2190555555555556,0.4404,0.2540627659574463,0.18535906593406606,0.0]},{\"name\":\"SputnikV\",\"type\":\"bar\",\"x\":[\"Argentina\",\"Australia\",\"Austria\",\"Belgium\",\"Brazil\",\"Canada\",\"Chile\",\"China\",\"Croatia\",\"France\",\"Germany\",\"Greece\",\"Guyana\",\"Hong Kong\",\"India\",\"Indonesia\",\"Italy\",\"Japan\",\"Jersey\",\"Malaysia\",\"Mexico\",\"Netherlands\",\"Pakistan\",\"Palestinian Territory\",\"Philippines\",\"Qatar\",\"Russian Federation\",\"Saudi Arabia\",\"Singapore\",\"Spain\",\"Sweden\",\"Switzerland\",\"Thailand\",\"Trinidad and Tobago\",\"Ukraine\",\"United Arab Emirates\",\"United Kingdom\",\"United States\",\"Virgin Islands, U.S.\"],\"y\":[0.13040227272727276,0.20095517241379304,0.0791540983606557,0.12843170731707315,0.6903333333333332,-0.06613095131754887,null,null,null,0.18766637168141598,0.10800754716981134,null,0.4404,null,0.13869767797128107,null,0.1588558823529412,0.4147,null,null,-0.17223333333333332,null,0.11499742268041255,0.32185217391304355,0.0,null,0.16716651445966563,null,null,0.11649999999999999,null,null,null,null,0.11440833333333329,null,0.028136274509803865,-0.17119999999999996,null]},{\"name\":\"Sinopharm\",\"type\":\"bar\",\"x\":[\"Argentina\",\"Australia\",\"Austria\",\"Belgium\",\"Brazil\",\"Canada\",\"Chile\",\"China\",\"Croatia\",\"France\",\"Germany\",\"Greece\",\"Guyana\",\"Hong Kong\",\"India\",\"Indonesia\",\"Italy\",\"Japan\",\"Jersey\",\"Malaysia\",\"Mexico\",\"Netherlands\",\"Pakistan\",\"Palestinian Territory\",\"Philippines\",\"Qatar\",\"Russian Federation\",\"Saudi Arabia\",\"Singapore\",\"Spain\",\"Sweden\",\"Switzerland\",\"Thailand\",\"Trinidad and Tobago\",\"Ukraine\",\"United Arab Emirates\",\"United Kingdom\",\"United States\",\"Virgin Islands, U.S.\"],\"y\":[-0.05464,0.10665000000000001,0.0121,0.2238,0.3612,0.16685000000000008,null,null,null,0.2475148148148149,0.12577692307692304,null,null,null,0.20248453038674039,null,0.0,-0.034999999999999996,null,null,null,null,0.215679086115993,-0.1027,null,null,0.7269,null,null,-0.11315,null,null,null,0.14049999999999999,0.24417727272727266,0.35192,0.17002222222222227,0.11658260869565211,null]},{\"name\":\"Sinovac\",\"type\":\"bar\",\"x\":[\"Argentina\",\"Australia\",\"Austria\",\"Belgium\",\"Brazil\",\"Canada\",\"Chile\",\"China\",\"Croatia\",\"France\",\"Germany\",\"Greece\",\"Guyana\",\"Hong Kong\",\"India\",\"Indonesia\",\"Italy\",\"Japan\",\"Jersey\",\"Malaysia\",\"Mexico\",\"Netherlands\",\"Pakistan\",\"Palestinian Territory\",\"Philippines\",\"Qatar\",\"Russian Federation\",\"Saudi Arabia\",\"Singapore\",\"Spain\",\"Sweden\",\"Switzerland\",\"Thailand\",\"Trinidad and Tobago\",\"Ukraine\",\"United Arab Emirates\",\"United Kingdom\",\"United States\",\"Virgin Islands, U.S.\"],\"y\":[-0.0683,0.10822400000000004,0.2452625,0.43674444444444444,-0.15526666666666666,0.05791587301587302,0.0,0.0,null,0.05785882352941177,0.09456666666666666,null,null,-0.3612,0.10066467661691547,0.16541999999999998,0.11087499999999997,0.2930083333333333,null,0.08372500000000001,0.2384,null,0.229004585152838,-0.12638,0.2790120689655172,null,0.2473,null,null,0.16735,null,null,0.0,null,0.20095000000000002,null,0.08140697674418605,0.05847500000000002,null]},{\"name\":\"Moderna\",\"type\":\"bar\",\"x\":[\"Argentina\",\"Australia\",\"Austria\",\"Belgium\",\"Brazil\",\"Canada\",\"Chile\",\"China\",\"Croatia\",\"France\",\"Germany\",\"Greece\",\"Guyana\",\"Hong Kong\",\"India\",\"Indonesia\",\"Italy\",\"Japan\",\"Jersey\",\"Malaysia\",\"Mexico\",\"Netherlands\",\"Pakistan\",\"Palestinian Territory\",\"Philippines\",\"Qatar\",\"Russian Federation\",\"Saudi Arabia\",\"Singapore\",\"Spain\",\"Sweden\",\"Switzerland\",\"Thailand\",\"Trinidad and Tobago\",\"Ukraine\",\"United Arab Emirates\",\"United Kingdom\",\"United States\",\"Virgin Islands, U.S.\"],\"y\":[0.033716666666666666,0.07660341880341888,0.16416333333333336,0.28873695652173903,-0.1351,0.13624855004677283,null,null,null,0.13304224137931048,0.184666911764706,0.0,null,null,0.13550112359550615,null,0.28167108433734933,0.05471315789473687,null,0.0,0.07596666666666667,0.0772,0.18104761904761896,0.020079411764705877,null,0.128,0.3459571428571429,null,0.0,0.1715787234042553,0.0,0.128,null,null,0.12189375,null,0.1879028391167187,0.16856115581565667,null]},{\"name\":\"AstraZeneca\",\"type\":\"bar\",\"x\":[\"Argentina\",\"Australia\",\"Austria\",\"Belgium\",\"Brazil\",\"Canada\",\"Chile\",\"China\",\"Croatia\",\"France\",\"Germany\",\"Greece\",\"Guyana\",\"Hong Kong\",\"India\",\"Indonesia\",\"Italy\",\"Japan\",\"Jersey\",\"Malaysia\",\"Mexico\",\"Netherlands\",\"Pakistan\",\"Palestinian Territory\",\"Philippines\",\"Qatar\",\"Russian Federation\",\"Saudi Arabia\",\"Singapore\",\"Spain\",\"Sweden\",\"Switzerland\",\"Thailand\",\"Trinidad and Tobago\",\"Ukraine\",\"United Arab Emirates\",\"United Kingdom\",\"United States\",\"Virgin Islands, U.S.\"],\"y\":[0.0,0.15205076923076918,0.176,0.16036470588235296,0.13093749999999998,0.029112955465587002,null,null,null,0.11343250000000005,0.11581000000000004,null,null,null,0.11395292096219914,null,0.2613595744680851,0.057679999999999974,0.0,null,0.14870000000000003,null,0.05157910447761193,0.0,null,null,0.05725714285714288,0.0,null,0.04076000000000003,null,null,null,null,0.31495999999999996,null,0.2070756855575872,0.1958694117647059,null]},{\"name\":\"Covaxin\",\"type\":\"bar\",\"x\":[\"Argentina\",\"Australia\",\"Austria\",\"Belgium\",\"Brazil\",\"Canada\",\"Chile\",\"China\",\"Croatia\",\"France\",\"Germany\",\"Greece\",\"Guyana\",\"Hong Kong\",\"India\",\"Indonesia\",\"Italy\",\"Japan\",\"Jersey\",\"Malaysia\",\"Mexico\",\"Netherlands\",\"Pakistan\",\"Palestinian Territory\",\"Philippines\",\"Qatar\",\"Russian Federation\",\"Saudi Arabia\",\"Singapore\",\"Spain\",\"Sweden\",\"Switzerland\",\"Thailand\",\"Trinidad and Tobago\",\"Ukraine\",\"United Arab Emirates\",\"United Kingdom\",\"United States\",\"Virgin Islands, U.S.\"],\"y\":[0.2732,0.14938421052631576,0.6249,-0.064375,0.26978,0.1862865384615384,null,null,0.0,0.3308166666666667,0.21044482758620692,null,null,null,0.16723415463041091,null,0.0172,0.2447645833333333,null,null,0.0907307692307692,null,0.16370000000000007,-0.6705,null,null,0.4583999999999999,null,null,0.3609166666666667,null,null,null,null,0.18567142857142854,null,0.13075294117647054,0.23171758241758134,null]},{\"name\":\"JandJ\",\"type\":\"bar\",\"x\":[\"Argentina\",\"Australia\",\"Austria\",\"Belgium\",\"Brazil\",\"Canada\",\"Chile\",\"China\",\"Croatia\",\"France\",\"Germany\",\"Greece\",\"Guyana\",\"Hong Kong\",\"India\",\"Indonesia\",\"Italy\",\"Japan\",\"Jersey\",\"Malaysia\",\"Mexico\",\"Netherlands\",\"Pakistan\",\"Palestinian Territory\",\"Philippines\",\"Qatar\",\"Russian Federation\",\"Saudi Arabia\",\"Singapore\",\"Spain\",\"Sweden\",\"Switzerland\",\"Thailand\",\"Trinidad and Tobago\",\"Ukraine\",\"United Arab Emirates\",\"United Kingdom\",\"United States\",\"Virgin Islands, U.S.\"],\"y\":[null,-0.17356666666666665,0.0,0.2202,null,0.15807647058823524,null,null,null,0.24787142857142855,0.3262636363636364,null,null,null,0.17392291666666668,null,0.21756000000000003,-0.01423333333333332,null,null,0.0,null,0.08574999999999999,null,null,null,0.5546,null,null,-0.4588,null,null,null,null,null,null,0.21796666666666673,0.13053971631205666,null]}],                        {\"legend\":{\"title\":{\"text\":\"Vaccines\"}},\"template\":{\"data\":{\"bar\":[{\"error_x\":{\"color\":\"#2a3f5f\"},\"error_y\":{\"color\":\"#2a3f5f\"},\"marker\":{\"line\":{\"color\":\"#E5ECF6\",\"width\":0.5},\"pattern\":{\"fillmode\":\"overlay\",\"size\":10,\"solidity\":0.2}},\"type\":\"bar\"}],\"barpolar\":[{\"marker\":{\"line\":{\"color\":\"#E5ECF6\",\"width\":0.5},\"pattern\":{\"fillmode\":\"overlay\",\"size\":10,\"solidity\":0.2}},\"type\":\"barpolar\"}],\"carpet\":[{\"aaxis\":{\"endlinecolor\":\"#2a3f5f\",\"gridcolor\":\"white\",\"linecolor\":\"white\",\"minorgridcolor\":\"white\",\"startlinecolor\":\"#2a3f5f\"},\"baxis\":{\"endlinecolor\":\"#2a3f5f\",\"gridcolor\":\"white\",\"linecolor\":\"white\",\"minorgridcolor\":\"white\",\"startlinecolor\":\"#2a3f5f\"},\"type\":\"carpet\"}],\"choropleth\":[{\"colorbar\":{\"outlinewidth\":0,\"ticks\":\"\"},\"type\":\"choropleth\"}],\"contour\":[{\"colorbar\":{\"outlinewidth\":0,\"ticks\":\"\"},\"colorscale\":[[0.0,\"#0d0887\"],[0.1111111111111111,\"#46039f\"],[0.2222222222222222,\"#7201a8\"],[0.3333333333333333,\"#9c179e\"],[0.4444444444444444,\"#bd3786\"],[0.5555555555555556,\"#d8576b\"],[0.6666666666666666,\"#ed7953\"],[0.7777777777777778,\"#fb9f3a\"],[0.8888888888888888,\"#fdca26\"],[1.0,\"#f0f921\"]],\"type\":\"contour\"}],\"contourcarpet\":[{\"colorbar\":{\"outlinewidth\":0,\"ticks\":\"\"},\"type\":\"contourcarpet\"}],\"heatmap\":[{\"colorbar\":{\"outlinewidth\":0,\"ticks\":\"\"},\"colorscale\":[[0.0,\"#0d0887\"],[0.1111111111111111,\"#46039f\"],[0.2222222222222222,\"#7201a8\"],[0.3333333333333333,\"#9c179e\"],[0.4444444444444444,\"#bd3786\"],[0.5555555555555556,\"#d8576b\"],[0.6666666666666666,\"#ed7953\"],[0.7777777777777778,\"#fb9f3a\"],[0.8888888888888888,\"#fdca26\"],[1.0,\"#f0f921\"]],\"type\":\"heatmap\"}],\"heatmapgl\":[{\"colorbar\":{\"outlinewidth\":0,\"ticks\":\"\"},\"colorscale\":[[0.0,\"#0d0887\"],[0.1111111111111111,\"#46039f\"],[0.2222222222222222,\"#7201a8\"],[0.3333333333333333,\"#9c179e\"],[0.4444444444444444,\"#bd3786\"],[0.5555555555555556,\"#d8576b\"],[0.6666666666666666,\"#ed7953\"],[0.7777777777777778,\"#fb9f3a\"],[0.8888888888888888,\"#fdca26\"],[1.0,\"#f0f921\"]],\"type\":\"heatmapgl\"}],\"histogram\":[{\"marker\":{\"pattern\":{\"fillmode\":\"overlay\",\"size\":10,\"solidity\":0.2}},\"type\":\"histogram\"}],\"histogram2d\":[{\"colorbar\":{\"outlinewidth\":0,\"ticks\":\"\"},\"colorscale\":[[0.0,\"#0d0887\"],[0.1111111111111111,\"#46039f\"],[0.2222222222222222,\"#7201a8\"],[0.3333333333333333,\"#9c179e\"],[0.4444444444444444,\"#bd3786\"],[0.5555555555555556,\"#d8576b\"],[0.6666666666666666,\"#ed7953\"],[0.7777777777777778,\"#fb9f3a\"],[0.8888888888888888,\"#fdca26\"],[1.0,\"#f0f921\"]],\"type\":\"histogram2d\"}],\"histogram2dcontour\":[{\"colorbar\":{\"outlinewidth\":0,\"ticks\":\"\"},\"colorscale\":[[0.0,\"#0d0887\"],[0.1111111111111111,\"#46039f\"],[0.2222222222222222,\"#7201a8\"],[0.3333333333333333,\"#9c179e\"],[0.4444444444444444,\"#bd3786\"],[0.5555555555555556,\"#d8576b\"],[0.6666666666666666,\"#ed7953\"],[0.7777777777777778,\"#fb9f3a\"],[0.8888888888888888,\"#fdca26\"],[1.0,\"#f0f921\"]],\"type\":\"histogram2dcontour\"}],\"mesh3d\":[{\"colorbar\":{\"outlinewidth\":0,\"ticks\":\"\"},\"type\":\"mesh3d\"}],\"parcoords\":[{\"line\":{\"colorbar\":{\"outlinewidth\":0,\"ticks\":\"\"}},\"type\":\"parcoords\"}],\"pie\":[{\"automargin\":true,\"type\":\"pie\"}],\"scatter\":[{\"marker\":{\"colorbar\":{\"outlinewidth\":0,\"ticks\":\"\"}},\"type\":\"scatter\"}],\"scatter3d\":[{\"line\":{\"colorbar\":{\"outlinewidth\":0,\"ticks\":\"\"}},\"marker\":{\"colorbar\":{\"outlinewidth\":0,\"ticks\":\"\"}},\"type\":\"scatter3d\"}],\"scattercarpet\":[{\"marker\":{\"colorbar\":{\"outlinewidth\":0,\"ticks\":\"\"}},\"type\":\"scattercarpet\"}],\"scattergeo\":[{\"marker\":{\"colorbar\":{\"outlinewidth\":0,\"ticks\":\"\"}},\"type\":\"scattergeo\"}],\"scattergl\":[{\"marker\":{\"colorbar\":{\"outlinewidth\":0,\"ticks\":\"\"}},\"type\":\"scattergl\"}],\"scattermapbox\":[{\"marker\":{\"colorbar\":{\"outlinewidth\":0,\"ticks\":\"\"}},\"type\":\"scattermapbox\"}],\"scatterpolar\":[{\"marker\":{\"colorbar\":{\"outlinewidth\":0,\"ticks\":\"\"}},\"type\":\"scatterpolar\"}],\"scatterpolargl\":[{\"marker\":{\"colorbar\":{\"outlinewidth\":0,\"ticks\":\"\"}},\"type\":\"scatterpolargl\"}],\"scatterternary\":[{\"marker\":{\"colorbar\":{\"outlinewidth\":0,\"ticks\":\"\"}},\"type\":\"scatterternary\"}],\"surface\":[{\"colorbar\":{\"outlinewidth\":0,\"ticks\":\"\"},\"colorscale\":[[0.0,\"#0d0887\"],[0.1111111111111111,\"#46039f\"],[0.2222222222222222,\"#7201a8\"],[0.3333333333333333,\"#9c179e\"],[0.4444444444444444,\"#bd3786\"],[0.5555555555555556,\"#d8576b\"],[0.6666666666666666,\"#ed7953\"],[0.7777777777777778,\"#fb9f3a\"],[0.8888888888888888,\"#fdca26\"],[1.0,\"#f0f921\"]],\"type\":\"surface\"}],\"table\":[{\"cells\":{\"fill\":{\"color\":\"#EBF0F8\"},\"line\":{\"color\":\"white\"}},\"header\":{\"fill\":{\"color\":\"#C8D4E3\"},\"line\":{\"color\":\"white\"}},\"type\":\"table\"}]},\"layout\":{\"annotationdefaults\":{\"arrowcolor\":\"#2a3f5f\",\"arrowhead\":0,\"arrowwidth\":1},\"autotypenumbers\":\"strict\",\"coloraxis\":{\"colorbar\":{\"outlinewidth\":0,\"ticks\":\"\"}},\"colorscale\":{\"diverging\":[[0,\"#8e0152\"],[0.1,\"#c51b7d\"],[0.2,\"#de77ae\"],[0.3,\"#f1b6da\"],[0.4,\"#fde0ef\"],[0.5,\"#f7f7f7\"],[0.6,\"#e6f5d0\"],[0.7,\"#b8e186\"],[0.8,\"#7fbc41\"],[0.9,\"#4d9221\"],[1,\"#276419\"]],\"sequential\":[[0.0,\"#0d0887\"],[0.1111111111111111,\"#46039f\"],[0.2222222222222222,\"#7201a8\"],[0.3333333333333333,\"#9c179e\"],[0.4444444444444444,\"#bd3786\"],[0.5555555555555556,\"#d8576b\"],[0.6666666666666666,\"#ed7953\"],[0.7777777777777778,\"#fb9f3a\"],[0.8888888888888888,\"#fdca26\"],[1.0,\"#f0f921\"]],\"sequentialminus\":[[0.0,\"#0d0887\"],[0.1111111111111111,\"#46039f\"],[0.2222222222222222,\"#7201a8\"],[0.3333333333333333,\"#9c179e\"],[0.4444444444444444,\"#bd3786\"],[0.5555555555555556,\"#d8576b\"],[0.6666666666666666,\"#ed7953\"],[0.7777777777777778,\"#fb9f3a\"],[0.8888888888888888,\"#fdca26\"],[1.0,\"#f0f921\"]]},\"colorway\":[\"#636efa\",\"#EF553B\",\"#00cc96\",\"#ab63fa\",\"#FFA15A\",\"#19d3f3\",\"#FF6692\",\"#B6E880\",\"#FF97FF\",\"#FECB52\"],\"font\":{\"color\":\"#2a3f5f\"},\"geo\":{\"bgcolor\":\"white\",\"lakecolor\":\"white\",\"landcolor\":\"#E5ECF6\",\"showlakes\":true,\"showland\":true,\"subunitcolor\":\"white\"},\"hoverlabel\":{\"align\":\"left\"},\"hovermode\":\"closest\",\"mapbox\":{\"style\":\"light\"},\"paper_bgcolor\":\"white\",\"plot_bgcolor\":\"#E5ECF6\",\"polar\":{\"angularaxis\":{\"gridcolor\":\"white\",\"linecolor\":\"white\",\"ticks\":\"\"},\"bgcolor\":\"#E5ECF6\",\"radialaxis\":{\"gridcolor\":\"white\",\"linecolor\":\"white\",\"ticks\":\"\"}},\"scene\":{\"xaxis\":{\"backgroundcolor\":\"#E5ECF6\",\"gridcolor\":\"white\",\"gridwidth\":2,\"linecolor\":\"white\",\"showbackground\":true,\"ticks\":\"\",\"zerolinecolor\":\"white\"},\"yaxis\":{\"backgroundcolor\":\"#E5ECF6\",\"gridcolor\":\"white\",\"gridwidth\":2,\"linecolor\":\"white\",\"showbackground\":true,\"ticks\":\"\",\"zerolinecolor\":\"white\"},\"zaxis\":{\"backgroundcolor\":\"#E5ECF6\",\"gridcolor\":\"white\",\"gridwidth\":2,\"linecolor\":\"white\",\"showbackground\":true,\"ticks\":\"\",\"zerolinecolor\":\"white\"}},\"shapedefaults\":{\"line\":{\"color\":\"#2a3f5f\"}},\"ternary\":{\"aaxis\":{\"gridcolor\":\"white\",\"linecolor\":\"white\",\"ticks\":\"\"},\"baxis\":{\"gridcolor\":\"white\",\"linecolor\":\"white\",\"ticks\":\"\"},\"bgcolor\":\"#E5ECF6\",\"caxis\":{\"gridcolor\":\"white\",\"linecolor\":\"white\",\"ticks\":\"\"}},\"title\":{\"x\":0.05},\"xaxis\":{\"automargin\":true,\"gridcolor\":\"white\",\"linecolor\":\"white\",\"ticks\":\"\",\"title\":{\"standoff\":15},\"zerolinecolor\":\"white\",\"zerolinewidth\":2},\"yaxis\":{\"automargin\":true,\"gridcolor\":\"white\",\"linecolor\":\"white\",\"ticks\":\"\",\"title\":{\"standoff\":15},\"zerolinecolor\":\"white\",\"zerolinewidth\":2}}},\"updatemenus\":[{\"buttons\":[{\"args\":[{\"visible\":[true,true,true,true,true,true,true,true,true,true]},{\"title\":\"Mean sentiment by country\"}],\"label\":\"All\",\"method\":\"update\"},{\"args\":[{\"visible\":[true,false,false,false,false,false,false,false,false]},{\"title\":\"Mean sentiment by country (All vaccines)\"}],\"label\":\"Overall Sentiment\",\"method\":\"update\"},{\"args\":[{\"visible\":[false,true,false,false,false,false,false,false,false]},{\"title\":\"Mean sentiment by country for PfizerBiontech\"}],\"label\":\"PfizerBiontech\",\"method\":\"update\"},{\"args\":[{\"visible\":[false,false,true,false,false,false,false,false,false]},{\"title\":\"Mean sentiment by country for SputnikV\"}],\"label\":\"SputnikV\",\"method\":\"update\"},{\"args\":[{\"visible\":[false,false,false,true,false,false,false,false,false]},{\"title\":\"Mean sentiment by country for Sinopharm\"}],\"label\":\"Sinopharm\",\"method\":\"update\"},{\"args\":[{\"visible\":[false,false,false,false,true,false,false,false,false]},{\"title\":\"Mean sentiment by country for Sinovac\"}],\"label\":\"Sinovac\",\"method\":\"update\"},{\"args\":[{\"visible\":[false,false,false,false,false,true,false,false,false]},{\"title\":\"Mean sentiment by country for Moderna\"}],\"label\":\"Moderna\",\"method\":\"update\"},{\"args\":[{\"visible\":[false,false,false,false,false,false,true,false,false]},{\"title\":\"Mean sentiment by country for AstraZeneca\"}],\"label\":\"AstraZeneca\",\"method\":\"update\"},{\"args\":[{\"visible\":[false,false,false,false,false,false,false,true,false]},{\"title\":\"Sentiment by country for Covaxin\"}],\"label\":\"Covaxin\",\"method\":\"update\"},{\"args\":[{\"visible\":[false,false,false,false,false,false,false,false,true]},{\"title\":\"Sentiment by country for JandJ\"}],\"label\":\"JandJ\",\"method\":\"update\"}],\"direction\":\"down\",\"pad\":{\"r\":10,\"t\":10},\"showactive\":true,\"x\":1.0,\"xanchor\":\"right\",\"y\":1.2,\"yanchor\":\"top\"}],\"xaxis\":{\"title\":{\"text\":\"Country\"}},\"yaxis\":{\"title\":{\"text\":\"Sentiment\"}}},                        {\"responsive\": true}                    ).then(function(){\n",
       "                            \n",
       "var gd = document.getElementById('eaa14529-bb2c-4b47-b3f9-b3b6d7a8b6c0');\n",
       "var x = new MutationObserver(function (mutations, observer) {{\n",
       "        var display = window.getComputedStyle(gd).display;\n",
       "        if (!display || display === 'none') {{\n",
       "            console.log([gd, 'removed!']);\n",
       "            Plotly.purge(gd);\n",
       "            observer.disconnect();\n",
       "        }}\n",
       "}});\n",
       "\n",
       "// Listen for the removal of the full notebook cells\n",
       "var notebookContainer = gd.closest('#notebook-container');\n",
       "if (notebookContainer) {{\n",
       "    x.observe(notebookContainer, {childList: true});\n",
       "}}\n",
       "\n",
       "// Listen for the clearing of the current output cell\n",
       "var outputEl = gd.closest('.output');\n",
       "if (outputEl) {{\n",
       "    x.observe(outputEl, {childList: true});\n",
       "}}\n",
       "\n",
       "                        })                };                });            </script>        </div>"
      ]
     },
     "metadata": {},
     "output_type": "display_data"
    }
   ],
   "source": [
    "sentiment_by_country(geo_df)"
   ]
  },
  {
   "cell_type": "markdown",
   "metadata": {},
   "source": [
    "# What region talks about what vaccine"
   ]
  },
  {
   "cell_type": "code",
   "execution_count": 22,
   "metadata": {},
   "outputs": [],
   "source": [
    "tweet_amount_by_vaccine = geo_tweets.groupby([\"user_location\"])[geo_tweets.columns[7:-5]].sum()"
   ]
  },
  {
   "cell_type": "code",
   "execution_count": 23,
   "metadata": {},
   "outputs": [
    {
     "data": {
      "text/html": [
       "<div>\n",
       "<style scoped>\n",
       "    .dataframe tbody tr th:only-of-type {\n",
       "        vertical-align: middle;\n",
       "    }\n",
       "\n",
       "    .dataframe tbody tr th {\n",
       "        vertical-align: top;\n",
       "    }\n",
       "\n",
       "    .dataframe thead th {\n",
       "        text-align: right;\n",
       "    }\n",
       "</style>\n",
       "<table border=\"1\" class=\"dataframe\">\n",
       "  <thead>\n",
       "    <tr style=\"text-align: right;\">\n",
       "      <th></th>\n",
       "      <th>PfizerBiontech</th>\n",
       "      <th>SputnikV</th>\n",
       "      <th>Sinopharm</th>\n",
       "      <th>Sinovac</th>\n",
       "      <th>Moderna</th>\n",
       "      <th>AstraZeneca</th>\n",
       "      <th>Covaxin</th>\n",
       "      <th>JandJ</th>\n",
       "    </tr>\n",
       "    <tr>\n",
       "      <th>user_location</th>\n",
       "      <th></th>\n",
       "      <th></th>\n",
       "      <th></th>\n",
       "      <th></th>\n",
       "      <th></th>\n",
       "      <th></th>\n",
       "      <th></th>\n",
       "      <th></th>\n",
       "    </tr>\n",
       "  </thead>\n",
       "  <tbody>\n",
       "    <tr>\n",
       "      <th>Argentina</th>\n",
       "      <td>11</td>\n",
       "      <td>44</td>\n",
       "      <td>5</td>\n",
       "      <td>4</td>\n",
       "      <td>6</td>\n",
       "      <td>3</td>\n",
       "      <td>1</td>\n",
       "      <td>0</td>\n",
       "    </tr>\n",
       "    <tr>\n",
       "      <th>Australia</th>\n",
       "      <td>123</td>\n",
       "      <td>29</td>\n",
       "      <td>8</td>\n",
       "      <td>25</td>\n",
       "      <td>117</td>\n",
       "      <td>65</td>\n",
       "      <td>19</td>\n",
       "      <td>3</td>\n",
       "    </tr>\n",
       "  </tbody>\n",
       "</table>\n",
       "</div>"
      ],
      "text/plain": [
       "               PfizerBiontech  SputnikV  Sinopharm  Sinovac  Moderna  \\\n",
       "user_location                                                          \n",
       "Argentina                  11        44          5        4        6   \n",
       "Australia                 123        29          8       25      117   \n",
       "\n",
       "               AstraZeneca  Covaxin  JandJ  \n",
       "user_location                               \n",
       "Argentina                3        1      0  \n",
       "Australia               65       19      3  "
      ]
     },
     "execution_count": 23,
     "metadata": {},
     "output_type": "execute_result"
    }
   ],
   "source": [
    "tweet_amount_by_vaccine.head(2)"
   ]
  },
  {
   "cell_type": "code",
   "execution_count": 24,
   "metadata": {},
   "outputs": [],
   "source": [
    "button_settings=[\n",
    "            dict(\n",
    "                buttons=list([]),\n",
    "                direction=\"down\",\n",
    "                pad={\"r\": 10, \"t\": 10},\n",
    "                showactive=True,\n",
    "                x=1.0,\n",
    "                xanchor=\"right\",\n",
    "                y=1.2,\n",
    "                yanchor=\"top\"\n",
    "            ),\n",
    "        ]\n",
    "\n",
    "\n",
    "for i in range(len(tweet_amount_by_vaccine.index)):\n",
    "    visible_list = [True if country == tweet_amount_by_vaccine.index[i] else False for country in tweet_amount_by_vaccine.index]\n",
    "    button = dict(\n",
    "        args = [dict(visible=visible_list),\n",
    "        dict(title = f\"Most talked about Vaccine in {tweet_amount_by_vaccine.index[i]}\")],\n",
    "        label=tweet_amount_by_vaccine.index[i],\n",
    "        method=\"update\")\n",
    "    \n",
    "    button_settings[0]['buttons'].append(button)\n"
   ]
  },
  {
   "cell_type": "code",
   "execution_count": 25,
   "metadata": {},
   "outputs": [],
   "source": [
    "def amount_tweets_by_country(dataset, dropdown_settings):\n",
    "    \n",
    "    fig = go.Figure()\n",
    "    \n",
    "    for country in dataset.index.to_list():\n",
    "        fig.add_trace(    \n",
    "            go.Pie(labels=dataset[dataset.index==country].columns, values=dataset[dataset.index==country].values[0]) \n",
    "        )\n",
    "    \n",
    "    # Add dropdown\n",
    "    fig.update_layout(\n",
    "        updatemenus = dropdown_settings,\n",
    "        xaxis_title=\"Time\",\n",
    "        yaxis_title=\"Sentiment\",\n",
    "        legend_title=\"Vaccines\"\n",
    "    )\n",
    "    \n",
    "    fig.show()\n",
    "    fig.write_html(\"../reports/figures/VaccineGeo/Most_Talked_About_Vaccine_By_Country.html\")"
   ]
  },
  {
   "cell_type": "code",
   "execution_count": 26,
   "metadata": {},
   "outputs": [
    {
     "data": {
      "application/vnd.plotly.v1+json": {
       "config": {
        "plotlyServerURL": "https://plot.ly"
       },
       "data": [
        {
         "labels": [
          "PfizerBiontech",
          "SputnikV",
          "Sinopharm",
          "Sinovac",
          "Moderna",
          "AstraZeneca",
          "Covaxin",
          "JandJ"
         ],
         "type": "pie",
         "values": [
          11,
          44,
          5,
          4,
          6,
          3,
          1,
          0
         ]
        },
        {
         "labels": [
          "PfizerBiontech",
          "SputnikV",
          "Sinopharm",
          "Sinovac",
          "Moderna",
          "AstraZeneca",
          "Covaxin",
          "JandJ"
         ],
         "type": "pie",
         "values": [
          123,
          29,
          8,
          25,
          117,
          65,
          19,
          3
         ]
        },
        {
         "labels": [
          "PfizerBiontech",
          "SputnikV",
          "Sinopharm",
          "Sinovac",
          "Moderna",
          "AstraZeneca",
          "Covaxin",
          "JandJ"
         ],
         "type": "pie",
         "values": [
          21,
          61,
          3,
          8,
          30,
          8,
          1,
          1
         ]
        },
        {
         "labels": [
          "PfizerBiontech",
          "SputnikV",
          "Sinopharm",
          "Sinovac",
          "Moderna",
          "AstraZeneca",
          "Covaxin",
          "JandJ"
         ],
         "type": "pie",
         "values": [
          53,
          82,
          5,
          9,
          46,
          17,
          4,
          2
         ]
        },
        {
         "labels": [
          "PfizerBiontech",
          "SputnikV",
          "Sinopharm",
          "Sinovac",
          "Moderna",
          "AstraZeneca",
          "Covaxin",
          "JandJ"
         ],
         "type": "pie",
         "values": [
          2,
          3,
          1,
          3,
          3,
          8,
          5,
          0
         ]
        },
        {
         "labels": [
          "PfizerBiontech",
          "SputnikV",
          "Sinopharm",
          "Sinovac",
          "Moderna",
          "AstraZeneca",
          "Covaxin",
          "JandJ"
         ],
         "type": "pie",
         "values": [
          615,
          2239,
          20,
          63,
          1069,
          247,
          52,
          34
         ]
        },
        {
         "labels": [
          "PfizerBiontech",
          "SputnikV",
          "Sinopharm",
          "Sinovac",
          "Moderna",
          "AstraZeneca",
          "Covaxin",
          "JandJ"
         ],
         "type": "pie",
         "values": [
          0,
          0,
          0,
          1,
          0,
          0,
          0,
          0
         ]
        },
        {
         "labels": [
          "PfizerBiontech",
          "SputnikV",
          "Sinopharm",
          "Sinovac",
          "Moderna",
          "AstraZeneca",
          "Covaxin",
          "JandJ"
         ],
         "type": "pie",
         "values": [
          0,
          0,
          0,
          1,
          0,
          0,
          0,
          0
         ]
        },
        {
         "labels": [
          "PfizerBiontech",
          "SputnikV",
          "Sinopharm",
          "Sinovac",
          "Moderna",
          "AstraZeneca",
          "Covaxin",
          "JandJ"
         ],
         "type": "pie",
         "values": [
          0,
          0,
          0,
          0,
          0,
          0,
          1,
          0
         ]
        },
        {
         "labels": [
          "PfizerBiontech",
          "SputnikV",
          "Sinopharm",
          "Sinovac",
          "Moderna",
          "AstraZeneca",
          "Covaxin",
          "JandJ"
         ],
         "type": "pie",
         "values": [
          124,
          113,
          27,
          17,
          116,
          40,
          12,
          7
         ]
        },
        {
         "labels": [
          "PfizerBiontech",
          "SputnikV",
          "Sinopharm",
          "Sinovac",
          "Moderna",
          "AstraZeneca",
          "Covaxin",
          "JandJ"
         ],
         "type": "pie",
         "values": [
          128,
          106,
          13,
          15,
          136,
          40,
          29,
          11
         ]
        },
        {
         "labels": [
          "PfizerBiontech",
          "SputnikV",
          "Sinopharm",
          "Sinovac",
          "Moderna",
          "AstraZeneca",
          "Covaxin",
          "JandJ"
         ],
         "type": "pie",
         "values": [
          0,
          0,
          0,
          0,
          1,
          0,
          0,
          0
         ]
        },
        {
         "labels": [
          "PfizerBiontech",
          "SputnikV",
          "Sinopharm",
          "Sinovac",
          "Moderna",
          "AstraZeneca",
          "Covaxin",
          "JandJ"
         ],
         "type": "pie",
         "values": [
          0,
          1,
          0,
          0,
          0,
          0,
          0,
          0
         ]
        },
        {
         "labels": [
          "PfizerBiontech",
          "SputnikV",
          "Sinopharm",
          "Sinovac",
          "Moderna",
          "AstraZeneca",
          "Covaxin",
          "JandJ"
         ],
         "type": "pie",
         "values": [
          2,
          0,
          0,
          1,
          0,
          0,
          0,
          0
         ]
        },
        {
         "labels": [
          "PfizerBiontech",
          "SputnikV",
          "Sinopharm",
          "Sinovac",
          "Moderna",
          "AstraZeneca",
          "Covaxin",
          "JandJ"
         ],
         "type": "pie",
         "values": [
          931,
          3273,
          181,
          201,
          979,
          291,
          10593,
          48
         ]
        },
        {
         "labels": [
          "PfizerBiontech",
          "SputnikV",
          "Sinopharm",
          "Sinovac",
          "Moderna",
          "AstraZeneca",
          "Covaxin",
          "JandJ"
         ],
         "type": "pie",
         "values": [
          0,
          0,
          0,
          5,
          0,
          0,
          0,
          0
         ]
        },
        {
         "labels": [
          "PfizerBiontech",
          "SputnikV",
          "Sinopharm",
          "Sinovac",
          "Moderna",
          "AstraZeneca",
          "Covaxin",
          "JandJ"
         ],
         "type": "pie",
         "values": [
          84,
          34,
          1,
          8,
          83,
          47,
          3,
          20
         ]
        },
        {
         "labels": [
          "PfizerBiontech",
          "SputnikV",
          "Sinopharm",
          "Sinovac",
          "Moderna",
          "AstraZeneca",
          "Covaxin",
          "JandJ"
         ],
         "type": "pie",
         "values": [
          15,
          5,
          6,
          12,
          38,
          5,
          48,
          3
         ]
        },
        {
         "labels": [
          "PfizerBiontech",
          "SputnikV",
          "Sinopharm",
          "Sinovac",
          "Moderna",
          "AstraZeneca",
          "Covaxin",
          "JandJ"
         ],
         "type": "pie",
         "values": [
          0,
          0,
          0,
          0,
          0,
          1,
          0,
          0
         ]
        },
        {
         "labels": [
          "PfizerBiontech",
          "SputnikV",
          "Sinopharm",
          "Sinovac",
          "Moderna",
          "AstraZeneca",
          "Covaxin",
          "JandJ"
         ],
         "type": "pie",
         "values": [
          2,
          0,
          0,
          4,
          1,
          0,
          0,
          0
         ]
        },
        {
         "labels": [
          "PfizerBiontech",
          "SputnikV",
          "Sinopharm",
          "Sinovac",
          "Moderna",
          "AstraZeneca",
          "Covaxin",
          "JandJ"
         ],
         "type": "pie",
         "values": [
          12,
          6,
          0,
          2,
          33,
          4,
          13,
          2
         ]
        },
        {
         "labels": [
          "PfizerBiontech",
          "SputnikV",
          "Sinopharm",
          "Sinovac",
          "Moderna",
          "AstraZeneca",
          "Covaxin",
          "JandJ"
         ],
         "type": "pie",
         "values": [
          0,
          0,
          0,
          0,
          1,
          0,
          0,
          0
         ]
        },
        {
         "labels": [
          "PfizerBiontech",
          "SputnikV",
          "Sinopharm",
          "Sinovac",
          "Moderna",
          "AstraZeneca",
          "Covaxin",
          "JandJ"
         ],
         "type": "pie",
         "values": [
          82,
          194,
          569,
          458,
          42,
          67,
          26,
          2
         ]
        },
        {
         "labels": [
          "PfizerBiontech",
          "SputnikV",
          "Sinopharm",
          "Sinovac",
          "Moderna",
          "AstraZeneca",
          "Covaxin",
          "JandJ"
         ],
         "type": "pie",
         "values": [
          44,
          23,
          1,
          5,
          34,
          1,
          1,
          0
         ]
        },
        {
         "labels": [
          "PfizerBiontech",
          "SputnikV",
          "Sinopharm",
          "Sinovac",
          "Moderna",
          "AstraZeneca",
          "Covaxin",
          "JandJ"
         ],
         "type": "pie",
         "values": [
          4,
          1,
          0,
          58,
          0,
          0,
          0,
          0
         ]
        },
        {
         "labels": [
          "PfizerBiontech",
          "SputnikV",
          "Sinopharm",
          "Sinovac",
          "Moderna",
          "AstraZeneca",
          "Covaxin",
          "JandJ"
         ],
         "type": "pie",
         "values": [
          2,
          0,
          0,
          0,
          1,
          0,
          0,
          0
         ]
        },
        {
         "labels": [
          "PfizerBiontech",
          "SputnikV",
          "Sinopharm",
          "Sinovac",
          "Moderna",
          "AstraZeneca",
          "Covaxin",
          "JandJ"
         ],
         "type": "pie",
         "values": [
          10,
          657,
          1,
          3,
          7,
          7,
          4,
          2
         ]
        },
        {
         "labels": [
          "PfizerBiontech",
          "SputnikV",
          "Sinopharm",
          "Sinovac",
          "Moderna",
          "AstraZeneca",
          "Covaxin",
          "JandJ"
         ],
         "type": "pie",
         "values": [
          0,
          0,
          0,
          0,
          0,
          1,
          0,
          0
         ]
        },
        {
         "labels": [
          "PfizerBiontech",
          "SputnikV",
          "Sinopharm",
          "Sinovac",
          "Moderna",
          "AstraZeneca",
          "Covaxin",
          "JandJ"
         ],
         "type": "pie",
         "values": [
          1,
          0,
          0,
          0,
          2,
          0,
          0,
          0
         ]
        },
        {
         "labels": [
          "PfizerBiontech",
          "SputnikV",
          "Sinopharm",
          "Sinovac",
          "Moderna",
          "AstraZeneca",
          "Covaxin",
          "JandJ"
         ],
         "type": "pie",
         "values": [
          43,
          18,
          2,
          4,
          47,
          15,
          12,
          1
         ]
        },
        {
         "labels": [
          "PfizerBiontech",
          "SputnikV",
          "Sinopharm",
          "Sinovac",
          "Moderna",
          "AstraZeneca",
          "Covaxin",
          "JandJ"
         ],
         "type": "pie",
         "values": [
          0,
          0,
          0,
          0,
          1,
          0,
          0,
          0
         ]
        },
        {
         "labels": [
          "PfizerBiontech",
          "SputnikV",
          "Sinopharm",
          "Sinovac",
          "Moderna",
          "AstraZeneca",
          "Covaxin",
          "JandJ"
         ],
         "type": "pie",
         "values": [
          0,
          0,
          0,
          0,
          1,
          0,
          0,
          0
         ]
        },
        {
         "labels": [
          "PfizerBiontech",
          "SputnikV",
          "Sinopharm",
          "Sinovac",
          "Moderna",
          "AstraZeneca",
          "Covaxin",
          "JandJ"
         ],
         "type": "pie",
         "values": [
          0,
          0,
          0,
          6,
          0,
          0,
          0,
          0
         ]
        },
        {
         "labels": [
          "PfizerBiontech",
          "SputnikV",
          "Sinopharm",
          "Sinovac",
          "Moderna",
          "AstraZeneca",
          "Covaxin",
          "JandJ"
         ],
         "type": "pie",
         "values": [
          0,
          0,
          3,
          0,
          0,
          0,
          0,
          0
         ]
        },
        {
         "labels": [
          "PfizerBiontech",
          "SputnikV",
          "Sinopharm",
          "Sinovac",
          "Moderna",
          "AstraZeneca",
          "Covaxin",
          "JandJ"
         ],
         "type": "pie",
         "values": [
          27,
          12,
          44,
          4,
          16,
          5,
          7,
          0
         ]
        },
        {
         "labels": [
          "PfizerBiontech",
          "SputnikV",
          "Sinopharm",
          "Sinovac",
          "Moderna",
          "AstraZeneca",
          "Covaxin",
          "JandJ"
         ],
         "type": "pie",
         "values": [
          1,
          0,
          5,
          0,
          0,
          0,
          0,
          0
         ]
        },
        {
         "labels": [
          "PfizerBiontech",
          "SputnikV",
          "Sinopharm",
          "Sinovac",
          "Moderna",
          "AstraZeneca",
          "Covaxin",
          "JandJ"
         ],
         "type": "pie",
         "values": [
          376,
          102,
          27,
          43,
          317,
          547,
          51,
          9
         ]
        },
        {
         "labels": [
          "PfizerBiontech",
          "SputnikV",
          "Sinopharm",
          "Sinovac",
          "Moderna",
          "AstraZeneca",
          "Covaxin",
          "JandJ"
         ],
         "type": "pie",
         "values": [
          728,
          151,
          23,
          48,
          2734,
          85,
          364,
          141
         ]
        },
        {
         "labels": [
          "PfizerBiontech",
          "SputnikV",
          "Sinopharm",
          "Sinovac",
          "Moderna",
          "AstraZeneca",
          "Covaxin",
          "JandJ"
         ],
         "type": "pie",
         "values": [
          1,
          0,
          0,
          0,
          0,
          0,
          0,
          0
         ]
        }
       ],
       "layout": {
        "legend": {
         "title": {
          "text": "Vaccines"
         }
        },
        "template": {
         "data": {
          "bar": [
           {
            "error_x": {
             "color": "#2a3f5f"
            },
            "error_y": {
             "color": "#2a3f5f"
            },
            "marker": {
             "line": {
              "color": "#E5ECF6",
              "width": 0.5
             },
             "pattern": {
              "fillmode": "overlay",
              "size": 10,
              "solidity": 0.2
             }
            },
            "type": "bar"
           }
          ],
          "barpolar": [
           {
            "marker": {
             "line": {
              "color": "#E5ECF6",
              "width": 0.5
             },
             "pattern": {
              "fillmode": "overlay",
              "size": 10,
              "solidity": 0.2
             }
            },
            "type": "barpolar"
           }
          ],
          "carpet": [
           {
            "aaxis": {
             "endlinecolor": "#2a3f5f",
             "gridcolor": "white",
             "linecolor": "white",
             "minorgridcolor": "white",
             "startlinecolor": "#2a3f5f"
            },
            "baxis": {
             "endlinecolor": "#2a3f5f",
             "gridcolor": "white",
             "linecolor": "white",
             "minorgridcolor": "white",
             "startlinecolor": "#2a3f5f"
            },
            "type": "carpet"
           }
          ],
          "choropleth": [
           {
            "colorbar": {
             "outlinewidth": 0,
             "ticks": ""
            },
            "type": "choropleth"
           }
          ],
          "contour": [
           {
            "colorbar": {
             "outlinewidth": 0,
             "ticks": ""
            },
            "colorscale": [
             [
              0,
              "#0d0887"
             ],
             [
              0.1111111111111111,
              "#46039f"
             ],
             [
              0.2222222222222222,
              "#7201a8"
             ],
             [
              0.3333333333333333,
              "#9c179e"
             ],
             [
              0.4444444444444444,
              "#bd3786"
             ],
             [
              0.5555555555555556,
              "#d8576b"
             ],
             [
              0.6666666666666666,
              "#ed7953"
             ],
             [
              0.7777777777777778,
              "#fb9f3a"
             ],
             [
              0.8888888888888888,
              "#fdca26"
             ],
             [
              1,
              "#f0f921"
             ]
            ],
            "type": "contour"
           }
          ],
          "contourcarpet": [
           {
            "colorbar": {
             "outlinewidth": 0,
             "ticks": ""
            },
            "type": "contourcarpet"
           }
          ],
          "heatmap": [
           {
            "colorbar": {
             "outlinewidth": 0,
             "ticks": ""
            },
            "colorscale": [
             [
              0,
              "#0d0887"
             ],
             [
              0.1111111111111111,
              "#46039f"
             ],
             [
              0.2222222222222222,
              "#7201a8"
             ],
             [
              0.3333333333333333,
              "#9c179e"
             ],
             [
              0.4444444444444444,
              "#bd3786"
             ],
             [
              0.5555555555555556,
              "#d8576b"
             ],
             [
              0.6666666666666666,
              "#ed7953"
             ],
             [
              0.7777777777777778,
              "#fb9f3a"
             ],
             [
              0.8888888888888888,
              "#fdca26"
             ],
             [
              1,
              "#f0f921"
             ]
            ],
            "type": "heatmap"
           }
          ],
          "heatmapgl": [
           {
            "colorbar": {
             "outlinewidth": 0,
             "ticks": ""
            },
            "colorscale": [
             [
              0,
              "#0d0887"
             ],
             [
              0.1111111111111111,
              "#46039f"
             ],
             [
              0.2222222222222222,
              "#7201a8"
             ],
             [
              0.3333333333333333,
              "#9c179e"
             ],
             [
              0.4444444444444444,
              "#bd3786"
             ],
             [
              0.5555555555555556,
              "#d8576b"
             ],
             [
              0.6666666666666666,
              "#ed7953"
             ],
             [
              0.7777777777777778,
              "#fb9f3a"
             ],
             [
              0.8888888888888888,
              "#fdca26"
             ],
             [
              1,
              "#f0f921"
             ]
            ],
            "type": "heatmapgl"
           }
          ],
          "histogram": [
           {
            "marker": {
             "pattern": {
              "fillmode": "overlay",
              "size": 10,
              "solidity": 0.2
             }
            },
            "type": "histogram"
           }
          ],
          "histogram2d": [
           {
            "colorbar": {
             "outlinewidth": 0,
             "ticks": ""
            },
            "colorscale": [
             [
              0,
              "#0d0887"
             ],
             [
              0.1111111111111111,
              "#46039f"
             ],
             [
              0.2222222222222222,
              "#7201a8"
             ],
             [
              0.3333333333333333,
              "#9c179e"
             ],
             [
              0.4444444444444444,
              "#bd3786"
             ],
             [
              0.5555555555555556,
              "#d8576b"
             ],
             [
              0.6666666666666666,
              "#ed7953"
             ],
             [
              0.7777777777777778,
              "#fb9f3a"
             ],
             [
              0.8888888888888888,
              "#fdca26"
             ],
             [
              1,
              "#f0f921"
             ]
            ],
            "type": "histogram2d"
           }
          ],
          "histogram2dcontour": [
           {
            "colorbar": {
             "outlinewidth": 0,
             "ticks": ""
            },
            "colorscale": [
             [
              0,
              "#0d0887"
             ],
             [
              0.1111111111111111,
              "#46039f"
             ],
             [
              0.2222222222222222,
              "#7201a8"
             ],
             [
              0.3333333333333333,
              "#9c179e"
             ],
             [
              0.4444444444444444,
              "#bd3786"
             ],
             [
              0.5555555555555556,
              "#d8576b"
             ],
             [
              0.6666666666666666,
              "#ed7953"
             ],
             [
              0.7777777777777778,
              "#fb9f3a"
             ],
             [
              0.8888888888888888,
              "#fdca26"
             ],
             [
              1,
              "#f0f921"
             ]
            ],
            "type": "histogram2dcontour"
           }
          ],
          "mesh3d": [
           {
            "colorbar": {
             "outlinewidth": 0,
             "ticks": ""
            },
            "type": "mesh3d"
           }
          ],
          "parcoords": [
           {
            "line": {
             "colorbar": {
              "outlinewidth": 0,
              "ticks": ""
             }
            },
            "type": "parcoords"
           }
          ],
          "pie": [
           {
            "automargin": true,
            "type": "pie"
           }
          ],
          "scatter": [
           {
            "marker": {
             "colorbar": {
              "outlinewidth": 0,
              "ticks": ""
             }
            },
            "type": "scatter"
           }
          ],
          "scatter3d": [
           {
            "line": {
             "colorbar": {
              "outlinewidth": 0,
              "ticks": ""
             }
            },
            "marker": {
             "colorbar": {
              "outlinewidth": 0,
              "ticks": ""
             }
            },
            "type": "scatter3d"
           }
          ],
          "scattercarpet": [
           {
            "marker": {
             "colorbar": {
              "outlinewidth": 0,
              "ticks": ""
             }
            },
            "type": "scattercarpet"
           }
          ],
          "scattergeo": [
           {
            "marker": {
             "colorbar": {
              "outlinewidth": 0,
              "ticks": ""
             }
            },
            "type": "scattergeo"
           }
          ],
          "scattergl": [
           {
            "marker": {
             "colorbar": {
              "outlinewidth": 0,
              "ticks": ""
             }
            },
            "type": "scattergl"
           }
          ],
          "scattermapbox": [
           {
            "marker": {
             "colorbar": {
              "outlinewidth": 0,
              "ticks": ""
             }
            },
            "type": "scattermapbox"
           }
          ],
          "scatterpolar": [
           {
            "marker": {
             "colorbar": {
              "outlinewidth": 0,
              "ticks": ""
             }
            },
            "type": "scatterpolar"
           }
          ],
          "scatterpolargl": [
           {
            "marker": {
             "colorbar": {
              "outlinewidth": 0,
              "ticks": ""
             }
            },
            "type": "scatterpolargl"
           }
          ],
          "scatterternary": [
           {
            "marker": {
             "colorbar": {
              "outlinewidth": 0,
              "ticks": ""
             }
            },
            "type": "scatterternary"
           }
          ],
          "surface": [
           {
            "colorbar": {
             "outlinewidth": 0,
             "ticks": ""
            },
            "colorscale": [
             [
              0,
              "#0d0887"
             ],
             [
              0.1111111111111111,
              "#46039f"
             ],
             [
              0.2222222222222222,
              "#7201a8"
             ],
             [
              0.3333333333333333,
              "#9c179e"
             ],
             [
              0.4444444444444444,
              "#bd3786"
             ],
             [
              0.5555555555555556,
              "#d8576b"
             ],
             [
              0.6666666666666666,
              "#ed7953"
             ],
             [
              0.7777777777777778,
              "#fb9f3a"
             ],
             [
              0.8888888888888888,
              "#fdca26"
             ],
             [
              1,
              "#f0f921"
             ]
            ],
            "type": "surface"
           }
          ],
          "table": [
           {
            "cells": {
             "fill": {
              "color": "#EBF0F8"
             },
             "line": {
              "color": "white"
             }
            },
            "header": {
             "fill": {
              "color": "#C8D4E3"
             },
             "line": {
              "color": "white"
             }
            },
            "type": "table"
           }
          ]
         },
         "layout": {
          "annotationdefaults": {
           "arrowcolor": "#2a3f5f",
           "arrowhead": 0,
           "arrowwidth": 1
          },
          "autotypenumbers": "strict",
          "coloraxis": {
           "colorbar": {
            "outlinewidth": 0,
            "ticks": ""
           }
          },
          "colorscale": {
           "diverging": [
            [
             0,
             "#8e0152"
            ],
            [
             0.1,
             "#c51b7d"
            ],
            [
             0.2,
             "#de77ae"
            ],
            [
             0.3,
             "#f1b6da"
            ],
            [
             0.4,
             "#fde0ef"
            ],
            [
             0.5,
             "#f7f7f7"
            ],
            [
             0.6,
             "#e6f5d0"
            ],
            [
             0.7,
             "#b8e186"
            ],
            [
             0.8,
             "#7fbc41"
            ],
            [
             0.9,
             "#4d9221"
            ],
            [
             1,
             "#276419"
            ]
           ],
           "sequential": [
            [
             0,
             "#0d0887"
            ],
            [
             0.1111111111111111,
             "#46039f"
            ],
            [
             0.2222222222222222,
             "#7201a8"
            ],
            [
             0.3333333333333333,
             "#9c179e"
            ],
            [
             0.4444444444444444,
             "#bd3786"
            ],
            [
             0.5555555555555556,
             "#d8576b"
            ],
            [
             0.6666666666666666,
             "#ed7953"
            ],
            [
             0.7777777777777778,
             "#fb9f3a"
            ],
            [
             0.8888888888888888,
             "#fdca26"
            ],
            [
             1,
             "#f0f921"
            ]
           ],
           "sequentialminus": [
            [
             0,
             "#0d0887"
            ],
            [
             0.1111111111111111,
             "#46039f"
            ],
            [
             0.2222222222222222,
             "#7201a8"
            ],
            [
             0.3333333333333333,
             "#9c179e"
            ],
            [
             0.4444444444444444,
             "#bd3786"
            ],
            [
             0.5555555555555556,
             "#d8576b"
            ],
            [
             0.6666666666666666,
             "#ed7953"
            ],
            [
             0.7777777777777778,
             "#fb9f3a"
            ],
            [
             0.8888888888888888,
             "#fdca26"
            ],
            [
             1,
             "#f0f921"
            ]
           ]
          },
          "colorway": [
           "#636efa",
           "#EF553B",
           "#00cc96",
           "#ab63fa",
           "#FFA15A",
           "#19d3f3",
           "#FF6692",
           "#B6E880",
           "#FF97FF",
           "#FECB52"
          ],
          "font": {
           "color": "#2a3f5f"
          },
          "geo": {
           "bgcolor": "white",
           "lakecolor": "white",
           "landcolor": "#E5ECF6",
           "showlakes": true,
           "showland": true,
           "subunitcolor": "white"
          },
          "hoverlabel": {
           "align": "left"
          },
          "hovermode": "closest",
          "mapbox": {
           "style": "light"
          },
          "paper_bgcolor": "white",
          "plot_bgcolor": "#E5ECF6",
          "polar": {
           "angularaxis": {
            "gridcolor": "white",
            "linecolor": "white",
            "ticks": ""
           },
           "bgcolor": "#E5ECF6",
           "radialaxis": {
            "gridcolor": "white",
            "linecolor": "white",
            "ticks": ""
           }
          },
          "scene": {
           "xaxis": {
            "backgroundcolor": "#E5ECF6",
            "gridcolor": "white",
            "gridwidth": 2,
            "linecolor": "white",
            "showbackground": true,
            "ticks": "",
            "zerolinecolor": "white"
           },
           "yaxis": {
            "backgroundcolor": "#E5ECF6",
            "gridcolor": "white",
            "gridwidth": 2,
            "linecolor": "white",
            "showbackground": true,
            "ticks": "",
            "zerolinecolor": "white"
           },
           "zaxis": {
            "backgroundcolor": "#E5ECF6",
            "gridcolor": "white",
            "gridwidth": 2,
            "linecolor": "white",
            "showbackground": true,
            "ticks": "",
            "zerolinecolor": "white"
           }
          },
          "shapedefaults": {
           "line": {
            "color": "#2a3f5f"
           }
          },
          "ternary": {
           "aaxis": {
            "gridcolor": "white",
            "linecolor": "white",
            "ticks": ""
           },
           "baxis": {
            "gridcolor": "white",
            "linecolor": "white",
            "ticks": ""
           },
           "bgcolor": "#E5ECF6",
           "caxis": {
            "gridcolor": "white",
            "linecolor": "white",
            "ticks": ""
           }
          },
          "title": {
           "x": 0.05
          },
          "xaxis": {
           "automargin": true,
           "gridcolor": "white",
           "linecolor": "white",
           "ticks": "",
           "title": {
            "standoff": 15
           },
           "zerolinecolor": "white",
           "zerolinewidth": 2
          },
          "yaxis": {
           "automargin": true,
           "gridcolor": "white",
           "linecolor": "white",
           "ticks": "",
           "title": {
            "standoff": 15
           },
           "zerolinecolor": "white",
           "zerolinewidth": 2
          }
         }
        },
        "updatemenus": [
         {
          "buttons": [
           {
            "args": [
             {
              "visible": [
               true,
               false,
               false,
               false,
               false,
               false,
               false,
               false,
               false,
               false,
               false,
               false,
               false,
               false,
               false,
               false,
               false,
               false,
               false,
               false,
               false,
               false,
               false,
               false,
               false,
               false,
               false,
               false,
               false,
               false,
               false,
               false,
               false,
               false,
               false,
               false,
               false,
               false,
               false
              ]
             },
             {
              "title": "Most talked about Vaccine in Argentina"
             }
            ],
            "label": "Argentina",
            "method": "update"
           },
           {
            "args": [
             {
              "visible": [
               false,
               true,
               false,
               false,
               false,
               false,
               false,
               false,
               false,
               false,
               false,
               false,
               false,
               false,
               false,
               false,
               false,
               false,
               false,
               false,
               false,
               false,
               false,
               false,
               false,
               false,
               false,
               false,
               false,
               false,
               false,
               false,
               false,
               false,
               false,
               false,
               false,
               false,
               false
              ]
             },
             {
              "title": "Most talked about Vaccine in Australia"
             }
            ],
            "label": "Australia",
            "method": "update"
           },
           {
            "args": [
             {
              "visible": [
               false,
               false,
               true,
               false,
               false,
               false,
               false,
               false,
               false,
               false,
               false,
               false,
               false,
               false,
               false,
               false,
               false,
               false,
               false,
               false,
               false,
               false,
               false,
               false,
               false,
               false,
               false,
               false,
               false,
               false,
               false,
               false,
               false,
               false,
               false,
               false,
               false,
               false,
               false
              ]
             },
             {
              "title": "Most talked about Vaccine in Austria"
             }
            ],
            "label": "Austria",
            "method": "update"
           },
           {
            "args": [
             {
              "visible": [
               false,
               false,
               false,
               true,
               false,
               false,
               false,
               false,
               false,
               false,
               false,
               false,
               false,
               false,
               false,
               false,
               false,
               false,
               false,
               false,
               false,
               false,
               false,
               false,
               false,
               false,
               false,
               false,
               false,
               false,
               false,
               false,
               false,
               false,
               false,
               false,
               false,
               false,
               false
              ]
             },
             {
              "title": "Most talked about Vaccine in Belgium"
             }
            ],
            "label": "Belgium",
            "method": "update"
           },
           {
            "args": [
             {
              "visible": [
               false,
               false,
               false,
               false,
               true,
               false,
               false,
               false,
               false,
               false,
               false,
               false,
               false,
               false,
               false,
               false,
               false,
               false,
               false,
               false,
               false,
               false,
               false,
               false,
               false,
               false,
               false,
               false,
               false,
               false,
               false,
               false,
               false,
               false,
               false,
               false,
               false,
               false,
               false
              ]
             },
             {
              "title": "Most talked about Vaccine in Brazil"
             }
            ],
            "label": "Brazil",
            "method": "update"
           },
           {
            "args": [
             {
              "visible": [
               false,
               false,
               false,
               false,
               false,
               true,
               false,
               false,
               false,
               false,
               false,
               false,
               false,
               false,
               false,
               false,
               false,
               false,
               false,
               false,
               false,
               false,
               false,
               false,
               false,
               false,
               false,
               false,
               false,
               false,
               false,
               false,
               false,
               false,
               false,
               false,
               false,
               false,
               false
              ]
             },
             {
              "title": "Most talked about Vaccine in Canada"
             }
            ],
            "label": "Canada",
            "method": "update"
           },
           {
            "args": [
             {
              "visible": [
               false,
               false,
               false,
               false,
               false,
               false,
               true,
               false,
               false,
               false,
               false,
               false,
               false,
               false,
               false,
               false,
               false,
               false,
               false,
               false,
               false,
               false,
               false,
               false,
               false,
               false,
               false,
               false,
               false,
               false,
               false,
               false,
               false,
               false,
               false,
               false,
               false,
               false,
               false
              ]
             },
             {
              "title": "Most talked about Vaccine in Chile"
             }
            ],
            "label": "Chile",
            "method": "update"
           },
           {
            "args": [
             {
              "visible": [
               false,
               false,
               false,
               false,
               false,
               false,
               false,
               true,
               false,
               false,
               false,
               false,
               false,
               false,
               false,
               false,
               false,
               false,
               false,
               false,
               false,
               false,
               false,
               false,
               false,
               false,
               false,
               false,
               false,
               false,
               false,
               false,
               false,
               false,
               false,
               false,
               false,
               false,
               false
              ]
             },
             {
              "title": "Most talked about Vaccine in China"
             }
            ],
            "label": "China",
            "method": "update"
           },
           {
            "args": [
             {
              "visible": [
               false,
               false,
               false,
               false,
               false,
               false,
               false,
               false,
               true,
               false,
               false,
               false,
               false,
               false,
               false,
               false,
               false,
               false,
               false,
               false,
               false,
               false,
               false,
               false,
               false,
               false,
               false,
               false,
               false,
               false,
               false,
               false,
               false,
               false,
               false,
               false,
               false,
               false,
               false
              ]
             },
             {
              "title": "Most talked about Vaccine in Croatia"
             }
            ],
            "label": "Croatia",
            "method": "update"
           },
           {
            "args": [
             {
              "visible": [
               false,
               false,
               false,
               false,
               false,
               false,
               false,
               false,
               false,
               true,
               false,
               false,
               false,
               false,
               false,
               false,
               false,
               false,
               false,
               false,
               false,
               false,
               false,
               false,
               false,
               false,
               false,
               false,
               false,
               false,
               false,
               false,
               false,
               false,
               false,
               false,
               false,
               false,
               false
              ]
             },
             {
              "title": "Most talked about Vaccine in France"
             }
            ],
            "label": "France",
            "method": "update"
           },
           {
            "args": [
             {
              "visible": [
               false,
               false,
               false,
               false,
               false,
               false,
               false,
               false,
               false,
               false,
               true,
               false,
               false,
               false,
               false,
               false,
               false,
               false,
               false,
               false,
               false,
               false,
               false,
               false,
               false,
               false,
               false,
               false,
               false,
               false,
               false,
               false,
               false,
               false,
               false,
               false,
               false,
               false,
               false
              ]
             },
             {
              "title": "Most talked about Vaccine in Germany"
             }
            ],
            "label": "Germany",
            "method": "update"
           },
           {
            "args": [
             {
              "visible": [
               false,
               false,
               false,
               false,
               false,
               false,
               false,
               false,
               false,
               false,
               false,
               true,
               false,
               false,
               false,
               false,
               false,
               false,
               false,
               false,
               false,
               false,
               false,
               false,
               false,
               false,
               false,
               false,
               false,
               false,
               false,
               false,
               false,
               false,
               false,
               false,
               false,
               false,
               false
              ]
             },
             {
              "title": "Most talked about Vaccine in Greece"
             }
            ],
            "label": "Greece",
            "method": "update"
           },
           {
            "args": [
             {
              "visible": [
               false,
               false,
               false,
               false,
               false,
               false,
               false,
               false,
               false,
               false,
               false,
               false,
               true,
               false,
               false,
               false,
               false,
               false,
               false,
               false,
               false,
               false,
               false,
               false,
               false,
               false,
               false,
               false,
               false,
               false,
               false,
               false,
               false,
               false,
               false,
               false,
               false,
               false,
               false
              ]
             },
             {
              "title": "Most talked about Vaccine in Guyana"
             }
            ],
            "label": "Guyana",
            "method": "update"
           },
           {
            "args": [
             {
              "visible": [
               false,
               false,
               false,
               false,
               false,
               false,
               false,
               false,
               false,
               false,
               false,
               false,
               false,
               true,
               false,
               false,
               false,
               false,
               false,
               false,
               false,
               false,
               false,
               false,
               false,
               false,
               false,
               false,
               false,
               false,
               false,
               false,
               false,
               false,
               false,
               false,
               false,
               false,
               false
              ]
             },
             {
              "title": "Most talked about Vaccine in Hong Kong"
             }
            ],
            "label": "Hong Kong",
            "method": "update"
           },
           {
            "args": [
             {
              "visible": [
               false,
               false,
               false,
               false,
               false,
               false,
               false,
               false,
               false,
               false,
               false,
               false,
               false,
               false,
               true,
               false,
               false,
               false,
               false,
               false,
               false,
               false,
               false,
               false,
               false,
               false,
               false,
               false,
               false,
               false,
               false,
               false,
               false,
               false,
               false,
               false,
               false,
               false,
               false
              ]
             },
             {
              "title": "Most talked about Vaccine in India"
             }
            ],
            "label": "India",
            "method": "update"
           },
           {
            "args": [
             {
              "visible": [
               false,
               false,
               false,
               false,
               false,
               false,
               false,
               false,
               false,
               false,
               false,
               false,
               false,
               false,
               false,
               true,
               false,
               false,
               false,
               false,
               false,
               false,
               false,
               false,
               false,
               false,
               false,
               false,
               false,
               false,
               false,
               false,
               false,
               false,
               false,
               false,
               false,
               false,
               false
              ]
             },
             {
              "title": "Most talked about Vaccine in Indonesia"
             }
            ],
            "label": "Indonesia",
            "method": "update"
           },
           {
            "args": [
             {
              "visible": [
               false,
               false,
               false,
               false,
               false,
               false,
               false,
               false,
               false,
               false,
               false,
               false,
               false,
               false,
               false,
               false,
               true,
               false,
               false,
               false,
               false,
               false,
               false,
               false,
               false,
               false,
               false,
               false,
               false,
               false,
               false,
               false,
               false,
               false,
               false,
               false,
               false,
               false,
               false
              ]
             },
             {
              "title": "Most talked about Vaccine in Italy"
             }
            ],
            "label": "Italy",
            "method": "update"
           },
           {
            "args": [
             {
              "visible": [
               false,
               false,
               false,
               false,
               false,
               false,
               false,
               false,
               false,
               false,
               false,
               false,
               false,
               false,
               false,
               false,
               false,
               true,
               false,
               false,
               false,
               false,
               false,
               false,
               false,
               false,
               false,
               false,
               false,
               false,
               false,
               false,
               false,
               false,
               false,
               false,
               false,
               false,
               false
              ]
             },
             {
              "title": "Most talked about Vaccine in Japan"
             }
            ],
            "label": "Japan",
            "method": "update"
           },
           {
            "args": [
             {
              "visible": [
               false,
               false,
               false,
               false,
               false,
               false,
               false,
               false,
               false,
               false,
               false,
               false,
               false,
               false,
               false,
               false,
               false,
               false,
               true,
               false,
               false,
               false,
               false,
               false,
               false,
               false,
               false,
               false,
               false,
               false,
               false,
               false,
               false,
               false,
               false,
               false,
               false,
               false,
               false
              ]
             },
             {
              "title": "Most talked about Vaccine in Jersey"
             }
            ],
            "label": "Jersey",
            "method": "update"
           },
           {
            "args": [
             {
              "visible": [
               false,
               false,
               false,
               false,
               false,
               false,
               false,
               false,
               false,
               false,
               false,
               false,
               false,
               false,
               false,
               false,
               false,
               false,
               false,
               true,
               false,
               false,
               false,
               false,
               false,
               false,
               false,
               false,
               false,
               false,
               false,
               false,
               false,
               false,
               false,
               false,
               false,
               false,
               false
              ]
             },
             {
              "title": "Most talked about Vaccine in Malaysia"
             }
            ],
            "label": "Malaysia",
            "method": "update"
           },
           {
            "args": [
             {
              "visible": [
               false,
               false,
               false,
               false,
               false,
               false,
               false,
               false,
               false,
               false,
               false,
               false,
               false,
               false,
               false,
               false,
               false,
               false,
               false,
               false,
               true,
               false,
               false,
               false,
               false,
               false,
               false,
               false,
               false,
               false,
               false,
               false,
               false,
               false,
               false,
               false,
               false,
               false,
               false
              ]
             },
             {
              "title": "Most talked about Vaccine in Mexico"
             }
            ],
            "label": "Mexico",
            "method": "update"
           },
           {
            "args": [
             {
              "visible": [
               false,
               false,
               false,
               false,
               false,
               false,
               false,
               false,
               false,
               false,
               false,
               false,
               false,
               false,
               false,
               false,
               false,
               false,
               false,
               false,
               false,
               true,
               false,
               false,
               false,
               false,
               false,
               false,
               false,
               false,
               false,
               false,
               false,
               false,
               false,
               false,
               false,
               false,
               false
              ]
             },
             {
              "title": "Most talked about Vaccine in Netherlands"
             }
            ],
            "label": "Netherlands",
            "method": "update"
           },
           {
            "args": [
             {
              "visible": [
               false,
               false,
               false,
               false,
               false,
               false,
               false,
               false,
               false,
               false,
               false,
               false,
               false,
               false,
               false,
               false,
               false,
               false,
               false,
               false,
               false,
               false,
               true,
               false,
               false,
               false,
               false,
               false,
               false,
               false,
               false,
               false,
               false,
               false,
               false,
               false,
               false,
               false,
               false
              ]
             },
             {
              "title": "Most talked about Vaccine in Pakistan"
             }
            ],
            "label": "Pakistan",
            "method": "update"
           },
           {
            "args": [
             {
              "visible": [
               false,
               false,
               false,
               false,
               false,
               false,
               false,
               false,
               false,
               false,
               false,
               false,
               false,
               false,
               false,
               false,
               false,
               false,
               false,
               false,
               false,
               false,
               false,
               true,
               false,
               false,
               false,
               false,
               false,
               false,
               false,
               false,
               false,
               false,
               false,
               false,
               false,
               false,
               false
              ]
             },
             {
              "title": "Most talked about Vaccine in Palestinian Territory"
             }
            ],
            "label": "Palestinian Territory",
            "method": "update"
           },
           {
            "args": [
             {
              "visible": [
               false,
               false,
               false,
               false,
               false,
               false,
               false,
               false,
               false,
               false,
               false,
               false,
               false,
               false,
               false,
               false,
               false,
               false,
               false,
               false,
               false,
               false,
               false,
               false,
               true,
               false,
               false,
               false,
               false,
               false,
               false,
               false,
               false,
               false,
               false,
               false,
               false,
               false,
               false
              ]
             },
             {
              "title": "Most talked about Vaccine in Philippines"
             }
            ],
            "label": "Philippines",
            "method": "update"
           },
           {
            "args": [
             {
              "visible": [
               false,
               false,
               false,
               false,
               false,
               false,
               false,
               false,
               false,
               false,
               false,
               false,
               false,
               false,
               false,
               false,
               false,
               false,
               false,
               false,
               false,
               false,
               false,
               false,
               false,
               true,
               false,
               false,
               false,
               false,
               false,
               false,
               false,
               false,
               false,
               false,
               false,
               false,
               false
              ]
             },
             {
              "title": "Most talked about Vaccine in Qatar"
             }
            ],
            "label": "Qatar",
            "method": "update"
           },
           {
            "args": [
             {
              "visible": [
               false,
               false,
               false,
               false,
               false,
               false,
               false,
               false,
               false,
               false,
               false,
               false,
               false,
               false,
               false,
               false,
               false,
               false,
               false,
               false,
               false,
               false,
               false,
               false,
               false,
               false,
               true,
               false,
               false,
               false,
               false,
               false,
               false,
               false,
               false,
               false,
               false,
               false,
               false
              ]
             },
             {
              "title": "Most talked about Vaccine in Russian Federation"
             }
            ],
            "label": "Russian Federation",
            "method": "update"
           },
           {
            "args": [
             {
              "visible": [
               false,
               false,
               false,
               false,
               false,
               false,
               false,
               false,
               false,
               false,
               false,
               false,
               false,
               false,
               false,
               false,
               false,
               false,
               false,
               false,
               false,
               false,
               false,
               false,
               false,
               false,
               false,
               true,
               false,
               false,
               false,
               false,
               false,
               false,
               false,
               false,
               false,
               false,
               false
              ]
             },
             {
              "title": "Most talked about Vaccine in Saudi Arabia"
             }
            ],
            "label": "Saudi Arabia",
            "method": "update"
           },
           {
            "args": [
             {
              "visible": [
               false,
               false,
               false,
               false,
               false,
               false,
               false,
               false,
               false,
               false,
               false,
               false,
               false,
               false,
               false,
               false,
               false,
               false,
               false,
               false,
               false,
               false,
               false,
               false,
               false,
               false,
               false,
               false,
               true,
               false,
               false,
               false,
               false,
               false,
               false,
               false,
               false,
               false,
               false
              ]
             },
             {
              "title": "Most talked about Vaccine in Singapore"
             }
            ],
            "label": "Singapore",
            "method": "update"
           },
           {
            "args": [
             {
              "visible": [
               false,
               false,
               false,
               false,
               false,
               false,
               false,
               false,
               false,
               false,
               false,
               false,
               false,
               false,
               false,
               false,
               false,
               false,
               false,
               false,
               false,
               false,
               false,
               false,
               false,
               false,
               false,
               false,
               false,
               true,
               false,
               false,
               false,
               false,
               false,
               false,
               false,
               false,
               false
              ]
             },
             {
              "title": "Most talked about Vaccine in Spain"
             }
            ],
            "label": "Spain",
            "method": "update"
           },
           {
            "args": [
             {
              "visible": [
               false,
               false,
               false,
               false,
               false,
               false,
               false,
               false,
               false,
               false,
               false,
               false,
               false,
               false,
               false,
               false,
               false,
               false,
               false,
               false,
               false,
               false,
               false,
               false,
               false,
               false,
               false,
               false,
               false,
               false,
               true,
               false,
               false,
               false,
               false,
               false,
               false,
               false,
               false
              ]
             },
             {
              "title": "Most talked about Vaccine in Sweden"
             }
            ],
            "label": "Sweden",
            "method": "update"
           },
           {
            "args": [
             {
              "visible": [
               false,
               false,
               false,
               false,
               false,
               false,
               false,
               false,
               false,
               false,
               false,
               false,
               false,
               false,
               false,
               false,
               false,
               false,
               false,
               false,
               false,
               false,
               false,
               false,
               false,
               false,
               false,
               false,
               false,
               false,
               false,
               true,
               false,
               false,
               false,
               false,
               false,
               false,
               false
              ]
             },
             {
              "title": "Most talked about Vaccine in Switzerland"
             }
            ],
            "label": "Switzerland",
            "method": "update"
           },
           {
            "args": [
             {
              "visible": [
               false,
               false,
               false,
               false,
               false,
               false,
               false,
               false,
               false,
               false,
               false,
               false,
               false,
               false,
               false,
               false,
               false,
               false,
               false,
               false,
               false,
               false,
               false,
               false,
               false,
               false,
               false,
               false,
               false,
               false,
               false,
               false,
               true,
               false,
               false,
               false,
               false,
               false,
               false
              ]
             },
             {
              "title": "Most talked about Vaccine in Thailand"
             }
            ],
            "label": "Thailand",
            "method": "update"
           },
           {
            "args": [
             {
              "visible": [
               false,
               false,
               false,
               false,
               false,
               false,
               false,
               false,
               false,
               false,
               false,
               false,
               false,
               false,
               false,
               false,
               false,
               false,
               false,
               false,
               false,
               false,
               false,
               false,
               false,
               false,
               false,
               false,
               false,
               false,
               false,
               false,
               false,
               true,
               false,
               false,
               false,
               false,
               false
              ]
             },
             {
              "title": "Most talked about Vaccine in Trinidad and Tobago"
             }
            ],
            "label": "Trinidad and Tobago",
            "method": "update"
           },
           {
            "args": [
             {
              "visible": [
               false,
               false,
               false,
               false,
               false,
               false,
               false,
               false,
               false,
               false,
               false,
               false,
               false,
               false,
               false,
               false,
               false,
               false,
               false,
               false,
               false,
               false,
               false,
               false,
               false,
               false,
               false,
               false,
               false,
               false,
               false,
               false,
               false,
               false,
               true,
               false,
               false,
               false,
               false
              ]
             },
             {
              "title": "Most talked about Vaccine in Ukraine"
             }
            ],
            "label": "Ukraine",
            "method": "update"
           },
           {
            "args": [
             {
              "visible": [
               false,
               false,
               false,
               false,
               false,
               false,
               false,
               false,
               false,
               false,
               false,
               false,
               false,
               false,
               false,
               false,
               false,
               false,
               false,
               false,
               false,
               false,
               false,
               false,
               false,
               false,
               false,
               false,
               false,
               false,
               false,
               false,
               false,
               false,
               false,
               true,
               false,
               false,
               false
              ]
             },
             {
              "title": "Most talked about Vaccine in United Arab Emirates"
             }
            ],
            "label": "United Arab Emirates",
            "method": "update"
           },
           {
            "args": [
             {
              "visible": [
               false,
               false,
               false,
               false,
               false,
               false,
               false,
               false,
               false,
               false,
               false,
               false,
               false,
               false,
               false,
               false,
               false,
               false,
               false,
               false,
               false,
               false,
               false,
               false,
               false,
               false,
               false,
               false,
               false,
               false,
               false,
               false,
               false,
               false,
               false,
               false,
               true,
               false,
               false
              ]
             },
             {
              "title": "Most talked about Vaccine in United Kingdom"
             }
            ],
            "label": "United Kingdom",
            "method": "update"
           },
           {
            "args": [
             {
              "visible": [
               false,
               false,
               false,
               false,
               false,
               false,
               false,
               false,
               false,
               false,
               false,
               false,
               false,
               false,
               false,
               false,
               false,
               false,
               false,
               false,
               false,
               false,
               false,
               false,
               false,
               false,
               false,
               false,
               false,
               false,
               false,
               false,
               false,
               false,
               false,
               false,
               false,
               true,
               false
              ]
             },
             {
              "title": "Most talked about Vaccine in United States"
             }
            ],
            "label": "United States",
            "method": "update"
           },
           {
            "args": [
             {
              "visible": [
               false,
               false,
               false,
               false,
               false,
               false,
               false,
               false,
               false,
               false,
               false,
               false,
               false,
               false,
               false,
               false,
               false,
               false,
               false,
               false,
               false,
               false,
               false,
               false,
               false,
               false,
               false,
               false,
               false,
               false,
               false,
               false,
               false,
               false,
               false,
               false,
               false,
               false,
               true
              ]
             },
             {
              "title": "Most talked about Vaccine in Virgin Islands, U.S."
             }
            ],
            "label": "Virgin Islands, U.S.",
            "method": "update"
           }
          ],
          "direction": "down",
          "pad": {
           "r": 10,
           "t": 10
          },
          "showactive": true,
          "x": 1,
          "xanchor": "right",
          "y": 1.2,
          "yanchor": "top"
         }
        ],
        "xaxis": {
         "title": {
          "text": "Time"
         }
        },
        "yaxis": {
         "title": {
          "text": "Sentiment"
         }
        }
       }
      },
      "text/html": [
       "<div>                            <div id=\"da474a7e-97f0-4996-9dcb-aff36ac3ca2c\" class=\"plotly-graph-div\" style=\"height:525px; width:100%;\"></div>            <script type=\"text/javascript\">                require([\"plotly\"], function(Plotly) {                    window.PLOTLYENV=window.PLOTLYENV || {};                                    if (document.getElementById(\"da474a7e-97f0-4996-9dcb-aff36ac3ca2c\")) {                    Plotly.newPlot(                        \"da474a7e-97f0-4996-9dcb-aff36ac3ca2c\",                        [{\"labels\":[\"PfizerBiontech\",\"SputnikV\",\"Sinopharm\",\"Sinovac\",\"Moderna\",\"AstraZeneca\",\"Covaxin\",\"JandJ\"],\"type\":\"pie\",\"values\":[11,44,5,4,6,3,1,0]},{\"labels\":[\"PfizerBiontech\",\"SputnikV\",\"Sinopharm\",\"Sinovac\",\"Moderna\",\"AstraZeneca\",\"Covaxin\",\"JandJ\"],\"type\":\"pie\",\"values\":[123,29,8,25,117,65,19,3]},{\"labels\":[\"PfizerBiontech\",\"SputnikV\",\"Sinopharm\",\"Sinovac\",\"Moderna\",\"AstraZeneca\",\"Covaxin\",\"JandJ\"],\"type\":\"pie\",\"values\":[21,61,3,8,30,8,1,1]},{\"labels\":[\"PfizerBiontech\",\"SputnikV\",\"Sinopharm\",\"Sinovac\",\"Moderna\",\"AstraZeneca\",\"Covaxin\",\"JandJ\"],\"type\":\"pie\",\"values\":[53,82,5,9,46,17,4,2]},{\"labels\":[\"PfizerBiontech\",\"SputnikV\",\"Sinopharm\",\"Sinovac\",\"Moderna\",\"AstraZeneca\",\"Covaxin\",\"JandJ\"],\"type\":\"pie\",\"values\":[2,3,1,3,3,8,5,0]},{\"labels\":[\"PfizerBiontech\",\"SputnikV\",\"Sinopharm\",\"Sinovac\",\"Moderna\",\"AstraZeneca\",\"Covaxin\",\"JandJ\"],\"type\":\"pie\",\"values\":[615,2239,20,63,1069,247,52,34]},{\"labels\":[\"PfizerBiontech\",\"SputnikV\",\"Sinopharm\",\"Sinovac\",\"Moderna\",\"AstraZeneca\",\"Covaxin\",\"JandJ\"],\"type\":\"pie\",\"values\":[0,0,0,1,0,0,0,0]},{\"labels\":[\"PfizerBiontech\",\"SputnikV\",\"Sinopharm\",\"Sinovac\",\"Moderna\",\"AstraZeneca\",\"Covaxin\",\"JandJ\"],\"type\":\"pie\",\"values\":[0,0,0,1,0,0,0,0]},{\"labels\":[\"PfizerBiontech\",\"SputnikV\",\"Sinopharm\",\"Sinovac\",\"Moderna\",\"AstraZeneca\",\"Covaxin\",\"JandJ\"],\"type\":\"pie\",\"values\":[0,0,0,0,0,0,1,0]},{\"labels\":[\"PfizerBiontech\",\"SputnikV\",\"Sinopharm\",\"Sinovac\",\"Moderna\",\"AstraZeneca\",\"Covaxin\",\"JandJ\"],\"type\":\"pie\",\"values\":[124,113,27,17,116,40,12,7]},{\"labels\":[\"PfizerBiontech\",\"SputnikV\",\"Sinopharm\",\"Sinovac\",\"Moderna\",\"AstraZeneca\",\"Covaxin\",\"JandJ\"],\"type\":\"pie\",\"values\":[128,106,13,15,136,40,29,11]},{\"labels\":[\"PfizerBiontech\",\"SputnikV\",\"Sinopharm\",\"Sinovac\",\"Moderna\",\"AstraZeneca\",\"Covaxin\",\"JandJ\"],\"type\":\"pie\",\"values\":[0,0,0,0,1,0,0,0]},{\"labels\":[\"PfizerBiontech\",\"SputnikV\",\"Sinopharm\",\"Sinovac\",\"Moderna\",\"AstraZeneca\",\"Covaxin\",\"JandJ\"],\"type\":\"pie\",\"values\":[0,1,0,0,0,0,0,0]},{\"labels\":[\"PfizerBiontech\",\"SputnikV\",\"Sinopharm\",\"Sinovac\",\"Moderna\",\"AstraZeneca\",\"Covaxin\",\"JandJ\"],\"type\":\"pie\",\"values\":[2,0,0,1,0,0,0,0]},{\"labels\":[\"PfizerBiontech\",\"SputnikV\",\"Sinopharm\",\"Sinovac\",\"Moderna\",\"AstraZeneca\",\"Covaxin\",\"JandJ\"],\"type\":\"pie\",\"values\":[931,3273,181,201,979,291,10593,48]},{\"labels\":[\"PfizerBiontech\",\"SputnikV\",\"Sinopharm\",\"Sinovac\",\"Moderna\",\"AstraZeneca\",\"Covaxin\",\"JandJ\"],\"type\":\"pie\",\"values\":[0,0,0,5,0,0,0,0]},{\"labels\":[\"PfizerBiontech\",\"SputnikV\",\"Sinopharm\",\"Sinovac\",\"Moderna\",\"AstraZeneca\",\"Covaxin\",\"JandJ\"],\"type\":\"pie\",\"values\":[84,34,1,8,83,47,3,20]},{\"labels\":[\"PfizerBiontech\",\"SputnikV\",\"Sinopharm\",\"Sinovac\",\"Moderna\",\"AstraZeneca\",\"Covaxin\",\"JandJ\"],\"type\":\"pie\",\"values\":[15,5,6,12,38,5,48,3]},{\"labels\":[\"PfizerBiontech\",\"SputnikV\",\"Sinopharm\",\"Sinovac\",\"Moderna\",\"AstraZeneca\",\"Covaxin\",\"JandJ\"],\"type\":\"pie\",\"values\":[0,0,0,0,0,1,0,0]},{\"labels\":[\"PfizerBiontech\",\"SputnikV\",\"Sinopharm\",\"Sinovac\",\"Moderna\",\"AstraZeneca\",\"Covaxin\",\"JandJ\"],\"type\":\"pie\",\"values\":[2,0,0,4,1,0,0,0]},{\"labels\":[\"PfizerBiontech\",\"SputnikV\",\"Sinopharm\",\"Sinovac\",\"Moderna\",\"AstraZeneca\",\"Covaxin\",\"JandJ\"],\"type\":\"pie\",\"values\":[12,6,0,2,33,4,13,2]},{\"labels\":[\"PfizerBiontech\",\"SputnikV\",\"Sinopharm\",\"Sinovac\",\"Moderna\",\"AstraZeneca\",\"Covaxin\",\"JandJ\"],\"type\":\"pie\",\"values\":[0,0,0,0,1,0,0,0]},{\"labels\":[\"PfizerBiontech\",\"SputnikV\",\"Sinopharm\",\"Sinovac\",\"Moderna\",\"AstraZeneca\",\"Covaxin\",\"JandJ\"],\"type\":\"pie\",\"values\":[82,194,569,458,42,67,26,2]},{\"labels\":[\"PfizerBiontech\",\"SputnikV\",\"Sinopharm\",\"Sinovac\",\"Moderna\",\"AstraZeneca\",\"Covaxin\",\"JandJ\"],\"type\":\"pie\",\"values\":[44,23,1,5,34,1,1,0]},{\"labels\":[\"PfizerBiontech\",\"SputnikV\",\"Sinopharm\",\"Sinovac\",\"Moderna\",\"AstraZeneca\",\"Covaxin\",\"JandJ\"],\"type\":\"pie\",\"values\":[4,1,0,58,0,0,0,0]},{\"labels\":[\"PfizerBiontech\",\"SputnikV\",\"Sinopharm\",\"Sinovac\",\"Moderna\",\"AstraZeneca\",\"Covaxin\",\"JandJ\"],\"type\":\"pie\",\"values\":[2,0,0,0,1,0,0,0]},{\"labels\":[\"PfizerBiontech\",\"SputnikV\",\"Sinopharm\",\"Sinovac\",\"Moderna\",\"AstraZeneca\",\"Covaxin\",\"JandJ\"],\"type\":\"pie\",\"values\":[10,657,1,3,7,7,4,2]},{\"labels\":[\"PfizerBiontech\",\"SputnikV\",\"Sinopharm\",\"Sinovac\",\"Moderna\",\"AstraZeneca\",\"Covaxin\",\"JandJ\"],\"type\":\"pie\",\"values\":[0,0,0,0,0,1,0,0]},{\"labels\":[\"PfizerBiontech\",\"SputnikV\",\"Sinopharm\",\"Sinovac\",\"Moderna\",\"AstraZeneca\",\"Covaxin\",\"JandJ\"],\"type\":\"pie\",\"values\":[1,0,0,0,2,0,0,0]},{\"labels\":[\"PfizerBiontech\",\"SputnikV\",\"Sinopharm\",\"Sinovac\",\"Moderna\",\"AstraZeneca\",\"Covaxin\",\"JandJ\"],\"type\":\"pie\",\"values\":[43,18,2,4,47,15,12,1]},{\"labels\":[\"PfizerBiontech\",\"SputnikV\",\"Sinopharm\",\"Sinovac\",\"Moderna\",\"AstraZeneca\",\"Covaxin\",\"JandJ\"],\"type\":\"pie\",\"values\":[0,0,0,0,1,0,0,0]},{\"labels\":[\"PfizerBiontech\",\"SputnikV\",\"Sinopharm\",\"Sinovac\",\"Moderna\",\"AstraZeneca\",\"Covaxin\",\"JandJ\"],\"type\":\"pie\",\"values\":[0,0,0,0,1,0,0,0]},{\"labels\":[\"PfizerBiontech\",\"SputnikV\",\"Sinopharm\",\"Sinovac\",\"Moderna\",\"AstraZeneca\",\"Covaxin\",\"JandJ\"],\"type\":\"pie\",\"values\":[0,0,0,6,0,0,0,0]},{\"labels\":[\"PfizerBiontech\",\"SputnikV\",\"Sinopharm\",\"Sinovac\",\"Moderna\",\"AstraZeneca\",\"Covaxin\",\"JandJ\"],\"type\":\"pie\",\"values\":[0,0,3,0,0,0,0,0]},{\"labels\":[\"PfizerBiontech\",\"SputnikV\",\"Sinopharm\",\"Sinovac\",\"Moderna\",\"AstraZeneca\",\"Covaxin\",\"JandJ\"],\"type\":\"pie\",\"values\":[27,12,44,4,16,5,7,0]},{\"labels\":[\"PfizerBiontech\",\"SputnikV\",\"Sinopharm\",\"Sinovac\",\"Moderna\",\"AstraZeneca\",\"Covaxin\",\"JandJ\"],\"type\":\"pie\",\"values\":[1,0,5,0,0,0,0,0]},{\"labels\":[\"PfizerBiontech\",\"SputnikV\",\"Sinopharm\",\"Sinovac\",\"Moderna\",\"AstraZeneca\",\"Covaxin\",\"JandJ\"],\"type\":\"pie\",\"values\":[376,102,27,43,317,547,51,9]},{\"labels\":[\"PfizerBiontech\",\"SputnikV\",\"Sinopharm\",\"Sinovac\",\"Moderna\",\"AstraZeneca\",\"Covaxin\",\"JandJ\"],\"type\":\"pie\",\"values\":[728,151,23,48,2734,85,364,141]},{\"labels\":[\"PfizerBiontech\",\"SputnikV\",\"Sinopharm\",\"Sinovac\",\"Moderna\",\"AstraZeneca\",\"Covaxin\",\"JandJ\"],\"type\":\"pie\",\"values\":[1,0,0,0,0,0,0,0]}],                        {\"legend\":{\"title\":{\"text\":\"Vaccines\"}},\"template\":{\"data\":{\"bar\":[{\"error_x\":{\"color\":\"#2a3f5f\"},\"error_y\":{\"color\":\"#2a3f5f\"},\"marker\":{\"line\":{\"color\":\"#E5ECF6\",\"width\":0.5},\"pattern\":{\"fillmode\":\"overlay\",\"size\":10,\"solidity\":0.2}},\"type\":\"bar\"}],\"barpolar\":[{\"marker\":{\"line\":{\"color\":\"#E5ECF6\",\"width\":0.5},\"pattern\":{\"fillmode\":\"overlay\",\"size\":10,\"solidity\":0.2}},\"type\":\"barpolar\"}],\"carpet\":[{\"aaxis\":{\"endlinecolor\":\"#2a3f5f\",\"gridcolor\":\"white\",\"linecolor\":\"white\",\"minorgridcolor\":\"white\",\"startlinecolor\":\"#2a3f5f\"},\"baxis\":{\"endlinecolor\":\"#2a3f5f\",\"gridcolor\":\"white\",\"linecolor\":\"white\",\"minorgridcolor\":\"white\",\"startlinecolor\":\"#2a3f5f\"},\"type\":\"carpet\"}],\"choropleth\":[{\"colorbar\":{\"outlinewidth\":0,\"ticks\":\"\"},\"type\":\"choropleth\"}],\"contour\":[{\"colorbar\":{\"outlinewidth\":0,\"ticks\":\"\"},\"colorscale\":[[0.0,\"#0d0887\"],[0.1111111111111111,\"#46039f\"],[0.2222222222222222,\"#7201a8\"],[0.3333333333333333,\"#9c179e\"],[0.4444444444444444,\"#bd3786\"],[0.5555555555555556,\"#d8576b\"],[0.6666666666666666,\"#ed7953\"],[0.7777777777777778,\"#fb9f3a\"],[0.8888888888888888,\"#fdca26\"],[1.0,\"#f0f921\"]],\"type\":\"contour\"}],\"contourcarpet\":[{\"colorbar\":{\"outlinewidth\":0,\"ticks\":\"\"},\"type\":\"contourcarpet\"}],\"heatmap\":[{\"colorbar\":{\"outlinewidth\":0,\"ticks\":\"\"},\"colorscale\":[[0.0,\"#0d0887\"],[0.1111111111111111,\"#46039f\"],[0.2222222222222222,\"#7201a8\"],[0.3333333333333333,\"#9c179e\"],[0.4444444444444444,\"#bd3786\"],[0.5555555555555556,\"#d8576b\"],[0.6666666666666666,\"#ed7953\"],[0.7777777777777778,\"#fb9f3a\"],[0.8888888888888888,\"#fdca26\"],[1.0,\"#f0f921\"]],\"type\":\"heatmap\"}],\"heatmapgl\":[{\"colorbar\":{\"outlinewidth\":0,\"ticks\":\"\"},\"colorscale\":[[0.0,\"#0d0887\"],[0.1111111111111111,\"#46039f\"],[0.2222222222222222,\"#7201a8\"],[0.3333333333333333,\"#9c179e\"],[0.4444444444444444,\"#bd3786\"],[0.5555555555555556,\"#d8576b\"],[0.6666666666666666,\"#ed7953\"],[0.7777777777777778,\"#fb9f3a\"],[0.8888888888888888,\"#fdca26\"],[1.0,\"#f0f921\"]],\"type\":\"heatmapgl\"}],\"histogram\":[{\"marker\":{\"pattern\":{\"fillmode\":\"overlay\",\"size\":10,\"solidity\":0.2}},\"type\":\"histogram\"}],\"histogram2d\":[{\"colorbar\":{\"outlinewidth\":0,\"ticks\":\"\"},\"colorscale\":[[0.0,\"#0d0887\"],[0.1111111111111111,\"#46039f\"],[0.2222222222222222,\"#7201a8\"],[0.3333333333333333,\"#9c179e\"],[0.4444444444444444,\"#bd3786\"],[0.5555555555555556,\"#d8576b\"],[0.6666666666666666,\"#ed7953\"],[0.7777777777777778,\"#fb9f3a\"],[0.8888888888888888,\"#fdca26\"],[1.0,\"#f0f921\"]],\"type\":\"histogram2d\"}],\"histogram2dcontour\":[{\"colorbar\":{\"outlinewidth\":0,\"ticks\":\"\"},\"colorscale\":[[0.0,\"#0d0887\"],[0.1111111111111111,\"#46039f\"],[0.2222222222222222,\"#7201a8\"],[0.3333333333333333,\"#9c179e\"],[0.4444444444444444,\"#bd3786\"],[0.5555555555555556,\"#d8576b\"],[0.6666666666666666,\"#ed7953\"],[0.7777777777777778,\"#fb9f3a\"],[0.8888888888888888,\"#fdca26\"],[1.0,\"#f0f921\"]],\"type\":\"histogram2dcontour\"}],\"mesh3d\":[{\"colorbar\":{\"outlinewidth\":0,\"ticks\":\"\"},\"type\":\"mesh3d\"}],\"parcoords\":[{\"line\":{\"colorbar\":{\"outlinewidth\":0,\"ticks\":\"\"}},\"type\":\"parcoords\"}],\"pie\":[{\"automargin\":true,\"type\":\"pie\"}],\"scatter\":[{\"marker\":{\"colorbar\":{\"outlinewidth\":0,\"ticks\":\"\"}},\"type\":\"scatter\"}],\"scatter3d\":[{\"line\":{\"colorbar\":{\"outlinewidth\":0,\"ticks\":\"\"}},\"marker\":{\"colorbar\":{\"outlinewidth\":0,\"ticks\":\"\"}},\"type\":\"scatter3d\"}],\"scattercarpet\":[{\"marker\":{\"colorbar\":{\"outlinewidth\":0,\"ticks\":\"\"}},\"type\":\"scattercarpet\"}],\"scattergeo\":[{\"marker\":{\"colorbar\":{\"outlinewidth\":0,\"ticks\":\"\"}},\"type\":\"scattergeo\"}],\"scattergl\":[{\"marker\":{\"colorbar\":{\"outlinewidth\":0,\"ticks\":\"\"}},\"type\":\"scattergl\"}],\"scattermapbox\":[{\"marker\":{\"colorbar\":{\"outlinewidth\":0,\"ticks\":\"\"}},\"type\":\"scattermapbox\"}],\"scatterpolar\":[{\"marker\":{\"colorbar\":{\"outlinewidth\":0,\"ticks\":\"\"}},\"type\":\"scatterpolar\"}],\"scatterpolargl\":[{\"marker\":{\"colorbar\":{\"outlinewidth\":0,\"ticks\":\"\"}},\"type\":\"scatterpolargl\"}],\"scatterternary\":[{\"marker\":{\"colorbar\":{\"outlinewidth\":0,\"ticks\":\"\"}},\"type\":\"scatterternary\"}],\"surface\":[{\"colorbar\":{\"outlinewidth\":0,\"ticks\":\"\"},\"colorscale\":[[0.0,\"#0d0887\"],[0.1111111111111111,\"#46039f\"],[0.2222222222222222,\"#7201a8\"],[0.3333333333333333,\"#9c179e\"],[0.4444444444444444,\"#bd3786\"],[0.5555555555555556,\"#d8576b\"],[0.6666666666666666,\"#ed7953\"],[0.7777777777777778,\"#fb9f3a\"],[0.8888888888888888,\"#fdca26\"],[1.0,\"#f0f921\"]],\"type\":\"surface\"}],\"table\":[{\"cells\":{\"fill\":{\"color\":\"#EBF0F8\"},\"line\":{\"color\":\"white\"}},\"header\":{\"fill\":{\"color\":\"#C8D4E3\"},\"line\":{\"color\":\"white\"}},\"type\":\"table\"}]},\"layout\":{\"annotationdefaults\":{\"arrowcolor\":\"#2a3f5f\",\"arrowhead\":0,\"arrowwidth\":1},\"autotypenumbers\":\"strict\",\"coloraxis\":{\"colorbar\":{\"outlinewidth\":0,\"ticks\":\"\"}},\"colorscale\":{\"diverging\":[[0,\"#8e0152\"],[0.1,\"#c51b7d\"],[0.2,\"#de77ae\"],[0.3,\"#f1b6da\"],[0.4,\"#fde0ef\"],[0.5,\"#f7f7f7\"],[0.6,\"#e6f5d0\"],[0.7,\"#b8e186\"],[0.8,\"#7fbc41\"],[0.9,\"#4d9221\"],[1,\"#276419\"]],\"sequential\":[[0.0,\"#0d0887\"],[0.1111111111111111,\"#46039f\"],[0.2222222222222222,\"#7201a8\"],[0.3333333333333333,\"#9c179e\"],[0.4444444444444444,\"#bd3786\"],[0.5555555555555556,\"#d8576b\"],[0.6666666666666666,\"#ed7953\"],[0.7777777777777778,\"#fb9f3a\"],[0.8888888888888888,\"#fdca26\"],[1.0,\"#f0f921\"]],\"sequentialminus\":[[0.0,\"#0d0887\"],[0.1111111111111111,\"#46039f\"],[0.2222222222222222,\"#7201a8\"],[0.3333333333333333,\"#9c179e\"],[0.4444444444444444,\"#bd3786\"],[0.5555555555555556,\"#d8576b\"],[0.6666666666666666,\"#ed7953\"],[0.7777777777777778,\"#fb9f3a\"],[0.8888888888888888,\"#fdca26\"],[1.0,\"#f0f921\"]]},\"colorway\":[\"#636efa\",\"#EF553B\",\"#00cc96\",\"#ab63fa\",\"#FFA15A\",\"#19d3f3\",\"#FF6692\",\"#B6E880\",\"#FF97FF\",\"#FECB52\"],\"font\":{\"color\":\"#2a3f5f\"},\"geo\":{\"bgcolor\":\"white\",\"lakecolor\":\"white\",\"landcolor\":\"#E5ECF6\",\"showlakes\":true,\"showland\":true,\"subunitcolor\":\"white\"},\"hoverlabel\":{\"align\":\"left\"},\"hovermode\":\"closest\",\"mapbox\":{\"style\":\"light\"},\"paper_bgcolor\":\"white\",\"plot_bgcolor\":\"#E5ECF6\",\"polar\":{\"angularaxis\":{\"gridcolor\":\"white\",\"linecolor\":\"white\",\"ticks\":\"\"},\"bgcolor\":\"#E5ECF6\",\"radialaxis\":{\"gridcolor\":\"white\",\"linecolor\":\"white\",\"ticks\":\"\"}},\"scene\":{\"xaxis\":{\"backgroundcolor\":\"#E5ECF6\",\"gridcolor\":\"white\",\"gridwidth\":2,\"linecolor\":\"white\",\"showbackground\":true,\"ticks\":\"\",\"zerolinecolor\":\"white\"},\"yaxis\":{\"backgroundcolor\":\"#E5ECF6\",\"gridcolor\":\"white\",\"gridwidth\":2,\"linecolor\":\"white\",\"showbackground\":true,\"ticks\":\"\",\"zerolinecolor\":\"white\"},\"zaxis\":{\"backgroundcolor\":\"#E5ECF6\",\"gridcolor\":\"white\",\"gridwidth\":2,\"linecolor\":\"white\",\"showbackground\":true,\"ticks\":\"\",\"zerolinecolor\":\"white\"}},\"shapedefaults\":{\"line\":{\"color\":\"#2a3f5f\"}},\"ternary\":{\"aaxis\":{\"gridcolor\":\"white\",\"linecolor\":\"white\",\"ticks\":\"\"},\"baxis\":{\"gridcolor\":\"white\",\"linecolor\":\"white\",\"ticks\":\"\"},\"bgcolor\":\"#E5ECF6\",\"caxis\":{\"gridcolor\":\"white\",\"linecolor\":\"white\",\"ticks\":\"\"}},\"title\":{\"x\":0.05},\"xaxis\":{\"automargin\":true,\"gridcolor\":\"white\",\"linecolor\":\"white\",\"ticks\":\"\",\"title\":{\"standoff\":15},\"zerolinecolor\":\"white\",\"zerolinewidth\":2},\"yaxis\":{\"automargin\":true,\"gridcolor\":\"white\",\"linecolor\":\"white\",\"ticks\":\"\",\"title\":{\"standoff\":15},\"zerolinecolor\":\"white\",\"zerolinewidth\":2}}},\"updatemenus\":[{\"buttons\":[{\"args\":[{\"visible\":[true,false,false,false,false,false,false,false,false,false,false,false,false,false,false,false,false,false,false,false,false,false,false,false,false,false,false,false,false,false,false,false,false,false,false,false,false,false,false]},{\"title\":\"Most talked about Vaccine in Argentina\"}],\"label\":\"Argentina\",\"method\":\"update\"},{\"args\":[{\"visible\":[false,true,false,false,false,false,false,false,false,false,false,false,false,false,false,false,false,false,false,false,false,false,false,false,false,false,false,false,false,false,false,false,false,false,false,false,false,false,false]},{\"title\":\"Most talked about Vaccine in Australia\"}],\"label\":\"Australia\",\"method\":\"update\"},{\"args\":[{\"visible\":[false,false,true,false,false,false,false,false,false,false,false,false,false,false,false,false,false,false,false,false,false,false,false,false,false,false,false,false,false,false,false,false,false,false,false,false,false,false,false]},{\"title\":\"Most talked about Vaccine in Austria\"}],\"label\":\"Austria\",\"method\":\"update\"},{\"args\":[{\"visible\":[false,false,false,true,false,false,false,false,false,false,false,false,false,false,false,false,false,false,false,false,false,false,false,false,false,false,false,false,false,false,false,false,false,false,false,false,false,false,false]},{\"title\":\"Most talked about Vaccine in Belgium\"}],\"label\":\"Belgium\",\"method\":\"update\"},{\"args\":[{\"visible\":[false,false,false,false,true,false,false,false,false,false,false,false,false,false,false,false,false,false,false,false,false,false,false,false,false,false,false,false,false,false,false,false,false,false,false,false,false,false,false]},{\"title\":\"Most talked about Vaccine in Brazil\"}],\"label\":\"Brazil\",\"method\":\"update\"},{\"args\":[{\"visible\":[false,false,false,false,false,true,false,false,false,false,false,false,false,false,false,false,false,false,false,false,false,false,false,false,false,false,false,false,false,false,false,false,false,false,false,false,false,false,false]},{\"title\":\"Most talked about Vaccine in Canada\"}],\"label\":\"Canada\",\"method\":\"update\"},{\"args\":[{\"visible\":[false,false,false,false,false,false,true,false,false,false,false,false,false,false,false,false,false,false,false,false,false,false,false,false,false,false,false,false,false,false,false,false,false,false,false,false,false,false,false]},{\"title\":\"Most talked about Vaccine in Chile\"}],\"label\":\"Chile\",\"method\":\"update\"},{\"args\":[{\"visible\":[false,false,false,false,false,false,false,true,false,false,false,false,false,false,false,false,false,false,false,false,false,false,false,false,false,false,false,false,false,false,false,false,false,false,false,false,false,false,false]},{\"title\":\"Most talked about Vaccine in China\"}],\"label\":\"China\",\"method\":\"update\"},{\"args\":[{\"visible\":[false,false,false,false,false,false,false,false,true,false,false,false,false,false,false,false,false,false,false,false,false,false,false,false,false,false,false,false,false,false,false,false,false,false,false,false,false,false,false]},{\"title\":\"Most talked about Vaccine in Croatia\"}],\"label\":\"Croatia\",\"method\":\"update\"},{\"args\":[{\"visible\":[false,false,false,false,false,false,false,false,false,true,false,false,false,false,false,false,false,false,false,false,false,false,false,false,false,false,false,false,false,false,false,false,false,false,false,false,false,false,false]},{\"title\":\"Most talked about Vaccine in France\"}],\"label\":\"France\",\"method\":\"update\"},{\"args\":[{\"visible\":[false,false,false,false,false,false,false,false,false,false,true,false,false,false,false,false,false,false,false,false,false,false,false,false,false,false,false,false,false,false,false,false,false,false,false,false,false,false,false]},{\"title\":\"Most talked about Vaccine in Germany\"}],\"label\":\"Germany\",\"method\":\"update\"},{\"args\":[{\"visible\":[false,false,false,false,false,false,false,false,false,false,false,true,false,false,false,false,false,false,false,false,false,false,false,false,false,false,false,false,false,false,false,false,false,false,false,false,false,false,false]},{\"title\":\"Most talked about Vaccine in Greece\"}],\"label\":\"Greece\",\"method\":\"update\"},{\"args\":[{\"visible\":[false,false,false,false,false,false,false,false,false,false,false,false,true,false,false,false,false,false,false,false,false,false,false,false,false,false,false,false,false,false,false,false,false,false,false,false,false,false,false]},{\"title\":\"Most talked about Vaccine in Guyana\"}],\"label\":\"Guyana\",\"method\":\"update\"},{\"args\":[{\"visible\":[false,false,false,false,false,false,false,false,false,false,false,false,false,true,false,false,false,false,false,false,false,false,false,false,false,false,false,false,false,false,false,false,false,false,false,false,false,false,false]},{\"title\":\"Most talked about Vaccine in Hong Kong\"}],\"label\":\"Hong Kong\",\"method\":\"update\"},{\"args\":[{\"visible\":[false,false,false,false,false,false,false,false,false,false,false,false,false,false,true,false,false,false,false,false,false,false,false,false,false,false,false,false,false,false,false,false,false,false,false,false,false,false,false]},{\"title\":\"Most talked about Vaccine in India\"}],\"label\":\"India\",\"method\":\"update\"},{\"args\":[{\"visible\":[false,false,false,false,false,false,false,false,false,false,false,false,false,false,false,true,false,false,false,false,false,false,false,false,false,false,false,false,false,false,false,false,false,false,false,false,false,false,false]},{\"title\":\"Most talked about Vaccine in Indonesia\"}],\"label\":\"Indonesia\",\"method\":\"update\"},{\"args\":[{\"visible\":[false,false,false,false,false,false,false,false,false,false,false,false,false,false,false,false,true,false,false,false,false,false,false,false,false,false,false,false,false,false,false,false,false,false,false,false,false,false,false]},{\"title\":\"Most talked about Vaccine in Italy\"}],\"label\":\"Italy\",\"method\":\"update\"},{\"args\":[{\"visible\":[false,false,false,false,false,false,false,false,false,false,false,false,false,false,false,false,false,true,false,false,false,false,false,false,false,false,false,false,false,false,false,false,false,false,false,false,false,false,false]},{\"title\":\"Most talked about Vaccine in Japan\"}],\"label\":\"Japan\",\"method\":\"update\"},{\"args\":[{\"visible\":[false,false,false,false,false,false,false,false,false,false,false,false,false,false,false,false,false,false,true,false,false,false,false,false,false,false,false,false,false,false,false,false,false,false,false,false,false,false,false]},{\"title\":\"Most talked about Vaccine in Jersey\"}],\"label\":\"Jersey\",\"method\":\"update\"},{\"args\":[{\"visible\":[false,false,false,false,false,false,false,false,false,false,false,false,false,false,false,false,false,false,false,true,false,false,false,false,false,false,false,false,false,false,false,false,false,false,false,false,false,false,false]},{\"title\":\"Most talked about Vaccine in Malaysia\"}],\"label\":\"Malaysia\",\"method\":\"update\"},{\"args\":[{\"visible\":[false,false,false,false,false,false,false,false,false,false,false,false,false,false,false,false,false,false,false,false,true,false,false,false,false,false,false,false,false,false,false,false,false,false,false,false,false,false,false]},{\"title\":\"Most talked about Vaccine in Mexico\"}],\"label\":\"Mexico\",\"method\":\"update\"},{\"args\":[{\"visible\":[false,false,false,false,false,false,false,false,false,false,false,false,false,false,false,false,false,false,false,false,false,true,false,false,false,false,false,false,false,false,false,false,false,false,false,false,false,false,false]},{\"title\":\"Most talked about Vaccine in Netherlands\"}],\"label\":\"Netherlands\",\"method\":\"update\"},{\"args\":[{\"visible\":[false,false,false,false,false,false,false,false,false,false,false,false,false,false,false,false,false,false,false,false,false,false,true,false,false,false,false,false,false,false,false,false,false,false,false,false,false,false,false]},{\"title\":\"Most talked about Vaccine in Pakistan\"}],\"label\":\"Pakistan\",\"method\":\"update\"},{\"args\":[{\"visible\":[false,false,false,false,false,false,false,false,false,false,false,false,false,false,false,false,false,false,false,false,false,false,false,true,false,false,false,false,false,false,false,false,false,false,false,false,false,false,false]},{\"title\":\"Most talked about Vaccine in Palestinian Territory\"}],\"label\":\"Palestinian Territory\",\"method\":\"update\"},{\"args\":[{\"visible\":[false,false,false,false,false,false,false,false,false,false,false,false,false,false,false,false,false,false,false,false,false,false,false,false,true,false,false,false,false,false,false,false,false,false,false,false,false,false,false]},{\"title\":\"Most talked about Vaccine in Philippines\"}],\"label\":\"Philippines\",\"method\":\"update\"},{\"args\":[{\"visible\":[false,false,false,false,false,false,false,false,false,false,false,false,false,false,false,false,false,false,false,false,false,false,false,false,false,true,false,false,false,false,false,false,false,false,false,false,false,false,false]},{\"title\":\"Most talked about Vaccine in Qatar\"}],\"label\":\"Qatar\",\"method\":\"update\"},{\"args\":[{\"visible\":[false,false,false,false,false,false,false,false,false,false,false,false,false,false,false,false,false,false,false,false,false,false,false,false,false,false,true,false,false,false,false,false,false,false,false,false,false,false,false]},{\"title\":\"Most talked about Vaccine in Russian Federation\"}],\"label\":\"Russian Federation\",\"method\":\"update\"},{\"args\":[{\"visible\":[false,false,false,false,false,false,false,false,false,false,false,false,false,false,false,false,false,false,false,false,false,false,false,false,false,false,false,true,false,false,false,false,false,false,false,false,false,false,false]},{\"title\":\"Most talked about Vaccine in Saudi Arabia\"}],\"label\":\"Saudi Arabia\",\"method\":\"update\"},{\"args\":[{\"visible\":[false,false,false,false,false,false,false,false,false,false,false,false,false,false,false,false,false,false,false,false,false,false,false,false,false,false,false,false,true,false,false,false,false,false,false,false,false,false,false]},{\"title\":\"Most talked about Vaccine in Singapore\"}],\"label\":\"Singapore\",\"method\":\"update\"},{\"args\":[{\"visible\":[false,false,false,false,false,false,false,false,false,false,false,false,false,false,false,false,false,false,false,false,false,false,false,false,false,false,false,false,false,true,false,false,false,false,false,false,false,false,false]},{\"title\":\"Most talked about Vaccine in Spain\"}],\"label\":\"Spain\",\"method\":\"update\"},{\"args\":[{\"visible\":[false,false,false,false,false,false,false,false,false,false,false,false,false,false,false,false,false,false,false,false,false,false,false,false,false,false,false,false,false,false,true,false,false,false,false,false,false,false,false]},{\"title\":\"Most talked about Vaccine in Sweden\"}],\"label\":\"Sweden\",\"method\":\"update\"},{\"args\":[{\"visible\":[false,false,false,false,false,false,false,false,false,false,false,false,false,false,false,false,false,false,false,false,false,false,false,false,false,false,false,false,false,false,false,true,false,false,false,false,false,false,false]},{\"title\":\"Most talked about Vaccine in Switzerland\"}],\"label\":\"Switzerland\",\"method\":\"update\"},{\"args\":[{\"visible\":[false,false,false,false,false,false,false,false,false,false,false,false,false,false,false,false,false,false,false,false,false,false,false,false,false,false,false,false,false,false,false,false,true,false,false,false,false,false,false]},{\"title\":\"Most talked about Vaccine in Thailand\"}],\"label\":\"Thailand\",\"method\":\"update\"},{\"args\":[{\"visible\":[false,false,false,false,false,false,false,false,false,false,false,false,false,false,false,false,false,false,false,false,false,false,false,false,false,false,false,false,false,false,false,false,false,true,false,false,false,false,false]},{\"title\":\"Most talked about Vaccine in Trinidad and Tobago\"}],\"label\":\"Trinidad and Tobago\",\"method\":\"update\"},{\"args\":[{\"visible\":[false,false,false,false,false,false,false,false,false,false,false,false,false,false,false,false,false,false,false,false,false,false,false,false,false,false,false,false,false,false,false,false,false,false,true,false,false,false,false]},{\"title\":\"Most talked about Vaccine in Ukraine\"}],\"label\":\"Ukraine\",\"method\":\"update\"},{\"args\":[{\"visible\":[false,false,false,false,false,false,false,false,false,false,false,false,false,false,false,false,false,false,false,false,false,false,false,false,false,false,false,false,false,false,false,false,false,false,false,true,false,false,false]},{\"title\":\"Most talked about Vaccine in United Arab Emirates\"}],\"label\":\"United Arab Emirates\",\"method\":\"update\"},{\"args\":[{\"visible\":[false,false,false,false,false,false,false,false,false,false,false,false,false,false,false,false,false,false,false,false,false,false,false,false,false,false,false,false,false,false,false,false,false,false,false,false,true,false,false]},{\"title\":\"Most talked about Vaccine in United Kingdom\"}],\"label\":\"United Kingdom\",\"method\":\"update\"},{\"args\":[{\"visible\":[false,false,false,false,false,false,false,false,false,false,false,false,false,false,false,false,false,false,false,false,false,false,false,false,false,false,false,false,false,false,false,false,false,false,false,false,false,true,false]},{\"title\":\"Most talked about Vaccine in United States\"}],\"label\":\"United States\",\"method\":\"update\"},{\"args\":[{\"visible\":[false,false,false,false,false,false,false,false,false,false,false,false,false,false,false,false,false,false,false,false,false,false,false,false,false,false,false,false,false,false,false,false,false,false,false,false,false,false,true]},{\"title\":\"Most talked about Vaccine in Virgin Islands, U.S.\"}],\"label\":\"Virgin Islands, U.S.\",\"method\":\"update\"}],\"direction\":\"down\",\"pad\":{\"r\":10,\"t\":10},\"showactive\":true,\"x\":1.0,\"xanchor\":\"right\",\"y\":1.2,\"yanchor\":\"top\"}],\"xaxis\":{\"title\":{\"text\":\"Time\"}},\"yaxis\":{\"title\":{\"text\":\"Sentiment\"}}},                        {\"responsive\": true}                    ).then(function(){\n",
       "                            \n",
       "var gd = document.getElementById('da474a7e-97f0-4996-9dcb-aff36ac3ca2c');\n",
       "var x = new MutationObserver(function (mutations, observer) {{\n",
       "        var display = window.getComputedStyle(gd).display;\n",
       "        if (!display || display === 'none') {{\n",
       "            console.log([gd, 'removed!']);\n",
       "            Plotly.purge(gd);\n",
       "            observer.disconnect();\n",
       "        }}\n",
       "}});\n",
       "\n",
       "// Listen for the removal of the full notebook cells\n",
       "var notebookContainer = gd.closest('#notebook-container');\n",
       "if (notebookContainer) {{\n",
       "    x.observe(notebookContainer, {childList: true});\n",
       "}}\n",
       "\n",
       "// Listen for the clearing of the current output cell\n",
       "var outputEl = gd.closest('.output');\n",
       "if (outputEl) {{\n",
       "    x.observe(outputEl, {childList: true});\n",
       "}}\n",
       "\n",
       "                        })                };                });            </script>        </div>"
      ]
     },
     "metadata": {},
     "output_type": "display_data"
    }
   ],
   "source": [
    "amount_tweets_by_country(tweet_amount_by_vaccine, button_settings)"
   ]
  },
  {
   "cell_type": "markdown",
   "metadata": {},
   "source": [
    "Note: Keep in mind that the dataset was english only. Most other countries would probably tweet in their native language, thus the lack of \"international\" discourse."
   ]
  }
 ],
 "metadata": {
  "kernelspec": {
   "display_name": "Python 3",
   "language": "python",
   "name": "python3"
  },
  "language_info": {
   "codemirror_mode": {
    "name": "ipython",
    "version": 3
   },
   "file_extension": ".py",
   "mimetype": "text/x-python",
   "name": "python",
   "nbconvert_exporter": "python",
   "pygments_lexer": "ipython3",
   "version": "3.8.3"
  }
 },
 "nbformat": 4,
 "nbformat_minor": 4
}
