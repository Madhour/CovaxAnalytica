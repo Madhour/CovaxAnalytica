{
 "cells": [
  {
   "cell_type": "markdown",
   "metadata": {},
   "source": [
    "# Overall Twitter Dataset including tweets regarding Covid-19 from November 2020 - June 2021"
   ]
  },
  {
   "cell_type": "markdown",
   "metadata": {},
   "source": [
    "## Imports"
   ]
  },
  {
   "cell_type": "code",
   "execution_count": 1,
   "metadata": {
    "scrolled": true
   },
   "outputs": [],
   "source": [
    "import pandas as pd"
   ]
  },
  {
   "cell_type": "markdown",
   "metadata": {},
   "source": [
    "## Reading Data"
   ]
  },
  {
   "cell_type": "code",
   "execution_count": 2,
   "metadata": {
    "scrolled": true
   },
   "outputs": [
    {
     "name": "stderr",
     "output_type": "stream",
     "text": [
      "b'Skipping line 11906: expected 2 fields, saw 3\\nSkipping line 22310: expected 2 fields, saw 3\\nSkipping line 22716: expected 2 fields, saw 3\\nSkipping line 31791: expected 2 fields, saw 3\\nSkipping line 32525: expected 2 fields, saw 3\\nSkipping line 90716: expected 2 fields, saw 3\\n'\n"
     ]
    }
   ],
   "source": [
    "#Dataset including Tweet ID and Sentiment\n",
    "ids = pd.read_csv('../data/raw/Corona_Combined_Nov2020-June2021.csv', header=None, encoding=\"utf-8\", error_bad_lines=False)\n",
    "\n",
    "#Hydrated Dataset of the above\n",
    "hydrated = pd.read_csv('../data/raw/Hydrated_Tweets_Nov2020-Jun2021.csv')"
   ]
  },
  {
   "cell_type": "markdown",
   "metadata": {},
   "source": [
    "## Adjusting the Dataset adding the Sentiment Score to each Entry"
   ]
  },
  {
   "cell_type": "code",
   "execution_count": 3,
   "metadata": {
    "scrolled": true
   },
   "outputs": [],
   "source": [
    "ids = ids.rename(columns={0:\"id\", 1:\"sentiment\"})\n",
    "ids.id = ids.id.astype('str')\n",
    "hydrated.id=hydrated.id.astype('str')\n",
    "hydrated = hydrated.merge(ids, on=\"id\", how=\"left\")"
   ]
  },
  {
   "cell_type": "markdown",
   "metadata": {},
   "source": [
    "### Splitting coordinates in latitude and longitude## "
   ]
  },
  {
   "cell_type": "code",
   "execution_count": 4,
   "metadata": {},
   "outputs": [],
   "source": [
    "df = hydrated\n",
    "df[['longitude','latitude']] = df.coordinates.str.split(\",\",expand=True)"
   ]
  },
  {
   "cell_type": "markdown",
   "metadata": {},
   "source": [
    "Export Dataset as CSV"
   ]
  },
  {
   "cell_type": "code",
   "execution_count": 5,
   "metadata": {},
   "outputs": [],
   "source": [
    "df.to_csv(\"../data/interim/Overall_Map_data.csv\")"
   ]
  },
  {
   "cell_type": "markdown",
   "metadata": {},
   "source": [
    "# Using secondly hydrated Dataset with advanced Geo information\n",
    "\n",
    "## Dataset changes:\n",
    "<br>\n",
    "- Adding Sentiment Score to each Entry<br>\n",
    "- Add new Column 'date'<br>\n",
    "- Break down the timestamp to date<br>\n",
    "- Drop unused Columns<br>"
   ]
  },
  {
   "cell_type": "code",
   "execution_count": 6,
   "metadata": {},
   "outputs": [
    {
     "name": "stderr",
     "output_type": "stream",
     "text": [
      "c:\\users\\lukas\\appdata\\local\\programs\\python\\python36\\lib\\site-packages\\IPython\\core\\interactiveshell.py:3063: DtypeWarning: Columns (31) have mixed types.Specify dtype option on import or set low_memory=False.\n",
      "  interactivity=interactivity, compiler=compiler, result=result)\n"
     ]
    }
   ],
   "source": [
    "#Read hydrated Dataset including more detailed Geo information\n",
    "data = pd.read_csv('../data/raw/Hydrated_Tweets_with_countries.csv')"
   ]
  },
  {
   "cell_type": "code",
   "execution_count": 7,
   "metadata": {
    "scrolled": false
   },
   "outputs": [],
   "source": [
    "ids = ids.rename(columns={0:\"id\", 1:\"sentiment\"})\n",
    "ids.id = ids.id.astype('float64')\n",
    "data.id = data.id.astype('float64')\n",
    "data = data.merge(ids, on=\"id\", how=\"left\")\n",
    "\n",
    "data['date'] = ''\n",
    "data['date'] = pd.to_datetime(data['created_at']).dt.strftime('%Y-%m-%d')\n",
    "\n",
    "data.drop(columns=['Unnamed: 0', 'user', 'place', 'contributors', 'is_quote_status',\n",
    "       'retweet_count', 'favorite_count', 'favorited', 'retweeted',\n",
    "       'possibly_sensitive', 'lang', 'quoted_status_id','quoted_status_id_str', 'quoted_status_permalink', 'quoted_status',\n",
    "       'extended_entities', 'withheld_in_countries'], inplace=True)"
   ]
  },
  {
   "cell_type": "markdown",
   "metadata": {},
   "source": [
    "### Drop all entries with empty date + adding month and year"
   ]
  },
  {
   "cell_type": "code",
   "execution_count": 8,
   "metadata": {},
   "outputs": [],
   "source": [
    "data = data.drop(data[data['date'].isnull()].index)\n",
    "data['month'] = ''\n",
    "data['year'] = ''\n",
    "\n",
    "#Switched because american date format\n",
    "data['month'] = pd.DatetimeIndex(data['date']).month\n",
    "data['year'] = pd.DatetimeIndex(data['date']).year"
   ]
  },
  {
   "cell_type": "markdown",
   "metadata": {},
   "source": [
    "### Creating Column that includes Tweets per day for each country"
   ]
  },
  {
   "cell_type": "code",
   "execution_count": 9,
   "metadata": {
    "scrolled": false
   },
   "outputs": [
    {
     "data": {
      "text/html": [
       "<div>\n",
       "<style scoped>\n",
       "    .dataframe tbody tr th:only-of-type {\n",
       "        vertical-align: middle;\n",
       "    }\n",
       "\n",
       "    .dataframe tbody tr th {\n",
       "        vertical-align: top;\n",
       "    }\n",
       "\n",
       "    .dataframe thead th {\n",
       "        text-align: right;\n",
       "    }\n",
       "</style>\n",
       "<table border=\"1\" class=\"dataframe\">\n",
       "  <thead>\n",
       "    <tr style=\"text-align: right;\">\n",
       "      <th></th>\n",
       "      <th>date</th>\n",
       "      <th>country</th>\n",
       "      <th>tweet_amount</th>\n",
       "    </tr>\n",
       "  </thead>\n",
       "  <tbody>\n",
       "    <tr>\n",
       "      <th>0</th>\n",
       "      <td>2020-11-01</td>\n",
       "      <td>Australia</td>\n",
       "      <td>12</td>\n",
       "    </tr>\n",
       "    <tr>\n",
       "      <th>1</th>\n",
       "      <td>2020-11-01</td>\n",
       "      <td>Austria</td>\n",
       "      <td>2</td>\n",
       "    </tr>\n",
       "    <tr>\n",
       "      <th>2</th>\n",
       "      <td>2020-11-01</td>\n",
       "      <td>Bangladesh</td>\n",
       "      <td>1</td>\n",
       "    </tr>\n",
       "    <tr>\n",
       "      <th>3</th>\n",
       "      <td>2020-11-01</td>\n",
       "      <td>Belgium</td>\n",
       "      <td>1</td>\n",
       "    </tr>\n",
       "    <tr>\n",
       "      <th>4</th>\n",
       "      <td>2020-11-01</td>\n",
       "      <td>Canada</td>\n",
       "      <td>50</td>\n",
       "    </tr>\n",
       "    <tr>\n",
       "      <th>...</th>\n",
       "      <td>...</td>\n",
       "      <td>...</td>\n",
       "      <td>...</td>\n",
       "    </tr>\n",
       "    <tr>\n",
       "      <th>8811</th>\n",
       "      <td>2021-06-13</td>\n",
       "      <td>Sri Lanka</td>\n",
       "      <td>1</td>\n",
       "    </tr>\n",
       "    <tr>\n",
       "      <th>8812</th>\n",
       "      <td>2021-06-13</td>\n",
       "      <td>Thailand</td>\n",
       "      <td>2</td>\n",
       "    </tr>\n",
       "    <tr>\n",
       "      <th>8813</th>\n",
       "      <td>2021-06-13</td>\n",
       "      <td>United Kingdom</td>\n",
       "      <td>2</td>\n",
       "    </tr>\n",
       "    <tr>\n",
       "      <th>8814</th>\n",
       "      <td>2021-06-13</td>\n",
       "      <td>United States</td>\n",
       "      <td>24</td>\n",
       "    </tr>\n",
       "    <tr>\n",
       "      <th>8815</th>\n",
       "      <td>2021-06-13</td>\n",
       "      <td>Vietnam</td>\n",
       "      <td>1</td>\n",
       "    </tr>\n",
       "  </tbody>\n",
       "</table>\n",
       "<p>8816 rows × 3 columns</p>\n",
       "</div>"
      ],
      "text/plain": [
       "            date         country  tweet_amount\n",
       "0     2020-11-01       Australia            12\n",
       "1     2020-11-01         Austria             2\n",
       "2     2020-11-01      Bangladesh             1\n",
       "3     2020-11-01         Belgium             1\n",
       "4     2020-11-01          Canada            50\n",
       "...          ...             ...           ...\n",
       "8811  2021-06-13       Sri Lanka             1\n",
       "8812  2021-06-13        Thailand             2\n",
       "8813  2021-06-13  United Kingdom             2\n",
       "8814  2021-06-13   United States            24\n",
       "8815  2021-06-13         Vietnam             1\n",
       "\n",
       "[8816 rows x 3 columns]"
      ]
     },
     "execution_count": 9,
     "metadata": {},
     "output_type": "execute_result"
    }
   ],
   "source": [
    "data['tweet_amount'] = ''\n",
    "data.groupby(['date','country'])['id'].count().reset_index(name=\"tweet_amount\")"
   ]
  },
  {
   "cell_type": "markdown",
   "metadata": {},
   "source": [
    "Export Dataset as CSV"
   ]
  },
  {
   "cell_type": "code",
   "execution_count": 10,
   "metadata": {},
   "outputs": [],
   "source": [
    "data.to_csv(\"../data/interim/Overall_data.csv\")"
   ]
  },
  {
   "cell_type": "markdown",
   "metadata": {},
   "source": [
    "## Using Vaccine Dataset"
   ]
  },
  {
   "cell_type": "code",
   "execution_count": 11,
   "metadata": {
    "scrolled": true
   },
   "outputs": [],
   "source": [
    "vaccine_data = pd.read_csv('../data/raw/country_vaccinations.csv')"
   ]
  },
  {
   "cell_type": "markdown",
   "metadata": {},
   "source": [
    "### Dropping Dates which are not included in the Overall Dataset"
   ]
  },
  {
   "cell_type": "code",
   "execution_count": 12,
   "metadata": {},
   "outputs": [],
   "source": [
    "vaccine_data = vaccine_data.drop(vaccine_data[vaccine_data['date'] == '2021-06-14'].index)\n",
    "vaccine_data = vaccine_data.drop(vaccine_data[vaccine_data['date'] == '2021-06-15'].index)\n",
    "vaccine_data = vaccine_data.drop(vaccine_data[vaccine_data['date'] == '2021-06-16'].index)\n",
    "vaccine_data = vaccine_data.drop(vaccine_data[vaccine_data['date'] == '2021-06-17'].index)\n",
    "vaccine_data = vaccine_data.drop(vaccine_data[vaccine_data['date'] == '2021-06-18'].index)\n",
    "vaccine_data = vaccine_data.drop(vaccine_data[vaccine_data['date'] == '2021-06-19'].index)\n",
    "vaccine_data = vaccine_data.drop(vaccine_data[vaccine_data['date'] == '2021-06-20'].index)\n",
    "vaccine_data = vaccine_data.drop(vaccine_data[vaccine_data['date'] == '2021-06-21'].index)\n",
    "vaccine_data = vaccine_data.drop(vaccine_data[vaccine_data['date'] == '2021-06-22'].index)\n",
    "vaccine_data = vaccine_data.drop(vaccine_data[vaccine_data['date'] == '2021-06-23'].index)\n",
    "vaccine_data = vaccine_data.drop(vaccine_data[vaccine_data['date'] == '2021-06-24'].index)\n",
    "vaccine_data = vaccine_data.drop(vaccine_data[vaccine_data['date'] == '2021-06-25'].index)\n",
    "vaccine_data = vaccine_data.drop(vaccine_data[vaccine_data['date'] == '2021-06-26'].index)\n",
    "vaccine_data = vaccine_data.drop(vaccine_data[vaccine_data['date'] == '2021-06-27'].index)\n",
    "vaccine_data = vaccine_data.drop(vaccine_data[vaccine_data['date'] == '2021-06-28'].index)\n",
    "vaccine_data = vaccine_data.drop(vaccine_data[vaccine_data['date'] == '2021-06-29'].index)\n",
    "vaccine_data = vaccine_data.drop(vaccine_data[vaccine_data['date'] == '2021-06-30'].index)\n",
    "vaccine_data = vaccine_data.drop(vaccine_data[vaccine_data['date'] == '2021-07-01'].index)"
   ]
  },
  {
   "cell_type": "markdown",
   "metadata": {},
   "source": [
    "Export Dataset as CSV"
   ]
  },
  {
   "cell_type": "code",
   "execution_count": 13,
   "metadata": {},
   "outputs": [],
   "source": [
    "vaccine_data.to_csv(\"../data/interim/Vaccine_data.csv\")"
   ]
  }
 ],
 "metadata": {
  "kernelspec": {
   "display_name": "Python 3",
   "language": "python",
   "name": "python3"
  },
  "language_info": {
   "codemirror_mode": {
    "name": "ipython",
    "version": 3
   },
   "file_extension": ".py",
   "mimetype": "text/x-python",
   "name": "python",
   "nbconvert_exporter": "python",
   "pygments_lexer": "ipython3",
   "version": "3.6.8"
  }
 },
 "nbformat": 4,
 "nbformat_minor": 4
}
