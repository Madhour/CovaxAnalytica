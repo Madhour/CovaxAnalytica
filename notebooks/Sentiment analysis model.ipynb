{
 "cells": [
  {
   "cell_type": "markdown",
   "metadata": {},
   "source": [
    "# Sentiment analysis model"
   ]
  },
  {
   "cell_type": "markdown",
   "metadata": {},
   "source": [
    "To do:\n",
    "- Preprocessing, including nlp\n",
    "- train model based on annotated sentiment\n",
    "- validate model (x-val, etc. check notes from ApML)\n",
    "- Visualize: (separate notebook)\n",
    "    - Average Sentiment by vaccine (get vaccines by hashtags)\n",
    "    - Amount of positive, negative and neutral tweets\n",
    "    - Sentiment over time"
   ]
  },
  {
   "cell_type": "code",
   "execution_count": 1,
   "metadata": {},
   "outputs": [],
   "source": [
    "import pandas as pd\n",
    "import numpy"
   ]
  },
  {
   "cell_type": "code",
   "execution_count": 2,
   "metadata": {},
   "outputs": [],
   "source": [
    "clean_vaccine_tweets = pd.read_csv(\"../data/interim/cleaned_vaccine_tweets.csv\", index_col=0)\n",
    "annotated_vaccine_tweets = pd.read_csv(\"../data/interim/covid-19_vaccine_tweets_with_sentiment.csv\", encoding=\"latin\", index_col=0)"
   ]
  },
  {
   "cell_type": "code",
   "execution_count": 3,
   "metadata": {},
   "outputs": [
    {
     "data": {
      "text/html": [
       "<div>\n",
       "<style scoped>\n",
       "    .dataframe tbody tr th:only-of-type {\n",
       "        vertical-align: middle;\n",
       "    }\n",
       "\n",
       "    .dataframe tbody tr th {\n",
       "        vertical-align: top;\n",
       "    }\n",
       "\n",
       "    .dataframe thead th {\n",
       "        text-align: right;\n",
       "    }\n",
       "</style>\n",
       "<table border=\"1\" class=\"dataframe\">\n",
       "  <thead>\n",
       "    <tr style=\"text-align: right;\">\n",
       "      <th></th>\n",
       "      <th>id</th>\n",
       "      <th>created_at</th>\n",
       "      <th>user</th>\n",
       "      <th>geo</th>\n",
       "      <th>full_text</th>\n",
       "      <th>hashtags</th>\n",
       "    </tr>\n",
       "  </thead>\n",
       "  <tbody>\n",
       "    <tr>\n",
       "      <th>0</th>\n",
       "      <td>1338158543359250432</td>\n",
       "      <td>2020-12-13 16:27:13+00:00</td>\n",
       "      <td>76052772</td>\n",
       "      <td>NaN</td>\n",
       "      <td>While the world has been on the wrong side of ...</td>\n",
       "      <td>['covid19', 'supplychain', 'logistics', 'vacci...</td>\n",
       "    </tr>\n",
       "    <tr>\n",
       "      <th>1</th>\n",
       "      <td>1337840331522453504</td>\n",
       "      <td>2020-12-12 19:22:45+00:00</td>\n",
       "      <td>1300382181605494800</td>\n",
       "      <td>NaN</td>\n",
       "      <td>@cnnbrk #COVID19 #CovidVaccine #vaccine #Coron...</td>\n",
       "      <td>['COVID19', 'CovidVaccine', 'vaccine', 'Corona...</td>\n",
       "    </tr>\n",
       "    <tr>\n",
       "      <th>2</th>\n",
       "      <td>1338544403795881984</td>\n",
       "      <td>2020-12-14 18:00:29+00:00</td>\n",
       "      <td>1164717209253552000</td>\n",
       "      <td>NaN</td>\n",
       "      <td>The FDA Authorizes Emergency Use Of The Pfizer...</td>\n",
       "      <td>['PFE', 'Pfizer', 'Pfizervaccine', 'PfizerBioN...</td>\n",
       "    </tr>\n",
       "    <tr>\n",
       "      <th>3</th>\n",
       "      <td>1337735595704115200</td>\n",
       "      <td>2020-12-12 12:26:34+00:00</td>\n",
       "      <td>1316036067754205200</td>\n",
       "      <td>NaN</td>\n",
       "      <td>The #FDA finally issues #EUA now comes the pro...</td>\n",
       "      <td>['FDA', 'EUA', 'PfizerBioNTech', 'vaccinated']</td>\n",
       "    </tr>\n",
       "    <tr>\n",
       "      <th>4</th>\n",
       "      <td>1337850832256176128</td>\n",
       "      <td>2020-12-12 20:04:29+00:00</td>\n",
       "      <td>1110032180237852700</td>\n",
       "      <td>NaN</td>\n",
       "      <td>There have not been many bright days in 2020 b...</td>\n",
       "      <td>['BidenHarris', 'Election2020', 'PfizerBioNTec...</td>\n",
       "    </tr>\n",
       "  </tbody>\n",
       "</table>\n",
       "</div>"
      ],
      "text/plain": [
       "                    id                 created_at                 user  geo  \\\n",
       "0  1338158543359250432  2020-12-13 16:27:13+00:00             76052772  NaN   \n",
       "1  1337840331522453504  2020-12-12 19:22:45+00:00  1300382181605494800  NaN   \n",
       "2  1338544403795881984  2020-12-14 18:00:29+00:00  1164717209253552000  NaN   \n",
       "3  1337735595704115200  2020-12-12 12:26:34+00:00  1316036067754205200  NaN   \n",
       "4  1337850832256176128  2020-12-12 20:04:29+00:00  1110032180237852700  NaN   \n",
       "\n",
       "                                           full_text  \\\n",
       "0  While the world has been on the wrong side of ...   \n",
       "1  @cnnbrk #COVID19 #CovidVaccine #vaccine #Coron...   \n",
       "2  The FDA Authorizes Emergency Use Of The Pfizer...   \n",
       "3  The #FDA finally issues #EUA now comes the pro...   \n",
       "4  There have not been many bright days in 2020 b...   \n",
       "\n",
       "                                            hashtags  \n",
       "0  ['covid19', 'supplychain', 'logistics', 'vacci...  \n",
       "1  ['COVID19', 'CovidVaccine', 'vaccine', 'Corona...  \n",
       "2  ['PFE', 'Pfizer', 'Pfizervaccine', 'PfizerBioN...  \n",
       "3     ['FDA', 'EUA', 'PfizerBioNTech', 'vaccinated']  \n",
       "4  ['BidenHarris', 'Election2020', 'PfizerBioNTec...  "
      ]
     },
     "execution_count": 3,
     "metadata": {},
     "output_type": "execute_result"
    }
   ],
   "source": [
    "clean_vaccine_tweets.head()"
   ]
  },
  {
   "cell_type": "code",
   "execution_count": 4,
   "metadata": {},
   "outputs": [
    {
     "data": {
      "text/html": [
       "<div>\n",
       "<style scoped>\n",
       "    .dataframe tbody tr th:only-of-type {\n",
       "        vertical-align: middle;\n",
       "    }\n",
       "\n",
       "    .dataframe tbody tr th {\n",
       "        vertical-align: top;\n",
       "    }\n",
       "\n",
       "    .dataframe thead th {\n",
       "        text-align: right;\n",
       "    }\n",
       "</style>\n",
       "<table border=\"1\" class=\"dataframe\">\n",
       "  <thead>\n",
       "    <tr style=\"text-align: right;\">\n",
       "      <th></th>\n",
       "      <th>tweet_id</th>\n",
       "      <th>label</th>\n",
       "      <th>full_text</th>\n",
       "    </tr>\n",
       "  </thead>\n",
       "  <tbody>\n",
       "    <tr>\n",
       "      <th>0</th>\n",
       "      <td>1360342002961940480</td>\n",
       "      <td>1</td>\n",
       "      <td>4,000 a day dying from the so called Covid-19 ...</td>\n",
       "    </tr>\n",
       "    <tr>\n",
       "      <th>1</th>\n",
       "      <td>1382896334886248448</td>\n",
       "      <td>2</td>\n",
       "      <td>Pranam message for today manifested in Dhyan b...</td>\n",
       "    </tr>\n",
       "    <tr>\n",
       "      <th>2</th>\n",
       "      <td>1375673411846873088</td>\n",
       "      <td>2</td>\n",
       "      <td>Hyderabad-based ?@BharatBiotech? has sought fu...</td>\n",
       "    </tr>\n",
       "    <tr>\n",
       "      <th>3</th>\n",
       "      <td>1381310901119287296</td>\n",
       "      <td>1</td>\n",
       "      <td>Confirmation that Chinese #vaccines \"donÂt ha...</td>\n",
       "    </tr>\n",
       "    <tr>\n",
       "      <th>4</th>\n",
       "      <td>1362165556091191296</td>\n",
       "      <td>3</td>\n",
       "      <td>Lab studies suggest #Pfizer, #Moderna vaccines...</td>\n",
       "    </tr>\n",
       "  </tbody>\n",
       "</table>\n",
       "</div>"
      ],
      "text/plain": [
       "              tweet_id  label  \\\n",
       "0  1360342002961940480      1   \n",
       "1  1382896334886248448      2   \n",
       "2  1375673411846873088      2   \n",
       "3  1381310901119287296      1   \n",
       "4  1362165556091191296      3   \n",
       "\n",
       "                                           full_text  \n",
       "0  4,000 a day dying from the so called Covid-19 ...  \n",
       "1  Pranam message for today manifested in Dhyan b...  \n",
       "2  Hyderabad-based ?@BharatBiotech? has sought fu...  \n",
       "3  Confirmation that Chinese #vaccines \"donÂt ha...  \n",
       "4  Lab studies suggest #Pfizer, #Moderna vaccines...  "
      ]
     },
     "execution_count": 4,
     "metadata": {},
     "output_type": "execute_result"
    }
   ],
   "source": [
    "annotated_vaccine_tweets = annotated_vaccine_tweets.rename(columns={\"tweet_text\":\"full_text\"})\n",
    "annotated_vaccine_tweets.head()"
   ]
  },
  {
   "cell_type": "markdown",
   "metadata": {},
   "source": [
    "Sentiment Label:\n",
    "- Negative: 1\n",
    "- Neutral: 2\n",
    "- Positive: 3"
   ]
  },
  {
   "cell_type": "markdown",
   "metadata": {},
   "source": [
    "---"
   ]
  },
  {
   "cell_type": "markdown",
   "metadata": {},
   "source": [
    "# NLP\n",
    "## Preprocessing"
   ]
  },
  {
   "cell_type": "code",
   "execution_count": 5,
   "metadata": {},
   "outputs": [],
   "source": [
    "clean_vaccine_tweets[\"corpus\"] = \"\"\n",
    "annotated_vaccine_tweets[\"corpus\"] = \"\""
   ]
  },
  {
   "cell_type": "code",
   "execution_count": 6,
   "metadata": {},
   "outputs": [
    {
     "name": "stderr",
     "output_type": "stream",
     "text": [
      "[nltk_data] Downloading package stopwords to /Users/ayman/nltk_data...\n",
      "[nltk_data]   Package stopwords is already up-to-date!\n",
      "[nltk_data] Downloading package wordnet to /Users/ayman/nltk_data...\n",
      "[nltk_data]   Package wordnet is already up-to-date!\n",
      "[nltk_data] Downloading package vader_lexicon to\n",
      "[nltk_data]     /Users/ayman/nltk_data...\n",
      "[nltk_data]   Package vader_lexicon is already up-to-date!\n"
     ]
    },
    {
     "data": {
      "text/plain": [
       "True"
      ]
     },
     "execution_count": 6,
     "metadata": {},
     "output_type": "execute_result"
    }
   ],
   "source": [
    "import re\n",
    "import nltk\n",
    "from nltk.corpus import stopwords\n",
    "from nltk.stem.porter import PorterStemmer\n",
    "nltk.download('stopwords')\n",
    "nltk.download('wordnet')\n",
    "nltk.download('vader_lexicon')"
   ]
  },
  {
   "cell_type": "markdown",
   "metadata": {},
   "source": [
    "Set lowercase, remove punctuation:"
   ]
  },
  {
   "cell_type": "code",
   "execution_count": 7,
   "metadata": {},
   "outputs": [],
   "source": [
    "# Set lowercasea, remove punctuation\n",
    "\n",
    "def clean_dataset(dataset):\n",
    "    for i in range(0, len(dataset)):\n",
    "        #Tokenize and set words to lowercase \n",
    "        review = dataset[\"full_text\"][i]\n",
    "        review = ' '.join(re.sub(\"(@[A-Za-z0-9]+)|([^0-9A-Za-z \\t])|(\\w+:\\/\\/\\S+)\",\" \",review).split())\n",
    "        review = re.sub(\"[^a-zA-Z]\", \" \", review)\n",
    "        review = review.lower()\n",
    "        review = review.split()\n",
    "\n",
    "        #stopwords: \n",
    "        all_stopwords = stopwords.words(\"english\")\n",
    "        all_stopwords.extend([\"a\",\"b\",\"c\",\"d\",\"e\",\"f\",\"g\",\"h\",\"i\",\"j\",\"k\",\"l\",\"m\",\"n\",\"o\",\"p\",\"q\",\"r\",\"s\",\"t\",\"u\",\"v\",\"w\",\"x\",\"y\",\"z\",\"not\",\"no\"])\n",
    "\n",
    "        #lemmatization:\n",
    "        lemma = nltk.wordnet.WordNetLemmatizer()\n",
    "        review = \" \".join([lemma.lemmatize(word) for word in review if word not in set(all_stopwords)])    \n",
    "\n",
    "        dataset[\"corpus\"][i] = review\n"
   ]
  },
  {
   "cell_type": "code",
   "execution_count": 8,
   "metadata": {},
   "outputs": [
    {
     "name": "stderr",
     "output_type": "stream",
     "text": [
      "<ipython-input-7-aaec55d7021a>:20: SettingWithCopyWarning: \n",
      "A value is trying to be set on a copy of a slice from a DataFrame\n",
      "\n",
      "See the caveats in the documentation: https://pandas.pydata.org/pandas-docs/stable/user_guide/indexing.html#returning-a-view-versus-a-copy\n",
      "  dataset[\"corpus\"][i] = review\n"
     ]
    }
   ],
   "source": [
    "clean_dataset(clean_vaccine_tweets)\n",
    "clean_dataset(annotated_vaccine_tweets)"
   ]
  },
  {
   "cell_type": "code",
   "execution_count": 9,
   "metadata": {},
   "outputs": [
    {
     "data": {
      "text/html": [
       "<div>\n",
       "<style scoped>\n",
       "    .dataframe tbody tr th:only-of-type {\n",
       "        vertical-align: middle;\n",
       "    }\n",
       "\n",
       "    .dataframe tbody tr th {\n",
       "        vertical-align: top;\n",
       "    }\n",
       "\n",
       "    .dataframe thead th {\n",
       "        text-align: right;\n",
       "    }\n",
       "</style>\n",
       "<table border=\"1\" class=\"dataframe\">\n",
       "  <thead>\n",
       "    <tr style=\"text-align: right;\">\n",
       "      <th></th>\n",
       "      <th>id</th>\n",
       "      <th>created_at</th>\n",
       "      <th>user</th>\n",
       "      <th>geo</th>\n",
       "      <th>full_text</th>\n",
       "      <th>hashtags</th>\n",
       "      <th>corpus</th>\n",
       "    </tr>\n",
       "  </thead>\n",
       "  <tbody>\n",
       "    <tr>\n",
       "      <th>0</th>\n",
       "      <td>1338158543359250432</td>\n",
       "      <td>2020-12-13 16:27:13+00:00</td>\n",
       "      <td>76052772</td>\n",
       "      <td>NaN</td>\n",
       "      <td>While the world has been on the wrong side of ...</td>\n",
       "      <td>['covid19', 'supplychain', 'logistics', 'vacci...</td>\n",
       "      <td>world wrong side history year hopefully bigges...</td>\n",
       "    </tr>\n",
       "    <tr>\n",
       "      <th>1</th>\n",
       "      <td>1337840331522453504</td>\n",
       "      <td>2020-12-12 19:22:45+00:00</td>\n",
       "      <td>1300382181605494800</td>\n",
       "      <td>NaN</td>\n",
       "      <td>@cnnbrk #COVID19 #CovidVaccine #vaccine #Coron...</td>\n",
       "      <td>['COVID19', 'CovidVaccine', 'vaccine', 'Corona...</td>\n",
       "      <td>covid covidvaccine vaccine corona pfizerbionte...</td>\n",
       "    </tr>\n",
       "    <tr>\n",
       "      <th>2</th>\n",
       "      <td>1338544403795881984</td>\n",
       "      <td>2020-12-14 18:00:29+00:00</td>\n",
       "      <td>1164717209253552000</td>\n",
       "      <td>NaN</td>\n",
       "      <td>The FDA Authorizes Emergency Use Of The Pfizer...</td>\n",
       "      <td>['PFE', 'Pfizer', 'Pfizervaccine', 'PfizerBioN...</td>\n",
       "      <td>fda authorizes emergency use pfizer vaccine pf...</td>\n",
       "    </tr>\n",
       "    <tr>\n",
       "      <th>3</th>\n",
       "      <td>1337735595704115200</td>\n",
       "      <td>2020-12-12 12:26:34+00:00</td>\n",
       "      <td>1316036067754205200</td>\n",
       "      <td>NaN</td>\n",
       "      <td>The #FDA finally issues #EUA now comes the pro...</td>\n",
       "      <td>['FDA', 'EUA', 'PfizerBioNTech', 'vaccinated']</td>\n",
       "      <td>fda finally issue eua come problem transportin...</td>\n",
       "    </tr>\n",
       "    <tr>\n",
       "      <th>4</th>\n",
       "      <td>1337850832256176128</td>\n",
       "      <td>2020-12-12 20:04:29+00:00</td>\n",
       "      <td>1110032180237852700</td>\n",
       "      <td>NaN</td>\n",
       "      <td>There have not been many bright days in 2020 b...</td>\n",
       "      <td>['BidenHarris', 'Election2020', 'PfizerBioNTec...</td>\n",
       "      <td>many bright day best bidenharris winning elect...</td>\n",
       "    </tr>\n",
       "  </tbody>\n",
       "</table>\n",
       "</div>"
      ],
      "text/plain": [
       "                    id                 created_at                 user  geo  \\\n",
       "0  1338158543359250432  2020-12-13 16:27:13+00:00             76052772  NaN   \n",
       "1  1337840331522453504  2020-12-12 19:22:45+00:00  1300382181605494800  NaN   \n",
       "2  1338544403795881984  2020-12-14 18:00:29+00:00  1164717209253552000  NaN   \n",
       "3  1337735595704115200  2020-12-12 12:26:34+00:00  1316036067754205200  NaN   \n",
       "4  1337850832256176128  2020-12-12 20:04:29+00:00  1110032180237852700  NaN   \n",
       "\n",
       "                                           full_text  \\\n",
       "0  While the world has been on the wrong side of ...   \n",
       "1  @cnnbrk #COVID19 #CovidVaccine #vaccine #Coron...   \n",
       "2  The FDA Authorizes Emergency Use Of The Pfizer...   \n",
       "3  The #FDA finally issues #EUA now comes the pro...   \n",
       "4  There have not been many bright days in 2020 b...   \n",
       "\n",
       "                                            hashtags  \\\n",
       "0  ['covid19', 'supplychain', 'logistics', 'vacci...   \n",
       "1  ['COVID19', 'CovidVaccine', 'vaccine', 'Corona...   \n",
       "2  ['PFE', 'Pfizer', 'Pfizervaccine', 'PfizerBioN...   \n",
       "3     ['FDA', 'EUA', 'PfizerBioNTech', 'vaccinated']   \n",
       "4  ['BidenHarris', 'Election2020', 'PfizerBioNTec...   \n",
       "\n",
       "                                              corpus  \n",
       "0  world wrong side history year hopefully bigges...  \n",
       "1  covid covidvaccine vaccine corona pfizerbionte...  \n",
       "2  fda authorizes emergency use pfizer vaccine pf...  \n",
       "3  fda finally issue eua come problem transportin...  \n",
       "4  many bright day best bidenharris winning elect...  "
      ]
     },
     "execution_count": 9,
     "metadata": {},
     "output_type": "execute_result"
    }
   ],
   "source": [
    "clean_vaccine_tweets.head()"
   ]
  },
  {
   "cell_type": "code",
   "execution_count": 10,
   "metadata": {},
   "outputs": [
    {
     "data": {
      "text/html": [
       "<div>\n",
       "<style scoped>\n",
       "    .dataframe tbody tr th:only-of-type {\n",
       "        vertical-align: middle;\n",
       "    }\n",
       "\n",
       "    .dataframe tbody tr th {\n",
       "        vertical-align: top;\n",
       "    }\n",
       "\n",
       "    .dataframe thead th {\n",
       "        text-align: right;\n",
       "    }\n",
       "</style>\n",
       "<table border=\"1\" class=\"dataframe\">\n",
       "  <thead>\n",
       "    <tr style=\"text-align: right;\">\n",
       "      <th></th>\n",
       "      <th>tweet_id</th>\n",
       "      <th>label</th>\n",
       "      <th>full_text</th>\n",
       "      <th>corpus</th>\n",
       "    </tr>\n",
       "  </thead>\n",
       "  <tbody>\n",
       "    <tr>\n",
       "      <th>0</th>\n",
       "      <td>1360342002961940480</td>\n",
       "      <td>1</td>\n",
       "      <td>4,000 a day dying from the so called Covid-19 ...</td>\n",
       "      <td>day dying called covid vaccine report vaccine ...</td>\n",
       "    </tr>\n",
       "    <tr>\n",
       "      <th>1</th>\n",
       "      <td>1382896334886248448</td>\n",
       "      <td>2</td>\n",
       "      <td>Pranam message for today manifested in Dhyan b...</td>\n",
       "      <td>pranam message today manifested dhyan truth lo...</td>\n",
       "    </tr>\n",
       "    <tr>\n",
       "      <th>2</th>\n",
       "      <td>1375673411846873088</td>\n",
       "      <td>2</td>\n",
       "      <td>Hyderabad-based ?@BharatBiotech? has sought fu...</td>\n",
       "      <td>hyderabad based sought fund government ramp pr...</td>\n",
       "    </tr>\n",
       "    <tr>\n",
       "      <th>3</th>\n",
       "      <td>1381310901119287296</td>\n",
       "      <td>1</td>\n",
       "      <td>Confirmation that Chinese #vaccines \"donÂt ha...</td>\n",
       "      <td>confirmation chinese vaccine high protection r...</td>\n",
       "    </tr>\n",
       "    <tr>\n",
       "      <th>4</th>\n",
       "      <td>1362165556091191296</td>\n",
       "      <td>3</td>\n",
       "      <td>Lab studies suggest #Pfizer, #Moderna vaccines...</td>\n",
       "      <td>lab study suggest pfizer moderna vaccine prote...</td>\n",
       "    </tr>\n",
       "  </tbody>\n",
       "</table>\n",
       "</div>"
      ],
      "text/plain": [
       "              tweet_id  label  \\\n",
       "0  1360342002961940480      1   \n",
       "1  1382896334886248448      2   \n",
       "2  1375673411846873088      2   \n",
       "3  1381310901119287296      1   \n",
       "4  1362165556091191296      3   \n",
       "\n",
       "                                           full_text  \\\n",
       "0  4,000 a day dying from the so called Covid-19 ...   \n",
       "1  Pranam message for today manifested in Dhyan b...   \n",
       "2  Hyderabad-based ?@BharatBiotech? has sought fu...   \n",
       "3  Confirmation that Chinese #vaccines \"donÂt ha...   \n",
       "4  Lab studies suggest #Pfizer, #Moderna vaccines...   \n",
       "\n",
       "                                              corpus  \n",
       "0  day dying called covid vaccine report vaccine ...  \n",
       "1  pranam message today manifested dhyan truth lo...  \n",
       "2  hyderabad based sought fund government ramp pr...  \n",
       "3  confirmation chinese vaccine high protection r...  \n",
       "4  lab study suggest pfizer moderna vaccine prote...  "
      ]
     },
     "execution_count": 10,
     "metadata": {},
     "output_type": "execute_result"
    }
   ],
   "source": [
    "annotated_vaccine_tweets.head()"
   ]
  },
  {
   "cell_type": "markdown",
   "metadata": {},
   "source": [
    "## Sentiment Analysis with nltk"
   ]
  },
  {
   "cell_type": "code",
   "execution_count": 11,
   "metadata": {},
   "outputs": [],
   "source": [
    "from nltk.sentiment import SentimentIntensityAnalyzer"
   ]
  },
  {
   "cell_type": "code",
   "execution_count": 45,
   "metadata": {},
   "outputs": [],
   "source": [
    "clean_vaccine_tweets[\"sentiment\"] = dict\n",
    "annotated_vaccine_tweets[\"sentiment\"] = dict\n",
    "clean_vaccine_tweets[\"sentiment_compound\"] = 0.0"
   ]
  },
  {
   "cell_type": "code",
   "execution_count": 46,
   "metadata": {},
   "outputs": [],
   "source": [
    "def sentiment_score(dataset):\n",
    "    sia = SentimentIntensityAnalyzer()\n",
    "    for i in range(len(dataset)):\n",
    "        dataset[\"sentiment\"][i] = sia.polarity_scores(dataset[\"corpus\"][i])\n",
    "        dataset[\"sentiment_compound\"][i] = dataset[\"sentiment\"][i][\"compound\"]"
   ]
  },
  {
   "cell_type": "code",
   "execution_count": 47,
   "metadata": {},
   "outputs": [
    {
     "name": "stderr",
     "output_type": "stream",
     "text": [
      "<ipython-input-46-9dda2f859171>:4: SettingWithCopyWarning: \n",
      "A value is trying to be set on a copy of a slice from a DataFrame\n",
      "\n",
      "See the caveats in the documentation: https://pandas.pydata.org/pandas-docs/stable/user_guide/indexing.html#returning-a-view-versus-a-copy\n",
      "  dataset[\"sentiment\"][i] = sia.polarity_scores(dataset[\"corpus\"][i])\n",
      "<ipython-input-46-9dda2f859171>:5: SettingWithCopyWarning: \n",
      "A value is trying to be set on a copy of a slice from a DataFrame\n",
      "\n",
      "See the caveats in the documentation: https://pandas.pydata.org/pandas-docs/stable/user_guide/indexing.html#returning-a-view-versus-a-copy\n",
      "  dataset[\"sentiment_compound\"][i] = dataset[\"sentiment\"][i][\"compound\"]\n"
     ]
    }
   ],
   "source": [
    "sentiment_score(clean_vaccine_tweets)"
   ]
  },
  {
   "cell_type": "code",
   "execution_count": 48,
   "metadata": {
    "scrolled": true
   },
   "outputs": [
    {
     "data": {
      "text/html": [
       "<div>\n",
       "<style scoped>\n",
       "    .dataframe tbody tr th:only-of-type {\n",
       "        vertical-align: middle;\n",
       "    }\n",
       "\n",
       "    .dataframe tbody tr th {\n",
       "        vertical-align: top;\n",
       "    }\n",
       "\n",
       "    .dataframe thead th {\n",
       "        text-align: right;\n",
       "    }\n",
       "</style>\n",
       "<table border=\"1\" class=\"dataframe\">\n",
       "  <thead>\n",
       "    <tr style=\"text-align: right;\">\n",
       "      <th></th>\n",
       "      <th>id</th>\n",
       "      <th>created_at</th>\n",
       "      <th>user</th>\n",
       "      <th>geo</th>\n",
       "      <th>full_text</th>\n",
       "      <th>hashtags</th>\n",
       "      <th>corpus</th>\n",
       "      <th>sentiment</th>\n",
       "      <th>sentiment_compound</th>\n",
       "    </tr>\n",
       "  </thead>\n",
       "  <tbody>\n",
       "    <tr>\n",
       "      <th>0</th>\n",
       "      <td>1403680293727477760</td>\n",
       "      <td>2021-06-12 11:47:15+00:00</td>\n",
       "      <td>49671976</td>\n",
       "      <td>NaN</td>\n",
       "      <td>#Moderna #Pfizer #JohnsonandJohnson not liable...</td>\n",
       "      <td>['Moderna', 'Pfizer', 'JohnsonandJohnson']</td>\n",
       "      <td>moderna pfizer johnsonandjohnson liable advers...</td>\n",
       "      <td>{'neg': 0.656, 'neu': 0.344, 'pos': 0.0, 'comp...</td>\n",
       "      <td>-0.9842</td>\n",
       "    </tr>\n",
       "    <tr>\n",
       "      <th>1</th>\n",
       "      <td>1379804303947358208</td>\n",
       "      <td>2021-04-07 14:32:36+00:00</td>\n",
       "      <td>978836543652712400</td>\n",
       "      <td>NaN</td>\n",
       "      <td>Always said \"they rushed the vaccine\" but no, ...</td>\n",
       "      <td>['oxfordastrazeneca']</td>\n",
       "      <td>always said rushed vaccine trusted scientist l...</td>\n",
       "      <td>{'neg': 0.55, 'neu': 0.387, 'pos': 0.063, 'com...</td>\n",
       "      <td>-0.9774</td>\n",
       "    </tr>\n",
       "    <tr>\n",
       "      <th>2</th>\n",
       "      <td>1405518114746355712</td>\n",
       "      <td>2021-06-17 13:30:06+00:00</td>\n",
       "      <td>760564088854442000</td>\n",
       "      <td>NaN</td>\n",
       "      <td>1,332 deaths after 💉reported to #MHRA #YellowC...</td>\n",
       "      <td>['MHRA', 'YellowCard', 'ASTRAZENECA', 'PFIZER'...</td>\n",
       "      <td>death reported mhra yellowcard astrazeneca rea...</td>\n",
       "      <td>{'neg': 0.609, 'neu': 0.391, 'pos': 0.0, 'comp...</td>\n",
       "      <td>-0.9761</td>\n",
       "    </tr>\n",
       "    <tr>\n",
       "      <th>3</th>\n",
       "      <td>1402675902220222464</td>\n",
       "      <td>2021-06-09 17:16:10+00:00</td>\n",
       "      <td>1118813148914569200</td>\n",
       "      <td>NaN</td>\n",
       "      <td>@ThrowAw31644033 @Daveyji @socioEqualiser @sap...</td>\n",
       "      <td>['MHRA', 'ASTRAZENECA', 'PFIZER', 'MODERNA', '...</td>\n",
       "      <td>death reported mhra uk astrazeneca reaction de...</td>\n",
       "      <td>{'neg': 0.609, 'neu': 0.391, 'pos': 0.0, 'comp...</td>\n",
       "      <td>-0.9761</td>\n",
       "    </tr>\n",
       "    <tr>\n",
       "      <th>4</th>\n",
       "      <td>1395373649113268224</td>\n",
       "      <td>2021-05-20 13:39:37+00:00</td>\n",
       "      <td>1030608306</td>\n",
       "      <td>NaN</td>\n",
       "      <td>@MrLichtenstein @Doomsday_Clock 180 UK deaths ...</td>\n",
       "      <td>['MHRA', 'ASTRAZENECA', 'PFIZER', 'MODERNA', '...</td>\n",
       "      <td>clock uk death reported mhra following syringe...</td>\n",
       "      <td>{'neg': 0.565, 'neu': 0.435, 'pos': 0.0, 'comp...</td>\n",
       "      <td>-0.9761</td>\n",
       "    </tr>\n",
       "    <tr>\n",
       "      <th>...</th>\n",
       "      <td>...</td>\n",
       "      <td>...</td>\n",
       "      <td>...</td>\n",
       "      <td>...</td>\n",
       "      <td>...</td>\n",
       "      <td>...</td>\n",
       "      <td>...</td>\n",
       "      <td>...</td>\n",
       "      <td>...</td>\n",
       "    </tr>\n",
       "    <tr>\n",
       "      <th>101942</th>\n",
       "      <td>1367114490890752000</td>\n",
       "      <td>2021-03-03 14:07:49+00:00</td>\n",
       "      <td>143025857</td>\n",
       "      <td>NaN</td>\n",
       "      <td>Better efficacy than Oxford/covishield's 62%. ...</td>\n",
       "      <td>['Covaxin']</td>\n",
       "      <td>better efficacy oxford covishield best inactiv...</td>\n",
       "      <td>{'neg': 0.0, 'neu': 0.339, 'pos': 0.661, 'comp...</td>\n",
       "      <td>0.9837</td>\n",
       "    </tr>\n",
       "    <tr>\n",
       "      <th>101943</th>\n",
       "      <td>1362778395302653952</td>\n",
       "      <td>2021-02-19 14:57:43+00:00</td>\n",
       "      <td>1263498191502282800</td>\n",
       "      <td>NaN</td>\n",
       "      <td>Congratulations on BioAsia Genome Valley Excel...</td>\n",
       "      <td>['Covaxin', 'Vaccine']</td>\n",
       "      <td>congratulation bioasia genome valley excellenc...</td>\n",
       "      <td>{'neg': 0.0, 'neu': 0.272, 'pos': 0.728, 'comp...</td>\n",
       "      <td>0.9842</td>\n",
       "    </tr>\n",
       "    <tr>\n",
       "      <th>101944</th>\n",
       "      <td>1375483502616010752</td>\n",
       "      <td>2021-03-26 16:23:16+00:00</td>\n",
       "      <td>1356008062620991500</td>\n",
       "      <td>NaN</td>\n",
       "      <td>We will be giving thousands of doses of the in...</td>\n",
       "      <td>['OxfordAstraZeneca', 'Passover', 'covidjab']</td>\n",
       "      <td>giving thousand dos incredibly safe powerfully...</td>\n",
       "      <td>{'neg': 0.0, 'neu': 0.298, 'pos': 0.702, 'comp...</td>\n",
       "      <td>0.9842</td>\n",
       "    </tr>\n",
       "    <tr>\n",
       "      <th>101945</th>\n",
       "      <td>1362299993504145408</td>\n",
       "      <td>2021-02-18 07:16:43+00:00</td>\n",
       "      <td>160763636</td>\n",
       "      <td>NaN</td>\n",
       "      <td>Hey dear friends my #COVAXIN is done and feel ...</td>\n",
       "      <td>['COVAXIN', 'COVID19', 'VaccineMaitri']</td>\n",
       "      <td>hey dear friend covaxin done feel good thanks ...</td>\n",
       "      <td>{'neg': 0.0, 'neu': 0.311, 'pos': 0.689, 'comp...</td>\n",
       "      <td>0.9876</td>\n",
       "    </tr>\n",
       "    <tr>\n",
       "      <th>101946</th>\n",
       "      <td>1382113874439192576</td>\n",
       "      <td>2021-04-13 23:30:00+00:00</td>\n",
       "      <td>758414676480946200</td>\n",
       "      <td>NaN</td>\n",
       "      <td>\"Safe and Effective, Safe and Effective, Safe ...</td>\n",
       "      <td>['mRNA', 'CovidVaccine', 'JohnsonandJohnson', ...</td>\n",
       "      <td>safe effective safe effective safe effective s...</td>\n",
       "      <td>{'neg': 0.0, 'neu': 0.104, 'pos': 0.896, 'comp...</td>\n",
       "      <td>0.9953</td>\n",
       "    </tr>\n",
       "  </tbody>\n",
       "</table>\n",
       "<p>101947 rows × 9 columns</p>\n",
       "</div>"
      ],
      "text/plain": [
       "                         id                 created_at                 user  \\\n",
       "0       1403680293727477760  2021-06-12 11:47:15+00:00             49671976   \n",
       "1       1379804303947358208  2021-04-07 14:32:36+00:00   978836543652712400   \n",
       "2       1405518114746355712  2021-06-17 13:30:06+00:00   760564088854442000   \n",
       "3       1402675902220222464  2021-06-09 17:16:10+00:00  1118813148914569200   \n",
       "4       1395373649113268224  2021-05-20 13:39:37+00:00           1030608306   \n",
       "...                     ...                        ...                  ...   \n",
       "101942  1367114490890752000  2021-03-03 14:07:49+00:00            143025857   \n",
       "101943  1362778395302653952  2021-02-19 14:57:43+00:00  1263498191502282800   \n",
       "101944  1375483502616010752  2021-03-26 16:23:16+00:00  1356008062620991500   \n",
       "101945  1362299993504145408  2021-02-18 07:16:43+00:00            160763636   \n",
       "101946  1382113874439192576  2021-04-13 23:30:00+00:00   758414676480946200   \n",
       "\n",
       "        geo                                          full_text  \\\n",
       "0       NaN  #Moderna #Pfizer #JohnsonandJohnson not liable...   \n",
       "1       NaN  Always said \"they rushed the vaccine\" but no, ...   \n",
       "2       NaN  1,332 deaths after 💉reported to #MHRA #YellowC...   \n",
       "3       NaN  @ThrowAw31644033 @Daveyji @socioEqualiser @sap...   \n",
       "4       NaN  @MrLichtenstein @Doomsday_Clock 180 UK deaths ...   \n",
       "...     ...                                                ...   \n",
       "101942  NaN  Better efficacy than Oxford/covishield's 62%. ...   \n",
       "101943  NaN  Congratulations on BioAsia Genome Valley Excel...   \n",
       "101944  NaN  We will be giving thousands of doses of the in...   \n",
       "101945  NaN  Hey dear friends my #COVAXIN is done and feel ...   \n",
       "101946  NaN  \"Safe and Effective, Safe and Effective, Safe ...   \n",
       "\n",
       "                                                 hashtags  \\\n",
       "0              ['Moderna', 'Pfizer', 'JohnsonandJohnson']   \n",
       "1                                   ['oxfordastrazeneca']   \n",
       "2       ['MHRA', 'YellowCard', 'ASTRAZENECA', 'PFIZER'...   \n",
       "3       ['MHRA', 'ASTRAZENECA', 'PFIZER', 'MODERNA', '...   \n",
       "4       ['MHRA', 'ASTRAZENECA', 'PFIZER', 'MODERNA', '...   \n",
       "...                                                   ...   \n",
       "101942                                        ['Covaxin']   \n",
       "101943                             ['Covaxin', 'Vaccine']   \n",
       "101944      ['OxfordAstraZeneca', 'Passover', 'covidjab']   \n",
       "101945            ['COVAXIN', 'COVID19', 'VaccineMaitri']   \n",
       "101946  ['mRNA', 'CovidVaccine', 'JohnsonandJohnson', ...   \n",
       "\n",
       "                                                   corpus  \\\n",
       "0       moderna pfizer johnsonandjohnson liable advers...   \n",
       "1       always said rushed vaccine trusted scientist l...   \n",
       "2       death reported mhra yellowcard astrazeneca rea...   \n",
       "3       death reported mhra uk astrazeneca reaction de...   \n",
       "4       clock uk death reported mhra following syringe...   \n",
       "...                                                   ...   \n",
       "101942  better efficacy oxford covishield best inactiv...   \n",
       "101943  congratulation bioasia genome valley excellenc...   \n",
       "101944  giving thousand dos incredibly safe powerfully...   \n",
       "101945  hey dear friend covaxin done feel good thanks ...   \n",
       "101946  safe effective safe effective safe effective s...   \n",
       "\n",
       "                                                sentiment  sentiment_compound  \n",
       "0       {'neg': 0.656, 'neu': 0.344, 'pos': 0.0, 'comp...             -0.9842  \n",
       "1       {'neg': 0.55, 'neu': 0.387, 'pos': 0.063, 'com...             -0.9774  \n",
       "2       {'neg': 0.609, 'neu': 0.391, 'pos': 0.0, 'comp...             -0.9761  \n",
       "3       {'neg': 0.609, 'neu': 0.391, 'pos': 0.0, 'comp...             -0.9761  \n",
       "4       {'neg': 0.565, 'neu': 0.435, 'pos': 0.0, 'comp...             -0.9761  \n",
       "...                                                   ...                 ...  \n",
       "101942  {'neg': 0.0, 'neu': 0.339, 'pos': 0.661, 'comp...              0.9837  \n",
       "101943  {'neg': 0.0, 'neu': 0.272, 'pos': 0.728, 'comp...              0.9842  \n",
       "101944  {'neg': 0.0, 'neu': 0.298, 'pos': 0.702, 'comp...              0.9842  \n",
       "101945  {'neg': 0.0, 'neu': 0.311, 'pos': 0.689, 'comp...              0.9876  \n",
       "101946  {'neg': 0.0, 'neu': 0.104, 'pos': 0.896, 'comp...              0.9953  \n",
       "\n",
       "[101947 rows x 9 columns]"
      ]
     },
     "execution_count": 48,
     "metadata": {},
     "output_type": "execute_result"
    }
   ],
   "source": [
    "clean_vaccine_tweets"
   ]
  },
  {
   "cell_type": "code",
   "execution_count": 55,
   "metadata": {
    "scrolled": false
   },
   "outputs": [],
   "source": [
    "clean_vaccine_tweets = clean_vaccine_tweets.sort_values(\"sentiment_compound\", ascending=False, ignore_index=True)"
   ]
  },
  {
   "cell_type": "code",
   "execution_count": 57,
   "metadata": {},
   "outputs": [
    {
     "data": {
      "text/plain": [
       "{'neg': 0.55, 'neu': 0.387, 'pos': 0.063, 'compound': -0.9774}"
      ]
     },
     "execution_count": 57,
     "metadata": {},
     "output_type": "execute_result"
    }
   ],
   "source": [
    "clean_vaccine_tweets[\"sentiment\"][101945]"
   ]
  },
  {
   "cell_type": "markdown",
   "metadata": {},
   "source": [
    "---"
   ]
  },
  {
   "cell_type": "code",
   "execution_count": 58,
   "metadata": {},
   "outputs": [],
   "source": [
    "clean_vaccine_tweets.to_csv(\"../data/interim/clean_vaccine_tweets_with_sentiment.csv\")"
   ]
  },
  {
   "cell_type": "code",
   "execution_count": null,
   "metadata": {},
   "outputs": [],
   "source": []
  }
 ],
 "metadata": {
  "kernelspec": {
   "display_name": "Python 3",
   "language": "python",
   "name": "python3"
  },
  "language_info": {
   "codemirror_mode": {
    "name": "ipython",
    "version": 3
   },
   "file_extension": ".py",
   "mimetype": "text/x-python",
   "name": "python",
   "nbconvert_exporter": "python",
   "pygments_lexer": "ipython3",
   "version": "3.8.3"
  }
 },
 "nbformat": 4,
 "nbformat_minor": 4
}
